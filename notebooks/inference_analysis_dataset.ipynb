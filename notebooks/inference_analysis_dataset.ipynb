{
  "nbformat": 4,
  "nbformat_minor": 0,
  "metadata": {
    "colab": {
      "provenance": [],
      "toc_visible": true,
      "collapsed_sections": [
        "vo3EQktFXDyZ",
        "JThyDe1uEhC7"
      ]
    },
    "kernelspec": {
      "name": "python3",
      "display_name": "Python 3"
    },
    "language_info": {
      "name": "python"
    }
  },
  "cells": [
    {
      "cell_type": "code",
      "execution_count": null,
      "metadata": {
        "id": "X5BRCqXMrhK1"
      },
      "outputs": [],
      "source": []
    },
    {
      "cell_type": "markdown",
      "metadata": {
        "id": "tYWtQW0gU7be"
      },
      "source": [
        "# Set-up"
      ]
    },
    {
      "cell_type": "code",
      "source": [
        "# we need boto3 to access AWS s3 buckets for storage\n",
        "!pip install boto3\n",
        "from IPython.display import clear_output\n",
        "clear_output()"
      ],
      "metadata": {
        "id": "oQVFLdYBP1p6"
      },
      "execution_count": 1,
      "outputs": []
    },
    {
      "cell_type": "code",
      "source": [
        "# this will install a library to help with reading/saving files from/to s3\n",
        "!git clone https://github.com/aguille-vert/s3-operator\n",
        "\n",
        "import sys\n",
        "sys.path.append('/content/s3-operator')\n",
        "\n",
        "import s3_operator as oper"
      ],
      "metadata": {
        "id": "6t9Kynx5SV23",
        "colab": {
          "base_uri": "https://localhost:8080/"
        },
        "outputId": "0cb4d639-8707-41a3-a431-86085e2fa7b6"
      },
      "execution_count": 2,
      "outputs": [
        {
          "output_type": "stream",
          "name": "stdout",
          "text": [
            "Cloning into 's3-operator'...\n",
            "remote: Enumerating objects: 76, done.\u001b[K\n",
            "remote: Counting objects: 100% (76/76), done.\u001b[K\n",
            "remote: Compressing objects: 100% (57/57), done.\u001b[K\n",
            "remote: Total 76 (delta 37), reused 41 (delta 15), pack-reused 0\u001b[K\n",
            "Receiving objects: 100% (76/76), 14.91 KiB | 7.46 MiB/s, done.\n",
            "Resolving deltas: 100% (37/37), done.\n"
          ]
        }
      ]
    },
    {
      "cell_type": "code",
      "execution_count": 3,
      "metadata": {
        "id": "Ia9vXOYsVAQI"
      },
      "outputs": [],
      "source": [
        "import json\n",
        "import boto3\n",
        "import pandas as pd\n",
        "import numpy as np\n",
        "from io import BytesIO\n",
        "from PIL import Image\n",
        "import requests\n",
        "from random import choice, choices\n",
        "import re\n",
        "from datetime import datetime, timedelta\n",
        "from pprint import pprint\n",
        "from time import sleep\n",
        "from collections import defaultdict\n",
        "import os"
      ]
    },
    {
      "cell_type": "markdown",
      "metadata": {
        "id": "DzoqHdELu2pz"
      },
      "source": [
        "## clients and tokens"
      ]
    },
    {
      "cell_type": "code",
      "execution_count": 4,
      "metadata": {
        "id": "j3Dn5t6SVIZS"
      },
      "outputs": [],
      "source": [
        "from google.colab import userdata\n",
        "\n",
        "\n",
        "AWS_BRG_ACCESS_KEY = userdata.get('AWS_BRG_ACCESS_KEY')\n",
        "AWS_BRG_SECRET_ACCESS_KEY = userdata.get('AWS_BRG_SECRET_ACCESS_KEY')\n",
        "\n",
        "\n",
        "s3_client = boto3.client('s3',\n",
        "            aws_access_key_id = AWS_BRG_ACCESS_KEY,\n",
        "            aws_secret_access_key = AWS_BRG_SECRET_ACCESS_KEY)\n"
      ]
    },
    {
      "cell_type": "markdown",
      "source": [
        "# Classification task - analysis of inference results"
      ],
      "metadata": {
        "id": "SUazASp9tFUA"
      }
    },
    {
      "cell_type": "markdown",
      "source": [
        "Examples why title of a file on its own is not necessarily a good pointer to its type:\n",
        "\n",
        "* '6047902 Contract R-1' is an invoice. The file name is misleading in this case. Both 7b and 8b models were correct in classifying this document as an invoice.\n",
        "* 'A3016-Contract-63220-04.15.24' is an order. 7b and 8b models incorrectly classified it as Invoice and Contract.\n",
        "* 'DNC-BIDEN FOR PRESIDENT KYW CONTRACT 605352 IN' is an invoice\n",
        "* Biden for President 240402-240408 Est 068 Order_WBAY is a contract"
      ],
      "metadata": {
        "id": "t7KsXT60LuVy"
      }
    },
    {
      "cell_type": "markdown",
      "source": [
        "## load inreference results"
      ],
      "metadata": {
        "id": "mg3EQt1pWsc0"
      }
    },
    {
      "cell_type": "code",
      "source": [
        "bucket_name = 'INSERT YOUR BUCKET NAME HERE'"
      ],
      "metadata": {
        "id": "qqexBdKGNaTX"
      },
      "execution_count": 6,
      "outputs": []
    },
    {
      "cell_type": "code",
      "source": [
        "MODEL = 'gemma-7b-it'\n",
        "\n",
        "api = 'groq'\n",
        "\n",
        "bucket = bucket_name\n",
        "key = f\"FCC/completions/file-classification/{api}/{MODEL}/completions_df.parquet\"\n",
        "try:\n",
        "  df_7b = oper.pd_read_parquet(s3_client, bucket, key)\n",
        "except Exception as e:\n",
        "  print(\"failed to read file\", e)\n",
        "  df_7b = pd.DataFrame(columns=['key',\n",
        "                                           'completion',\n",
        "                                           'model',\n",
        "                                           'time',\n",
        "                                           'prompt'])\n",
        "df_7b['file_name']=df_7b['key'].str.split('/').str[2]\n",
        "df_7b['completion'] = df_7b['completion'].apply(lambda x:\n",
        "                        list(json.loads(x).values())[0]\n",
        "                        if isinstance(x,str) else x)\n",
        "print(f\"df_7b: {df_7b.shape}\")"
      ],
      "metadata": {
        "colab": {
          "base_uri": "https://localhost:8080/"
        },
        "id": "6JmuveLetJXA",
        "outputId": "40778dc3-48fa-47f6-8edd-8206110a535a"
      },
      "execution_count": 7,
      "outputs": [
        {
          "output_type": "stream",
          "name": "stdout",
          "text": [
            "df_7b: (6080, 6)\n"
          ]
        }
      ]
    },
    {
      "cell_type": "code",
      "source": [
        "MODEL = 'llama3-8b-8192'\n",
        "\n",
        "api = 'groq'\n",
        "\n",
        "bucket = bucket_name\n",
        "key = f\"FCC/completions/file-classification/{api}/{MODEL}/completions_df.parquet\"\n",
        "try:\n",
        "  df_8b = oper.pd_read_parquet(s3_client, bucket, key)\n",
        "except Exception as e:\n",
        "  print(\"failed to read file\", e)\n",
        "  df_8b = pd.DataFrame(columns=['key',\n",
        "                                           'completion',\n",
        "                                           'model',\n",
        "                                           'time',\n",
        "                                           'prompt'])\n",
        "df_8b['file_name']=df_8b['key'].str.split('/').str[2]\n",
        "df_8b['completion'] = df_8b['completion'].apply(lambda x:\n",
        "                        list(json.loads(x).values())[0]\n",
        "                        if isinstance(x,str) else x)\n",
        "print(f\"df_8b: {df_8b.shape}\")"
      ],
      "metadata": {
        "colab": {
          "base_uri": "https://localhost:8080/"
        },
        "id": "hhVjXne3tTuB",
        "outputId": "2164bb82-d49b-40d4-9af9-3e5908a8b45c"
      },
      "execution_count": 8,
      "outputs": [
        {
          "output_type": "stream",
          "name": "stdout",
          "text": [
            "df_8b: (2514, 6)\n"
          ]
        }
      ]
    },
    {
      "cell_type": "code",
      "source": [
        "MODEL = 'llama3-70b-8192'\n",
        "\n",
        "api = 'groq'\n",
        "\n",
        "bucket = bucket = bucket_name\n",
        "key = f\"FCC/completions/file-classification/{api}/{MODEL}/completions_df.parquet\"\n",
        "try:\n",
        "  df_70b = oper.pd_read_parquet(s3_client, bucket, key)\n",
        "  print(df_70b.shape)\n",
        "\n",
        "except Exception as e:\n",
        "  print(\"failed to read file\", e)\n",
        "\n",
        "  df_70b = pd.DataFrame(columns=['key',\n",
        "                                          'completion',\n",
        "                                          'model',\n",
        "                                          'time',\n",
        "                                          'prompt'])\n",
        "df_70b['file_name']=df_70b['key'].str.split('/').str[2]\n",
        "df_70b['completion'] = df_70b['completion'].apply(lambda x:\n",
        "                        list(json.loads(x).values())[0]\n",
        "                        if isinstance(x,str) else x)\n",
        "\n",
        "print(f\"df_70b: {df_70b.shape}\")"
      ],
      "metadata": {
        "colab": {
          "base_uri": "https://localhost:8080/"
        },
        "id": "FcEYb2K5T-pS",
        "outputId": "38993d14-b6b0-4c48-ffa0-7b2d1731f1e3"
      },
      "execution_count": 9,
      "outputs": [
        {
          "output_type": "stream",
          "name": "stdout",
          "text": [
            "(1117, 5)\n",
            "df_70b: (1117, 6)\n"
          ]
        }
      ]
    },
    {
      "cell_type": "markdown",
      "source": [
        "## merge inference results"
      ],
      "metadata": {
        "id": "vo3EQktFXDyZ"
      }
    },
    {
      "cell_type": "markdown",
      "source": [
        "let's merge inference results of our 3 models and analyze in which instances the models coincided, in which - diverged."
      ],
      "metadata": {
        "id": "QaoUM6GPDj_7"
      }
    },
    {
      "cell_type": "code",
      "source": [
        "df_7b['file_name'] = df_7b['key'].str.split('/').str[2]\n",
        "\n",
        "df = df_7b[['key','file_name','completion']].merge(df_8b[['key',\n",
        "                        'completion']],\n",
        "                      on='key',\n",
        "                      suffixes = ('_7b', '_8b'),\n",
        "                      how='inner').drop_duplicates(ignore_index=True).dropna(how='any')\n",
        "df.shape"
      ],
      "metadata": {
        "colab": {
          "base_uri": "https://localhost:8080/"
        },
        "id": "5kbBgSCV350h",
        "outputId": "d046a5e2-7a7f-444f-b36a-f57a9436fabc"
      },
      "execution_count": 10,
      "outputs": [
        {
          "output_type": "execute_result",
          "data": {
            "text/plain": [
              "(2142, 4)"
            ]
          },
          "metadata": {},
          "execution_count": 10
        }
      ]
    },
    {
      "cell_type": "code",
      "source": [
        "df"
      ],
      "metadata": {
        "colab": {
          "base_uri": "https://localhost:8080/",
          "height": 843
        },
        "id": "IOqPqIoc26Ti",
        "outputId": "f7787976-fc6e-4147-c672-b8684a2d2f63"
      },
      "execution_count": 11,
      "outputs": [
        {
          "output_type": "execute_result",
          "data": {
            "text/plain": [
              "                                                    key  \\\n",
              "0     FCC/extracted_texts/POL LUC 2024 wk of April 8...   \n",
              "1     FCC/extracted_texts/WMSN -BIDEN FOR PRESIDENT ...   \n",
              "2     FCC/extracted_texts/WMSN -BIDEN FOR PRESIDENT ...   \n",
              "3     FCC/extracted_texts/WMYD Biden est 11700  1285...   \n",
              "4     FCC/extracted_texts/WMYD Biden est 11710  1286...   \n",
              "...                                                 ...   \n",
              "2535  FCC/extracted_texts/Pol J Biden D PRE US_NAB-1...   \n",
              "2536  FCC/extracted_texts/6030864 Invoice/extracted_...   \n",
              "2537  FCC/extracted_texts/A3016-NAB-62398-032924/ext...   \n",
              "2538  FCC/extracted_texts/Biden for presiden Invoice...   \n",
              "2539  FCC/extracted_texts/WLFL Joe Biden_5876526/ext...   \n",
              "\n",
              "                                              file_name completion_7b  \\\n",
              "0                            POL LUC 2024 wk of April 8      Contract   \n",
              "1     WMSN -BIDEN FOR PRESIDENT Est11597 Period 4.1....      Contract   \n",
              "2     WMSN -BIDEN FOR PRESIDENT Est11598 Period 4.1....      Contract   \n",
              "3                         WMYD Biden est 11700  1285530      Contract   \n",
              "4                         WMYD Biden est 11710  1286114      Contract   \n",
              "...                                                 ...           ...   \n",
              "2535                   Pol J Biden D PRE US_NAB-1128576         Order   \n",
              "2536                                    6030864 Invoice       Invoice   \n",
              "2537                             A3016-NAB-62398-032924         Order   \n",
              "2538                 Biden for presiden Invoice 74406-1       Invoice   \n",
              "2539                             WLFL Joe Biden_5876526         Order   \n",
              "\n",
              "     completion_8b  \n",
              "0          Receipt  \n",
              "1          Invoice  \n",
              "2          Invoice  \n",
              "3            Order  \n",
              "4            Order  \n",
              "...            ...  \n",
              "2535      Contract  \n",
              "2536       Invoice  \n",
              "2537      Contract  \n",
              "2538       Invoice  \n",
              "2539      Contract  \n",
              "\n",
              "[2142 rows x 4 columns]"
            ],
            "text/html": [
              "\n",
              "  <div id=\"df-6b9f3798-7ea1-4dcd-979b-ff0eb7c8006b\" class=\"colab-df-container\">\n",
              "    <div>\n",
              "<style scoped>\n",
              "    .dataframe tbody tr th:only-of-type {\n",
              "        vertical-align: middle;\n",
              "    }\n",
              "\n",
              "    .dataframe tbody tr th {\n",
              "        vertical-align: top;\n",
              "    }\n",
              "\n",
              "    .dataframe thead th {\n",
              "        text-align: right;\n",
              "    }\n",
              "</style>\n",
              "<table border=\"1\" class=\"dataframe\">\n",
              "  <thead>\n",
              "    <tr style=\"text-align: right;\">\n",
              "      <th></th>\n",
              "      <th>key</th>\n",
              "      <th>file_name</th>\n",
              "      <th>completion_7b</th>\n",
              "      <th>completion_8b</th>\n",
              "    </tr>\n",
              "  </thead>\n",
              "  <tbody>\n",
              "    <tr>\n",
              "      <th>0</th>\n",
              "      <td>FCC/extracted_texts/POL LUC 2024 wk of April 8...</td>\n",
              "      <td>POL LUC 2024 wk of April 8</td>\n",
              "      <td>Contract</td>\n",
              "      <td>Receipt</td>\n",
              "    </tr>\n",
              "    <tr>\n",
              "      <th>1</th>\n",
              "      <td>FCC/extracted_texts/WMSN -BIDEN FOR PRESIDENT ...</td>\n",
              "      <td>WMSN -BIDEN FOR PRESIDENT Est11597 Period 4.1....</td>\n",
              "      <td>Contract</td>\n",
              "      <td>Invoice</td>\n",
              "    </tr>\n",
              "    <tr>\n",
              "      <th>2</th>\n",
              "      <td>FCC/extracted_texts/WMSN -BIDEN FOR PRESIDENT ...</td>\n",
              "      <td>WMSN -BIDEN FOR PRESIDENT Est11598 Period 4.1....</td>\n",
              "      <td>Contract</td>\n",
              "      <td>Invoice</td>\n",
              "    </tr>\n",
              "    <tr>\n",
              "      <th>3</th>\n",
              "      <td>FCC/extracted_texts/WMYD Biden est 11700  1285...</td>\n",
              "      <td>WMYD Biden est 11700  1285530</td>\n",
              "      <td>Contract</td>\n",
              "      <td>Order</td>\n",
              "    </tr>\n",
              "    <tr>\n",
              "      <th>4</th>\n",
              "      <td>FCC/extracted_texts/WMYD Biden est 11710  1286...</td>\n",
              "      <td>WMYD Biden est 11710  1286114</td>\n",
              "      <td>Contract</td>\n",
              "      <td>Order</td>\n",
              "    </tr>\n",
              "    <tr>\n",
              "      <th>...</th>\n",
              "      <td>...</td>\n",
              "      <td>...</td>\n",
              "      <td>...</td>\n",
              "      <td>...</td>\n",
              "    </tr>\n",
              "    <tr>\n",
              "      <th>2535</th>\n",
              "      <td>FCC/extracted_texts/Pol J Biden D PRE US_NAB-1...</td>\n",
              "      <td>Pol J Biden D PRE US_NAB-1128576</td>\n",
              "      <td>Order</td>\n",
              "      <td>Contract</td>\n",
              "    </tr>\n",
              "    <tr>\n",
              "      <th>2536</th>\n",
              "      <td>FCC/extracted_texts/6030864 Invoice/extracted_...</td>\n",
              "      <td>6030864 Invoice</td>\n",
              "      <td>Invoice</td>\n",
              "      <td>Invoice</td>\n",
              "    </tr>\n",
              "    <tr>\n",
              "      <th>2537</th>\n",
              "      <td>FCC/extracted_texts/A3016-NAB-62398-032924/ext...</td>\n",
              "      <td>A3016-NAB-62398-032924</td>\n",
              "      <td>Order</td>\n",
              "      <td>Contract</td>\n",
              "    </tr>\n",
              "    <tr>\n",
              "      <th>2538</th>\n",
              "      <td>FCC/extracted_texts/Biden for presiden Invoice...</td>\n",
              "      <td>Biden for presiden Invoice 74406-1</td>\n",
              "      <td>Invoice</td>\n",
              "      <td>Invoice</td>\n",
              "    </tr>\n",
              "    <tr>\n",
              "      <th>2539</th>\n",
              "      <td>FCC/extracted_texts/WLFL Joe Biden_5876526/ext...</td>\n",
              "      <td>WLFL Joe Biden_5876526</td>\n",
              "      <td>Order</td>\n",
              "      <td>Contract</td>\n",
              "    </tr>\n",
              "  </tbody>\n",
              "</table>\n",
              "<p>2142 rows × 4 columns</p>\n",
              "</div>\n",
              "    <div class=\"colab-df-buttons\">\n",
              "\n",
              "  <div class=\"colab-df-container\">\n",
              "    <button class=\"colab-df-convert\" onclick=\"convertToInteractive('df-6b9f3798-7ea1-4dcd-979b-ff0eb7c8006b')\"\n",
              "            title=\"Convert this dataframe to an interactive table.\"\n",
              "            style=\"display:none;\">\n",
              "\n",
              "  <svg xmlns=\"http://www.w3.org/2000/svg\" height=\"24px\" viewBox=\"0 -960 960 960\">\n",
              "    <path d=\"M120-120v-720h720v720H120Zm60-500h600v-160H180v160Zm220 220h160v-160H400v160Zm0 220h160v-160H400v160ZM180-400h160v-160H180v160Zm440 0h160v-160H620v160ZM180-180h160v-160H180v160Zm440 0h160v-160H620v160Z\"/>\n",
              "  </svg>\n",
              "    </button>\n",
              "\n",
              "  <style>\n",
              "    .colab-df-container {\n",
              "      display:flex;\n",
              "      gap: 12px;\n",
              "    }\n",
              "\n",
              "    .colab-df-convert {\n",
              "      background-color: #E8F0FE;\n",
              "      border: none;\n",
              "      border-radius: 50%;\n",
              "      cursor: pointer;\n",
              "      display: none;\n",
              "      fill: #1967D2;\n",
              "      height: 32px;\n",
              "      padding: 0 0 0 0;\n",
              "      width: 32px;\n",
              "    }\n",
              "\n",
              "    .colab-df-convert:hover {\n",
              "      background-color: #E2EBFA;\n",
              "      box-shadow: 0px 1px 2px rgba(60, 64, 67, 0.3), 0px 1px 3px 1px rgba(60, 64, 67, 0.15);\n",
              "      fill: #174EA6;\n",
              "    }\n",
              "\n",
              "    .colab-df-buttons div {\n",
              "      margin-bottom: 4px;\n",
              "    }\n",
              "\n",
              "    [theme=dark] .colab-df-convert {\n",
              "      background-color: #3B4455;\n",
              "      fill: #D2E3FC;\n",
              "    }\n",
              "\n",
              "    [theme=dark] .colab-df-convert:hover {\n",
              "      background-color: #434B5C;\n",
              "      box-shadow: 0px 1px 3px 1px rgba(0, 0, 0, 0.15);\n",
              "      filter: drop-shadow(0px 1px 2px rgba(0, 0, 0, 0.3));\n",
              "      fill: #FFFFFF;\n",
              "    }\n",
              "  </style>\n",
              "\n",
              "    <script>\n",
              "      const buttonEl =\n",
              "        document.querySelector('#df-6b9f3798-7ea1-4dcd-979b-ff0eb7c8006b button.colab-df-convert');\n",
              "      buttonEl.style.display =\n",
              "        google.colab.kernel.accessAllowed ? 'block' : 'none';\n",
              "\n",
              "      async function convertToInteractive(key) {\n",
              "        const element = document.querySelector('#df-6b9f3798-7ea1-4dcd-979b-ff0eb7c8006b');\n",
              "        const dataTable =\n",
              "          await google.colab.kernel.invokeFunction('convertToInteractive',\n",
              "                                                    [key], {});\n",
              "        if (!dataTable) return;\n",
              "\n",
              "        const docLinkHtml = 'Like what you see? Visit the ' +\n",
              "          '<a target=\"_blank\" href=https://colab.research.google.com/notebooks/data_table.ipynb>data table notebook</a>'\n",
              "          + ' to learn more about interactive tables.';\n",
              "        element.innerHTML = '';\n",
              "        dataTable['output_type'] = 'display_data';\n",
              "        await google.colab.output.renderOutput(dataTable, element);\n",
              "        const docLink = document.createElement('div');\n",
              "        docLink.innerHTML = docLinkHtml;\n",
              "        element.appendChild(docLink);\n",
              "      }\n",
              "    </script>\n",
              "  </div>\n",
              "\n",
              "\n",
              "<div id=\"df-7fff09d8-bd92-45b7-9344-874acd00c29d\">\n",
              "  <button class=\"colab-df-quickchart\" onclick=\"quickchart('df-7fff09d8-bd92-45b7-9344-874acd00c29d')\"\n",
              "            title=\"Suggest charts\"\n",
              "            style=\"display:none;\">\n",
              "\n",
              "<svg xmlns=\"http://www.w3.org/2000/svg\" height=\"24px\"viewBox=\"0 0 24 24\"\n",
              "     width=\"24px\">\n",
              "    <g>\n",
              "        <path d=\"M19 3H5c-1.1 0-2 .9-2 2v14c0 1.1.9 2 2 2h14c1.1 0 2-.9 2-2V5c0-1.1-.9-2-2-2zM9 17H7v-7h2v7zm4 0h-2V7h2v10zm4 0h-2v-4h2v4z\"/>\n",
              "    </g>\n",
              "</svg>\n",
              "  </button>\n",
              "\n",
              "<style>\n",
              "  .colab-df-quickchart {\n",
              "      --bg-color: #E8F0FE;\n",
              "      --fill-color: #1967D2;\n",
              "      --hover-bg-color: #E2EBFA;\n",
              "      --hover-fill-color: #174EA6;\n",
              "      --disabled-fill-color: #AAA;\n",
              "      --disabled-bg-color: #DDD;\n",
              "  }\n",
              "\n",
              "  [theme=dark] .colab-df-quickchart {\n",
              "      --bg-color: #3B4455;\n",
              "      --fill-color: #D2E3FC;\n",
              "      --hover-bg-color: #434B5C;\n",
              "      --hover-fill-color: #FFFFFF;\n",
              "      --disabled-bg-color: #3B4455;\n",
              "      --disabled-fill-color: #666;\n",
              "  }\n",
              "\n",
              "  .colab-df-quickchart {\n",
              "    background-color: var(--bg-color);\n",
              "    border: none;\n",
              "    border-radius: 50%;\n",
              "    cursor: pointer;\n",
              "    display: none;\n",
              "    fill: var(--fill-color);\n",
              "    height: 32px;\n",
              "    padding: 0;\n",
              "    width: 32px;\n",
              "  }\n",
              "\n",
              "  .colab-df-quickchart:hover {\n",
              "    background-color: var(--hover-bg-color);\n",
              "    box-shadow: 0 1px 2px rgba(60, 64, 67, 0.3), 0 1px 3px 1px rgba(60, 64, 67, 0.15);\n",
              "    fill: var(--button-hover-fill-color);\n",
              "  }\n",
              "\n",
              "  .colab-df-quickchart-complete:disabled,\n",
              "  .colab-df-quickchart-complete:disabled:hover {\n",
              "    background-color: var(--disabled-bg-color);\n",
              "    fill: var(--disabled-fill-color);\n",
              "    box-shadow: none;\n",
              "  }\n",
              "\n",
              "  .colab-df-spinner {\n",
              "    border: 2px solid var(--fill-color);\n",
              "    border-color: transparent;\n",
              "    border-bottom-color: var(--fill-color);\n",
              "    animation:\n",
              "      spin 1s steps(1) infinite;\n",
              "  }\n",
              "\n",
              "  @keyframes spin {\n",
              "    0% {\n",
              "      border-color: transparent;\n",
              "      border-bottom-color: var(--fill-color);\n",
              "      border-left-color: var(--fill-color);\n",
              "    }\n",
              "    20% {\n",
              "      border-color: transparent;\n",
              "      border-left-color: var(--fill-color);\n",
              "      border-top-color: var(--fill-color);\n",
              "    }\n",
              "    30% {\n",
              "      border-color: transparent;\n",
              "      border-left-color: var(--fill-color);\n",
              "      border-top-color: var(--fill-color);\n",
              "      border-right-color: var(--fill-color);\n",
              "    }\n",
              "    40% {\n",
              "      border-color: transparent;\n",
              "      border-right-color: var(--fill-color);\n",
              "      border-top-color: var(--fill-color);\n",
              "    }\n",
              "    60% {\n",
              "      border-color: transparent;\n",
              "      border-right-color: var(--fill-color);\n",
              "    }\n",
              "    80% {\n",
              "      border-color: transparent;\n",
              "      border-right-color: var(--fill-color);\n",
              "      border-bottom-color: var(--fill-color);\n",
              "    }\n",
              "    90% {\n",
              "      border-color: transparent;\n",
              "      border-bottom-color: var(--fill-color);\n",
              "    }\n",
              "  }\n",
              "</style>\n",
              "\n",
              "  <script>\n",
              "    async function quickchart(key) {\n",
              "      const quickchartButtonEl =\n",
              "        document.querySelector('#' + key + ' button');\n",
              "      quickchartButtonEl.disabled = true;  // To prevent multiple clicks.\n",
              "      quickchartButtonEl.classList.add('colab-df-spinner');\n",
              "      try {\n",
              "        const charts = await google.colab.kernel.invokeFunction(\n",
              "            'suggestCharts', [key], {});\n",
              "      } catch (error) {\n",
              "        console.error('Error during call to suggestCharts:', error);\n",
              "      }\n",
              "      quickchartButtonEl.classList.remove('colab-df-spinner');\n",
              "      quickchartButtonEl.classList.add('colab-df-quickchart-complete');\n",
              "    }\n",
              "    (() => {\n",
              "      let quickchartButtonEl =\n",
              "        document.querySelector('#df-7fff09d8-bd92-45b7-9344-874acd00c29d button');\n",
              "      quickchartButtonEl.style.display =\n",
              "        google.colab.kernel.accessAllowed ? 'block' : 'none';\n",
              "    })();\n",
              "  </script>\n",
              "</div>\n",
              "\n",
              "  <div id=\"id_8bc4df41-2788-4c7f-b192-7805c4f8a8b4\">\n",
              "    <style>\n",
              "      .colab-df-generate {\n",
              "        background-color: #E8F0FE;\n",
              "        border: none;\n",
              "        border-radius: 50%;\n",
              "        cursor: pointer;\n",
              "        display: none;\n",
              "        fill: #1967D2;\n",
              "        height: 32px;\n",
              "        padding: 0 0 0 0;\n",
              "        width: 32px;\n",
              "      }\n",
              "\n",
              "      .colab-df-generate:hover {\n",
              "        background-color: #E2EBFA;\n",
              "        box-shadow: 0px 1px 2px rgba(60, 64, 67, 0.3), 0px 1px 3px 1px rgba(60, 64, 67, 0.15);\n",
              "        fill: #174EA6;\n",
              "      }\n",
              "\n",
              "      [theme=dark] .colab-df-generate {\n",
              "        background-color: #3B4455;\n",
              "        fill: #D2E3FC;\n",
              "      }\n",
              "\n",
              "      [theme=dark] .colab-df-generate:hover {\n",
              "        background-color: #434B5C;\n",
              "        box-shadow: 0px 1px 3px 1px rgba(0, 0, 0, 0.15);\n",
              "        filter: drop-shadow(0px 1px 2px rgba(0, 0, 0, 0.3));\n",
              "        fill: #FFFFFF;\n",
              "      }\n",
              "    </style>\n",
              "    <button class=\"colab-df-generate\" onclick=\"generateWithVariable('df')\"\n",
              "            title=\"Generate code using this dataframe.\"\n",
              "            style=\"display:none;\">\n",
              "\n",
              "  <svg xmlns=\"http://www.w3.org/2000/svg\" height=\"24px\"viewBox=\"0 0 24 24\"\n",
              "       width=\"24px\">\n",
              "    <path d=\"M7,19H8.4L18.45,9,17,7.55,7,17.6ZM5,21V16.75L18.45,3.32a2,2,0,0,1,2.83,0l1.4,1.43a1.91,1.91,0,0,1,.58,1.4,1.91,1.91,0,0,1-.58,1.4L9.25,21ZM18.45,9,17,7.55Zm-12,3A5.31,5.31,0,0,0,4.9,8.1,5.31,5.31,0,0,0,1,6.5,5.31,5.31,0,0,0,4.9,4.9,5.31,5.31,0,0,0,6.5,1,5.31,5.31,0,0,0,8.1,4.9,5.31,5.31,0,0,0,12,6.5,5.46,5.46,0,0,0,6.5,12Z\"/>\n",
              "  </svg>\n",
              "    </button>\n",
              "    <script>\n",
              "      (() => {\n",
              "      const buttonEl =\n",
              "        document.querySelector('#id_8bc4df41-2788-4c7f-b192-7805c4f8a8b4 button.colab-df-generate');\n",
              "      buttonEl.style.display =\n",
              "        google.colab.kernel.accessAllowed ? 'block' : 'none';\n",
              "\n",
              "      buttonEl.onclick = () => {\n",
              "        google.colab.notebook.generateWithVariable('df');\n",
              "      }\n",
              "      })();\n",
              "    </script>\n",
              "  </div>\n",
              "\n",
              "    </div>\n",
              "  </div>\n"
            ],
            "application/vnd.google.colaboratory.intrinsic+json": {
              "type": "dataframe",
              "variable_name": "df",
              "summary": "{\n  \"name\": \"df\",\n  \"rows\": 2142,\n  \"fields\": [\n    {\n      \"column\": \"key\",\n      \"properties\": {\n        \"dtype\": \"string\",\n        \"num_unique_values\": 2127,\n        \"samples\": [\n          \"FCC/extracted_texts/Joe Biden for President C4404198 3-26-24 to 4-1-24  PB18 Supplement Biden For You/extracted_text.json\",\n          \"FCC/extracted_texts/Biden for President 1355719 11711    5.7-5.13.24pdf/extracted_text.json\",\n          \"FCC/extracted_texts/Biden for President DNC 11260 Dec invoice/extracted_text.json\"\n        ],\n        \"semantic_type\": \"\",\n        \"description\": \"\"\n      }\n    },\n    {\n      \"column\": \"file_name\",\n      \"properties\": {\n        \"dtype\": \"string\",\n        \"num_unique_values\": 2127,\n        \"samples\": [\n          \"Joe Biden for President C4404198 3-26-24 to 4-1-24  PB18 Supplement Biden For You\",\n          \"Biden for President 1355719 11711    5.7-5.13.24pdf\",\n          \"Biden for President DNC 11260 Dec invoice\"\n        ],\n        \"semantic_type\": \"\",\n        \"description\": \"\"\n      }\n    },\n    {\n      \"column\": \"completion_7b\",\n      \"properties\": {\n        \"dtype\": \"category\",\n        \"num_unique_values\": 46,\n        \"samples\": [\n          \"Document analysis report\",\n          \"Political Ad Analysis\",\n          \"Document Analysis\"\n        ],\n        \"semantic_type\": \"\",\n        \"description\": \"\"\n      }\n    },\n    {\n      \"column\": \"completion_8b\",\n      \"properties\": {\n        \"dtype\": \"category\",\n        \"num_unique_values\": 14,\n        \"samples\": [\n          \"Public Disclosure Document\",\n          \"Advertisement\",\n          \"Receipt\"\n        ],\n        \"semantic_type\": \"\",\n        \"description\": \"\"\n      }\n    }\n  ]\n}"
            }
          },
          "metadata": {},
          "execution_count": 11
        }
      ]
    },
    {
      "cell_type": "markdown",
      "source": [
        "## common_df/divergent_df\n",
        "we are going to split our df into 2 non-intersecting parts:\n",
        "* common_df where the labels assigned by the 2 models are the same;\n",
        "* divergent_df where the labels assigned by the 2 models are not the same"
      ],
      "metadata": {
        "id": "JThyDe1uEhC7"
      }
    },
    {
      "cell_type": "code",
      "source": [
        "common_df = df.query(\"completion_7b == completion_8b\").\\\n",
        "                    reset_index(drop=True).dropna(how='any')\n",
        "divergent_df = df.query(\"completion_7b ! = completion_8b\").\\\n",
        "                    reset_index(drop=True).dropna(how='any')\n",
        "\n",
        "common_df['same'] = True\n",
        "divergent_df['same'] = False\n",
        "\n",
        "df = pd.concat([common_df,divergent_df], ignore_index=True)\n",
        "df.shape\n",
        "common_df.shape, divergent_df.shape, df.shape"
      ],
      "metadata": {
        "colab": {
          "base_uri": "https://localhost:8080/"
        },
        "id": "Yt3d614xEaog",
        "outputId": "90e4ed5b-b134-49a5-a53c-deae1deb3df3"
      },
      "execution_count": 12,
      "outputs": [
        {
          "output_type": "execute_result",
          "data": {
            "text/plain": [
              "((1482, 5), (660, 5), (2142, 5))"
            ]
          },
          "metadata": {},
          "execution_count": 12
        }
      ]
    },
    {
      "cell_type": "markdown",
      "source": [
        "we have 660 files out of a total of 2142 in which labels assigned by one model are not the same as those assigned by the second model. This is an indication of the accuracy of the zero-shot models: it's quite low, even though our classification task seems to be quite a simple one."
      ],
      "metadata": {
        "id": "1FNQwtaIPwu4"
      }
    },
    {
      "cell_type": "markdown",
      "source": [
        "## Analysis of inference results"
      ],
      "metadata": {
        "id": "xXg2fa9wJBEN"
      }
    },
    {
      "cell_type": "markdown",
      "source": [
        "let's compare classification inference results obtained with the following 3 models:\n",
        "* 'gemma-7b-it'\n",
        "* 'llama3-8b-8192'\n",
        "* 'llama3-70b-8192'"
      ],
      "metadata": {
        "id": "MtPhwzEJLL7Z"
      }
    },
    {
      "cell_type": "markdown",
      "source": [
        "### documents containing NAB in the title\n",
        "NAB stands for National Association of Broadcasters. The Political Broadcast Agreement form, often referred to as the NAB Form PB-18, is used by broadcasters to document agreements with political candidates and committees regarding the purchase of airtime for political advertising. This form helps ensure compliance with Federal Communications Commission (FCC) regulations regarding political advertising.  \n",
        "\n",
        "In our classification labels such documents shall be classified as 'Other'."
      ],
      "metadata": {
        "id": "jNgbvCgCLhdH"
      }
    },
    {
      "cell_type": "code",
      "source": [
        "nab_common = common_df.query(\"file_name.str.contains('nab',case=False)\")\n",
        "nab_common.shape"
      ],
      "metadata": {
        "id": "cuc_M6auKksQ"
      },
      "execution_count": null,
      "outputs": []
    },
    {
      "cell_type": "markdown",
      "source": [
        "As we can see from below, both models labeled NAB documents either as 'contract' or as 'invoice'.  \n",
        "One of the goals of classification model fine-tuning is to traine models to classify such files as 'Other'"
      ],
      "metadata": {
        "id": "yW7pI1OnMq5F"
      }
    },
    {
      "cell_type": "code",
      "source": [
        "nab_common['completion_7b'].value_counts()"
      ],
      "metadata": {
        "id": "dcpdMdVLMepm"
      },
      "execution_count": null,
      "outputs": []
    },
    {
      "cell_type": "code",
      "source": [
        "nab_divergent = df.query(\"completion_7b != completion_8b\").\\\n",
        "                    reset_index(drop=True).dropna(how='any')\n",
        "nab_divergent.shape"
      ],
      "metadata": {
        "id": "c5Jk91XlNIE0"
      },
      "execution_count": null,
      "outputs": []
    },
    {
      "cell_type": "code",
      "source": [
        "labels = ['Contract', 'Invoice', 'Order']\n",
        "erorr_counts = nab_divergent.query('completion_7b==@labels').shape[0]\n",
        "print(f\"erorr_counts: {erorr_counts}\")\n",
        "error_pct = erorr_counts/len(nab_divergent)\n",
        "print(f\"error_pct: {error_pct*100:.2f} %\")"
      ],
      "metadata": {
        "id": "WC4GjHq1NMv9"
      },
      "execution_count": null,
      "outputs": []
    },
    {
      "cell_type": "code",
      "source": [
        "labels = ['Contract', 'Invoice', 'Order']\n",
        "erorr_counts = nab_divergent.query('completion_8b==@labels').shape[0]\n",
        "print(f\"erorr_counts: {erorr_counts}\")\n",
        "error_pct = erorr_counts/len(nab_divergent)\n",
        "print(f\"error_pct: {error_pct*100:.2f} %\")"
      ],
      "metadata": {
        "id": "eA8wfiUBO2OI"
      },
      "execution_count": null,
      "outputs": []
    },
    {
      "cell_type": "code",
      "source": [
        "divergent_df.query(\"completion_70b != completion_7b\").shape"
      ],
      "metadata": {
        "id": "bVc9JHIKlO8t"
      },
      "execution_count": null,
      "outputs": []
    },
    {
      "cell_type": "code",
      "source": [
        "divergent_df.query(\"completion_70b != completion_8b\").shape"
      ],
      "metadata": {
        "id": "fcwuQm9zlWNh"
      },
      "execution_count": null,
      "outputs": []
    },
    {
      "cell_type": "code",
      "source": [
        "divergent_df = divergent_df.merge(df_70b[['key','completion']],on=['key'],\n",
        "                   how='inner',\n",
        "                   suffixes=('','_70b')).rename(columns={'completion':'completion_70b'})\n",
        "divergent_df.shape"
      ],
      "metadata": {
        "id": "YfjTPD4cSf_z"
      },
      "execution_count": null,
      "outputs": []
    },
    {
      "cell_type": "markdown",
      "source": [
        "## Create and upload labeled dataset"
      ],
      "metadata": {
        "id": "I3K32SRuJgW1"
      }
    },
    {
      "cell_type": "markdown",
      "source": [
        "Our analysis above has shown that zero-shot approach to PDF file classification with 7B and 8B models produces a lot of errors.  \n",
        "\n",
        "We need to creat a dataset and fine-tune out models"
      ],
      "metadata": {
        "id": "oCmbBK_vQr2w"
      }
    },
    {
      "cell_type": "markdown",
      "source": [
        "let's create 4 DFs, each belonging to one of the 4 labels where our 2 models coincided in classification and where file_name contains text pointing to the appropriate class"
      ],
      "metadata": {
        "id": "CHKyeMX3gncy"
      }
    },
    {
      "cell_type": "code",
      "source": [
        "contract_df = common_df.query(\"file_name.str.contains('contract',case=False) \\\n",
        "& completion_7b=='Contract' & completion_8b=='Contract'\").copy()\n",
        "contract_df['label'] = 'Contract'\n",
        "contract_df.shape"
      ],
      "metadata": {
        "colab": {
          "base_uri": "https://localhost:8080/"
        },
        "id": "7kvmFAYXEtaa",
        "outputId": "1034edcc-2a1f-4030-e9c8-4f8dd75efefe"
      },
      "execution_count": null,
      "outputs": [
        {
          "output_type": "execute_result",
          "data": {
            "text/plain": [
              "(151, 6)"
            ]
          },
          "metadata": {},
          "execution_count": 72
        }
      ]
    },
    {
      "cell_type": "code",
      "source": [
        "invoice_df = common_df.query(\"file_name.str.contains('inv',case=False) \\\n",
        "& completion_7b=='Invoice' & completion_8b=='Invoice'\").copy()\n",
        "invoice_df['label'] = 'Invoice'\n",
        "invoice_df.shape"
      ],
      "metadata": {
        "colab": {
          "base_uri": "https://localhost:8080/"
        },
        "id": "p8XKwsExLdne",
        "outputId": "4a2ce017-a4ce-4154-c78b-d83d9ac74f18"
      },
      "execution_count": null,
      "outputs": [
        {
          "output_type": "execute_result",
          "data": {
            "text/plain": [
              "(309, 6)"
            ]
          },
          "metadata": {},
          "execution_count": 71
        }
      ]
    },
    {
      "cell_type": "code",
      "source": [
        "order_df = common_df.query(\"file_name.str.contains('order',case=False) \\\n",
        "& completion_7b=='Order' & completion_8b=='Order'\").copy()\n",
        "order_df['label'] = 'Order'\n",
        "order_df.shape"
      ],
      "metadata": {
        "colab": {
          "base_uri": "https://localhost:8080/"
        },
        "id": "YoFraJ-VLtv7",
        "outputId": "75a00a58-b784-4cd0-82eb-6af441639115"
      },
      "execution_count": null,
      "outputs": [
        {
          "output_type": "execute_result",
          "data": {
            "text/plain": [
              "(91, 6)"
            ]
          },
          "metadata": {},
          "execution_count": 70
        }
      ]
    },
    {
      "cell_type": "code",
      "source": [
        "other_df = df.query(\"file_name.str.contains('nab',case=False)\").copy()\n",
        "other_df['Label'] = 'Other'\n",
        "other_df.shape"
      ],
      "metadata": {
        "colab": {
          "base_uri": "https://localhost:8080/"
        },
        "id": "28gOZeeluDd9",
        "outputId": "3f029b73-89d4-4e88-ef9d-261bac20457b"
      },
      "execution_count": null,
      "outputs": [
        {
          "output_type": "execute_result",
          "data": {
            "text/plain": [
              "(364, 5)"
            ]
          },
          "metadata": {},
          "execution_count": 73
        }
      ]
    },
    {
      "cell_type": "code",
      "source": [
        "ft_df = pd.concat([\n",
        "                    contract_df,\n",
        "                    invoice_df,\n",
        "                    order_df,\n",
        "                    other_df\n",
        "                   ],\n",
        "               ignore_index=True)\n",
        "ft_df.shape"
      ],
      "metadata": {
        "colab": {
          "base_uri": "https://localhost:8080/"
        },
        "id": "rucMJV2mMK4O",
        "outputId": "1e386b7b-62e5-4b38-cab5-8c1538cca40c"
      },
      "execution_count": null,
      "outputs": [
        {
          "output_type": "execute_result",
          "data": {
            "text/plain": [
              "(915, 7)"
            ]
          },
          "metadata": {},
          "execution_count": 74
        }
      ]
    },
    {
      "cell_type": "code",
      "source": [
        "ft_df.head()"
      ],
      "metadata": {
        "colab": {
          "base_uri": "https://localhost:8080/",
          "height": 328
        },
        "id": "ETe0NWURfzS8",
        "outputId": "669565ef-a669-4d43-913c-8b00dfcb3b67"
      },
      "execution_count": null,
      "outputs": [
        {
          "output_type": "execute_result",
          "data": {
            "text/plain": [
              "                                                 key  \\\n",
              "0  FCC/extracted_texts/Joe Biden for President co...   \n",
              "1  FCC/extracted_texts/Biden-D-President Contract...   \n",
              "2  FCC/extracted_texts/CONTRACT BIDEN FOR PRESIDE...   \n",
              "3  FCC/extracted_texts/CONTRACT BIDEN FOR PRESIDE...   \n",
              "4  FCC/extracted_texts/BIDEN FOR PRESIDENT KDKA C...   \n",
              "\n",
              "                                           file_name completion_7b  \\\n",
              "0  Joe Biden for President confirmation contract ...      Contract   \n",
              "1             Biden-D-President Contract 5.7-5.13.24      Contract   \n",
              "2  CONTRACT BIDEN FOR PRESIDENT WNGT EST 11713 05...      Contract   \n",
              "3  CONTRACT BIDEN FOR PRESIDENT WRAL EST 11713 05...      Contract   \n",
              "4        BIDEN FOR PRESIDENT KDKA CONTRACT 635489--1      Contract   \n",
              "\n",
              "  completion_8b  same  \n",
              "0      Contract  True  \n",
              "1      Contract  True  \n",
              "2      Contract  True  \n",
              "3      Contract  True  \n",
              "4      Contract  True  "
            ],
            "text/html": [
              "\n",
              "  <div id=\"df-544d80b1-cd68-43c2-b5cf-84bedf7d4ae0\" class=\"colab-df-container\">\n",
              "    <div>\n",
              "<style scoped>\n",
              "    .dataframe tbody tr th:only-of-type {\n",
              "        vertical-align: middle;\n",
              "    }\n",
              "\n",
              "    .dataframe tbody tr th {\n",
              "        vertical-align: top;\n",
              "    }\n",
              "\n",
              "    .dataframe thead th {\n",
              "        text-align: right;\n",
              "    }\n",
              "</style>\n",
              "<table border=\"1\" class=\"dataframe\">\n",
              "  <thead>\n",
              "    <tr style=\"text-align: right;\">\n",
              "      <th></th>\n",
              "      <th>key</th>\n",
              "      <th>file_name</th>\n",
              "      <th>completion_7b</th>\n",
              "      <th>completion_8b</th>\n",
              "      <th>same</th>\n",
              "    </tr>\n",
              "  </thead>\n",
              "  <tbody>\n",
              "    <tr>\n",
              "      <th>0</th>\n",
              "      <td>FCC/extracted_texts/Joe Biden for President co...</td>\n",
              "      <td>Joe Biden for President confirmation contract ...</td>\n",
              "      <td>Contract</td>\n",
              "      <td>Contract</td>\n",
              "      <td>True</td>\n",
              "    </tr>\n",
              "    <tr>\n",
              "      <th>1</th>\n",
              "      <td>FCC/extracted_texts/Biden-D-President Contract...</td>\n",
              "      <td>Biden-D-President Contract 5.7-5.13.24</td>\n",
              "      <td>Contract</td>\n",
              "      <td>Contract</td>\n",
              "      <td>True</td>\n",
              "    </tr>\n",
              "    <tr>\n",
              "      <th>2</th>\n",
              "      <td>FCC/extracted_texts/CONTRACT BIDEN FOR PRESIDE...</td>\n",
              "      <td>CONTRACT BIDEN FOR PRESIDENT WNGT EST 11713 05...</td>\n",
              "      <td>Contract</td>\n",
              "      <td>Contract</td>\n",
              "      <td>True</td>\n",
              "    </tr>\n",
              "    <tr>\n",
              "      <th>3</th>\n",
              "      <td>FCC/extracted_texts/CONTRACT BIDEN FOR PRESIDE...</td>\n",
              "      <td>CONTRACT BIDEN FOR PRESIDENT WRAL EST 11713 05...</td>\n",
              "      <td>Contract</td>\n",
              "      <td>Contract</td>\n",
              "      <td>True</td>\n",
              "    </tr>\n",
              "    <tr>\n",
              "      <th>4</th>\n",
              "      <td>FCC/extracted_texts/BIDEN FOR PRESIDENT KDKA C...</td>\n",
              "      <td>BIDEN FOR PRESIDENT KDKA CONTRACT 635489--1</td>\n",
              "      <td>Contract</td>\n",
              "      <td>Contract</td>\n",
              "      <td>True</td>\n",
              "    </tr>\n",
              "  </tbody>\n",
              "</table>\n",
              "</div>\n",
              "    <div class=\"colab-df-buttons\">\n",
              "\n",
              "  <div class=\"colab-df-container\">\n",
              "    <button class=\"colab-df-convert\" onclick=\"convertToInteractive('df-544d80b1-cd68-43c2-b5cf-84bedf7d4ae0')\"\n",
              "            title=\"Convert this dataframe to an interactive table.\"\n",
              "            style=\"display:none;\">\n",
              "\n",
              "  <svg xmlns=\"http://www.w3.org/2000/svg\" height=\"24px\" viewBox=\"0 -960 960 960\">\n",
              "    <path d=\"M120-120v-720h720v720H120Zm60-500h600v-160H180v160Zm220 220h160v-160H400v160Zm0 220h160v-160H400v160ZM180-400h160v-160H180v160Zm440 0h160v-160H620v160ZM180-180h160v-160H180v160Zm440 0h160v-160H620v160Z\"/>\n",
              "  </svg>\n",
              "    </button>\n",
              "\n",
              "  <style>\n",
              "    .colab-df-container {\n",
              "      display:flex;\n",
              "      gap: 12px;\n",
              "    }\n",
              "\n",
              "    .colab-df-convert {\n",
              "      background-color: #E8F0FE;\n",
              "      border: none;\n",
              "      border-radius: 50%;\n",
              "      cursor: pointer;\n",
              "      display: none;\n",
              "      fill: #1967D2;\n",
              "      height: 32px;\n",
              "      padding: 0 0 0 0;\n",
              "      width: 32px;\n",
              "    }\n",
              "\n",
              "    .colab-df-convert:hover {\n",
              "      background-color: #E2EBFA;\n",
              "      box-shadow: 0px 1px 2px rgba(60, 64, 67, 0.3), 0px 1px 3px 1px rgba(60, 64, 67, 0.15);\n",
              "      fill: #174EA6;\n",
              "    }\n",
              "\n",
              "    .colab-df-buttons div {\n",
              "      margin-bottom: 4px;\n",
              "    }\n",
              "\n",
              "    [theme=dark] .colab-df-convert {\n",
              "      background-color: #3B4455;\n",
              "      fill: #D2E3FC;\n",
              "    }\n",
              "\n",
              "    [theme=dark] .colab-df-convert:hover {\n",
              "      background-color: #434B5C;\n",
              "      box-shadow: 0px 1px 3px 1px rgba(0, 0, 0, 0.15);\n",
              "      filter: drop-shadow(0px 1px 2px rgba(0, 0, 0, 0.3));\n",
              "      fill: #FFFFFF;\n",
              "    }\n",
              "  </style>\n",
              "\n",
              "    <script>\n",
              "      const buttonEl =\n",
              "        document.querySelector('#df-544d80b1-cd68-43c2-b5cf-84bedf7d4ae0 button.colab-df-convert');\n",
              "      buttonEl.style.display =\n",
              "        google.colab.kernel.accessAllowed ? 'block' : 'none';\n",
              "\n",
              "      async function convertToInteractive(key) {\n",
              "        const element = document.querySelector('#df-544d80b1-cd68-43c2-b5cf-84bedf7d4ae0');\n",
              "        const dataTable =\n",
              "          await google.colab.kernel.invokeFunction('convertToInteractive',\n",
              "                                                    [key], {});\n",
              "        if (!dataTable) return;\n",
              "\n",
              "        const docLinkHtml = 'Like what you see? Visit the ' +\n",
              "          '<a target=\"_blank\" href=https://colab.research.google.com/notebooks/data_table.ipynb>data table notebook</a>'\n",
              "          + ' to learn more about interactive tables.';\n",
              "        element.innerHTML = '';\n",
              "        dataTable['output_type'] = 'display_data';\n",
              "        await google.colab.output.renderOutput(dataTable, element);\n",
              "        const docLink = document.createElement('div');\n",
              "        docLink.innerHTML = docLinkHtml;\n",
              "        element.appendChild(docLink);\n",
              "      }\n",
              "    </script>\n",
              "  </div>\n",
              "\n",
              "\n",
              "<div id=\"df-37b98a82-f973-448e-9788-24211cf47907\">\n",
              "  <button class=\"colab-df-quickchart\" onclick=\"quickchart('df-37b98a82-f973-448e-9788-24211cf47907')\"\n",
              "            title=\"Suggest charts\"\n",
              "            style=\"display:none;\">\n",
              "\n",
              "<svg xmlns=\"http://www.w3.org/2000/svg\" height=\"24px\"viewBox=\"0 0 24 24\"\n",
              "     width=\"24px\">\n",
              "    <g>\n",
              "        <path d=\"M19 3H5c-1.1 0-2 .9-2 2v14c0 1.1.9 2 2 2h14c1.1 0 2-.9 2-2V5c0-1.1-.9-2-2-2zM9 17H7v-7h2v7zm4 0h-2V7h2v10zm4 0h-2v-4h2v4z\"/>\n",
              "    </g>\n",
              "</svg>\n",
              "  </button>\n",
              "\n",
              "<style>\n",
              "  .colab-df-quickchart {\n",
              "      --bg-color: #E8F0FE;\n",
              "      --fill-color: #1967D2;\n",
              "      --hover-bg-color: #E2EBFA;\n",
              "      --hover-fill-color: #174EA6;\n",
              "      --disabled-fill-color: #AAA;\n",
              "      --disabled-bg-color: #DDD;\n",
              "  }\n",
              "\n",
              "  [theme=dark] .colab-df-quickchart {\n",
              "      --bg-color: #3B4455;\n",
              "      --fill-color: #D2E3FC;\n",
              "      --hover-bg-color: #434B5C;\n",
              "      --hover-fill-color: #FFFFFF;\n",
              "      --disabled-bg-color: #3B4455;\n",
              "      --disabled-fill-color: #666;\n",
              "  }\n",
              "\n",
              "  .colab-df-quickchart {\n",
              "    background-color: var(--bg-color);\n",
              "    border: none;\n",
              "    border-radius: 50%;\n",
              "    cursor: pointer;\n",
              "    display: none;\n",
              "    fill: var(--fill-color);\n",
              "    height: 32px;\n",
              "    padding: 0;\n",
              "    width: 32px;\n",
              "  }\n",
              "\n",
              "  .colab-df-quickchart:hover {\n",
              "    background-color: var(--hover-bg-color);\n",
              "    box-shadow: 0 1px 2px rgba(60, 64, 67, 0.3), 0 1px 3px 1px rgba(60, 64, 67, 0.15);\n",
              "    fill: var(--button-hover-fill-color);\n",
              "  }\n",
              "\n",
              "  .colab-df-quickchart-complete:disabled,\n",
              "  .colab-df-quickchart-complete:disabled:hover {\n",
              "    background-color: var(--disabled-bg-color);\n",
              "    fill: var(--disabled-fill-color);\n",
              "    box-shadow: none;\n",
              "  }\n",
              "\n",
              "  .colab-df-spinner {\n",
              "    border: 2px solid var(--fill-color);\n",
              "    border-color: transparent;\n",
              "    border-bottom-color: var(--fill-color);\n",
              "    animation:\n",
              "      spin 1s steps(1) infinite;\n",
              "  }\n",
              "\n",
              "  @keyframes spin {\n",
              "    0% {\n",
              "      border-color: transparent;\n",
              "      border-bottom-color: var(--fill-color);\n",
              "      border-left-color: var(--fill-color);\n",
              "    }\n",
              "    20% {\n",
              "      border-color: transparent;\n",
              "      border-left-color: var(--fill-color);\n",
              "      border-top-color: var(--fill-color);\n",
              "    }\n",
              "    30% {\n",
              "      border-color: transparent;\n",
              "      border-left-color: var(--fill-color);\n",
              "      border-top-color: var(--fill-color);\n",
              "      border-right-color: var(--fill-color);\n",
              "    }\n",
              "    40% {\n",
              "      border-color: transparent;\n",
              "      border-right-color: var(--fill-color);\n",
              "      border-top-color: var(--fill-color);\n",
              "    }\n",
              "    60% {\n",
              "      border-color: transparent;\n",
              "      border-right-color: var(--fill-color);\n",
              "    }\n",
              "    80% {\n",
              "      border-color: transparent;\n",
              "      border-right-color: var(--fill-color);\n",
              "      border-bottom-color: var(--fill-color);\n",
              "    }\n",
              "    90% {\n",
              "      border-color: transparent;\n",
              "      border-bottom-color: var(--fill-color);\n",
              "    }\n",
              "  }\n",
              "</style>\n",
              "\n",
              "  <script>\n",
              "    async function quickchart(key) {\n",
              "      const quickchartButtonEl =\n",
              "        document.querySelector('#' + key + ' button');\n",
              "      quickchartButtonEl.disabled = true;  // To prevent multiple clicks.\n",
              "      quickchartButtonEl.classList.add('colab-df-spinner');\n",
              "      try {\n",
              "        const charts = await google.colab.kernel.invokeFunction(\n",
              "            'suggestCharts', [key], {});\n",
              "      } catch (error) {\n",
              "        console.error('Error during call to suggestCharts:', error);\n",
              "      }\n",
              "      quickchartButtonEl.classList.remove('colab-df-spinner');\n",
              "      quickchartButtonEl.classList.add('colab-df-quickchart-complete');\n",
              "    }\n",
              "    (() => {\n",
              "      let quickchartButtonEl =\n",
              "        document.querySelector('#df-37b98a82-f973-448e-9788-24211cf47907 button');\n",
              "      quickchartButtonEl.style.display =\n",
              "        google.colab.kernel.accessAllowed ? 'block' : 'none';\n",
              "    })();\n",
              "  </script>\n",
              "</div>\n",
              "\n",
              "    </div>\n",
              "  </div>\n"
            ],
            "application/vnd.google.colaboratory.intrinsic+json": {
              "type": "dataframe",
              "variable_name": "ft_df",
              "summary": "{\n  \"name\": \"ft_df\",\n  \"rows\": 551,\n  \"fields\": [\n    {\n      \"column\": \"key\",\n      \"properties\": {\n        \"dtype\": \"string\",\n        \"num_unique_values\": 551,\n        \"samples\": [\n          \"FCC/extracted_texts/Biden for President Order 752690/extracted_text.json\",\n          \"FCC/extracted_texts/BIDEN FOR PRESIDENT WWJ CONTRACT 630923--2/extracted_text.json\",\n          \"FCC/extracted_texts/DNC BIDEN FOR PRESIDENT KYW CONTRACT 615098--1/extracted_text.json\"\n        ],\n        \"semantic_type\": \"\",\n        \"description\": \"\"\n      }\n    },\n    {\n      \"column\": \"file_name\",\n      \"properties\": {\n        \"dtype\": \"string\",\n        \"num_unique_values\": 551,\n        \"samples\": [\n          \"Biden for President Order 752690\",\n          \"BIDEN FOR PRESIDENT WWJ CONTRACT 630923--2\",\n          \"DNC BIDEN FOR PRESIDENT KYW CONTRACT 615098--1\"\n        ],\n        \"semantic_type\": \"\",\n        \"description\": \"\"\n      }\n    },\n    {\n      \"column\": \"completion_7b\",\n      \"properties\": {\n        \"dtype\": \"category\",\n        \"num_unique_values\": 3,\n        \"samples\": [\n          \"Contract\",\n          \"Invoice\",\n          \"Order\"\n        ],\n        \"semantic_type\": \"\",\n        \"description\": \"\"\n      }\n    },\n    {\n      \"column\": \"completion_8b\",\n      \"properties\": {\n        \"dtype\": \"category\",\n        \"num_unique_values\": 3,\n        \"samples\": [\n          \"Contract\",\n          \"Invoice\",\n          \"Order\"\n        ],\n        \"semantic_type\": \"\",\n        \"description\": \"\"\n      }\n    },\n    {\n      \"column\": \"same\",\n      \"properties\": {\n        \"dtype\": \"boolean\",\n        \"num_unique_values\": 1,\n        \"samples\": [\n          true\n        ],\n        \"semantic_type\": \"\",\n        \"description\": \"\"\n      }\n    }\n  ]\n}"
            }
          },
          "metadata": {},
          "execution_count": 61
        }
      ]
    },
    {
      "cell_type": "markdown",
      "source": [
        "In the following cell we are using a custom class ConstructedText. We do not include it here and leave it to the user to experiment with text representation of PDF files, which pertains to the Prompt engineering domain.  \n",
        "\n",
        "This is a critical part of a successful fine-tuning/inference of LLMs."
      ],
      "metadata": {
        "id": "RwRazXe_enhX"
      }
    },
    {
      "cell_type": "markdown",
      "source": [
        "we are:\n",
        "* retrieving raw text files with coordinates which we obtained in notebooks/trump_biden_download_preprocess_store.ipynb,\n",
        "* converting first page of each PDF file them to a text format with a proptietary class ConstructedText\n",
        "* creating a list of tuples, each having 3 elements:\n",
        "  - file_name\n",
        "  - extracted_text: text extracted from the first page,\n",
        "  - label: single-label class from ['contract','invoice','order','other']\n",
        "* converting list of tuples into pandas DF\n",
        "* upload DF as parquet file to s3 bucket"
      ],
      "metadata": {
        "id": "7FK_Z1SfxjKf"
      }
    },
    {
      "cell_type": "code",
      "source": [
        "page_num='0'\n",
        "max_symbols = 200\n",
        "tolerance = 3\n",
        "collector = []\n",
        "for row in ft_df.itertuples():\n",
        "  try:\n",
        "    label = row.label\n",
        "    key = row.key\n",
        "    file_name = row.file_name\n",
        "    extracted_words = json.loads(s3_client.get_object(Bucket=bucket,\n",
        "                                                      Key=key)['Body'].read())\n",
        "    extracted_page = {page_num: extracted_words[page_num]}\n",
        "    text_constructor = ConstructedText(\n",
        "                                        extracted_page,\n",
        "                                        tolerance,\n",
        "                                        max_symbols)\n",
        "    constructed_text = text_constructor.constructed_text\n",
        "    collector.append((file_name, constructed_text,label))\n",
        "    if row[0]%10==0:\n",
        "      print(row[0])\n",
        "  except:\n",
        "    print(f\"{row[0]} error: {key}\")\n",
        "  # break\n",
        "len(collector)"
      ],
      "metadata": {
        "id": "Xlu-TW-VPmIG",
        "colab": {
          "base_uri": "https://localhost:8080/"
        },
        "outputId": "fd6e0695-23d9-4931-dd42-055620e54828"
      },
      "execution_count": null,
      "outputs": [
        {
          "output_type": "stream",
          "name": "stdout",
          "text": [
            "0\n",
            "10\n",
            "20\n",
            "30\n",
            "40\n",
            "50\n",
            "60\n",
            "70\n",
            "80\n",
            "90\n",
            "100\n",
            "110\n",
            "120\n",
            "130\n",
            "140\n",
            "150\n",
            "160\n",
            "170\n",
            "180\n",
            "190\n",
            "200\n",
            "210\n",
            "220\n",
            "230\n",
            "240\n",
            "250\n",
            "260\n",
            "270\n",
            "280\n",
            "290\n",
            "300\n",
            "310\n",
            "320\n",
            "330\n",
            "340\n",
            "350\n",
            "360\n",
            "370\n",
            "380\n",
            "390\n",
            "400\n",
            "410\n",
            "420\n",
            "430\n",
            "440\n",
            "450\n",
            "460\n",
            "470\n",
            "480\n",
            "490\n",
            "500\n",
            "510\n",
            "520\n",
            "530\n",
            "540\n",
            "550\n",
            "557 error: FCC/extracted_texts/265668 - Biden For President - KTVW - NAB/extracted_text.json\n",
            "560\n",
            "570\n",
            "580\n",
            "590\n",
            "600\n",
            "610\n",
            "613 error: FCC/extracted_texts/Biden for President-NAB-WI-Est 11503-BFP6024003H/extracted_text.json\n",
            "620\n",
            "625 error: FCC/extracted_texts/NAB PA PRIMARY BIDEN 60S/extracted_text.json\n",
            "630\n",
            "640\n",
            "649 error: FCC/extracted_texts/NAB PA PRIMARY BIDEN 11602/extracted_text.json\n",
            "650 error: FCC/extracted_texts/NAB PA PRIMARY BIDEN 11603/extracted_text.json\n",
            "651 error: FCC/extracted_texts/263088 Biden For President KTVW NAB REV1/extracted_text.json\n",
            "660\n",
            "667 error: FCC/extracted_texts/NAB WMSN - Biden for President Est 11632 - 4.16.24/extracted_text.json\n",
            "668 error: FCC/extracted_texts/NAB WMSN - Joe Biden for President Est 11631 - 4.16.24/extracted_text.json\n",
            "670\n",
            "680\n",
            "687 error: FCC/extracted_texts/NAB PA PRIMARY biden 11609/extracted_text.json\n",
            "688 error: FCC/extracted_texts/NAB PA PRIMARY biden 11630/extracted_text.json\n",
            "690\n",
            "700\n",
            "701 error: FCC/extracted_texts/BIDEN FOR PRESIDENT NAB  6084285/extracted_text.json\n",
            "710\n",
            "720\n",
            "726 error: FCC/extracted_texts/6084578 - BIDEN NAB/extracted_text.json\n",
            "727 error: FCC/extracted_texts/6084590 - BIDEN NAB/extracted_text.json\n",
            "730\n",
            "732 error: FCC/extracted_texts/265937 - Biden For President - KTVW - NAB/extracted_text.json\n",
            "734 error: FCC/extracted_texts/5.9 NAB - Order # 265950 Biden For President Signed/extracted_text.json\n",
            "735 error: FCC/extracted_texts/5.9 NAB - Order # 265970 Biden For President - Signed (1)/extracted_text.json\n",
            "740\n",
            "750\n",
            "760\n",
            "761 error: FCC/extracted_texts/NAB PA PRIMARY BIDEN/extracted_text.json\n",
            "763 error: FCC/extracted_texts/5.13 NAB - Order _ 266380 Biden For President - Signed _1_/extracted_text.json\n",
            "764 error: FCC/extracted_texts/5.13 NAB - Order _ 266375 Biden For President - Signed _1_/extracted_text.json\n",
            "767 error: FCC/extracted_texts/6084578 - BIDEN NAB REVISED/extracted_text.json\n",
            "770\n",
            "780\n",
            "790\n",
            "800\n",
            "809 error: FCC/extracted_texts/JOE BIDEN  10.2.23 NAB FORM/extracted_text.json\n",
            "810\n",
            "820\n",
            "830\n",
            "840\n",
            "850\n",
            "860\n",
            "870\n",
            "880\n",
            "890\n",
            "900\n",
            "910\n"
          ]
        },
        {
          "output_type": "execute_result",
          "data": {
            "text/plain": [
              "894"
            ]
          },
          "metadata": {},
          "execution_count": 75
        }
      ]
    },
    {
      "cell_type": "code",
      "source": [
        "completions_df = pd.DataFrame(collector,\n",
        "                              columns=['file_name',\n",
        "                                       'constructed_text',\n",
        "                                       'label'])\n",
        "completions_df.shape"
      ],
      "metadata": {
        "colab": {
          "base_uri": "https://localhost:8080/"
        },
        "id": "-6wv0_6hdoIs",
        "outputId": "6e2e2cab-c695-4b5c-e954-63d089031c23"
      },
      "execution_count": null,
      "outputs": [
        {
          "output_type": "execute_result",
          "data": {
            "text/plain": [
              "(894, 3)"
            ]
          },
          "metadata": {},
          "execution_count": 76
        }
      ]
    },
    {
      "cell_type": "markdown",
      "source": [
        "let's store the dataset in s3 bucket. We will use it for fine-tuning."
      ],
      "metadata": {
        "id": "NBljfXuwxM3d"
      }
    },
    {
      "cell_type": "code",
      "source": [
        "bucket = bucket_name\n",
        "key = 'datasets/FCC/completions_4_class_900K_ds.parquet'\n",
        "buffer = BytesIO()\n",
        "completions_df.to_parquet(buffer,\n",
        "                          index=False)\n",
        "metadata = {'description': 'notebook inference_analysis_dataset'}\n",
        "s3_client.put_object(Bucket=bucket,\n",
        "                     Key=key,\n",
        "                     Body=buffer.getvalue(),\n",
        "                     Metadata = metadata)"
      ],
      "metadata": {
        "colab": {
          "base_uri": "https://localhost:8080/"
        },
        "id": "9xhuEBhghUbg",
        "outputId": "2f6633b2-a656-4aea-ca64-e09f987b9e9b"
      },
      "execution_count": null,
      "outputs": [
        {
          "output_type": "execute_result",
          "data": {
            "text/plain": [
              "{'ResponseMetadata': {'RequestId': 'ZGDFXZG828NJ28K5',\n",
              "  'HostId': 'el7bB/Ftplhy9qncDrOyfqd4Uk2LsdAemMPesu/9FAUB0zIo26pnUM2yu+qWd0mE8vN/qpAbyKfhV169NP0uF+lNe2TeHflENEd3Sm0VuD8=',\n",
              "  'HTTPStatusCode': 200,\n",
              "  'HTTPHeaders': {'x-amz-id-2': 'el7bB/Ftplhy9qncDrOyfqd4Uk2LsdAemMPesu/9FAUB0zIo26pnUM2yu+qWd0mE8vN/qpAbyKfhV169NP0uF+lNe2TeHflENEd3Sm0VuD8=',\n",
              "   'x-amz-request-id': 'ZGDFXZG828NJ28K5',\n",
              "   'date': 'Tue, 28 May 2024 10:35:08 GMT',\n",
              "   'x-amz-server-side-encryption': 'AES256',\n",
              "   'etag': '\"9b05904bdccee2392823a32873caed4c\"',\n",
              "   'server': 'AmazonS3',\n",
              "   'content-length': '0'},\n",
              "  'RetryAttempts': 0},\n",
              " 'ETag': '\"9b05904bdccee2392823a32873caed4c\"',\n",
              " 'ServerSideEncryption': 'AES256'}"
            ]
          },
          "metadata": {},
          "execution_count": 78
        }
      ]
    },
    {
      "cell_type": "markdown",
      "source": [
        "# validation dataset"
      ],
      "metadata": {
        "id": "JYsRLGxzWhnp"
      }
    },
    {
      "cell_type": "code",
      "source": [
        "validation_df = df_70b.merge(df_8b[['file_name',\n",
        "                    'completion']],on='file_name',\n",
        "             suffixes=('','_8b')).merge(df_7b[['file_name',\n",
        "                                               'completion']],\n",
        "                                        on='file_name',\n",
        "                                        suffixes=('_70b','_7b'))\n",
        "validation_df.shape"
      ],
      "metadata": {
        "colab": {
          "base_uri": "https://localhost:8080/"
        },
        "id": "BaOEZOj5WnDU",
        "outputId": "1f2b3213-3d0f-464f-f187-2faf04735d5b"
      },
      "execution_count": 13,
      "outputs": [
        {
          "output_type": "execute_result",
          "data": {
            "text/plain": [
              "(1397, 8)"
            ]
          },
          "metadata": {},
          "execution_count": 13
        }
      ]
    },
    {
      "cell_type": "code",
      "source": [
        "validation_df['prompt'] = validation_df.prompt.str.split(\"### Document text starts here:\").str[1].\\\n",
        "str.split(\"Document text ends here\").str[0]"
      ],
      "metadata": {
        "id": "6mH2ossVoyNJ"
      },
      "execution_count": 23,
      "outputs": []
    },
    {
      "cell_type": "code",
      "source": [
        "validation_df"
      ],
      "metadata": {
        "colab": {
          "base_uri": "https://localhost:8080/",
          "height": 1000
        },
        "id": "YmgajXrbO1Gr",
        "outputId": "107c4382-50a3-4576-a74a-e86195e62c37"
      },
      "execution_count": 24,
      "outputs": [
        {
          "output_type": "execute_result",
          "data": {
            "text/plain": [
              "                                                    key completion_70b  \\\n",
              "0     FCC/extracted_texts/POL LUC 2024 wk of April 8...        Invoice   \n",
              "1     FCC/extracted_texts/WMSN -BIDEN FOR PRESIDENT ...        Invoice   \n",
              "2     FCC/extracted_texts/WMSN -BIDEN FOR PRESIDENT ...        Invoice   \n",
              "3     FCC/extracted_texts/WMYD Biden est 11700  1285...          Order   \n",
              "4     FCC/extracted_texts/WMYD Biden est 11710  1286...          Order   \n",
              "...                                                 ...            ...   \n",
              "1392  FCC/extracted_texts/NAB WMSN - BIDEN FOR PRESI...           None   \n",
              "1393  FCC/extracted_texts/Pol J Biden D PRE US_NABpg...       Contract   \n",
              "1394  FCC/extracted_texts/Pol J Biden D PRE US_NAB-1...           None   \n",
              "1395  FCC/extracted_texts/A3016-NAB-62398-032924/ext...       Contract   \n",
              "1396  FCC/extracted_texts/WLFL Joe Biden_5876526/ext...           None   \n",
              "\n",
              "                model       time  \\\n",
              "0     llama3-70b-8192   7.625960   \n",
              "1     llama3-70b-8192   4.937490   \n",
              "2     llama3-70b-8192   7.206039   \n",
              "3     llama3-70b-8192  13.601193   \n",
              "4     llama3-70b-8192   9.085162   \n",
              "...               ...        ...   \n",
              "1392  llama3-70b-8192   0.481690   \n",
              "1393  llama3-70b-8192   1.404025   \n",
              "1394  llama3-70b-8192   0.476954   \n",
              "1395  llama3-70b-8192   2.232844   \n",
              "1396  llama3-70b-8192   0.624667   \n",
              "\n",
              "                                                 prompt  \\\n",
              "0                          4/11/24\\n                ...   \n",
              "1                                                   ...   \n",
              "2                                                   ...   \n",
              "3                                                   ...   \n",
              "4                                                   ...   \n",
              "...                                                 ...   \n",
              "1392                           CANDIDATE ADVERTISEME...   \n",
              "1393                               CANDIDATE ADVERTI...   \n",
              "1394                               CANDIDATE ADVERTI...   \n",
              "1395                           CANDIDATE ADVERTISEME...   \n",
              "1396                           CANDIDATE ADVERTISEME...   \n",
              "\n",
              "                                              file_name completion_8b  \\\n",
              "0                            POL LUC 2024 wk of April 8       Receipt   \n",
              "1     WMSN -BIDEN FOR PRESIDENT Est11597 Period 4.1....       Invoice   \n",
              "2     WMSN -BIDEN FOR PRESIDENT Est11598 Period 4.1....       Invoice   \n",
              "3                         WMYD Biden est 11700  1285530         Order   \n",
              "4                         WMYD Biden est 11710  1286114         Order   \n",
              "...                                                 ...           ...   \n",
              "1392  NAB WMSN - BIDEN FOR PRESIDENT EST 11597 4.9.2...      Contract   \n",
              "1393                Pol J Biden D PRE US_NABpg1_1128595      Contract   \n",
              "1394                   Pol J Biden D PRE US_NAB-1128576      Contract   \n",
              "1395                             A3016-NAB-62398-032924      Contract   \n",
              "1396                             WLFL Joe Biden_5876526      Contract   \n",
              "\n",
              "     completion_7b  \n",
              "0         Contract  \n",
              "1         Contract  \n",
              "2         Contract  \n",
              "3         Contract  \n",
              "4         Contract  \n",
              "...            ...  \n",
              "1392         Order  \n",
              "1393         Order  \n",
              "1394         Order  \n",
              "1395         Order  \n",
              "1396         Order  \n",
              "\n",
              "[1397 rows x 8 columns]"
            ],
            "text/html": [
              "\n",
              "  <div id=\"df-6521fb15-895d-4896-84b7-97aa40e05966\" class=\"colab-df-container\">\n",
              "    <div>\n",
              "<style scoped>\n",
              "    .dataframe tbody tr th:only-of-type {\n",
              "        vertical-align: middle;\n",
              "    }\n",
              "\n",
              "    .dataframe tbody tr th {\n",
              "        vertical-align: top;\n",
              "    }\n",
              "\n",
              "    .dataframe thead th {\n",
              "        text-align: right;\n",
              "    }\n",
              "</style>\n",
              "<table border=\"1\" class=\"dataframe\">\n",
              "  <thead>\n",
              "    <tr style=\"text-align: right;\">\n",
              "      <th></th>\n",
              "      <th>key</th>\n",
              "      <th>completion_70b</th>\n",
              "      <th>model</th>\n",
              "      <th>time</th>\n",
              "      <th>prompt</th>\n",
              "      <th>file_name</th>\n",
              "      <th>completion_8b</th>\n",
              "      <th>completion_7b</th>\n",
              "    </tr>\n",
              "  </thead>\n",
              "  <tbody>\n",
              "    <tr>\n",
              "      <th>0</th>\n",
              "      <td>FCC/extracted_texts/POL LUC 2024 wk of April 8...</td>\n",
              "      <td>Invoice</td>\n",
              "      <td>llama3-70b-8192</td>\n",
              "      <td>7.625960</td>\n",
              "      <td>4/11/24\\n                ...</td>\n",
              "      <td>POL LUC 2024 wk of April 8</td>\n",
              "      <td>Receipt</td>\n",
              "      <td>Contract</td>\n",
              "    </tr>\n",
              "    <tr>\n",
              "      <th>1</th>\n",
              "      <td>FCC/extracted_texts/WMSN -BIDEN FOR PRESIDENT ...</td>\n",
              "      <td>Invoice</td>\n",
              "      <td>llama3-70b-8192</td>\n",
              "      <td>4.937490</td>\n",
              "      <td>...</td>\n",
              "      <td>WMSN -BIDEN FOR PRESIDENT Est11597 Period 4.1....</td>\n",
              "      <td>Invoice</td>\n",
              "      <td>Contract</td>\n",
              "    </tr>\n",
              "    <tr>\n",
              "      <th>2</th>\n",
              "      <td>FCC/extracted_texts/WMSN -BIDEN FOR PRESIDENT ...</td>\n",
              "      <td>Invoice</td>\n",
              "      <td>llama3-70b-8192</td>\n",
              "      <td>7.206039</td>\n",
              "      <td>...</td>\n",
              "      <td>WMSN -BIDEN FOR PRESIDENT Est11598 Period 4.1....</td>\n",
              "      <td>Invoice</td>\n",
              "      <td>Contract</td>\n",
              "    </tr>\n",
              "    <tr>\n",
              "      <th>3</th>\n",
              "      <td>FCC/extracted_texts/WMYD Biden est 11700  1285...</td>\n",
              "      <td>Order</td>\n",
              "      <td>llama3-70b-8192</td>\n",
              "      <td>13.601193</td>\n",
              "      <td>...</td>\n",
              "      <td>WMYD Biden est 11700  1285530</td>\n",
              "      <td>Order</td>\n",
              "      <td>Contract</td>\n",
              "    </tr>\n",
              "    <tr>\n",
              "      <th>4</th>\n",
              "      <td>FCC/extracted_texts/WMYD Biden est 11710  1286...</td>\n",
              "      <td>Order</td>\n",
              "      <td>llama3-70b-8192</td>\n",
              "      <td>9.085162</td>\n",
              "      <td>...</td>\n",
              "      <td>WMYD Biden est 11710  1286114</td>\n",
              "      <td>Order</td>\n",
              "      <td>Contract</td>\n",
              "    </tr>\n",
              "    <tr>\n",
              "      <th>...</th>\n",
              "      <td>...</td>\n",
              "      <td>...</td>\n",
              "      <td>...</td>\n",
              "      <td>...</td>\n",
              "      <td>...</td>\n",
              "      <td>...</td>\n",
              "      <td>...</td>\n",
              "      <td>...</td>\n",
              "    </tr>\n",
              "    <tr>\n",
              "      <th>1392</th>\n",
              "      <td>FCC/extracted_texts/NAB WMSN - BIDEN FOR PRESI...</td>\n",
              "      <td>None</td>\n",
              "      <td>llama3-70b-8192</td>\n",
              "      <td>0.481690</td>\n",
              "      <td>CANDIDATE ADVERTISEME...</td>\n",
              "      <td>NAB WMSN - BIDEN FOR PRESIDENT EST 11597 4.9.2...</td>\n",
              "      <td>Contract</td>\n",
              "      <td>Order</td>\n",
              "    </tr>\n",
              "    <tr>\n",
              "      <th>1393</th>\n",
              "      <td>FCC/extracted_texts/Pol J Biden D PRE US_NABpg...</td>\n",
              "      <td>Contract</td>\n",
              "      <td>llama3-70b-8192</td>\n",
              "      <td>1.404025</td>\n",
              "      <td>CANDIDATE ADVERTI...</td>\n",
              "      <td>Pol J Biden D PRE US_NABpg1_1128595</td>\n",
              "      <td>Contract</td>\n",
              "      <td>Order</td>\n",
              "    </tr>\n",
              "    <tr>\n",
              "      <th>1394</th>\n",
              "      <td>FCC/extracted_texts/Pol J Biden D PRE US_NAB-1...</td>\n",
              "      <td>None</td>\n",
              "      <td>llama3-70b-8192</td>\n",
              "      <td>0.476954</td>\n",
              "      <td>CANDIDATE ADVERTI...</td>\n",
              "      <td>Pol J Biden D PRE US_NAB-1128576</td>\n",
              "      <td>Contract</td>\n",
              "      <td>Order</td>\n",
              "    </tr>\n",
              "    <tr>\n",
              "      <th>1395</th>\n",
              "      <td>FCC/extracted_texts/A3016-NAB-62398-032924/ext...</td>\n",
              "      <td>Contract</td>\n",
              "      <td>llama3-70b-8192</td>\n",
              "      <td>2.232844</td>\n",
              "      <td>CANDIDATE ADVERTISEME...</td>\n",
              "      <td>A3016-NAB-62398-032924</td>\n",
              "      <td>Contract</td>\n",
              "      <td>Order</td>\n",
              "    </tr>\n",
              "    <tr>\n",
              "      <th>1396</th>\n",
              "      <td>FCC/extracted_texts/WLFL Joe Biden_5876526/ext...</td>\n",
              "      <td>None</td>\n",
              "      <td>llama3-70b-8192</td>\n",
              "      <td>0.624667</td>\n",
              "      <td>CANDIDATE ADVERTISEME...</td>\n",
              "      <td>WLFL Joe Biden_5876526</td>\n",
              "      <td>Contract</td>\n",
              "      <td>Order</td>\n",
              "    </tr>\n",
              "  </tbody>\n",
              "</table>\n",
              "<p>1397 rows × 8 columns</p>\n",
              "</div>\n",
              "    <div class=\"colab-df-buttons\">\n",
              "\n",
              "  <div class=\"colab-df-container\">\n",
              "    <button class=\"colab-df-convert\" onclick=\"convertToInteractive('df-6521fb15-895d-4896-84b7-97aa40e05966')\"\n",
              "            title=\"Convert this dataframe to an interactive table.\"\n",
              "            style=\"display:none;\">\n",
              "\n",
              "  <svg xmlns=\"http://www.w3.org/2000/svg\" height=\"24px\" viewBox=\"0 -960 960 960\">\n",
              "    <path d=\"M120-120v-720h720v720H120Zm60-500h600v-160H180v160Zm220 220h160v-160H400v160Zm0 220h160v-160H400v160ZM180-400h160v-160H180v160Zm440 0h160v-160H620v160ZM180-180h160v-160H180v160Zm440 0h160v-160H620v160Z\"/>\n",
              "  </svg>\n",
              "    </button>\n",
              "\n",
              "  <style>\n",
              "    .colab-df-container {\n",
              "      display:flex;\n",
              "      gap: 12px;\n",
              "    }\n",
              "\n",
              "    .colab-df-convert {\n",
              "      background-color: #E8F0FE;\n",
              "      border: none;\n",
              "      border-radius: 50%;\n",
              "      cursor: pointer;\n",
              "      display: none;\n",
              "      fill: #1967D2;\n",
              "      height: 32px;\n",
              "      padding: 0 0 0 0;\n",
              "      width: 32px;\n",
              "    }\n",
              "\n",
              "    .colab-df-convert:hover {\n",
              "      background-color: #E2EBFA;\n",
              "      box-shadow: 0px 1px 2px rgba(60, 64, 67, 0.3), 0px 1px 3px 1px rgba(60, 64, 67, 0.15);\n",
              "      fill: #174EA6;\n",
              "    }\n",
              "\n",
              "    .colab-df-buttons div {\n",
              "      margin-bottom: 4px;\n",
              "    }\n",
              "\n",
              "    [theme=dark] .colab-df-convert {\n",
              "      background-color: #3B4455;\n",
              "      fill: #D2E3FC;\n",
              "    }\n",
              "\n",
              "    [theme=dark] .colab-df-convert:hover {\n",
              "      background-color: #434B5C;\n",
              "      box-shadow: 0px 1px 3px 1px rgba(0, 0, 0, 0.15);\n",
              "      filter: drop-shadow(0px 1px 2px rgba(0, 0, 0, 0.3));\n",
              "      fill: #FFFFFF;\n",
              "    }\n",
              "  </style>\n",
              "\n",
              "    <script>\n",
              "      const buttonEl =\n",
              "        document.querySelector('#df-6521fb15-895d-4896-84b7-97aa40e05966 button.colab-df-convert');\n",
              "      buttonEl.style.display =\n",
              "        google.colab.kernel.accessAllowed ? 'block' : 'none';\n",
              "\n",
              "      async function convertToInteractive(key) {\n",
              "        const element = document.querySelector('#df-6521fb15-895d-4896-84b7-97aa40e05966');\n",
              "        const dataTable =\n",
              "          await google.colab.kernel.invokeFunction('convertToInteractive',\n",
              "                                                    [key], {});\n",
              "        if (!dataTable) return;\n",
              "\n",
              "        const docLinkHtml = 'Like what you see? Visit the ' +\n",
              "          '<a target=\"_blank\" href=https://colab.research.google.com/notebooks/data_table.ipynb>data table notebook</a>'\n",
              "          + ' to learn more about interactive tables.';\n",
              "        element.innerHTML = '';\n",
              "        dataTable['output_type'] = 'display_data';\n",
              "        await google.colab.output.renderOutput(dataTable, element);\n",
              "        const docLink = document.createElement('div');\n",
              "        docLink.innerHTML = docLinkHtml;\n",
              "        element.appendChild(docLink);\n",
              "      }\n",
              "    </script>\n",
              "  </div>\n",
              "\n",
              "\n",
              "<div id=\"df-7bd5377a-b3b7-4349-92c0-7aec9a6fb0ae\">\n",
              "  <button class=\"colab-df-quickchart\" onclick=\"quickchart('df-7bd5377a-b3b7-4349-92c0-7aec9a6fb0ae')\"\n",
              "            title=\"Suggest charts\"\n",
              "            style=\"display:none;\">\n",
              "\n",
              "<svg xmlns=\"http://www.w3.org/2000/svg\" height=\"24px\"viewBox=\"0 0 24 24\"\n",
              "     width=\"24px\">\n",
              "    <g>\n",
              "        <path d=\"M19 3H5c-1.1 0-2 .9-2 2v14c0 1.1.9 2 2 2h14c1.1 0 2-.9 2-2V5c0-1.1-.9-2-2-2zM9 17H7v-7h2v7zm4 0h-2V7h2v10zm4 0h-2v-4h2v4z\"/>\n",
              "    </g>\n",
              "</svg>\n",
              "  </button>\n",
              "\n",
              "<style>\n",
              "  .colab-df-quickchart {\n",
              "      --bg-color: #E8F0FE;\n",
              "      --fill-color: #1967D2;\n",
              "      --hover-bg-color: #E2EBFA;\n",
              "      --hover-fill-color: #174EA6;\n",
              "      --disabled-fill-color: #AAA;\n",
              "      --disabled-bg-color: #DDD;\n",
              "  }\n",
              "\n",
              "  [theme=dark] .colab-df-quickchart {\n",
              "      --bg-color: #3B4455;\n",
              "      --fill-color: #D2E3FC;\n",
              "      --hover-bg-color: #434B5C;\n",
              "      --hover-fill-color: #FFFFFF;\n",
              "      --disabled-bg-color: #3B4455;\n",
              "      --disabled-fill-color: #666;\n",
              "  }\n",
              "\n",
              "  .colab-df-quickchart {\n",
              "    background-color: var(--bg-color);\n",
              "    border: none;\n",
              "    border-radius: 50%;\n",
              "    cursor: pointer;\n",
              "    display: none;\n",
              "    fill: var(--fill-color);\n",
              "    height: 32px;\n",
              "    padding: 0;\n",
              "    width: 32px;\n",
              "  }\n",
              "\n",
              "  .colab-df-quickchart:hover {\n",
              "    background-color: var(--hover-bg-color);\n",
              "    box-shadow: 0 1px 2px rgba(60, 64, 67, 0.3), 0 1px 3px 1px rgba(60, 64, 67, 0.15);\n",
              "    fill: var(--button-hover-fill-color);\n",
              "  }\n",
              "\n",
              "  .colab-df-quickchart-complete:disabled,\n",
              "  .colab-df-quickchart-complete:disabled:hover {\n",
              "    background-color: var(--disabled-bg-color);\n",
              "    fill: var(--disabled-fill-color);\n",
              "    box-shadow: none;\n",
              "  }\n",
              "\n",
              "  .colab-df-spinner {\n",
              "    border: 2px solid var(--fill-color);\n",
              "    border-color: transparent;\n",
              "    border-bottom-color: var(--fill-color);\n",
              "    animation:\n",
              "      spin 1s steps(1) infinite;\n",
              "  }\n",
              "\n",
              "  @keyframes spin {\n",
              "    0% {\n",
              "      border-color: transparent;\n",
              "      border-bottom-color: var(--fill-color);\n",
              "      border-left-color: var(--fill-color);\n",
              "    }\n",
              "    20% {\n",
              "      border-color: transparent;\n",
              "      border-left-color: var(--fill-color);\n",
              "      border-top-color: var(--fill-color);\n",
              "    }\n",
              "    30% {\n",
              "      border-color: transparent;\n",
              "      border-left-color: var(--fill-color);\n",
              "      border-top-color: var(--fill-color);\n",
              "      border-right-color: var(--fill-color);\n",
              "    }\n",
              "    40% {\n",
              "      border-color: transparent;\n",
              "      border-right-color: var(--fill-color);\n",
              "      border-top-color: var(--fill-color);\n",
              "    }\n",
              "    60% {\n",
              "      border-color: transparent;\n",
              "      border-right-color: var(--fill-color);\n",
              "    }\n",
              "    80% {\n",
              "      border-color: transparent;\n",
              "      border-right-color: var(--fill-color);\n",
              "      border-bottom-color: var(--fill-color);\n",
              "    }\n",
              "    90% {\n",
              "      border-color: transparent;\n",
              "      border-bottom-color: var(--fill-color);\n",
              "    }\n",
              "  }\n",
              "</style>\n",
              "\n",
              "  <script>\n",
              "    async function quickchart(key) {\n",
              "      const quickchartButtonEl =\n",
              "        document.querySelector('#' + key + ' button');\n",
              "      quickchartButtonEl.disabled = true;  // To prevent multiple clicks.\n",
              "      quickchartButtonEl.classList.add('colab-df-spinner');\n",
              "      try {\n",
              "        const charts = await google.colab.kernel.invokeFunction(\n",
              "            'suggestCharts', [key], {});\n",
              "      } catch (error) {\n",
              "        console.error('Error during call to suggestCharts:', error);\n",
              "      }\n",
              "      quickchartButtonEl.classList.remove('colab-df-spinner');\n",
              "      quickchartButtonEl.classList.add('colab-df-quickchart-complete');\n",
              "    }\n",
              "    (() => {\n",
              "      let quickchartButtonEl =\n",
              "        document.querySelector('#df-7bd5377a-b3b7-4349-92c0-7aec9a6fb0ae button');\n",
              "      quickchartButtonEl.style.display =\n",
              "        google.colab.kernel.accessAllowed ? 'block' : 'none';\n",
              "    })();\n",
              "  </script>\n",
              "</div>\n",
              "\n",
              "  <div id=\"id_22c336c2-70e1-4421-9a2f-d3b511b110c1\">\n",
              "    <style>\n",
              "      .colab-df-generate {\n",
              "        background-color: #E8F0FE;\n",
              "        border: none;\n",
              "        border-radius: 50%;\n",
              "        cursor: pointer;\n",
              "        display: none;\n",
              "        fill: #1967D2;\n",
              "        height: 32px;\n",
              "        padding: 0 0 0 0;\n",
              "        width: 32px;\n",
              "      }\n",
              "\n",
              "      .colab-df-generate:hover {\n",
              "        background-color: #E2EBFA;\n",
              "        box-shadow: 0px 1px 2px rgba(60, 64, 67, 0.3), 0px 1px 3px 1px rgba(60, 64, 67, 0.15);\n",
              "        fill: #174EA6;\n",
              "      }\n",
              "\n",
              "      [theme=dark] .colab-df-generate {\n",
              "        background-color: #3B4455;\n",
              "        fill: #D2E3FC;\n",
              "      }\n",
              "\n",
              "      [theme=dark] .colab-df-generate:hover {\n",
              "        background-color: #434B5C;\n",
              "        box-shadow: 0px 1px 3px 1px rgba(0, 0, 0, 0.15);\n",
              "        filter: drop-shadow(0px 1px 2px rgba(0, 0, 0, 0.3));\n",
              "        fill: #FFFFFF;\n",
              "      }\n",
              "    </style>\n",
              "    <button class=\"colab-df-generate\" onclick=\"generateWithVariable('validation_df')\"\n",
              "            title=\"Generate code using this dataframe.\"\n",
              "            style=\"display:none;\">\n",
              "\n",
              "  <svg xmlns=\"http://www.w3.org/2000/svg\" height=\"24px\"viewBox=\"0 0 24 24\"\n",
              "       width=\"24px\">\n",
              "    <path d=\"M7,19H8.4L18.45,9,17,7.55,7,17.6ZM5,21V16.75L18.45,3.32a2,2,0,0,1,2.83,0l1.4,1.43a1.91,1.91,0,0,1,.58,1.4,1.91,1.91,0,0,1-.58,1.4L9.25,21ZM18.45,9,17,7.55Zm-12,3A5.31,5.31,0,0,0,4.9,8.1,5.31,5.31,0,0,0,1,6.5,5.31,5.31,0,0,0,4.9,4.9,5.31,5.31,0,0,0,6.5,1,5.31,5.31,0,0,0,8.1,4.9,5.31,5.31,0,0,0,12,6.5,5.46,5.46,0,0,0,6.5,12Z\"/>\n",
              "  </svg>\n",
              "    </button>\n",
              "    <script>\n",
              "      (() => {\n",
              "      const buttonEl =\n",
              "        document.querySelector('#id_22c336c2-70e1-4421-9a2f-d3b511b110c1 button.colab-df-generate');\n",
              "      buttonEl.style.display =\n",
              "        google.colab.kernel.accessAllowed ? 'block' : 'none';\n",
              "\n",
              "      buttonEl.onclick = () => {\n",
              "        google.colab.notebook.generateWithVariable('validation_df');\n",
              "      }\n",
              "      })();\n",
              "    </script>\n",
              "  </div>\n",
              "\n",
              "    </div>\n",
              "  </div>\n"
            ],
            "application/vnd.google.colaboratory.intrinsic+json": {
              "type": "dataframe",
              "variable_name": "validation_df",
              "summary": "{\n  \"name\": \"validation_df\",\n  \"rows\": 1397,\n  \"fields\": [\n    {\n      \"column\": \"key\",\n      \"properties\": {\n        \"dtype\": \"string\",\n        \"num_unique_values\": 1022,\n        \"samples\": [\n          \"FCC/extracted_texts/Biden for President Invoice 747630-1/extracted_text.json\",\n          \"FCC/extracted_texts/Joe Biden for President C4441405 4-20-24 to 4-23-24 PB18 Power Back Multi State/extracted_text.json\",\n          \"FCC/extracted_texts/265150 - Biden For President - KTVW-DT - INTAKE/extracted_text.json\"\n        ],\n        \"semantic_type\": \"\",\n        \"description\": \"\"\n      }\n    },\n    {\n      \"column\": \"completion_70b\",\n      \"properties\": {\n        \"dtype\": \"category\",\n        \"num_unique_values\": 19,\n        \"samples\": [\n          \"Invoice\",\n          \"Political Advertising Inquiry Record\",\n          \"Approval\"\n        ],\n        \"semantic_type\": \"\",\n        \"description\": \"\"\n      }\n    },\n    {\n      \"column\": \"model\",\n      \"properties\": {\n        \"dtype\": \"category\",\n        \"num_unique_values\": 1,\n        \"samples\": [\n          \"llama3-70b-8192\"\n        ],\n        \"semantic_type\": \"\",\n        \"description\": \"\"\n      }\n    },\n    {\n      \"column\": \"time\",\n      \"properties\": {\n        \"dtype\": \"number\",\n        \"std\": 4.444103236568425,\n        \"min\": 0.4307124614715576,\n        \"max\": 28.73134469985962,\n        \"num_unique_values\": 1117,\n        \"samples\": [\n          2.5922300815582275\n        ],\n        \"semantic_type\": \"\",\n        \"description\": \"\"\n      }\n    },\n    {\n      \"column\": \"prompt\",\n      \"properties\": {\n        \"dtype\": \"string\",\n        \"num_unique_values\": 807,\n        \"samples\": [\n          \"                  POLITICAL/ISSUE AVAIL REQUEST\\n                                                       DATE:        August 22, 2023Uppated 9/27REQUESTED BY:          Media Buying and Analytics\\n              ADDRESS:               4355 Cobb Parkway SE, STE J489, Atlanta, GA 30339TELEPHONE#             na\\n              ON BEHALF OF CANDIDATE/ISSUE:          Joe BidenOFFICE/ISSUE:           US President\\n              PARTY AFFILIATION:               DemocraticCOMMITTEE:             Biden for President\\n             TREAS./CHAIRMAN:       Keana Spencer, TreasurerPO Box 58174, Philadelphia, PA 19102\\n             DATES AND TIMES REQUESTED:             allREMARKS:               www.JoeBiden.com\\n  ### \"\n        ],\n        \"semantic_type\": \"\",\n        \"description\": \"\"\n      }\n    },\n    {\n      \"column\": \"file_name\",\n      \"properties\": {\n        \"dtype\": \"string\",\n        \"num_unique_values\": 1022,\n        \"samples\": [\n          \"Biden for President Invoice 747630-1\"\n        ],\n        \"semantic_type\": \"\",\n        \"description\": \"\"\n      }\n    },\n    {\n      \"column\": \"completion_8b\",\n      \"properties\": {\n        \"dtype\": \"category\",\n        \"num_unique_values\": 14,\n        \"samples\": [\n          \"Public Disclosure Document\"\n        ],\n        \"semantic_type\": \"\",\n        \"description\": \"\"\n      }\n    },\n    {\n      \"column\": \"completion_7b\",\n      \"properties\": {\n        \"dtype\": \"category\",\n        \"num_unique_values\": 46,\n        \"samples\": [\n          \"Document analysis report\"\n        ],\n        \"semantic_type\": \"\",\n        \"description\": \"\"\n      }\n    }\n  ]\n}"
            }
          },
          "metadata": {},
          "execution_count": 24
        }
      ]
    },
    {
      "cell_type": "code",
      "source": [
        "bucket = bucket_name\n",
        "key = 'datasets/FCC/test_ds_1400K.parquet'\n",
        "buffer = BytesIO()\n",
        "validation_df.to_parquet(buffer,\n",
        "                          index=False)\n",
        "metadata = {'description': 'notebook inference_analysis_dataset.ipynb'}\n",
        "s3_client.put_object(Bucket=bucket,\n",
        "                     Key=key,\n",
        "                     Body=buffer.getvalue(),\n",
        "                     Metadata = metadata)"
      ],
      "metadata": {
        "colab": {
          "base_uri": "https://localhost:8080/"
        },
        "id": "3wcd7FXfPEsl",
        "outputId": "a56a0011-672c-48b1-ce14-651b709dbeee"
      },
      "execution_count": 25,
      "outputs": [
        {
          "output_type": "execute_result",
          "data": {
            "text/plain": [
              "{'ResponseMetadata': {'RequestId': 'TR5SR5B1M8NMQJD3',\n",
              "  'HostId': 'CPTrRV06I2yLp1h42s4EFciBCg8QLbPUtVio5CcA7WYGOOkaDOF5heI0hJsSHjTYJrSSzcYqOus=',\n",
              "  'HTTPStatusCode': 200,\n",
              "  'HTTPHeaders': {'x-amz-id-2': 'CPTrRV06I2yLp1h42s4EFciBCg8QLbPUtVio5CcA7WYGOOkaDOF5heI0hJsSHjTYJrSSzcYqOus=',\n",
              "   'x-amz-request-id': 'TR5SR5B1M8NMQJD3',\n",
              "   'date': 'Thu, 30 May 2024 02:04:29 GMT',\n",
              "   'x-amz-server-side-encryption': 'AES256',\n",
              "   'etag': '\"4c2345fd098df5a648e836be7de4cbd4\"',\n",
              "   'server': 'AmazonS3',\n",
              "   'content-length': '0'},\n",
              "  'RetryAttempts': 0},\n",
              " 'ETag': '\"4c2345fd098df5a648e836be7de4cbd4\"',\n",
              " 'ServerSideEncryption': 'AES256'}"
            ]
          },
          "metadata": {},
          "execution_count": 25
        }
      ]
    }
  ]
}