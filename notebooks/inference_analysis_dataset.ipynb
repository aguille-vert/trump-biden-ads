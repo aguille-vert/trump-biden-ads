{
  "nbformat": 4,
  "nbformat_minor": 0,
  "metadata": {
    "colab": {
      "provenance": [],
      "toc_visible": true,
      "collapsed_sections": [
        "mg3EQt1pWsc0",
        "vo3EQktFXDyZ"
      ]
    },
    "kernelspec": {
      "name": "python3",
      "display_name": "Python 3"
    },
    "language_info": {
      "name": "python"
    }
  },
  "cells": [
    {
      "cell_type": "code",
      "execution_count": null,
      "metadata": {
        "id": "X5BRCqXMrhK1"
      },
      "outputs": [],
      "source": []
    },
    {
      "cell_type": "markdown",
      "metadata": {
        "id": "tYWtQW0gU7be"
      },
      "source": [
        "# Initializer"
      ]
    },
    {
      "cell_type": "code",
      "execution_count": null,
      "metadata": {
        "id": "Ia9vXOYsVAQI"
      },
      "outputs": [],
      "source": [
        "import json\n",
        "import boto3\n",
        "from time import time\n",
        "import pandas as pd\n",
        "import numpy as np\n",
        "from io import BytesIO\n",
        "from PIL import Image\n",
        "import requests\n",
        "from collections import defaultdict\n",
        "from random import choice, choices\n",
        "import re\n",
        "from datetime import datetime, timedelta\n",
        "from joblib import Parallel, delayed, parallel_backend, dump, load\n",
        "from random import randint, choice\n",
        "from pprint import pprint\n",
        "from time import sleep\n",
        "from collections import defaultdict\n",
        "from tqdm import tqdm\n",
        "import os"
      ]
    },
    {
      "cell_type": "markdown",
      "metadata": {
        "id": "DzoqHdELu2pz"
      },
      "source": [
        "## clients and tokens"
      ]
    },
    {
      "cell_type": "code",
      "execution_count": null,
      "metadata": {
        "id": "j3Dn5t6SVIZS"
      },
      "outputs": [],
      "source": [
        "from google.colab import userdata\n",
        "\n",
        "\n",
        "AWS_BRG_ACCESS_KEY = userdata.get('AWS_BRG_ACCESS_KEY')\n",
        "AWS_BRG_SECRET_ACCESS_KEY = userdata.get('AWS_BRG_SECRET_ACCESS_KEY')\n",
        "\n",
        "\n",
        "s3_client = boto3.client('s3',\n",
        "            aws_access_key_id = AWS_BRG_ACCESS_KEY,\n",
        "            aws_secret_access_key = AWS_BRG_SECRET_ACCESS_KEY)\n"
      ]
    },
    {
      "cell_type": "markdown",
      "source": [
        "# Classification task - analysis of inference results"
      ],
      "metadata": {
        "id": "SUazASp9tFUA"
      }
    },
    {
      "cell_type": "markdown",
      "source": [
        "Examples why title of a file on its own is not necessarily a good pointer to its type:\n",
        "\n",
        "* '6047902 Contract R-1' is, on the other hand, an invoice. The file name is misleading in this case. Both 7b and 8b models were correct in classifying this document as an invoice.\n",
        "* 'DNC-BIDEN FOR PRESIDENT KYW CONTRACT 605352 IN' is an invoice"
      ],
      "metadata": {
        "id": "t7KsXT60LuVy"
      }
    },
    {
      "cell_type": "markdown",
      "source": [
        "## load inreference results"
      ],
      "metadata": {
        "id": "mg3EQt1pWsc0"
      }
    },
    {
      "cell_type": "code",
      "source": [
        "MODEL = 'gemma-7b-it'\n",
        "\n",
        "api = 'groq'\n",
        "\n",
        "bucket = 'bergena-invoice-parser'\n",
        "key = f\"FCC/completions/file-classification/{api}/{MODEL}/completions_df.parquet\"\n",
        "try:\n",
        "  df_7b = oper.pd_read_parquet(s3_client, bucket, key)\n",
        "except Exception as e:\n",
        "  print(\"failed to read file\", e)\n",
        "  df_7b = pd.DataFrame(columns=['key',\n",
        "                                           'completion',\n",
        "                                           'model',\n",
        "                                           'time',\n",
        "                                           'prompt'])\n",
        "df_7b['file_name']=df_7b['key'].str.split('/').str[2]\n",
        "df_7b['completion'] = df_7b['completion'].apply(lambda x:\n",
        "                        list(json.loads(x).values())[0]\n",
        "                        if isinstance(x,str) else x)\n",
        "print(f\"df_7b: {df_7b.shape}\")"
      ],
      "metadata": {
        "colab": {
          "base_uri": "https://localhost:8080/"
        },
        "id": "6JmuveLetJXA",
        "outputId": "7b5401a6-a3b8-4443-c7c9-1b42163eab78"
      },
      "execution_count": null,
      "outputs": [
        {
          "output_type": "stream",
          "name": "stdout",
          "text": [
            "df_7b: (6080, 6)\n"
          ]
        }
      ]
    },
    {
      "cell_type": "code",
      "source": [
        "MODEL = 'llama3-8b-8192'\n",
        "\n",
        "api = 'groq'\n",
        "\n",
        "bucket = 'bergena-invoice-parser'\n",
        "key = f\"FCC/completions/file-classification/{api}/{MODEL}/completions_df.parquet\"\n",
        "try:\n",
        "  df_8b = oper.pd_read_parquet(s3_client, bucket, key)\n",
        "except Exception as e:\n",
        "  print(\"failed to read file\", e)\n",
        "  df_8b = pd.DataFrame(columns=['key',\n",
        "                                           'completion',\n",
        "                                           'model',\n",
        "                                           'time',\n",
        "                                           'prompt'])\n",
        "df_8b['file_name']=df_8b['key'].str.split('/').str[2]\n",
        "df_8b['completion'] = df_8b['completion'].apply(lambda x:\n",
        "                        list(json.loads(x).values())[0]\n",
        "                        if isinstance(x,str) else x)\n",
        "print(f\"df_8b: {df_8b.shape}\")"
      ],
      "metadata": {
        "colab": {
          "base_uri": "https://localhost:8080/"
        },
        "id": "hhVjXne3tTuB",
        "outputId": "032b25db-b078-4744-f4e8-5a9a324a5bf4"
      },
      "execution_count": null,
      "outputs": [
        {
          "output_type": "stream",
          "name": "stdout",
          "text": [
            "df_8b: (2514, 6)\n"
          ]
        }
      ]
    },
    {
      "cell_type": "code",
      "source": [
        "MODEL = 'llama3-70b-8192'\n",
        "\n",
        "api = 'groq'\n",
        "\n",
        "bucket = 'bergena-invoice-parser'\n",
        "key = f\"FCC/completions/file-classification/{api}/{MODEL}/completions_df.parquet\"\n",
        "try:\n",
        "  df_70b = oper.pd_read_parquet(s3_client, bucket, key)\n",
        "  print(df_70b.shape)\n",
        "\n",
        "except Exception as e:\n",
        "  print(\"failed to read file\", e)\n",
        "\n",
        "  df_70b = pd.DataFrame(columns=['key',\n",
        "                                          'completion',\n",
        "                                          'model',\n",
        "                                          'time',\n",
        "                                          'prompt'])\n",
        "df_70b['file_name']=df_70b['key'].str.split('/').str[2]\n",
        "df_70b['completion'] = df_70b['completion'].apply(lambda x:\n",
        "                        list(json.loads(x).values())[0]\n",
        "                        if isinstance(x,str) else x)\n",
        "\n",
        "print(f\"df_70b: {df_70b.shape}\")"
      ],
      "metadata": {
        "colab": {
          "base_uri": "https://localhost:8080/"
        },
        "id": "FcEYb2K5T-pS",
        "outputId": "9178d673-f098-4aa3-e597-8eb590828a85"
      },
      "execution_count": null,
      "outputs": [
        {
          "output_type": "stream",
          "name": "stdout",
          "text": [
            "(1117, 5)\n",
            "df_70b: (1117, 6)\n"
          ]
        }
      ]
    },
    {
      "cell_type": "code",
      "source": [
        "df_70b"
      ],
      "metadata": {
        "colab": {
          "base_uri": "https://localhost:8080/",
          "height": 945
        },
        "id": "eiGDLImLoT9E",
        "outputId": "057c3c34-1eeb-40fe-d2d4-fa36b2f2dee6"
      },
      "execution_count": null,
      "outputs": [
        {
          "output_type": "execute_result",
          "data": {
            "text/plain": [
              "                                                    key completion  \\\n",
              "0     FCC/extracted_texts/POL LUC 2024 wk of April 8...    Invoice   \n",
              "1     FCC/extracted_texts/WMSN -BIDEN FOR PRESIDENT ...    Invoice   \n",
              "2     FCC/extracted_texts/WMSN -BIDEN FOR PRESIDENT ...    Invoice   \n",
              "3     FCC/extracted_texts/WMYD Biden est 11700  1285...      Order   \n",
              "4     FCC/extracted_texts/WMYD Biden est 11710  1286...      Order   \n",
              "...                                                 ...        ...   \n",
              "1112  FCC/extracted_texts/NAB WMSN - BIDEN FOR PRESI...       None   \n",
              "1113  FCC/extracted_texts/Pol J Biden D PRE US_NABpg...   Contract   \n",
              "1114  FCC/extracted_texts/Pol J Biden D PRE US_NAB-1...       None   \n",
              "1115  FCC/extracted_texts/A3016-NAB-62398-032924/ext...   Contract   \n",
              "1116  FCC/extracted_texts/WLFL Joe Biden_5876526/ext...       None   \n",
              "\n",
              "                model       time  \\\n",
              "0     llama3-70b-8192   7.625960   \n",
              "1     llama3-70b-8192   4.937490   \n",
              "2     llama3-70b-8192   7.206039   \n",
              "3     llama3-70b-8192  13.601193   \n",
              "4     llama3-70b-8192   9.085162   \n",
              "...               ...        ...   \n",
              "1112  llama3-70b-8192   0.481690   \n",
              "1113  llama3-70b-8192   1.404025   \n",
              "1114  llama3-70b-8192   0.476954   \n",
              "1115  llama3-70b-8192   2.232844   \n",
              "1116  llama3-70b-8192   0.624667   \n",
              "\n",
              "                                                 prompt  \\\n",
              "0     Analyze the invoice and answer the following q...   \n",
              "1     Analyze the invoice and answer the following q...   \n",
              "2     Analyze the invoice and answer the following q...   \n",
              "3     Analyze the invoice and answer the following q...   \n",
              "4     Analyze the invoice and answer the following q...   \n",
              "...                                                 ...   \n",
              "1112  Analyze the invoice and answer the following q...   \n",
              "1113  Analyze the invoice and answer the following q...   \n",
              "1114  Analyze the invoice and answer the following q...   \n",
              "1115  Analyze the invoice and answer the following q...   \n",
              "1116  Analyze the invoice and answer the following q...   \n",
              "\n",
              "                                              file_name  \n",
              "0                            POL LUC 2024 wk of April 8  \n",
              "1     WMSN -BIDEN FOR PRESIDENT Est11597 Period 4.1....  \n",
              "2     WMSN -BIDEN FOR PRESIDENT Est11598 Period 4.1....  \n",
              "3                         WMYD Biden est 11700  1285530  \n",
              "4                         WMYD Biden est 11710  1286114  \n",
              "...                                                 ...  \n",
              "1112  NAB WMSN - BIDEN FOR PRESIDENT EST 11597 4.9.2...  \n",
              "1113                Pol J Biden D PRE US_NABpg1_1128595  \n",
              "1114                   Pol J Biden D PRE US_NAB-1128576  \n",
              "1115                             A3016-NAB-62398-032924  \n",
              "1116                             WLFL Joe Biden_5876526  \n",
              "\n",
              "[1117 rows x 6 columns]"
            ],
            "text/html": [
              "\n",
              "  <div id=\"df-2f3b93c3-5644-4403-8c28-140413a91f49\" class=\"colab-df-container\">\n",
              "    <div>\n",
              "<style scoped>\n",
              "    .dataframe tbody tr th:only-of-type {\n",
              "        vertical-align: middle;\n",
              "    }\n",
              "\n",
              "    .dataframe tbody tr th {\n",
              "        vertical-align: top;\n",
              "    }\n",
              "\n",
              "    .dataframe thead th {\n",
              "        text-align: right;\n",
              "    }\n",
              "</style>\n",
              "<table border=\"1\" class=\"dataframe\">\n",
              "  <thead>\n",
              "    <tr style=\"text-align: right;\">\n",
              "      <th></th>\n",
              "      <th>key</th>\n",
              "      <th>completion</th>\n",
              "      <th>model</th>\n",
              "      <th>time</th>\n",
              "      <th>prompt</th>\n",
              "      <th>file_name</th>\n",
              "    </tr>\n",
              "  </thead>\n",
              "  <tbody>\n",
              "    <tr>\n",
              "      <th>0</th>\n",
              "      <td>FCC/extracted_texts/POL LUC 2024 wk of April 8...</td>\n",
              "      <td>Invoice</td>\n",
              "      <td>llama3-70b-8192</td>\n",
              "      <td>7.625960</td>\n",
              "      <td>Analyze the invoice and answer the following q...</td>\n",
              "      <td>POL LUC 2024 wk of April 8</td>\n",
              "    </tr>\n",
              "    <tr>\n",
              "      <th>1</th>\n",
              "      <td>FCC/extracted_texts/WMSN -BIDEN FOR PRESIDENT ...</td>\n",
              "      <td>Invoice</td>\n",
              "      <td>llama3-70b-8192</td>\n",
              "      <td>4.937490</td>\n",
              "      <td>Analyze the invoice and answer the following q...</td>\n",
              "      <td>WMSN -BIDEN FOR PRESIDENT Est11597 Period 4.1....</td>\n",
              "    </tr>\n",
              "    <tr>\n",
              "      <th>2</th>\n",
              "      <td>FCC/extracted_texts/WMSN -BIDEN FOR PRESIDENT ...</td>\n",
              "      <td>Invoice</td>\n",
              "      <td>llama3-70b-8192</td>\n",
              "      <td>7.206039</td>\n",
              "      <td>Analyze the invoice and answer the following q...</td>\n",
              "      <td>WMSN -BIDEN FOR PRESIDENT Est11598 Period 4.1....</td>\n",
              "    </tr>\n",
              "    <tr>\n",
              "      <th>3</th>\n",
              "      <td>FCC/extracted_texts/WMYD Biden est 11700  1285...</td>\n",
              "      <td>Order</td>\n",
              "      <td>llama3-70b-8192</td>\n",
              "      <td>13.601193</td>\n",
              "      <td>Analyze the invoice and answer the following q...</td>\n",
              "      <td>WMYD Biden est 11700  1285530</td>\n",
              "    </tr>\n",
              "    <tr>\n",
              "      <th>4</th>\n",
              "      <td>FCC/extracted_texts/WMYD Biden est 11710  1286...</td>\n",
              "      <td>Order</td>\n",
              "      <td>llama3-70b-8192</td>\n",
              "      <td>9.085162</td>\n",
              "      <td>Analyze the invoice and answer the following q...</td>\n",
              "      <td>WMYD Biden est 11710  1286114</td>\n",
              "    </tr>\n",
              "    <tr>\n",
              "      <th>...</th>\n",
              "      <td>...</td>\n",
              "      <td>...</td>\n",
              "      <td>...</td>\n",
              "      <td>...</td>\n",
              "      <td>...</td>\n",
              "      <td>...</td>\n",
              "    </tr>\n",
              "    <tr>\n",
              "      <th>1112</th>\n",
              "      <td>FCC/extracted_texts/NAB WMSN - BIDEN FOR PRESI...</td>\n",
              "      <td>None</td>\n",
              "      <td>llama3-70b-8192</td>\n",
              "      <td>0.481690</td>\n",
              "      <td>Analyze the invoice and answer the following q...</td>\n",
              "      <td>NAB WMSN - BIDEN FOR PRESIDENT EST 11597 4.9.2...</td>\n",
              "    </tr>\n",
              "    <tr>\n",
              "      <th>1113</th>\n",
              "      <td>FCC/extracted_texts/Pol J Biden D PRE US_NABpg...</td>\n",
              "      <td>Contract</td>\n",
              "      <td>llama3-70b-8192</td>\n",
              "      <td>1.404025</td>\n",
              "      <td>Analyze the invoice and answer the following q...</td>\n",
              "      <td>Pol J Biden D PRE US_NABpg1_1128595</td>\n",
              "    </tr>\n",
              "    <tr>\n",
              "      <th>1114</th>\n",
              "      <td>FCC/extracted_texts/Pol J Biden D PRE US_NAB-1...</td>\n",
              "      <td>None</td>\n",
              "      <td>llama3-70b-8192</td>\n",
              "      <td>0.476954</td>\n",
              "      <td>Analyze the invoice and answer the following q...</td>\n",
              "      <td>Pol J Biden D PRE US_NAB-1128576</td>\n",
              "    </tr>\n",
              "    <tr>\n",
              "      <th>1115</th>\n",
              "      <td>FCC/extracted_texts/A3016-NAB-62398-032924/ext...</td>\n",
              "      <td>Contract</td>\n",
              "      <td>llama3-70b-8192</td>\n",
              "      <td>2.232844</td>\n",
              "      <td>Analyze the invoice and answer the following q...</td>\n",
              "      <td>A3016-NAB-62398-032924</td>\n",
              "    </tr>\n",
              "    <tr>\n",
              "      <th>1116</th>\n",
              "      <td>FCC/extracted_texts/WLFL Joe Biden_5876526/ext...</td>\n",
              "      <td>None</td>\n",
              "      <td>llama3-70b-8192</td>\n",
              "      <td>0.624667</td>\n",
              "      <td>Analyze the invoice and answer the following q...</td>\n",
              "      <td>WLFL Joe Biden_5876526</td>\n",
              "    </tr>\n",
              "  </tbody>\n",
              "</table>\n",
              "<p>1117 rows × 6 columns</p>\n",
              "</div>\n",
              "    <div class=\"colab-df-buttons\">\n",
              "\n",
              "  <div class=\"colab-df-container\">\n",
              "    <button class=\"colab-df-convert\" onclick=\"convertToInteractive('df-2f3b93c3-5644-4403-8c28-140413a91f49')\"\n",
              "            title=\"Convert this dataframe to an interactive table.\"\n",
              "            style=\"display:none;\">\n",
              "\n",
              "  <svg xmlns=\"http://www.w3.org/2000/svg\" height=\"24px\" viewBox=\"0 -960 960 960\">\n",
              "    <path d=\"M120-120v-720h720v720H120Zm60-500h600v-160H180v160Zm220 220h160v-160H400v160Zm0 220h160v-160H400v160ZM180-400h160v-160H180v160Zm440 0h160v-160H620v160ZM180-180h160v-160H180v160Zm440 0h160v-160H620v160Z\"/>\n",
              "  </svg>\n",
              "    </button>\n",
              "\n",
              "  <style>\n",
              "    .colab-df-container {\n",
              "      display:flex;\n",
              "      gap: 12px;\n",
              "    }\n",
              "\n",
              "    .colab-df-convert {\n",
              "      background-color: #E8F0FE;\n",
              "      border: none;\n",
              "      border-radius: 50%;\n",
              "      cursor: pointer;\n",
              "      display: none;\n",
              "      fill: #1967D2;\n",
              "      height: 32px;\n",
              "      padding: 0 0 0 0;\n",
              "      width: 32px;\n",
              "    }\n",
              "\n",
              "    .colab-df-convert:hover {\n",
              "      background-color: #E2EBFA;\n",
              "      box-shadow: 0px 1px 2px rgba(60, 64, 67, 0.3), 0px 1px 3px 1px rgba(60, 64, 67, 0.15);\n",
              "      fill: #174EA6;\n",
              "    }\n",
              "\n",
              "    .colab-df-buttons div {\n",
              "      margin-bottom: 4px;\n",
              "    }\n",
              "\n",
              "    [theme=dark] .colab-df-convert {\n",
              "      background-color: #3B4455;\n",
              "      fill: #D2E3FC;\n",
              "    }\n",
              "\n",
              "    [theme=dark] .colab-df-convert:hover {\n",
              "      background-color: #434B5C;\n",
              "      box-shadow: 0px 1px 3px 1px rgba(0, 0, 0, 0.15);\n",
              "      filter: drop-shadow(0px 1px 2px rgba(0, 0, 0, 0.3));\n",
              "      fill: #FFFFFF;\n",
              "    }\n",
              "  </style>\n",
              "\n",
              "    <script>\n",
              "      const buttonEl =\n",
              "        document.querySelector('#df-2f3b93c3-5644-4403-8c28-140413a91f49 button.colab-df-convert');\n",
              "      buttonEl.style.display =\n",
              "        google.colab.kernel.accessAllowed ? 'block' : 'none';\n",
              "\n",
              "      async function convertToInteractive(key) {\n",
              "        const element = document.querySelector('#df-2f3b93c3-5644-4403-8c28-140413a91f49');\n",
              "        const dataTable =\n",
              "          await google.colab.kernel.invokeFunction('convertToInteractive',\n",
              "                                                    [key], {});\n",
              "        if (!dataTable) return;\n",
              "\n",
              "        const docLinkHtml = 'Like what you see? Visit the ' +\n",
              "          '<a target=\"_blank\" href=https://colab.research.google.com/notebooks/data_table.ipynb>data table notebook</a>'\n",
              "          + ' to learn more about interactive tables.';\n",
              "        element.innerHTML = '';\n",
              "        dataTable['output_type'] = 'display_data';\n",
              "        await google.colab.output.renderOutput(dataTable, element);\n",
              "        const docLink = document.createElement('div');\n",
              "        docLink.innerHTML = docLinkHtml;\n",
              "        element.appendChild(docLink);\n",
              "      }\n",
              "    </script>\n",
              "  </div>\n",
              "\n",
              "\n",
              "<div id=\"df-e517de06-bdd7-4400-990a-ff1ce8eb3353\">\n",
              "  <button class=\"colab-df-quickchart\" onclick=\"quickchart('df-e517de06-bdd7-4400-990a-ff1ce8eb3353')\"\n",
              "            title=\"Suggest charts\"\n",
              "            style=\"display:none;\">\n",
              "\n",
              "<svg xmlns=\"http://www.w3.org/2000/svg\" height=\"24px\"viewBox=\"0 0 24 24\"\n",
              "     width=\"24px\">\n",
              "    <g>\n",
              "        <path d=\"M19 3H5c-1.1 0-2 .9-2 2v14c0 1.1.9 2 2 2h14c1.1 0 2-.9 2-2V5c0-1.1-.9-2-2-2zM9 17H7v-7h2v7zm4 0h-2V7h2v10zm4 0h-2v-4h2v4z\"/>\n",
              "    </g>\n",
              "</svg>\n",
              "  </button>\n",
              "\n",
              "<style>\n",
              "  .colab-df-quickchart {\n",
              "      --bg-color: #E8F0FE;\n",
              "      --fill-color: #1967D2;\n",
              "      --hover-bg-color: #E2EBFA;\n",
              "      --hover-fill-color: #174EA6;\n",
              "      --disabled-fill-color: #AAA;\n",
              "      --disabled-bg-color: #DDD;\n",
              "  }\n",
              "\n",
              "  [theme=dark] .colab-df-quickchart {\n",
              "      --bg-color: #3B4455;\n",
              "      --fill-color: #D2E3FC;\n",
              "      --hover-bg-color: #434B5C;\n",
              "      --hover-fill-color: #FFFFFF;\n",
              "      --disabled-bg-color: #3B4455;\n",
              "      --disabled-fill-color: #666;\n",
              "  }\n",
              "\n",
              "  .colab-df-quickchart {\n",
              "    background-color: var(--bg-color);\n",
              "    border: none;\n",
              "    border-radius: 50%;\n",
              "    cursor: pointer;\n",
              "    display: none;\n",
              "    fill: var(--fill-color);\n",
              "    height: 32px;\n",
              "    padding: 0;\n",
              "    width: 32px;\n",
              "  }\n",
              "\n",
              "  .colab-df-quickchart:hover {\n",
              "    background-color: var(--hover-bg-color);\n",
              "    box-shadow: 0 1px 2px rgba(60, 64, 67, 0.3), 0 1px 3px 1px rgba(60, 64, 67, 0.15);\n",
              "    fill: var(--button-hover-fill-color);\n",
              "  }\n",
              "\n",
              "  .colab-df-quickchart-complete:disabled,\n",
              "  .colab-df-quickchart-complete:disabled:hover {\n",
              "    background-color: var(--disabled-bg-color);\n",
              "    fill: var(--disabled-fill-color);\n",
              "    box-shadow: none;\n",
              "  }\n",
              "\n",
              "  .colab-df-spinner {\n",
              "    border: 2px solid var(--fill-color);\n",
              "    border-color: transparent;\n",
              "    border-bottom-color: var(--fill-color);\n",
              "    animation:\n",
              "      spin 1s steps(1) infinite;\n",
              "  }\n",
              "\n",
              "  @keyframes spin {\n",
              "    0% {\n",
              "      border-color: transparent;\n",
              "      border-bottom-color: var(--fill-color);\n",
              "      border-left-color: var(--fill-color);\n",
              "    }\n",
              "    20% {\n",
              "      border-color: transparent;\n",
              "      border-left-color: var(--fill-color);\n",
              "      border-top-color: var(--fill-color);\n",
              "    }\n",
              "    30% {\n",
              "      border-color: transparent;\n",
              "      border-left-color: var(--fill-color);\n",
              "      border-top-color: var(--fill-color);\n",
              "      border-right-color: var(--fill-color);\n",
              "    }\n",
              "    40% {\n",
              "      border-color: transparent;\n",
              "      border-right-color: var(--fill-color);\n",
              "      border-top-color: var(--fill-color);\n",
              "    }\n",
              "    60% {\n",
              "      border-color: transparent;\n",
              "      border-right-color: var(--fill-color);\n",
              "    }\n",
              "    80% {\n",
              "      border-color: transparent;\n",
              "      border-right-color: var(--fill-color);\n",
              "      border-bottom-color: var(--fill-color);\n",
              "    }\n",
              "    90% {\n",
              "      border-color: transparent;\n",
              "      border-bottom-color: var(--fill-color);\n",
              "    }\n",
              "  }\n",
              "</style>\n",
              "\n",
              "  <script>\n",
              "    async function quickchart(key) {\n",
              "      const quickchartButtonEl =\n",
              "        document.querySelector('#' + key + ' button');\n",
              "      quickchartButtonEl.disabled = true;  // To prevent multiple clicks.\n",
              "      quickchartButtonEl.classList.add('colab-df-spinner');\n",
              "      try {\n",
              "        const charts = await google.colab.kernel.invokeFunction(\n",
              "            'suggestCharts', [key], {});\n",
              "      } catch (error) {\n",
              "        console.error('Error during call to suggestCharts:', error);\n",
              "      }\n",
              "      quickchartButtonEl.classList.remove('colab-df-spinner');\n",
              "      quickchartButtonEl.classList.add('colab-df-quickchart-complete');\n",
              "    }\n",
              "    (() => {\n",
              "      let quickchartButtonEl =\n",
              "        document.querySelector('#df-e517de06-bdd7-4400-990a-ff1ce8eb3353 button');\n",
              "      quickchartButtonEl.style.display =\n",
              "        google.colab.kernel.accessAllowed ? 'block' : 'none';\n",
              "    })();\n",
              "  </script>\n",
              "</div>\n",
              "\n",
              "  <div id=\"id_d87d5acb-05ac-42fb-9b36-7275e6859ee1\">\n",
              "    <style>\n",
              "      .colab-df-generate {\n",
              "        background-color: #E8F0FE;\n",
              "        border: none;\n",
              "        border-radius: 50%;\n",
              "        cursor: pointer;\n",
              "        display: none;\n",
              "        fill: #1967D2;\n",
              "        height: 32px;\n",
              "        padding: 0 0 0 0;\n",
              "        width: 32px;\n",
              "      }\n",
              "\n",
              "      .colab-df-generate:hover {\n",
              "        background-color: #E2EBFA;\n",
              "        box-shadow: 0px 1px 2px rgba(60, 64, 67, 0.3), 0px 1px 3px 1px rgba(60, 64, 67, 0.15);\n",
              "        fill: #174EA6;\n",
              "      }\n",
              "\n",
              "      [theme=dark] .colab-df-generate {\n",
              "        background-color: #3B4455;\n",
              "        fill: #D2E3FC;\n",
              "      }\n",
              "\n",
              "      [theme=dark] .colab-df-generate:hover {\n",
              "        background-color: #434B5C;\n",
              "        box-shadow: 0px 1px 3px 1px rgba(0, 0, 0, 0.15);\n",
              "        filter: drop-shadow(0px 1px 2px rgba(0, 0, 0, 0.3));\n",
              "        fill: #FFFFFF;\n",
              "      }\n",
              "    </style>\n",
              "    <button class=\"colab-df-generate\" onclick=\"generateWithVariable('df_70b')\"\n",
              "            title=\"Generate code using this dataframe.\"\n",
              "            style=\"display:none;\">\n",
              "\n",
              "  <svg xmlns=\"http://www.w3.org/2000/svg\" height=\"24px\"viewBox=\"0 0 24 24\"\n",
              "       width=\"24px\">\n",
              "    <path d=\"M7,19H8.4L18.45,9,17,7.55,7,17.6ZM5,21V16.75L18.45,3.32a2,2,0,0,1,2.83,0l1.4,1.43a1.91,1.91,0,0,1,.58,1.4,1.91,1.91,0,0,1-.58,1.4L9.25,21ZM18.45,9,17,7.55Zm-12,3A5.31,5.31,0,0,0,4.9,8.1,5.31,5.31,0,0,0,1,6.5,5.31,5.31,0,0,0,4.9,4.9,5.31,5.31,0,0,0,6.5,1,5.31,5.31,0,0,0,8.1,4.9,5.31,5.31,0,0,0,12,6.5,5.46,5.46,0,0,0,6.5,12Z\"/>\n",
              "  </svg>\n",
              "    </button>\n",
              "    <script>\n",
              "      (() => {\n",
              "      const buttonEl =\n",
              "        document.querySelector('#id_d87d5acb-05ac-42fb-9b36-7275e6859ee1 button.colab-df-generate');\n",
              "      buttonEl.style.display =\n",
              "        google.colab.kernel.accessAllowed ? 'block' : 'none';\n",
              "\n",
              "      buttonEl.onclick = () => {\n",
              "        google.colab.notebook.generateWithVariable('df_70b');\n",
              "      }\n",
              "      })();\n",
              "    </script>\n",
              "  </div>\n",
              "\n",
              "    </div>\n",
              "  </div>\n"
            ],
            "application/vnd.google.colaboratory.intrinsic+json": {
              "type": "dataframe",
              "variable_name": "df_70b",
              "summary": "{\n  \"name\": \"df_70b\",\n  \"rows\": 1117,\n  \"fields\": [\n    {\n      \"column\": \"key\",\n      \"properties\": {\n        \"dtype\": \"string\",\n        \"num_unique_values\": 1022,\n        \"samples\": [\n          \"FCC/extracted_texts/Biden for President Invoice 747630-1/extracted_text.json\",\n          \"FCC/extracted_texts/Joe Biden for President C4441405 4-20-24 to 4-23-24 PB18 Power Back Multi State/extracted_text.json\",\n          \"FCC/extracted_texts/265150 - Biden For President - KTVW-DT - INTAKE/extracted_text.json\"\n        ],\n        \"semantic_type\": \"\",\n        \"description\": \"\"\n      }\n    },\n    {\n      \"column\": \"completion\",\n      \"properties\": {\n        \"dtype\": \"category\",\n        \"num_unique_values\": 19,\n        \"samples\": [\n          \"Invoice\",\n          \"Political Advertising Inquiry Record\",\n          \"Approval\"\n        ],\n        \"semantic_type\": \"\",\n        \"description\": \"\"\n      }\n    },\n    {\n      \"column\": \"model\",\n      \"properties\": {\n        \"dtype\": \"category\",\n        \"num_unique_values\": 1,\n        \"samples\": [\n          \"llama3-70b-8192\"\n        ],\n        \"semantic_type\": \"\",\n        \"description\": \"\"\n      }\n    },\n    {\n      \"column\": \"time\",\n      \"properties\": {\n        \"dtype\": \"number\",\n        \"std\": 4.561597761511437,\n        \"min\": 0.4307124614715576,\n        \"max\": 28.73134469985962,\n        \"num_unique_values\": 1117,\n        \"samples\": [\n          2.5922300815582275\n        ],\n        \"semantic_type\": \"\",\n        \"description\": \"\"\n      }\n    },\n    {\n      \"column\": \"prompt\",\n      \"properties\": {\n        \"dtype\": \"string\",\n        \"num_unique_values\": 807,\n        \"samples\": [\n          \"Analyze the invoice and answer the following question:\\n\\n\\n  ### Question: Classify document by analysing its text\\n  ### Document text starts here:                  POLITICAL/ISSUE AVAIL REQUEST\\n                                                       DATE:        August 22, 2023Uppated 9/27REQUESTED BY:          Media Buying and Analytics\\n              ADDRESS:               4355 Cobb Parkway SE, STE J489, Atlanta, GA 30339TELEPHONE#             na\\n              ON BEHALF OF CANDIDATE/ISSUE:          Joe BidenOFFICE/ISSUE:           US President\\n              PARTY AFFILIATION:               DemocraticCOMMITTEE:             Biden for President\\n             TREAS./CHAIRMAN:       Keana Spencer, TreasurerPO Box 58174, Philadelphia, PA 19102\\n             DATES AND TIMES REQUESTED:             allREMARKS:               www.JoeBiden.com\\n  ### Document text ends here\\n\\n  Answer with JSON format.\\n\\n  ### Answer examples: {\\\"Label : Contract\\\"}\\n  {\\\"Label : Invoice\\\"}\\n  {\\\"Label : Receipt\\\"}\\n  {\\\"Label : Order\\\"}\\n  {\\\"Label : Report\\\"}\\n  {\\\"Label : Other\\\"}\\n\\n  \"\n        ],\n        \"semantic_type\": \"\",\n        \"description\": \"\"\n      }\n    },\n    {\n      \"column\": \"file_name\",\n      \"properties\": {\n        \"dtype\": \"string\",\n        \"num_unique_values\": 1022,\n        \"samples\": [\n          \"Biden for President Invoice 747630-1\"\n        ],\n        \"semantic_type\": \"\",\n        \"description\": \"\"\n      }\n    }\n  ]\n}"
            }
          },
          "metadata": {},
          "execution_count": 22
        }
      ]
    },
    {
      "cell_type": "markdown",
      "source": [
        "## merge inference results"
      ],
      "metadata": {
        "id": "vo3EQktFXDyZ"
      }
    },
    {
      "cell_type": "markdown",
      "source": [
        "let's merge inference results of our 3 models and analyze in which instances the models coincided, in which - diverged."
      ],
      "metadata": {
        "id": "QaoUM6GPDj_7"
      }
    },
    {
      "cell_type": "code",
      "source": [
        "df_7b['file_name'] = df_7b['key'].str.split('/').str[2]\n",
        "\n",
        "df = df_7b[['key','file_name','completion']].merge(df_8b[['key',\n",
        "                        'completion']],\n",
        "                      on='key',\n",
        "                      suffixes = ('_7b', '_8b'),\n",
        "                      how='inner').drop_duplicates(ignore_index=True).dropna(how='any')\n",
        "df.shape"
      ],
      "metadata": {
        "colab": {
          "base_uri": "https://localhost:8080/"
        },
        "id": "5kbBgSCV350h",
        "outputId": "44215533-b027-4107-ba94-b7053c2a5c3e"
      },
      "execution_count": 66,
      "outputs": [
        {
          "output_type": "execute_result",
          "data": {
            "text/plain": [
              "(2142, 4)"
            ]
          },
          "metadata": {},
          "execution_count": 66
        }
      ]
    },
    {
      "cell_type": "code",
      "source": [
        "df"
      ],
      "metadata": {
        "colab": {
          "base_uri": "https://localhost:8080/",
          "height": 597
        },
        "id": "IOqPqIoc26Ti",
        "outputId": "3116542d-f5ea-46b8-95d1-e2e8c0069594"
      },
      "execution_count": null,
      "outputs": [
        {
          "output_type": "execute_result",
          "data": {
            "text/plain": [
              "                                                    key  \\\n",
              "0     FCC/extracted_texts/POL LUC 2024 wk of April 8...   \n",
              "1     FCC/extracted_texts/WMSN -BIDEN FOR PRESIDENT ...   \n",
              "2     FCC/extracted_texts/WMSN -BIDEN FOR PRESIDENT ...   \n",
              "3     FCC/extracted_texts/WMYD Biden est 11700  1285...   \n",
              "4     FCC/extracted_texts/WMYD Biden est 11710  1286...   \n",
              "...                                                 ...   \n",
              "2535  FCC/extracted_texts/Pol J Biden D PRE US_NAB-1...   \n",
              "2536  FCC/extracted_texts/6030864 Invoice/extracted_...   \n",
              "2537  FCC/extracted_texts/A3016-NAB-62398-032924/ext...   \n",
              "2538  FCC/extracted_texts/Biden for presiden Invoice...   \n",
              "2539  FCC/extracted_texts/WLFL Joe Biden_5876526/ext...   \n",
              "\n",
              "                                              file_name completion_7b  \\\n",
              "0                            POL LUC 2024 wk of April 8      Contract   \n",
              "1     WMSN -BIDEN FOR PRESIDENT Est11597 Period 4.1....      Contract   \n",
              "2     WMSN -BIDEN FOR PRESIDENT Est11598 Period 4.1....      Contract   \n",
              "3                         WMYD Biden est 11700  1285530      Contract   \n",
              "4                         WMYD Biden est 11710  1286114      Contract   \n",
              "...                                                 ...           ...   \n",
              "2535                   Pol J Biden D PRE US_NAB-1128576         Order   \n",
              "2536                                    6030864 Invoice       Invoice   \n",
              "2537                             A3016-NAB-62398-032924         Order   \n",
              "2538                 Biden for presiden Invoice 74406-1       Invoice   \n",
              "2539                             WLFL Joe Biden_5876526         Order   \n",
              "\n",
              "     completion_8b  \n",
              "0          Receipt  \n",
              "1          Invoice  \n",
              "2          Invoice  \n",
              "3            Order  \n",
              "4            Order  \n",
              "...            ...  \n",
              "2535      Contract  \n",
              "2536       Invoice  \n",
              "2537      Contract  \n",
              "2538       Invoice  \n",
              "2539      Contract  \n",
              "\n",
              "[2142 rows x 4 columns]"
            ],
            "text/html": [
              "\n",
              "  <div id=\"df-0838b431-042b-4fba-906d-2e7b657b9435\" class=\"colab-df-container\">\n",
              "    <div>\n",
              "<style scoped>\n",
              "    .dataframe tbody tr th:only-of-type {\n",
              "        vertical-align: middle;\n",
              "    }\n",
              "\n",
              "    .dataframe tbody tr th {\n",
              "        vertical-align: top;\n",
              "    }\n",
              "\n",
              "    .dataframe thead th {\n",
              "        text-align: right;\n",
              "    }\n",
              "</style>\n",
              "<table border=\"1\" class=\"dataframe\">\n",
              "  <thead>\n",
              "    <tr style=\"text-align: right;\">\n",
              "      <th></th>\n",
              "      <th>key</th>\n",
              "      <th>file_name</th>\n",
              "      <th>completion_7b</th>\n",
              "      <th>completion_8b</th>\n",
              "    </tr>\n",
              "  </thead>\n",
              "  <tbody>\n",
              "    <tr>\n",
              "      <th>0</th>\n",
              "      <td>FCC/extracted_texts/POL LUC 2024 wk of April 8...</td>\n",
              "      <td>POL LUC 2024 wk of April 8</td>\n",
              "      <td>Contract</td>\n",
              "      <td>Receipt</td>\n",
              "    </tr>\n",
              "    <tr>\n",
              "      <th>1</th>\n",
              "      <td>FCC/extracted_texts/WMSN -BIDEN FOR PRESIDENT ...</td>\n",
              "      <td>WMSN -BIDEN FOR PRESIDENT Est11597 Period 4.1....</td>\n",
              "      <td>Contract</td>\n",
              "      <td>Invoice</td>\n",
              "    </tr>\n",
              "    <tr>\n",
              "      <th>2</th>\n",
              "      <td>FCC/extracted_texts/WMSN -BIDEN FOR PRESIDENT ...</td>\n",
              "      <td>WMSN -BIDEN FOR PRESIDENT Est11598 Period 4.1....</td>\n",
              "      <td>Contract</td>\n",
              "      <td>Invoice</td>\n",
              "    </tr>\n",
              "    <tr>\n",
              "      <th>3</th>\n",
              "      <td>FCC/extracted_texts/WMYD Biden est 11700  1285...</td>\n",
              "      <td>WMYD Biden est 11700  1285530</td>\n",
              "      <td>Contract</td>\n",
              "      <td>Order</td>\n",
              "    </tr>\n",
              "    <tr>\n",
              "      <th>4</th>\n",
              "      <td>FCC/extracted_texts/WMYD Biden est 11710  1286...</td>\n",
              "      <td>WMYD Biden est 11710  1286114</td>\n",
              "      <td>Contract</td>\n",
              "      <td>Order</td>\n",
              "    </tr>\n",
              "    <tr>\n",
              "      <th>...</th>\n",
              "      <td>...</td>\n",
              "      <td>...</td>\n",
              "      <td>...</td>\n",
              "      <td>...</td>\n",
              "    </tr>\n",
              "    <tr>\n",
              "      <th>2535</th>\n",
              "      <td>FCC/extracted_texts/Pol J Biden D PRE US_NAB-1...</td>\n",
              "      <td>Pol J Biden D PRE US_NAB-1128576</td>\n",
              "      <td>Order</td>\n",
              "      <td>Contract</td>\n",
              "    </tr>\n",
              "    <tr>\n",
              "      <th>2536</th>\n",
              "      <td>FCC/extracted_texts/6030864 Invoice/extracted_...</td>\n",
              "      <td>6030864 Invoice</td>\n",
              "      <td>Invoice</td>\n",
              "      <td>Invoice</td>\n",
              "    </tr>\n",
              "    <tr>\n",
              "      <th>2537</th>\n",
              "      <td>FCC/extracted_texts/A3016-NAB-62398-032924/ext...</td>\n",
              "      <td>A3016-NAB-62398-032924</td>\n",
              "      <td>Order</td>\n",
              "      <td>Contract</td>\n",
              "    </tr>\n",
              "    <tr>\n",
              "      <th>2538</th>\n",
              "      <td>FCC/extracted_texts/Biden for presiden Invoice...</td>\n",
              "      <td>Biden for presiden Invoice 74406-1</td>\n",
              "      <td>Invoice</td>\n",
              "      <td>Invoice</td>\n",
              "    </tr>\n",
              "    <tr>\n",
              "      <th>2539</th>\n",
              "      <td>FCC/extracted_texts/WLFL Joe Biden_5876526/ext...</td>\n",
              "      <td>WLFL Joe Biden_5876526</td>\n",
              "      <td>Order</td>\n",
              "      <td>Contract</td>\n",
              "    </tr>\n",
              "  </tbody>\n",
              "</table>\n",
              "<p>2142 rows × 4 columns</p>\n",
              "</div>\n",
              "    <div class=\"colab-df-buttons\">\n",
              "\n",
              "  <div class=\"colab-df-container\">\n",
              "    <button class=\"colab-df-convert\" onclick=\"convertToInteractive('df-0838b431-042b-4fba-906d-2e7b657b9435')\"\n",
              "            title=\"Convert this dataframe to an interactive table.\"\n",
              "            style=\"display:none;\">\n",
              "\n",
              "  <svg xmlns=\"http://www.w3.org/2000/svg\" height=\"24px\" viewBox=\"0 -960 960 960\">\n",
              "    <path d=\"M120-120v-720h720v720H120Zm60-500h600v-160H180v160Zm220 220h160v-160H400v160Zm0 220h160v-160H400v160ZM180-400h160v-160H180v160Zm440 0h160v-160H620v160ZM180-180h160v-160H180v160Zm440 0h160v-160H620v160Z\"/>\n",
              "  </svg>\n",
              "    </button>\n",
              "\n",
              "  <style>\n",
              "    .colab-df-container {\n",
              "      display:flex;\n",
              "      gap: 12px;\n",
              "    }\n",
              "\n",
              "    .colab-df-convert {\n",
              "      background-color: #E8F0FE;\n",
              "      border: none;\n",
              "      border-radius: 50%;\n",
              "      cursor: pointer;\n",
              "      display: none;\n",
              "      fill: #1967D2;\n",
              "      height: 32px;\n",
              "      padding: 0 0 0 0;\n",
              "      width: 32px;\n",
              "    }\n",
              "\n",
              "    .colab-df-convert:hover {\n",
              "      background-color: #E2EBFA;\n",
              "      box-shadow: 0px 1px 2px rgba(60, 64, 67, 0.3), 0px 1px 3px 1px rgba(60, 64, 67, 0.15);\n",
              "      fill: #174EA6;\n",
              "    }\n",
              "\n",
              "    .colab-df-buttons div {\n",
              "      margin-bottom: 4px;\n",
              "    }\n",
              "\n",
              "    [theme=dark] .colab-df-convert {\n",
              "      background-color: #3B4455;\n",
              "      fill: #D2E3FC;\n",
              "    }\n",
              "\n",
              "    [theme=dark] .colab-df-convert:hover {\n",
              "      background-color: #434B5C;\n",
              "      box-shadow: 0px 1px 3px 1px rgba(0, 0, 0, 0.15);\n",
              "      filter: drop-shadow(0px 1px 2px rgba(0, 0, 0, 0.3));\n",
              "      fill: #FFFFFF;\n",
              "    }\n",
              "  </style>\n",
              "\n",
              "    <script>\n",
              "      const buttonEl =\n",
              "        document.querySelector('#df-0838b431-042b-4fba-906d-2e7b657b9435 button.colab-df-convert');\n",
              "      buttonEl.style.display =\n",
              "        google.colab.kernel.accessAllowed ? 'block' : 'none';\n",
              "\n",
              "      async function convertToInteractive(key) {\n",
              "        const element = document.querySelector('#df-0838b431-042b-4fba-906d-2e7b657b9435');\n",
              "        const dataTable =\n",
              "          await google.colab.kernel.invokeFunction('convertToInteractive',\n",
              "                                                    [key], {});\n",
              "        if (!dataTable) return;\n",
              "\n",
              "        const docLinkHtml = 'Like what you see? Visit the ' +\n",
              "          '<a target=\"_blank\" href=https://colab.research.google.com/notebooks/data_table.ipynb>data table notebook</a>'\n",
              "          + ' to learn more about interactive tables.';\n",
              "        element.innerHTML = '';\n",
              "        dataTable['output_type'] = 'display_data';\n",
              "        await google.colab.output.renderOutput(dataTable, element);\n",
              "        const docLink = document.createElement('div');\n",
              "        docLink.innerHTML = docLinkHtml;\n",
              "        element.appendChild(docLink);\n",
              "      }\n",
              "    </script>\n",
              "  </div>\n",
              "\n",
              "\n",
              "<div id=\"df-9908ee94-dc03-43a1-b722-e2418b457313\">\n",
              "  <button class=\"colab-df-quickchart\" onclick=\"quickchart('df-9908ee94-dc03-43a1-b722-e2418b457313')\"\n",
              "            title=\"Suggest charts\"\n",
              "            style=\"display:none;\">\n",
              "\n",
              "<svg xmlns=\"http://www.w3.org/2000/svg\" height=\"24px\"viewBox=\"0 0 24 24\"\n",
              "     width=\"24px\">\n",
              "    <g>\n",
              "        <path d=\"M19 3H5c-1.1 0-2 .9-2 2v14c0 1.1.9 2 2 2h14c1.1 0 2-.9 2-2V5c0-1.1-.9-2-2-2zM9 17H7v-7h2v7zm4 0h-2V7h2v10zm4 0h-2v-4h2v4z\"/>\n",
              "    </g>\n",
              "</svg>\n",
              "  </button>\n",
              "\n",
              "<style>\n",
              "  .colab-df-quickchart {\n",
              "      --bg-color: #E8F0FE;\n",
              "      --fill-color: #1967D2;\n",
              "      --hover-bg-color: #E2EBFA;\n",
              "      --hover-fill-color: #174EA6;\n",
              "      --disabled-fill-color: #AAA;\n",
              "      --disabled-bg-color: #DDD;\n",
              "  }\n",
              "\n",
              "  [theme=dark] .colab-df-quickchart {\n",
              "      --bg-color: #3B4455;\n",
              "      --fill-color: #D2E3FC;\n",
              "      --hover-bg-color: #434B5C;\n",
              "      --hover-fill-color: #FFFFFF;\n",
              "      --disabled-bg-color: #3B4455;\n",
              "      --disabled-fill-color: #666;\n",
              "  }\n",
              "\n",
              "  .colab-df-quickchart {\n",
              "    background-color: var(--bg-color);\n",
              "    border: none;\n",
              "    border-radius: 50%;\n",
              "    cursor: pointer;\n",
              "    display: none;\n",
              "    fill: var(--fill-color);\n",
              "    height: 32px;\n",
              "    padding: 0;\n",
              "    width: 32px;\n",
              "  }\n",
              "\n",
              "  .colab-df-quickchart:hover {\n",
              "    background-color: var(--hover-bg-color);\n",
              "    box-shadow: 0 1px 2px rgba(60, 64, 67, 0.3), 0 1px 3px 1px rgba(60, 64, 67, 0.15);\n",
              "    fill: var(--button-hover-fill-color);\n",
              "  }\n",
              "\n",
              "  .colab-df-quickchart-complete:disabled,\n",
              "  .colab-df-quickchart-complete:disabled:hover {\n",
              "    background-color: var(--disabled-bg-color);\n",
              "    fill: var(--disabled-fill-color);\n",
              "    box-shadow: none;\n",
              "  }\n",
              "\n",
              "  .colab-df-spinner {\n",
              "    border: 2px solid var(--fill-color);\n",
              "    border-color: transparent;\n",
              "    border-bottom-color: var(--fill-color);\n",
              "    animation:\n",
              "      spin 1s steps(1) infinite;\n",
              "  }\n",
              "\n",
              "  @keyframes spin {\n",
              "    0% {\n",
              "      border-color: transparent;\n",
              "      border-bottom-color: var(--fill-color);\n",
              "      border-left-color: var(--fill-color);\n",
              "    }\n",
              "    20% {\n",
              "      border-color: transparent;\n",
              "      border-left-color: var(--fill-color);\n",
              "      border-top-color: var(--fill-color);\n",
              "    }\n",
              "    30% {\n",
              "      border-color: transparent;\n",
              "      border-left-color: var(--fill-color);\n",
              "      border-top-color: var(--fill-color);\n",
              "      border-right-color: var(--fill-color);\n",
              "    }\n",
              "    40% {\n",
              "      border-color: transparent;\n",
              "      border-right-color: var(--fill-color);\n",
              "      border-top-color: var(--fill-color);\n",
              "    }\n",
              "    60% {\n",
              "      border-color: transparent;\n",
              "      border-right-color: var(--fill-color);\n",
              "    }\n",
              "    80% {\n",
              "      border-color: transparent;\n",
              "      border-right-color: var(--fill-color);\n",
              "      border-bottom-color: var(--fill-color);\n",
              "    }\n",
              "    90% {\n",
              "      border-color: transparent;\n",
              "      border-bottom-color: var(--fill-color);\n",
              "    }\n",
              "  }\n",
              "</style>\n",
              "\n",
              "  <script>\n",
              "    async function quickchart(key) {\n",
              "      const quickchartButtonEl =\n",
              "        document.querySelector('#' + key + ' button');\n",
              "      quickchartButtonEl.disabled = true;  // To prevent multiple clicks.\n",
              "      quickchartButtonEl.classList.add('colab-df-spinner');\n",
              "      try {\n",
              "        const charts = await google.colab.kernel.invokeFunction(\n",
              "            'suggestCharts', [key], {});\n",
              "      } catch (error) {\n",
              "        console.error('Error during call to suggestCharts:', error);\n",
              "      }\n",
              "      quickchartButtonEl.classList.remove('colab-df-spinner');\n",
              "      quickchartButtonEl.classList.add('colab-df-quickchart-complete');\n",
              "    }\n",
              "    (() => {\n",
              "      let quickchartButtonEl =\n",
              "        document.querySelector('#df-9908ee94-dc03-43a1-b722-e2418b457313 button');\n",
              "      quickchartButtonEl.style.display =\n",
              "        google.colab.kernel.accessAllowed ? 'block' : 'none';\n",
              "    })();\n",
              "  </script>\n",
              "</div>\n",
              "\n",
              "  <div id=\"id_ba8fa87a-ec66-41fb-89cb-578feff01b7c\">\n",
              "    <style>\n",
              "      .colab-df-generate {\n",
              "        background-color: #E8F0FE;\n",
              "        border: none;\n",
              "        border-radius: 50%;\n",
              "        cursor: pointer;\n",
              "        display: none;\n",
              "        fill: #1967D2;\n",
              "        height: 32px;\n",
              "        padding: 0 0 0 0;\n",
              "        width: 32px;\n",
              "      }\n",
              "\n",
              "      .colab-df-generate:hover {\n",
              "        background-color: #E2EBFA;\n",
              "        box-shadow: 0px 1px 2px rgba(60, 64, 67, 0.3), 0px 1px 3px 1px rgba(60, 64, 67, 0.15);\n",
              "        fill: #174EA6;\n",
              "      }\n",
              "\n",
              "      [theme=dark] .colab-df-generate {\n",
              "        background-color: #3B4455;\n",
              "        fill: #D2E3FC;\n",
              "      }\n",
              "\n",
              "      [theme=dark] .colab-df-generate:hover {\n",
              "        background-color: #434B5C;\n",
              "        box-shadow: 0px 1px 3px 1px rgba(0, 0, 0, 0.15);\n",
              "        filter: drop-shadow(0px 1px 2px rgba(0, 0, 0, 0.3));\n",
              "        fill: #FFFFFF;\n",
              "      }\n",
              "    </style>\n",
              "    <button class=\"colab-df-generate\" onclick=\"generateWithVariable('df')\"\n",
              "            title=\"Generate code using this dataframe.\"\n",
              "            style=\"display:none;\">\n",
              "\n",
              "  <svg xmlns=\"http://www.w3.org/2000/svg\" height=\"24px\"viewBox=\"0 0 24 24\"\n",
              "       width=\"24px\">\n",
              "    <path d=\"M7,19H8.4L18.45,9,17,7.55,7,17.6ZM5,21V16.75L18.45,3.32a2,2,0,0,1,2.83,0l1.4,1.43a1.91,1.91,0,0,1,.58,1.4,1.91,1.91,0,0,1-.58,1.4L9.25,21ZM18.45,9,17,7.55Zm-12,3A5.31,5.31,0,0,0,4.9,8.1,5.31,5.31,0,0,0,1,6.5,5.31,5.31,0,0,0,4.9,4.9,5.31,5.31,0,0,0,6.5,1,5.31,5.31,0,0,0,8.1,4.9,5.31,5.31,0,0,0,12,6.5,5.46,5.46,0,0,0,6.5,12Z\"/>\n",
              "  </svg>\n",
              "    </button>\n",
              "    <script>\n",
              "      (() => {\n",
              "      const buttonEl =\n",
              "        document.querySelector('#id_ba8fa87a-ec66-41fb-89cb-578feff01b7c button.colab-df-generate');\n",
              "      buttonEl.style.display =\n",
              "        google.colab.kernel.accessAllowed ? 'block' : 'none';\n",
              "\n",
              "      buttonEl.onclick = () => {\n",
              "        google.colab.notebook.generateWithVariable('df');\n",
              "      }\n",
              "      })();\n",
              "    </script>\n",
              "  </div>\n",
              "\n",
              "    </div>\n",
              "  </div>\n"
            ],
            "application/vnd.google.colaboratory.intrinsic+json": {
              "type": "dataframe",
              "variable_name": "df",
              "summary": "{\n  \"name\": \"df\",\n  \"rows\": 2142,\n  \"fields\": [\n    {\n      \"column\": \"key\",\n      \"properties\": {\n        \"dtype\": \"string\",\n        \"num_unique_values\": 2127,\n        \"samples\": [\n          \"FCC/extracted_texts/Joe Biden for President C4404198 3-26-24 to 4-1-24  PB18 Supplement Biden For You/extracted_text.json\",\n          \"FCC/extracted_texts/Biden for President 1355719 11711    5.7-5.13.24pdf/extracted_text.json\",\n          \"FCC/extracted_texts/Biden for President DNC 11260 Dec invoice/extracted_text.json\"\n        ],\n        \"semantic_type\": \"\",\n        \"description\": \"\"\n      }\n    },\n    {\n      \"column\": \"file_name\",\n      \"properties\": {\n        \"dtype\": \"string\",\n        \"num_unique_values\": 2127,\n        \"samples\": [\n          \"Joe Biden for President C4404198 3-26-24 to 4-1-24  PB18 Supplement Biden For You\",\n          \"Biden for President 1355719 11711    5.7-5.13.24pdf\",\n          \"Biden for President DNC 11260 Dec invoice\"\n        ],\n        \"semantic_type\": \"\",\n        \"description\": \"\"\n      }\n    },\n    {\n      \"column\": \"completion_7b\",\n      \"properties\": {\n        \"dtype\": \"category\",\n        \"num_unique_values\": 46,\n        \"samples\": [\n          \"Document analysis report\",\n          \"Political Ad Analysis\",\n          \"Document Analysis\"\n        ],\n        \"semantic_type\": \"\",\n        \"description\": \"\"\n      }\n    },\n    {\n      \"column\": \"completion_8b\",\n      \"properties\": {\n        \"dtype\": \"category\",\n        \"num_unique_values\": 14,\n        \"samples\": [\n          \"Public Disclosure Document\",\n          \"Advertisement\",\n          \"Receipt\"\n        ],\n        \"semantic_type\": \"\",\n        \"description\": \"\"\n      }\n    }\n  ]\n}"
            }
          },
          "metadata": {},
          "execution_count": 24
        }
      ]
    },
    {
      "cell_type": "markdown",
      "source": [
        "## common_df/divergent_df\n",
        "we are going to split our df into 2 non-intersecting parts:\n",
        "* common_df where the labels assigned by the 2 models are the same;\n",
        "* divergent_df where the labels assigned by the 2 models are not the same"
      ],
      "metadata": {
        "id": "JThyDe1uEhC7"
      }
    },
    {
      "cell_type": "code",
      "source": [
        "common_df = df.query(\"completion_7b == completion_8b\").\\\n",
        "                    reset_index(drop=True).dropna(how='any')\n",
        "divergent_df = df.query(\"completion_7b ! = completion_8b\").\\\n",
        "                    reset_index(drop=True).dropna(how='any')\n",
        "\n",
        "common_df['same'] = True\n",
        "divergent_df['same'] = False\n",
        "\n",
        "df = pd.concat([common_df,divergent_df], ignore_index=True)\n",
        "df.shape\n",
        "common_df.shape, divergent_df.shape, df.shape"
      ],
      "metadata": {
        "colab": {
          "base_uri": "https://localhost:8080/"
        },
        "id": "Yt3d614xEaog",
        "outputId": "f8f8a849-0802-4735-de54-ae24a37308be"
      },
      "execution_count": 86,
      "outputs": [
        {
          "output_type": "execute_result",
          "data": {
            "text/plain": [
              "((1482, 5), (660, 5), (2142, 5))"
            ]
          },
          "metadata": {},
          "execution_count": 86
        }
      ]
    },
    {
      "cell_type": "markdown",
      "source": [
        "we have 660 files out of a total of 2142 in which labels assigned by one model are not the same as those assigned by the second model. This is an indication of the accuracy of the zero-shot models: it's quite low, even though our classification task seems to be quite a simple one."
      ],
      "metadata": {
        "id": "1FNQwtaIPwu4"
      }
    },
    {
      "cell_type": "markdown",
      "source": [
        "## Analysis of inference results"
      ],
      "metadata": {
        "id": "xXg2fa9wJBEN"
      }
    },
    {
      "cell_type": "markdown",
      "source": [
        "let's compare classification inference results obtained with the following 3 models:\n",
        "* 'gemma-7b-it'\n",
        "* 'llama3-8b-8192'\n",
        "* 'llama3-70b-8192'"
      ],
      "metadata": {
        "id": "MtPhwzEJLL7Z"
      }
    },
    {
      "cell_type": "markdown",
      "source": [
        "### documents containing NAB in the title\n",
        "NAB stands for National Association of Broadcasters. The Political Broadcast Agreement form, often referred to as the NAB Form PB-18, is used by broadcasters to document agreements with political candidates and committees regarding the purchase of airtime for political advertising. This form helps ensure compliance with Federal Communications Commission (FCC) regulations regarding political advertising.  \n",
        "\n",
        "In our classification labels such documents shall be classified as 'Other'."
      ],
      "metadata": {
        "id": "jNgbvCgCLhdH"
      }
    },
    {
      "cell_type": "code",
      "source": [
        "nab_common = common_df.query(\"file_name.str.contains('nab',case=False)\")\n",
        "nab_common.shape"
      ],
      "metadata": {
        "colab": {
          "base_uri": "https://localhost:8080/"
        },
        "id": "cuc_M6auKksQ",
        "outputId": "e3cf957a-c2ca-49b5-b002-517cbdd218bc"
      },
      "execution_count": null,
      "outputs": [
        {
          "output_type": "execute_result",
          "data": {
            "text/plain": [
              "(170, 4)"
            ]
          },
          "metadata": {},
          "execution_count": 92
        }
      ]
    },
    {
      "cell_type": "markdown",
      "source": [
        "As we can see from below, both models labeled NAB documents either as 'contract' or as 'invoice'.  \n",
        "One of the goals of classification model fine-tuning is to traine models to classify such files as 'Other'"
      ],
      "metadata": {
        "id": "yW7pI1OnMq5F"
      }
    },
    {
      "cell_type": "code",
      "source": [
        "nab_common['completion_7b'].value_counts()"
      ],
      "metadata": {
        "colab": {
          "base_uri": "https://localhost:8080/"
        },
        "id": "dcpdMdVLMepm",
        "outputId": "4abcd047-3918-4d62-8ff5-52115c59153a"
      },
      "execution_count": null,
      "outputs": [
        {
          "output_type": "execute_result",
          "data": {
            "text/plain": [
              "completion_7b\n",
              "Contract    117\n",
              "Invoice      53\n",
              "Name: count, dtype: int64"
            ]
          },
          "metadata": {},
          "execution_count": 93
        }
      ]
    },
    {
      "cell_type": "code",
      "source": [
        "nab_divergent = df.query(\"completion_7b != completion_8b\").\\\n",
        "                    reset_index(drop=True).dropna(how='any')\n",
        "nab_divergent.shape"
      ],
      "metadata": {
        "colab": {
          "base_uri": "https://localhost:8080/"
        },
        "id": "c5Jk91XlNIE0",
        "outputId": "f6116006-5b6c-4afb-fdfa-99e6cb408828"
      },
      "execution_count": null,
      "outputs": [
        {
          "output_type": "execute_result",
          "data": {
            "text/plain": [
              "(660, 4)"
            ]
          },
          "metadata": {},
          "execution_count": 94
        }
      ]
    },
    {
      "cell_type": "code",
      "source": [
        "labels = ['Contract', 'Invoice', 'Order']\n",
        "erorr_counts = nab_divergent.query('completion_7b==@labels').shape[0]\n",
        "print(f\"erorr_counts: {erorr_counts}\")\n",
        "error_pct = erorr_counts/len(nab_divergent)\n",
        "print(f\"error_pct: {error_pct*100:.2f} %\")"
      ],
      "metadata": {
        "colab": {
          "base_uri": "https://localhost:8080/"
        },
        "id": "WC4GjHq1NMv9",
        "outputId": "b454504e-c4d5-42f6-eb49-8758b34be6c1"
      },
      "execution_count": null,
      "outputs": [
        {
          "output_type": "stream",
          "name": "stdout",
          "text": [
            "erorr_counts: 509\n",
            "error_pct: 77.12 %\n"
          ]
        }
      ]
    },
    {
      "cell_type": "code",
      "source": [
        "labels = ['Contract', 'Invoice', 'Order']\n",
        "erorr_counts = nab_divergent.query('completion_8b==@labels').shape[0]\n",
        "print(f\"erorr_counts: {erorr_counts}\")\n",
        "error_pct = erorr_counts/len(nab_divergent)\n",
        "print(f\"error_pct: {error_pct*100:.2f} %\")"
      ],
      "metadata": {
        "colab": {
          "base_uri": "https://localhost:8080/"
        },
        "id": "eA8wfiUBO2OI",
        "outputId": "6296a457-9a96-4976-fcbc-6bd8ecff31ae"
      },
      "execution_count": null,
      "outputs": [
        {
          "output_type": "stream",
          "name": "stdout",
          "text": [
            "erorr_counts: 515\n",
            "error_pct: 78.03 %\n"
          ]
        }
      ]
    },
    {
      "cell_type": "code",
      "source": [
        "divergent_df.query(\"completion_70b != completion_7b\").shape"
      ],
      "metadata": {
        "colab": {
          "base_uri": "https://localhost:8080/"
        },
        "id": "bVc9JHIKlO8t",
        "outputId": "20274d51-eca9-410e-83e0-5cf867901611"
      },
      "execution_count": null,
      "outputs": [
        {
          "output_type": "execute_result",
          "data": {
            "text/plain": [
              "(561, 5)"
            ]
          },
          "metadata": {},
          "execution_count": 75
        }
      ]
    },
    {
      "cell_type": "code",
      "source": [
        "divergent_df.query(\"completion_70b != completion_8b\").shape"
      ],
      "metadata": {
        "colab": {
          "base_uri": "https://localhost:8080/"
        },
        "id": "fcwuQm9zlWNh",
        "outputId": "c9f65872-613f-4414-8261-ab645885928d"
      },
      "execution_count": null,
      "outputs": [
        {
          "output_type": "execute_result",
          "data": {
            "text/plain": [
              "(371, 5)"
            ]
          },
          "metadata": {},
          "execution_count": 76
        }
      ]
    },
    {
      "cell_type": "code",
      "source": [
        "divergent_df = divergent_df.merge(df_70b[['key','completion']],on=['key'],\n",
        "                   how='inner',\n",
        "                   suffixes=('','_70b')).rename(columns={'completion':'completion_70b'})\n",
        "divergent_df.shape"
      ],
      "metadata": {
        "colab": {
          "base_uri": "https://localhost:8080/"
        },
        "id": "YfjTPD4cSf_z",
        "outputId": "0bb4cef4-56ea-4e52-82bc-3dd803269a9f"
      },
      "execution_count": 87,
      "outputs": [
        {
          "output_type": "execute_result",
          "data": {
            "text/plain": [
              "(716, 6)"
            ]
          },
          "metadata": {},
          "execution_count": 87
        }
      ]
    },
    {
      "cell_type": "markdown",
      "source": [
        "## Create and upload labeled dataset"
      ],
      "metadata": {
        "id": "I3K32SRuJgW1"
      }
    },
    {
      "cell_type": "markdown",
      "source": [
        "Our analysis above has shown that zero-shot approach to PDF file classification with 7B and 8B models produces a lot of errors.  \n",
        "\n",
        "We need to creat a dataset and fine-tune out models"
      ],
      "metadata": {
        "id": "oCmbBK_vQr2w"
      }
    },
    {
      "cell_type": "markdown",
      "source": [
        "let's create 4 DFs, each belonging to one of the 4 labels where our 2 models coincided in classification and where file_name contains text pointing to the appropriate class"
      ],
      "metadata": {
        "id": "CHKyeMX3gncy"
      }
    },
    {
      "cell_type": "code",
      "source": [
        "contract_df = common_df.query(\"file_name.str.contains('contract',case=False) \\\n",
        "& completion_7b=='Contract' & completion_8b=='Contract'\").copy()\n",
        "contract_df['label'] = 'Contract'\n",
        "contract_df.shape"
      ],
      "metadata": {
        "colab": {
          "base_uri": "https://localhost:8080/"
        },
        "id": "7kvmFAYXEtaa",
        "outputId": "1034edcc-2a1f-4030-e9c8-4f8dd75efefe"
      },
      "execution_count": 72,
      "outputs": [
        {
          "output_type": "execute_result",
          "data": {
            "text/plain": [
              "(151, 6)"
            ]
          },
          "metadata": {},
          "execution_count": 72
        }
      ]
    },
    {
      "cell_type": "code",
      "source": [
        "invoice_df = common_df.query(\"file_name.str.contains('inv',case=False) \\\n",
        "& completion_7b=='Invoice' & completion_8b=='Invoice'\").copy()\n",
        "invoice_df['label'] = 'Invoice'\n",
        "invoice_df.shape"
      ],
      "metadata": {
        "colab": {
          "base_uri": "https://localhost:8080/"
        },
        "id": "p8XKwsExLdne",
        "outputId": "4a2ce017-a4ce-4154-c78b-d83d9ac74f18"
      },
      "execution_count": 71,
      "outputs": [
        {
          "output_type": "execute_result",
          "data": {
            "text/plain": [
              "(309, 6)"
            ]
          },
          "metadata": {},
          "execution_count": 71
        }
      ]
    },
    {
      "cell_type": "code",
      "source": [
        "order_df = common_df.query(\"file_name.str.contains('order',case=False) \\\n",
        "& completion_7b=='Order' & completion_8b=='Order'\").copy()\n",
        "order_df['label'] = 'Order'\n",
        "order_df.shape"
      ],
      "metadata": {
        "colab": {
          "base_uri": "https://localhost:8080/"
        },
        "id": "YoFraJ-VLtv7",
        "outputId": "75a00a58-b784-4cd0-82eb-6af441639115"
      },
      "execution_count": 70,
      "outputs": [
        {
          "output_type": "execute_result",
          "data": {
            "text/plain": [
              "(91, 6)"
            ]
          },
          "metadata": {},
          "execution_count": 70
        }
      ]
    },
    {
      "cell_type": "code",
      "source": [
        "other_df = df.query(\"file_name.str.contains('nab',case=False)\").copy()\n",
        "other_df['Label'] = 'Other'\n",
        "other_df.shape"
      ],
      "metadata": {
        "colab": {
          "base_uri": "https://localhost:8080/"
        },
        "id": "28gOZeeluDd9",
        "outputId": "3f029b73-89d4-4e88-ef9d-261bac20457b"
      },
      "execution_count": 73,
      "outputs": [
        {
          "output_type": "execute_result",
          "data": {
            "text/plain": [
              "(364, 5)"
            ]
          },
          "metadata": {},
          "execution_count": 73
        }
      ]
    },
    {
      "cell_type": "code",
      "source": [
        "ft_df = pd.concat([\n",
        "                    contract_df,\n",
        "                    invoice_df,\n",
        "                    order_df,\n",
        "                    other_df\n",
        "                   ],\n",
        "               ignore_index=True)\n",
        "ft_df.shape"
      ],
      "metadata": {
        "colab": {
          "base_uri": "https://localhost:8080/"
        },
        "id": "rucMJV2mMK4O",
        "outputId": "1e386b7b-62e5-4b38-cab5-8c1538cca40c"
      },
      "execution_count": 74,
      "outputs": [
        {
          "output_type": "execute_result",
          "data": {
            "text/plain": [
              "(915, 7)"
            ]
          },
          "metadata": {},
          "execution_count": 74
        }
      ]
    },
    {
      "cell_type": "code",
      "source": [
        "ft_df.head()"
      ],
      "metadata": {
        "colab": {
          "base_uri": "https://localhost:8080/",
          "height": 328
        },
        "id": "ETe0NWURfzS8",
        "outputId": "669565ef-a669-4d43-913c-8b00dfcb3b67"
      },
      "execution_count": 61,
      "outputs": [
        {
          "output_type": "execute_result",
          "data": {
            "text/plain": [
              "                                                 key  \\\n",
              "0  FCC/extracted_texts/Joe Biden for President co...   \n",
              "1  FCC/extracted_texts/Biden-D-President Contract...   \n",
              "2  FCC/extracted_texts/CONTRACT BIDEN FOR PRESIDE...   \n",
              "3  FCC/extracted_texts/CONTRACT BIDEN FOR PRESIDE...   \n",
              "4  FCC/extracted_texts/BIDEN FOR PRESIDENT KDKA C...   \n",
              "\n",
              "                                           file_name completion_7b  \\\n",
              "0  Joe Biden for President confirmation contract ...      Contract   \n",
              "1             Biden-D-President Contract 5.7-5.13.24      Contract   \n",
              "2  CONTRACT BIDEN FOR PRESIDENT WNGT EST 11713 05...      Contract   \n",
              "3  CONTRACT BIDEN FOR PRESIDENT WRAL EST 11713 05...      Contract   \n",
              "4        BIDEN FOR PRESIDENT KDKA CONTRACT 635489--1      Contract   \n",
              "\n",
              "  completion_8b  same  \n",
              "0      Contract  True  \n",
              "1      Contract  True  \n",
              "2      Contract  True  \n",
              "3      Contract  True  \n",
              "4      Contract  True  "
            ],
            "text/html": [
              "\n",
              "  <div id=\"df-544d80b1-cd68-43c2-b5cf-84bedf7d4ae0\" class=\"colab-df-container\">\n",
              "    <div>\n",
              "<style scoped>\n",
              "    .dataframe tbody tr th:only-of-type {\n",
              "        vertical-align: middle;\n",
              "    }\n",
              "\n",
              "    .dataframe tbody tr th {\n",
              "        vertical-align: top;\n",
              "    }\n",
              "\n",
              "    .dataframe thead th {\n",
              "        text-align: right;\n",
              "    }\n",
              "</style>\n",
              "<table border=\"1\" class=\"dataframe\">\n",
              "  <thead>\n",
              "    <tr style=\"text-align: right;\">\n",
              "      <th></th>\n",
              "      <th>key</th>\n",
              "      <th>file_name</th>\n",
              "      <th>completion_7b</th>\n",
              "      <th>completion_8b</th>\n",
              "      <th>same</th>\n",
              "    </tr>\n",
              "  </thead>\n",
              "  <tbody>\n",
              "    <tr>\n",
              "      <th>0</th>\n",
              "      <td>FCC/extracted_texts/Joe Biden for President co...</td>\n",
              "      <td>Joe Biden for President confirmation contract ...</td>\n",
              "      <td>Contract</td>\n",
              "      <td>Contract</td>\n",
              "      <td>True</td>\n",
              "    </tr>\n",
              "    <tr>\n",
              "      <th>1</th>\n",
              "      <td>FCC/extracted_texts/Biden-D-President Contract...</td>\n",
              "      <td>Biden-D-President Contract 5.7-5.13.24</td>\n",
              "      <td>Contract</td>\n",
              "      <td>Contract</td>\n",
              "      <td>True</td>\n",
              "    </tr>\n",
              "    <tr>\n",
              "      <th>2</th>\n",
              "      <td>FCC/extracted_texts/CONTRACT BIDEN FOR PRESIDE...</td>\n",
              "      <td>CONTRACT BIDEN FOR PRESIDENT WNGT EST 11713 05...</td>\n",
              "      <td>Contract</td>\n",
              "      <td>Contract</td>\n",
              "      <td>True</td>\n",
              "    </tr>\n",
              "    <tr>\n",
              "      <th>3</th>\n",
              "      <td>FCC/extracted_texts/CONTRACT BIDEN FOR PRESIDE...</td>\n",
              "      <td>CONTRACT BIDEN FOR PRESIDENT WRAL EST 11713 05...</td>\n",
              "      <td>Contract</td>\n",
              "      <td>Contract</td>\n",
              "      <td>True</td>\n",
              "    </tr>\n",
              "    <tr>\n",
              "      <th>4</th>\n",
              "      <td>FCC/extracted_texts/BIDEN FOR PRESIDENT KDKA C...</td>\n",
              "      <td>BIDEN FOR PRESIDENT KDKA CONTRACT 635489--1</td>\n",
              "      <td>Contract</td>\n",
              "      <td>Contract</td>\n",
              "      <td>True</td>\n",
              "    </tr>\n",
              "  </tbody>\n",
              "</table>\n",
              "</div>\n",
              "    <div class=\"colab-df-buttons\">\n",
              "\n",
              "  <div class=\"colab-df-container\">\n",
              "    <button class=\"colab-df-convert\" onclick=\"convertToInteractive('df-544d80b1-cd68-43c2-b5cf-84bedf7d4ae0')\"\n",
              "            title=\"Convert this dataframe to an interactive table.\"\n",
              "            style=\"display:none;\">\n",
              "\n",
              "  <svg xmlns=\"http://www.w3.org/2000/svg\" height=\"24px\" viewBox=\"0 -960 960 960\">\n",
              "    <path d=\"M120-120v-720h720v720H120Zm60-500h600v-160H180v160Zm220 220h160v-160H400v160Zm0 220h160v-160H400v160ZM180-400h160v-160H180v160Zm440 0h160v-160H620v160ZM180-180h160v-160H180v160Zm440 0h160v-160H620v160Z\"/>\n",
              "  </svg>\n",
              "    </button>\n",
              "\n",
              "  <style>\n",
              "    .colab-df-container {\n",
              "      display:flex;\n",
              "      gap: 12px;\n",
              "    }\n",
              "\n",
              "    .colab-df-convert {\n",
              "      background-color: #E8F0FE;\n",
              "      border: none;\n",
              "      border-radius: 50%;\n",
              "      cursor: pointer;\n",
              "      display: none;\n",
              "      fill: #1967D2;\n",
              "      height: 32px;\n",
              "      padding: 0 0 0 0;\n",
              "      width: 32px;\n",
              "    }\n",
              "\n",
              "    .colab-df-convert:hover {\n",
              "      background-color: #E2EBFA;\n",
              "      box-shadow: 0px 1px 2px rgba(60, 64, 67, 0.3), 0px 1px 3px 1px rgba(60, 64, 67, 0.15);\n",
              "      fill: #174EA6;\n",
              "    }\n",
              "\n",
              "    .colab-df-buttons div {\n",
              "      margin-bottom: 4px;\n",
              "    }\n",
              "\n",
              "    [theme=dark] .colab-df-convert {\n",
              "      background-color: #3B4455;\n",
              "      fill: #D2E3FC;\n",
              "    }\n",
              "\n",
              "    [theme=dark] .colab-df-convert:hover {\n",
              "      background-color: #434B5C;\n",
              "      box-shadow: 0px 1px 3px 1px rgba(0, 0, 0, 0.15);\n",
              "      filter: drop-shadow(0px 1px 2px rgba(0, 0, 0, 0.3));\n",
              "      fill: #FFFFFF;\n",
              "    }\n",
              "  </style>\n",
              "\n",
              "    <script>\n",
              "      const buttonEl =\n",
              "        document.querySelector('#df-544d80b1-cd68-43c2-b5cf-84bedf7d4ae0 button.colab-df-convert');\n",
              "      buttonEl.style.display =\n",
              "        google.colab.kernel.accessAllowed ? 'block' : 'none';\n",
              "\n",
              "      async function convertToInteractive(key) {\n",
              "        const element = document.querySelector('#df-544d80b1-cd68-43c2-b5cf-84bedf7d4ae0');\n",
              "        const dataTable =\n",
              "          await google.colab.kernel.invokeFunction('convertToInteractive',\n",
              "                                                    [key], {});\n",
              "        if (!dataTable) return;\n",
              "\n",
              "        const docLinkHtml = 'Like what you see? Visit the ' +\n",
              "          '<a target=\"_blank\" href=https://colab.research.google.com/notebooks/data_table.ipynb>data table notebook</a>'\n",
              "          + ' to learn more about interactive tables.';\n",
              "        element.innerHTML = '';\n",
              "        dataTable['output_type'] = 'display_data';\n",
              "        await google.colab.output.renderOutput(dataTable, element);\n",
              "        const docLink = document.createElement('div');\n",
              "        docLink.innerHTML = docLinkHtml;\n",
              "        element.appendChild(docLink);\n",
              "      }\n",
              "    </script>\n",
              "  </div>\n",
              "\n",
              "\n",
              "<div id=\"df-37b98a82-f973-448e-9788-24211cf47907\">\n",
              "  <button class=\"colab-df-quickchart\" onclick=\"quickchart('df-37b98a82-f973-448e-9788-24211cf47907')\"\n",
              "            title=\"Suggest charts\"\n",
              "            style=\"display:none;\">\n",
              "\n",
              "<svg xmlns=\"http://www.w3.org/2000/svg\" height=\"24px\"viewBox=\"0 0 24 24\"\n",
              "     width=\"24px\">\n",
              "    <g>\n",
              "        <path d=\"M19 3H5c-1.1 0-2 .9-2 2v14c0 1.1.9 2 2 2h14c1.1 0 2-.9 2-2V5c0-1.1-.9-2-2-2zM9 17H7v-7h2v7zm4 0h-2V7h2v10zm4 0h-2v-4h2v4z\"/>\n",
              "    </g>\n",
              "</svg>\n",
              "  </button>\n",
              "\n",
              "<style>\n",
              "  .colab-df-quickchart {\n",
              "      --bg-color: #E8F0FE;\n",
              "      --fill-color: #1967D2;\n",
              "      --hover-bg-color: #E2EBFA;\n",
              "      --hover-fill-color: #174EA6;\n",
              "      --disabled-fill-color: #AAA;\n",
              "      --disabled-bg-color: #DDD;\n",
              "  }\n",
              "\n",
              "  [theme=dark] .colab-df-quickchart {\n",
              "      --bg-color: #3B4455;\n",
              "      --fill-color: #D2E3FC;\n",
              "      --hover-bg-color: #434B5C;\n",
              "      --hover-fill-color: #FFFFFF;\n",
              "      --disabled-bg-color: #3B4455;\n",
              "      --disabled-fill-color: #666;\n",
              "  }\n",
              "\n",
              "  .colab-df-quickchart {\n",
              "    background-color: var(--bg-color);\n",
              "    border: none;\n",
              "    border-radius: 50%;\n",
              "    cursor: pointer;\n",
              "    display: none;\n",
              "    fill: var(--fill-color);\n",
              "    height: 32px;\n",
              "    padding: 0;\n",
              "    width: 32px;\n",
              "  }\n",
              "\n",
              "  .colab-df-quickchart:hover {\n",
              "    background-color: var(--hover-bg-color);\n",
              "    box-shadow: 0 1px 2px rgba(60, 64, 67, 0.3), 0 1px 3px 1px rgba(60, 64, 67, 0.15);\n",
              "    fill: var(--button-hover-fill-color);\n",
              "  }\n",
              "\n",
              "  .colab-df-quickchart-complete:disabled,\n",
              "  .colab-df-quickchart-complete:disabled:hover {\n",
              "    background-color: var(--disabled-bg-color);\n",
              "    fill: var(--disabled-fill-color);\n",
              "    box-shadow: none;\n",
              "  }\n",
              "\n",
              "  .colab-df-spinner {\n",
              "    border: 2px solid var(--fill-color);\n",
              "    border-color: transparent;\n",
              "    border-bottom-color: var(--fill-color);\n",
              "    animation:\n",
              "      spin 1s steps(1) infinite;\n",
              "  }\n",
              "\n",
              "  @keyframes spin {\n",
              "    0% {\n",
              "      border-color: transparent;\n",
              "      border-bottom-color: var(--fill-color);\n",
              "      border-left-color: var(--fill-color);\n",
              "    }\n",
              "    20% {\n",
              "      border-color: transparent;\n",
              "      border-left-color: var(--fill-color);\n",
              "      border-top-color: var(--fill-color);\n",
              "    }\n",
              "    30% {\n",
              "      border-color: transparent;\n",
              "      border-left-color: var(--fill-color);\n",
              "      border-top-color: var(--fill-color);\n",
              "      border-right-color: var(--fill-color);\n",
              "    }\n",
              "    40% {\n",
              "      border-color: transparent;\n",
              "      border-right-color: var(--fill-color);\n",
              "      border-top-color: var(--fill-color);\n",
              "    }\n",
              "    60% {\n",
              "      border-color: transparent;\n",
              "      border-right-color: var(--fill-color);\n",
              "    }\n",
              "    80% {\n",
              "      border-color: transparent;\n",
              "      border-right-color: var(--fill-color);\n",
              "      border-bottom-color: var(--fill-color);\n",
              "    }\n",
              "    90% {\n",
              "      border-color: transparent;\n",
              "      border-bottom-color: var(--fill-color);\n",
              "    }\n",
              "  }\n",
              "</style>\n",
              "\n",
              "  <script>\n",
              "    async function quickchart(key) {\n",
              "      const quickchartButtonEl =\n",
              "        document.querySelector('#' + key + ' button');\n",
              "      quickchartButtonEl.disabled = true;  // To prevent multiple clicks.\n",
              "      quickchartButtonEl.classList.add('colab-df-spinner');\n",
              "      try {\n",
              "        const charts = await google.colab.kernel.invokeFunction(\n",
              "            'suggestCharts', [key], {});\n",
              "      } catch (error) {\n",
              "        console.error('Error during call to suggestCharts:', error);\n",
              "      }\n",
              "      quickchartButtonEl.classList.remove('colab-df-spinner');\n",
              "      quickchartButtonEl.classList.add('colab-df-quickchart-complete');\n",
              "    }\n",
              "    (() => {\n",
              "      let quickchartButtonEl =\n",
              "        document.querySelector('#df-37b98a82-f973-448e-9788-24211cf47907 button');\n",
              "      quickchartButtonEl.style.display =\n",
              "        google.colab.kernel.accessAllowed ? 'block' : 'none';\n",
              "    })();\n",
              "  </script>\n",
              "</div>\n",
              "\n",
              "    </div>\n",
              "  </div>\n"
            ],
            "application/vnd.google.colaboratory.intrinsic+json": {
              "type": "dataframe",
              "variable_name": "ft_df",
              "summary": "{\n  \"name\": \"ft_df\",\n  \"rows\": 551,\n  \"fields\": [\n    {\n      \"column\": \"key\",\n      \"properties\": {\n        \"dtype\": \"string\",\n        \"num_unique_values\": 551,\n        \"samples\": [\n          \"FCC/extracted_texts/Biden for President Order 752690/extracted_text.json\",\n          \"FCC/extracted_texts/BIDEN FOR PRESIDENT WWJ CONTRACT 630923--2/extracted_text.json\",\n          \"FCC/extracted_texts/DNC BIDEN FOR PRESIDENT KYW CONTRACT 615098--1/extracted_text.json\"\n        ],\n        \"semantic_type\": \"\",\n        \"description\": \"\"\n      }\n    },\n    {\n      \"column\": \"file_name\",\n      \"properties\": {\n        \"dtype\": \"string\",\n        \"num_unique_values\": 551,\n        \"samples\": [\n          \"Biden for President Order 752690\",\n          \"BIDEN FOR PRESIDENT WWJ CONTRACT 630923--2\",\n          \"DNC BIDEN FOR PRESIDENT KYW CONTRACT 615098--1\"\n        ],\n        \"semantic_type\": \"\",\n        \"description\": \"\"\n      }\n    },\n    {\n      \"column\": \"completion_7b\",\n      \"properties\": {\n        \"dtype\": \"category\",\n        \"num_unique_values\": 3,\n        \"samples\": [\n          \"Contract\",\n          \"Invoice\",\n          \"Order\"\n        ],\n        \"semantic_type\": \"\",\n        \"description\": \"\"\n      }\n    },\n    {\n      \"column\": \"completion_8b\",\n      \"properties\": {\n        \"dtype\": \"category\",\n        \"num_unique_values\": 3,\n        \"samples\": [\n          \"Contract\",\n          \"Invoice\",\n          \"Order\"\n        ],\n        \"semantic_type\": \"\",\n        \"description\": \"\"\n      }\n    },\n    {\n      \"column\": \"same\",\n      \"properties\": {\n        \"dtype\": \"boolean\",\n        \"num_unique_values\": 1,\n        \"samples\": [\n          true\n        ],\n        \"semantic_type\": \"\",\n        \"description\": \"\"\n      }\n    }\n  ]\n}"
            }
          },
          "metadata": {},
          "execution_count": 61
        }
      ]
    },
    {
      "cell_type": "markdown",
      "source": [
        "In the following cell we are using a custom class ConstructedText. We do not include it here and leave it to the user to experiment with text representation of PDF files, which pertains to the Prompt engineering domain.  \n",
        "\n",
        "This is a critical part of a successful fine-tuning/inference of LLMs."
      ],
      "metadata": {
        "id": "RwRazXe_enhX"
      }
    },
    {
      "cell_type": "markdown",
      "source": [
        "we are:\n",
        "* retrieving raw text files with coordinates which we obtained in notebooks/trump_biden_download_preprocess_store.ipynb,\n",
        "* converting first page of each PDF file them to a text format with a proptietary class ConstructedText\n",
        "* creating a list of tuples, each having 3 elements:\n",
        "  - file_name\n",
        "  - extracted_text: text extracted from the first page,\n",
        "  - label: single-label class from ['contract','invoice','order','other']\n",
        "* converting list of tuples into pandas DF\n",
        "* upload DF as parquet file to s3 bucket"
      ],
      "metadata": {
        "id": "7FK_Z1SfxjKf"
      }
    },
    {
      "cell_type": "code",
      "source": [
        "page_num='0'\n",
        "max_symbols = 200\n",
        "tolerance = 3\n",
        "collector = []\n",
        "for row in ft_df.itertuples():\n",
        "  try:\n",
        "    label = row.label\n",
        "    key = row.key\n",
        "    file_name = row.file_name\n",
        "    extracted_words = json.loads(s3_client.get_object(Bucket=bucket,\n",
        "                                                      Key=key)['Body'].read())\n",
        "    extracted_page = {page_num: extracted_words[page_num]}\n",
        "    text_constructor = ConstructedText(\n",
        "                                        extracted_page,\n",
        "                                        tolerance,\n",
        "                                        max_symbols)\n",
        "    constructed_text = text_constructor.constructed_text\n",
        "    collector.append((file_name, constructed_text,label))\n",
        "    if row[0]%10==0:\n",
        "      print(row[0])\n",
        "  except:\n",
        "    print(f\"{row[0]} error: {key}\")\n",
        "  # break\n",
        "len(collector)"
      ],
      "metadata": {
        "id": "Xlu-TW-VPmIG",
        "colab": {
          "base_uri": "https://localhost:8080/"
        },
        "outputId": "fd6e0695-23d9-4931-dd42-055620e54828"
      },
      "execution_count": 75,
      "outputs": [
        {
          "output_type": "stream",
          "name": "stdout",
          "text": [
            "0\n",
            "10\n",
            "20\n",
            "30\n",
            "40\n",
            "50\n",
            "60\n",
            "70\n",
            "80\n",
            "90\n",
            "100\n",
            "110\n",
            "120\n",
            "130\n",
            "140\n",
            "150\n",
            "160\n",
            "170\n",
            "180\n",
            "190\n",
            "200\n",
            "210\n",
            "220\n",
            "230\n",
            "240\n",
            "250\n",
            "260\n",
            "270\n",
            "280\n",
            "290\n",
            "300\n",
            "310\n",
            "320\n",
            "330\n",
            "340\n",
            "350\n",
            "360\n",
            "370\n",
            "380\n",
            "390\n",
            "400\n",
            "410\n",
            "420\n",
            "430\n",
            "440\n",
            "450\n",
            "460\n",
            "470\n",
            "480\n",
            "490\n",
            "500\n",
            "510\n",
            "520\n",
            "530\n",
            "540\n",
            "550\n",
            "557 error: FCC/extracted_texts/265668 - Biden For President - KTVW - NAB/extracted_text.json\n",
            "560\n",
            "570\n",
            "580\n",
            "590\n",
            "600\n",
            "610\n",
            "613 error: FCC/extracted_texts/Biden for President-NAB-WI-Est 11503-BFP6024003H/extracted_text.json\n",
            "620\n",
            "625 error: FCC/extracted_texts/NAB PA PRIMARY BIDEN 60S/extracted_text.json\n",
            "630\n",
            "640\n",
            "649 error: FCC/extracted_texts/NAB PA PRIMARY BIDEN 11602/extracted_text.json\n",
            "650 error: FCC/extracted_texts/NAB PA PRIMARY BIDEN 11603/extracted_text.json\n",
            "651 error: FCC/extracted_texts/263088 Biden For President KTVW NAB REV1/extracted_text.json\n",
            "660\n",
            "667 error: FCC/extracted_texts/NAB WMSN - Biden for President Est 11632 - 4.16.24/extracted_text.json\n",
            "668 error: FCC/extracted_texts/NAB WMSN - Joe Biden for President Est 11631 - 4.16.24/extracted_text.json\n",
            "670\n",
            "680\n",
            "687 error: FCC/extracted_texts/NAB PA PRIMARY biden 11609/extracted_text.json\n",
            "688 error: FCC/extracted_texts/NAB PA PRIMARY biden 11630/extracted_text.json\n",
            "690\n",
            "700\n",
            "701 error: FCC/extracted_texts/BIDEN FOR PRESIDENT NAB  6084285/extracted_text.json\n",
            "710\n",
            "720\n",
            "726 error: FCC/extracted_texts/6084578 - BIDEN NAB/extracted_text.json\n",
            "727 error: FCC/extracted_texts/6084590 - BIDEN NAB/extracted_text.json\n",
            "730\n",
            "732 error: FCC/extracted_texts/265937 - Biden For President - KTVW - NAB/extracted_text.json\n",
            "734 error: FCC/extracted_texts/5.9 NAB - Order # 265950 Biden For President Signed/extracted_text.json\n",
            "735 error: FCC/extracted_texts/5.9 NAB - Order # 265970 Biden For President - Signed (1)/extracted_text.json\n",
            "740\n",
            "750\n",
            "760\n",
            "761 error: FCC/extracted_texts/NAB PA PRIMARY BIDEN/extracted_text.json\n",
            "763 error: FCC/extracted_texts/5.13 NAB - Order _ 266380 Biden For President - Signed _1_/extracted_text.json\n",
            "764 error: FCC/extracted_texts/5.13 NAB - Order _ 266375 Biden For President - Signed _1_/extracted_text.json\n",
            "767 error: FCC/extracted_texts/6084578 - BIDEN NAB REVISED/extracted_text.json\n",
            "770\n",
            "780\n",
            "790\n",
            "800\n",
            "809 error: FCC/extracted_texts/JOE BIDEN  10.2.23 NAB FORM/extracted_text.json\n",
            "810\n",
            "820\n",
            "830\n",
            "840\n",
            "850\n",
            "860\n",
            "870\n",
            "880\n",
            "890\n",
            "900\n",
            "910\n"
          ]
        },
        {
          "output_type": "execute_result",
          "data": {
            "text/plain": [
              "894"
            ]
          },
          "metadata": {},
          "execution_count": 75
        }
      ]
    },
    {
      "cell_type": "code",
      "source": [
        "completions_df = pd.DataFrame(collector,\n",
        "                              columns=['file_name',\n",
        "                                       'constructed_text',\n",
        "                                       'label'])\n",
        "completions_df.shape"
      ],
      "metadata": {
        "colab": {
          "base_uri": "https://localhost:8080/"
        },
        "id": "-6wv0_6hdoIs",
        "outputId": "6e2e2cab-c695-4b5c-e954-63d089031c23"
      },
      "execution_count": 76,
      "outputs": [
        {
          "output_type": "execute_result",
          "data": {
            "text/plain": [
              "(894, 3)"
            ]
          },
          "metadata": {},
          "execution_count": 76
        }
      ]
    },
    {
      "cell_type": "markdown",
      "source": [
        "let's store the dataset in s3 bucket. We will use it for fine-tuning."
      ],
      "metadata": {
        "id": "NBljfXuwxM3d"
      }
    },
    {
      "cell_type": "code",
      "source": [
        "bucket = 'bergena-invoice-parser'\n",
        "key = 'datasets/FCC/completions_4_class_900K_ds.parquet'\n",
        "buffer = BytesIO()\n",
        "completions_df.to_parquet(buffer,\n",
        "                          index=False)\n",
        "metadata = {'description': 'notebook inference_trump_biden_analysis.ipynb'}\n",
        "s3_client.put_object(Bucket=bucket,\n",
        "                     Key=key,\n",
        "                     Body=buffer.getvalue(),\n",
        "                     Metadata = metadata)"
      ],
      "metadata": {
        "colab": {
          "base_uri": "https://localhost:8080/"
        },
        "id": "9xhuEBhghUbg",
        "outputId": "2f6633b2-a656-4aea-ca64-e09f987b9e9b"
      },
      "execution_count": 78,
      "outputs": [
        {
          "output_type": "execute_result",
          "data": {
            "text/plain": [
              "{'ResponseMetadata': {'RequestId': 'ZGDFXZG828NJ28K5',\n",
              "  'HostId': 'el7bB/Ftplhy9qncDrOyfqd4Uk2LsdAemMPesu/9FAUB0zIo26pnUM2yu+qWd0mE8vN/qpAbyKfhV169NP0uF+lNe2TeHflENEd3Sm0VuD8=',\n",
              "  'HTTPStatusCode': 200,\n",
              "  'HTTPHeaders': {'x-amz-id-2': 'el7bB/Ftplhy9qncDrOyfqd4Uk2LsdAemMPesu/9FAUB0zIo26pnUM2yu+qWd0mE8vN/qpAbyKfhV169NP0uF+lNe2TeHflENEd3Sm0VuD8=',\n",
              "   'x-amz-request-id': 'ZGDFXZG828NJ28K5',\n",
              "   'date': 'Tue, 28 May 2024 10:35:08 GMT',\n",
              "   'x-amz-server-side-encryption': 'AES256',\n",
              "   'etag': '\"9b05904bdccee2392823a32873caed4c\"',\n",
              "   'server': 'AmazonS3',\n",
              "   'content-length': '0'},\n",
              "  'RetryAttempts': 0},\n",
              " 'ETag': '\"9b05904bdccee2392823a32873caed4c\"',\n",
              " 'ServerSideEncryption': 'AES256'}"
            ]
          },
          "metadata": {},
          "execution_count": 78
        }
      ]
    }
  ]
}