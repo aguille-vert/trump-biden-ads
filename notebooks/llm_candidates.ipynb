{
  "nbformat": 4,
  "nbformat_minor": 0,
  "metadata": {
    "colab": {
      "provenance": [],
      "toc_visible": true,
      "cell_execution_strategy": "setup",
      "collapsed_sections": [
        "8CJKOcWThfqn"
      ]
    },
    "kernelspec": {
      "name": "python3",
      "display_name": "Python 3"
    },
    "language_info": {
      "name": "python"
    }
  },
  "cells": [
    {
      "cell_type": "code",
      "execution_count": null,
      "metadata": {
        "id": "h4LAwFiPZTi4"
      },
      "outputs": [],
      "source": []
    },
    {
      "cell_type": "markdown",
      "source": [
        "# Select Open-Source LLM for Fine-Tuning\n",
        "In this notebook we are comparing accuracy of the following LLM candidates on the gorund truth dataset which was created in <NOTEBOOK NAME>:\n",
        "* Mistral 7B\n",
        "* llama-v3-8b-instruct\n",
        "* gemma-7b-it\n",
        "* qwen-2-7b\n"
      ],
      "metadata": {
        "id": "gBYaBe3RZ3Ds"
      }
    },
    {
      "cell_type": "markdown",
      "metadata": {
        "id": "tYWtQW0gU7be"
      },
      "source": [
        "# 1. Initializer"
      ]
    },
    {
      "cell_type": "code",
      "source": [
        "!pip install boto3\n",
        "from IPython.display import clear_output\n",
        "clear_output()"
      ],
      "metadata": {
        "id": "fUAxPnAngIs1"
      },
      "execution_count": null,
      "outputs": []
    },
    {
      "cell_type": "code",
      "source": [
        "import os\n",
        "if 's3-operator' in os.listdir():\n",
        "  pass\n",
        "else:\n",
        "# this will install a library to help with reading/saving files from/to s3\n",
        "  !git clone https://github.com/aguille-vert/s3-operator\n",
        "\n",
        "import sys\n",
        "sys.path.append('/content/s3-operator')\n",
        "\n",
        "import s3_operator as oper"
      ],
      "metadata": {
        "id": "6t9Kynx5SV23"
      },
      "execution_count": null,
      "outputs": []
    },
    {
      "cell_type": "code",
      "execution_count": null,
      "metadata": {
        "id": "Ia9vXOYsVAQI"
      },
      "outputs": [],
      "source": [
        "import json\n",
        "import boto3\n",
        "from time import time\n",
        "import pandas as pd\n",
        "import numpy as np\n",
        "from io import BytesIO\n",
        "from PIL import Image\n",
        "import requests\n",
        "from collections import defaultdict\n",
        "from random import choice, choices\n",
        "import re\n",
        "from datetime import datetime, timedelta\n",
        "from joblib import Parallel, delayed, parallel_backend, dump, load\n",
        "from random import randint, choice\n",
        "from pprint import pprint\n",
        "from time import sleep\n",
        "import base64"
      ]
    },
    {
      "cell_type": "markdown",
      "metadata": {
        "id": "DzoqHdELu2pz"
      },
      "source": [
        "## clients and tokens"
      ]
    },
    {
      "cell_type": "code",
      "execution_count": null,
      "metadata": {
        "id": "j3Dn5t6SVIZS"
      },
      "outputs": [],
      "source": [
        "from google.colab import userdata\n",
        "\n",
        "OPENAI_API_KEY = userdata.get('OPENAI_KEY')\n",
        "MISTRAL_API_KEY = userdata.get('MISTRAL_API_KEY')\n",
        "GROQ_API_KEY = userdata.get('GROQ_API_KEY')\n",
        "FIREWORKS_API_KEY = userdata.get('FIREWORKS_API_KEY')\n",
        "\n",
        "AWS_BRG_ACCESS_KEY = userdata.get('AWS_BRG_ACCESS_KEY')\n",
        "AWS_BRG_SECRET_ACCESS_KEY = userdata.get('AWS_BRG_SECRET_ACCESS_KEY')\n",
        "\n",
        "s3_client = boto3.client('s3',\n",
        "            aws_access_key_id = AWS_BRG_ACCESS_KEY,\n",
        "            aws_secret_access_key = AWS_BRG_SECRET_ACCESS_KEY)\n"
      ]
    },
    {
      "cell_type": "code",
      "source": [
        "BUCKET = 'bergena-invoice-parser'"
      ],
      "metadata": {
        "id": "U5Gooz7JSq54"
      },
      "execution_count": null,
      "outputs": []
    },
    {
      "cell_type": "markdown",
      "metadata": {
        "id": "4o9HrTuSzMLs"
      },
      "source": [
        "# 2. Functions"
      ]
    },
    {
      "cell_type": "code",
      "execution_count": null,
      "metadata": {
        "id": "Dx64t2l4GReH"
      },
      "outputs": [],
      "source": [
        "# per million tokens\n",
        "\n",
        "model_pricing = {\n",
        "\n",
        "                 'gpt-4o': {'prompt_tokens':5,\n",
        "                                          'completion_tokens':15},\n",
        "\n",
        "                  'gpt-3.5-turbo-0125': {'prompt_tokens' : 0.5,\n",
        "                                              'completion_tokens': 1.5},\n",
        "                  'gpt-4-turbo': {'prompt_tokens':10,\n",
        "                                          'completion_tokens':30},\n",
        "                  # https://mistral.ai/technology/:\n",
        "                'open-mistral-7b' : {\n",
        "                    'prompt_tokens' : 0.25,\n",
        "                    'completion_tokens' : 0.25\n",
        "                    },\n",
        "                  'open-mixtral-8x7b' : {\n",
        "                                        'prompt_tokens' : 0.7,\n",
        "                                        'completion_tokens' : 0.7\n",
        "                                        },\n",
        "                  'open-mixtral-8x22b' : {\n",
        "                                        'prompt_tokens' : 2,\n",
        "                                        'completion_tokens' : 6\n",
        "                                        },\n",
        "                 # fireworks.ai:\n",
        "                 'llama-v3-8b-instruct' : {\n",
        "                                        'prompt_tokens' : 0.2,\n",
        "                                        'completion_tokens' : 0.2\n",
        "                                        },\n",
        "                 'mistral-7b-instruct-v3': {\n",
        "                                        'prompt_tokens' : 0.2,\n",
        "                                        'completion_tokens' : 0.2\n",
        "                                        },\n",
        "                 'gemma-7b-it':         {\n",
        "                                        'prompt_tokens' : 0.2,\n",
        "                                        'completion_tokens' : 0.2\n",
        "                                        },\n",
        "\n",
        "                  # groq.com 8,192 tokens:\n",
        "                  'llama3-8b-8192' : {\n",
        "                                        'prompt_tokens' : 0.005,\n",
        "                                        'completion_tokens' : 0.010\n",
        "                                        },\n",
        "                  'mixtral-8x7b-32768' : {\n",
        "                                        'prompt_tokens' : 0.27,\n",
        "                                        'completion_tokens' : 0.27\n",
        "                                        },\n",
        "                  'llama3-70b-8192' : {\n",
        "                                        'prompt_tokens' : 0.59,\n",
        "                                        'completion_tokens' : 0.79\n",
        "                                        },\n",
        "\n",
        "                }\n",
        "\n",
        "\n",
        "\n",
        "\n",
        "def get_text_completion(model, prompt, api, api_key,\n",
        "                   temperature = 0.1,\n",
        "                   max_tokens = 1024,\n",
        "                        timeout=60):\n",
        "\n",
        "  apis = {'groq': 'https://api.groq.com/openai/v1/chat/completions',\n",
        "          'openai' : 'https://api.openai.com/v1/chat/completions',\n",
        "          'mistral' : 'https://api.mistral.ai/v1/chat/completions',\n",
        "          'nvidia' : 'https://integrate.api.nvidia.com/v1/chat/completions',\n",
        "          'fireworks':'https://api.fireworks.ai/inference/v1/chat/completions'\n",
        "          }\n",
        "\n",
        "  url = apis.get(api)\n",
        "\n",
        "  headers = {\"Content-Type\": \"application/json\",\n",
        "          \"Accept\": \"application/json\",\n",
        "          \"Authorization\": f\"Bearer {api_key}\"}\n",
        "\n",
        "\n",
        "  messages = [\n",
        "                {\n",
        "                    \"role\": \"user\",\n",
        "                    \"content\": json.dumps(prompt),\n",
        "                },\n",
        "                # {\n",
        "                #   \"role\": \"system\",\n",
        "                #   \"content\": \"you are a helpful accountant.\"\n",
        "                # }\n",
        "              ]\n",
        "  if api == 'fireworks':\n",
        "    model = f\"accounts/fireworks/models/{model}\"\n",
        "  payload = {\n",
        "          \"model\": model,\n",
        "          \"messages\": messages,\n",
        "          \"max_tokens\" : max_tokens,\n",
        "          \"response_format\" : {\"type\": \"json_object\"},\n",
        "          \"temperature\":temperature,\n",
        "          # \"stop\" : '<END>'\n",
        "        }\n",
        "\n",
        "\n",
        "  return requests.post(url, json=payload, headers=headers, timeout=timeout)\n",
        "\n",
        "\n",
        "def get_totals(completion):\n",
        "  summary = completion['Summary_fields']\n",
        "  gross_amount = float(summary['gross_amount'])\n",
        "  line_items = completion['Line_items']\n",
        "  line_items_sum = sum([float(i['spot_amount']) for i in line_items])\n",
        "  return gross_amount, line_items_sum\n",
        "\n",
        "def get_tokens_usage(completion):\n",
        "\n",
        "  try:\n",
        "    # completion = json.loads(completion)\n",
        "    usage = completion['usage']\n",
        "    prompt_tokens = usage['prompt_tokens']\n",
        "    completion_tokens = usage['completion_tokens']\n",
        "  except:\n",
        "    prompt_tokens = None\n",
        "    completion_tokens = None\n",
        "  return prompt_tokens, completion_tokens\n",
        "\n",
        "\n",
        "\n"
      ]
    },
    {
      "cell_type": "markdown",
      "source": [
        "# 3. df_true: ground truth dataset\n",
        "the gorund truth ds was created in  this Colab notebook: [create_truth_dataset.ipynb](https://github.com/aguille-vert/trump-biden-ads/blob/main/notebooks/create_truth_dataset.ipynb)  \n",
        "\n",
        "GPT-4o was prompted to retrieve:\n",
        "* invoice gross amounts\n",
        "* Spot amounts for all ad spots in the invoice  \n",
        "\n",
        "After that a quality functionw as used to compute sum total of all extracted spots in each invoice  \n",
        "\n",
        "ground truth dataset includes all file names of invoices where retrieved gross  amount equals sum_totals of all retrieved spot amounts\n",
        "\n",
        "```\n",
        "`# This is formatted as code`\n",
        "```\n",
        "\n"
      ],
      "metadata": {
        "id": "-249r6xze_dm"
      }
    },
    {
      "cell_type": "markdown",
      "source": [
        "the dataset is available for download at [true_df.parquet](https://github.com/aguille-vert/trump-biden-ads/blob/main/data/true_df.parquet)"
      ],
      "metadata": {
        "id": "7OX2udQMpPzM"
      }
    },
    {
      "cell_type": "code",
      "source": [
        "\n",
        "key = 'datasets/FCC/completions/april_2024_biden_invoices/true_df.parquet'\n",
        "df_true = oper.pd_read_parquet(s3_client,\n",
        "                               BUCKET,\n",
        "                               key)\n",
        "df_true.shape"
      ],
      "metadata": {
        "colab": {
          "base_uri": "https://localhost:8080/"
        },
        "id": "gPhvSVeNf2GO",
        "outputId": "b29d4e3b-7a5b-461b-c5eb-2169b06a16ef"
      },
      "execution_count": null,
      "outputs": [
        {
          "output_type": "execute_result",
          "data": {
            "text/plain": [
              "(142, 4)"
            ]
          },
          "metadata": {},
          "execution_count": 7
        }
      ]
    },
    {
      "cell_type": "code",
      "source": [
        "df_true"
      ],
      "metadata": {
        "colab": {
          "base_uri": "https://localhost:8080/",
          "height": 580
        },
        "id": "96SBGZSRZ3_V",
        "outputId": "7ca63877-bec8-4044-f65e-1b40cee0bf95"
      },
      "execution_count": null,
      "outputs": [
        {
          "output_type": "execute_result",
          "data": {
            "text/plain": [
              "                                             file_name  gross_amount  \\\n",
              "1         Biden for President 6065165 invoice 10286532        2440.0   \n",
              "2    78175-5224040008 Biden for President est 11600...        1350.0   \n",
              "3         Biden for President 6030682 invoice 10285193        1800.0   \n",
              "4         Biden for President 6030845 invoice 10285200         188.0   \n",
              "5                                      6031177 Invoice         950.0   \n",
              "..                                                 ...           ...   \n",
              "138         BIDEN FOR PRESIDENT WUPA INVOICE 330040141        6200.0   \n",
              "139          BIDEN FOR PRESIDENT WWJ INVOICE 190043547        8275.0   \n",
              "140          BIDEN FOR PRESIDENT WWJ INVOICE 190043553       22200.0   \n",
              "141      1461600 KBLR BIDEN FOR PRESIDENT EST 4204 INV         750.0   \n",
              "142      1461599 KBLR BIDEN FOR PRESIDENT EST 4207 INV         300.0   \n",
              "\n",
              "     line_sum                                               text  \n",
              "1      2440.0   FOX66 REMIT TO Sinclair Broadcast c/c WSMH Ad...  \n",
              "2      1350.0     INVOICE  Page 1 of 1\\n abc 12 WJRT-TV 2302 ...  \n",
              "3      1800.0   FOX66 REMIT TO Sinclair Broadcast d/a WSMH PO...  \n",
              "4       188.0   FOX66 REMIT TO Sinclair Broadcast c/o WSMH Ad...  \n",
              "5       950.0               Weekty/Irregular 3/25/2024 -3/31/...  \n",
              "..        ...                                                ...  \n",
              "138    6200.0                                                ...  \n",
              "139    8275.0                                                ...  \n",
              "140   22200.0                                                ...  \n",
              "141     750.0                                                ...  \n",
              "142     300.0                                                ...  \n",
              "\n",
              "[142 rows x 4 columns]"
            ],
            "text/html": [
              "\n",
              "  <div id=\"df-4ce8f3e9-4616-4dd3-9050-6adaadeec9ce\" class=\"colab-df-container\">\n",
              "    <div>\n",
              "<style scoped>\n",
              "    .dataframe tbody tr th:only-of-type {\n",
              "        vertical-align: middle;\n",
              "    }\n",
              "\n",
              "    .dataframe tbody tr th {\n",
              "        vertical-align: top;\n",
              "    }\n",
              "\n",
              "    .dataframe thead th {\n",
              "        text-align: right;\n",
              "    }\n",
              "</style>\n",
              "<table border=\"1\" class=\"dataframe\">\n",
              "  <thead>\n",
              "    <tr style=\"text-align: right;\">\n",
              "      <th></th>\n",
              "      <th>file_name</th>\n",
              "      <th>gross_amount</th>\n",
              "      <th>line_sum</th>\n",
              "      <th>text</th>\n",
              "    </tr>\n",
              "  </thead>\n",
              "  <tbody>\n",
              "    <tr>\n",
              "      <th>1</th>\n",
              "      <td>Biden for President 6065165 invoice 10286532</td>\n",
              "      <td>2440.0</td>\n",
              "      <td>2440.0</td>\n",
              "      <td>FOX66 REMIT TO Sinclair Broadcast c/c WSMH Ad...</td>\n",
              "    </tr>\n",
              "    <tr>\n",
              "      <th>2</th>\n",
              "      <td>78175-5224040008 Biden for President est 11600...</td>\n",
              "      <td>1350.0</td>\n",
              "      <td>1350.0</td>\n",
              "      <td>INVOICE  Page 1 of 1\\n abc 12 WJRT-TV 2302 ...</td>\n",
              "    </tr>\n",
              "    <tr>\n",
              "      <th>3</th>\n",
              "      <td>Biden for President 6030682 invoice 10285193</td>\n",
              "      <td>1800.0</td>\n",
              "      <td>1800.0</td>\n",
              "      <td>FOX66 REMIT TO Sinclair Broadcast d/a WSMH PO...</td>\n",
              "    </tr>\n",
              "    <tr>\n",
              "      <th>4</th>\n",
              "      <td>Biden for President 6030845 invoice 10285200</td>\n",
              "      <td>188.0</td>\n",
              "      <td>188.0</td>\n",
              "      <td>FOX66 REMIT TO Sinclair Broadcast c/o WSMH Ad...</td>\n",
              "    </tr>\n",
              "    <tr>\n",
              "      <th>5</th>\n",
              "      <td>6031177 Invoice</td>\n",
              "      <td>950.0</td>\n",
              "      <td>950.0</td>\n",
              "      <td>Weekty/Irregular 3/25/2024 -3/31/...</td>\n",
              "    </tr>\n",
              "    <tr>\n",
              "      <th>...</th>\n",
              "      <td>...</td>\n",
              "      <td>...</td>\n",
              "      <td>...</td>\n",
              "      <td>...</td>\n",
              "    </tr>\n",
              "    <tr>\n",
              "      <th>138</th>\n",
              "      <td>BIDEN FOR PRESIDENT WUPA INVOICE 330040141</td>\n",
              "      <td>6200.0</td>\n",
              "      <td>6200.0</td>\n",
              "      <td>...</td>\n",
              "    </tr>\n",
              "    <tr>\n",
              "      <th>139</th>\n",
              "      <td>BIDEN FOR PRESIDENT WWJ INVOICE 190043547</td>\n",
              "      <td>8275.0</td>\n",
              "      <td>8275.0</td>\n",
              "      <td>...</td>\n",
              "    </tr>\n",
              "    <tr>\n",
              "      <th>140</th>\n",
              "      <td>BIDEN FOR PRESIDENT WWJ INVOICE 190043553</td>\n",
              "      <td>22200.0</td>\n",
              "      <td>22200.0</td>\n",
              "      <td>...</td>\n",
              "    </tr>\n",
              "    <tr>\n",
              "      <th>141</th>\n",
              "      <td>1461600 KBLR BIDEN FOR PRESIDENT EST 4204 INV</td>\n",
              "      <td>750.0</td>\n",
              "      <td>750.0</td>\n",
              "      <td>...</td>\n",
              "    </tr>\n",
              "    <tr>\n",
              "      <th>142</th>\n",
              "      <td>1461599 KBLR BIDEN FOR PRESIDENT EST 4207 INV</td>\n",
              "      <td>300.0</td>\n",
              "      <td>300.0</td>\n",
              "      <td>...</td>\n",
              "    </tr>\n",
              "  </tbody>\n",
              "</table>\n",
              "<p>142 rows × 4 columns</p>\n",
              "</div>\n",
              "    <div class=\"colab-df-buttons\">\n",
              "\n",
              "  <div class=\"colab-df-container\">\n",
              "    <button class=\"colab-df-convert\" onclick=\"convertToInteractive('df-4ce8f3e9-4616-4dd3-9050-6adaadeec9ce')\"\n",
              "            title=\"Convert this dataframe to an interactive table.\"\n",
              "            style=\"display:none;\">\n",
              "\n",
              "  <svg xmlns=\"http://www.w3.org/2000/svg\" height=\"24px\" viewBox=\"0 -960 960 960\">\n",
              "    <path d=\"M120-120v-720h720v720H120Zm60-500h600v-160H180v160Zm220 220h160v-160H400v160Zm0 220h160v-160H400v160ZM180-400h160v-160H180v160Zm440 0h160v-160H620v160ZM180-180h160v-160H180v160Zm440 0h160v-160H620v160Z\"/>\n",
              "  </svg>\n",
              "    </button>\n",
              "\n",
              "  <style>\n",
              "    .colab-df-container {\n",
              "      display:flex;\n",
              "      gap: 12px;\n",
              "    }\n",
              "\n",
              "    .colab-df-convert {\n",
              "      background-color: #E8F0FE;\n",
              "      border: none;\n",
              "      border-radius: 50%;\n",
              "      cursor: pointer;\n",
              "      display: none;\n",
              "      fill: #1967D2;\n",
              "      height: 32px;\n",
              "      padding: 0 0 0 0;\n",
              "      width: 32px;\n",
              "    }\n",
              "\n",
              "    .colab-df-convert:hover {\n",
              "      background-color: #E2EBFA;\n",
              "      box-shadow: 0px 1px 2px rgba(60, 64, 67, 0.3), 0px 1px 3px 1px rgba(60, 64, 67, 0.15);\n",
              "      fill: #174EA6;\n",
              "    }\n",
              "\n",
              "    .colab-df-buttons div {\n",
              "      margin-bottom: 4px;\n",
              "    }\n",
              "\n",
              "    [theme=dark] .colab-df-convert {\n",
              "      background-color: #3B4455;\n",
              "      fill: #D2E3FC;\n",
              "    }\n",
              "\n",
              "    [theme=dark] .colab-df-convert:hover {\n",
              "      background-color: #434B5C;\n",
              "      box-shadow: 0px 1px 3px 1px rgba(0, 0, 0, 0.15);\n",
              "      filter: drop-shadow(0px 1px 2px rgba(0, 0, 0, 0.3));\n",
              "      fill: #FFFFFF;\n",
              "    }\n",
              "  </style>\n",
              "\n",
              "    <script>\n",
              "      const buttonEl =\n",
              "        document.querySelector('#df-4ce8f3e9-4616-4dd3-9050-6adaadeec9ce button.colab-df-convert');\n",
              "      buttonEl.style.display =\n",
              "        google.colab.kernel.accessAllowed ? 'block' : 'none';\n",
              "\n",
              "      async function convertToInteractive(key) {\n",
              "        const element = document.querySelector('#df-4ce8f3e9-4616-4dd3-9050-6adaadeec9ce');\n",
              "        const dataTable =\n",
              "          await google.colab.kernel.invokeFunction('convertToInteractive',\n",
              "                                                    [key], {});\n",
              "        if (!dataTable) return;\n",
              "\n",
              "        const docLinkHtml = 'Like what you see? Visit the ' +\n",
              "          '<a target=\"_blank\" href=https://colab.research.google.com/notebooks/data_table.ipynb>data table notebook</a>'\n",
              "          + ' to learn more about interactive tables.';\n",
              "        element.innerHTML = '';\n",
              "        dataTable['output_type'] = 'display_data';\n",
              "        await google.colab.output.renderOutput(dataTable, element);\n",
              "        const docLink = document.createElement('div');\n",
              "        docLink.innerHTML = docLinkHtml;\n",
              "        element.appendChild(docLink);\n",
              "      }\n",
              "    </script>\n",
              "  </div>\n",
              "\n",
              "\n",
              "<div id=\"df-b2076bf1-7165-4f67-9010-44846450405e\">\n",
              "  <button class=\"colab-df-quickchart\" onclick=\"quickchart('df-b2076bf1-7165-4f67-9010-44846450405e')\"\n",
              "            title=\"Suggest charts\"\n",
              "            style=\"display:none;\">\n",
              "\n",
              "<svg xmlns=\"http://www.w3.org/2000/svg\" height=\"24px\"viewBox=\"0 0 24 24\"\n",
              "     width=\"24px\">\n",
              "    <g>\n",
              "        <path d=\"M19 3H5c-1.1 0-2 .9-2 2v14c0 1.1.9 2 2 2h14c1.1 0 2-.9 2-2V5c0-1.1-.9-2-2-2zM9 17H7v-7h2v7zm4 0h-2V7h2v10zm4 0h-2v-4h2v4z\"/>\n",
              "    </g>\n",
              "</svg>\n",
              "  </button>\n",
              "\n",
              "<style>\n",
              "  .colab-df-quickchart {\n",
              "      --bg-color: #E8F0FE;\n",
              "      --fill-color: #1967D2;\n",
              "      --hover-bg-color: #E2EBFA;\n",
              "      --hover-fill-color: #174EA6;\n",
              "      --disabled-fill-color: #AAA;\n",
              "      --disabled-bg-color: #DDD;\n",
              "  }\n",
              "\n",
              "  [theme=dark] .colab-df-quickchart {\n",
              "      --bg-color: #3B4455;\n",
              "      --fill-color: #D2E3FC;\n",
              "      --hover-bg-color: #434B5C;\n",
              "      --hover-fill-color: #FFFFFF;\n",
              "      --disabled-bg-color: #3B4455;\n",
              "      --disabled-fill-color: #666;\n",
              "  }\n",
              "\n",
              "  .colab-df-quickchart {\n",
              "    background-color: var(--bg-color);\n",
              "    border: none;\n",
              "    border-radius: 50%;\n",
              "    cursor: pointer;\n",
              "    display: none;\n",
              "    fill: var(--fill-color);\n",
              "    height: 32px;\n",
              "    padding: 0;\n",
              "    width: 32px;\n",
              "  }\n",
              "\n",
              "  .colab-df-quickchart:hover {\n",
              "    background-color: var(--hover-bg-color);\n",
              "    box-shadow: 0 1px 2px rgba(60, 64, 67, 0.3), 0 1px 3px 1px rgba(60, 64, 67, 0.15);\n",
              "    fill: var(--button-hover-fill-color);\n",
              "  }\n",
              "\n",
              "  .colab-df-quickchart-complete:disabled,\n",
              "  .colab-df-quickchart-complete:disabled:hover {\n",
              "    background-color: var(--disabled-bg-color);\n",
              "    fill: var(--disabled-fill-color);\n",
              "    box-shadow: none;\n",
              "  }\n",
              "\n",
              "  .colab-df-spinner {\n",
              "    border: 2px solid var(--fill-color);\n",
              "    border-color: transparent;\n",
              "    border-bottom-color: var(--fill-color);\n",
              "    animation:\n",
              "      spin 1s steps(1) infinite;\n",
              "  }\n",
              "\n",
              "  @keyframes spin {\n",
              "    0% {\n",
              "      border-color: transparent;\n",
              "      border-bottom-color: var(--fill-color);\n",
              "      border-left-color: var(--fill-color);\n",
              "    }\n",
              "    20% {\n",
              "      border-color: transparent;\n",
              "      border-left-color: var(--fill-color);\n",
              "      border-top-color: var(--fill-color);\n",
              "    }\n",
              "    30% {\n",
              "      border-color: transparent;\n",
              "      border-left-color: var(--fill-color);\n",
              "      border-top-color: var(--fill-color);\n",
              "      border-right-color: var(--fill-color);\n",
              "    }\n",
              "    40% {\n",
              "      border-color: transparent;\n",
              "      border-right-color: var(--fill-color);\n",
              "      border-top-color: var(--fill-color);\n",
              "    }\n",
              "    60% {\n",
              "      border-color: transparent;\n",
              "      border-right-color: var(--fill-color);\n",
              "    }\n",
              "    80% {\n",
              "      border-color: transparent;\n",
              "      border-right-color: var(--fill-color);\n",
              "      border-bottom-color: var(--fill-color);\n",
              "    }\n",
              "    90% {\n",
              "      border-color: transparent;\n",
              "      border-bottom-color: var(--fill-color);\n",
              "    }\n",
              "  }\n",
              "</style>\n",
              "\n",
              "  <script>\n",
              "    async function quickchart(key) {\n",
              "      const quickchartButtonEl =\n",
              "        document.querySelector('#' + key + ' button');\n",
              "      quickchartButtonEl.disabled = true;  // To prevent multiple clicks.\n",
              "      quickchartButtonEl.classList.add('colab-df-spinner');\n",
              "      try {\n",
              "        const charts = await google.colab.kernel.invokeFunction(\n",
              "            'suggestCharts', [key], {});\n",
              "      } catch (error) {\n",
              "        console.error('Error during call to suggestCharts:', error);\n",
              "      }\n",
              "      quickchartButtonEl.classList.remove('colab-df-spinner');\n",
              "      quickchartButtonEl.classList.add('colab-df-quickchart-complete');\n",
              "    }\n",
              "    (() => {\n",
              "      let quickchartButtonEl =\n",
              "        document.querySelector('#df-b2076bf1-7165-4f67-9010-44846450405e button');\n",
              "      quickchartButtonEl.style.display =\n",
              "        google.colab.kernel.accessAllowed ? 'block' : 'none';\n",
              "    })();\n",
              "  </script>\n",
              "</div>\n",
              "\n",
              "  <div id=\"id_95c95703-c6d1-468d-9b39-0603178988b2\">\n",
              "    <style>\n",
              "      .colab-df-generate {\n",
              "        background-color: #E8F0FE;\n",
              "        border: none;\n",
              "        border-radius: 50%;\n",
              "        cursor: pointer;\n",
              "        display: none;\n",
              "        fill: #1967D2;\n",
              "        height: 32px;\n",
              "        padding: 0 0 0 0;\n",
              "        width: 32px;\n",
              "      }\n",
              "\n",
              "      .colab-df-generate:hover {\n",
              "        background-color: #E2EBFA;\n",
              "        box-shadow: 0px 1px 2px rgba(60, 64, 67, 0.3), 0px 1px 3px 1px rgba(60, 64, 67, 0.15);\n",
              "        fill: #174EA6;\n",
              "      }\n",
              "\n",
              "      [theme=dark] .colab-df-generate {\n",
              "        background-color: #3B4455;\n",
              "        fill: #D2E3FC;\n",
              "      }\n",
              "\n",
              "      [theme=dark] .colab-df-generate:hover {\n",
              "        background-color: #434B5C;\n",
              "        box-shadow: 0px 1px 3px 1px rgba(0, 0, 0, 0.15);\n",
              "        filter: drop-shadow(0px 1px 2px rgba(0, 0, 0, 0.3));\n",
              "        fill: #FFFFFF;\n",
              "      }\n",
              "    </style>\n",
              "    <button class=\"colab-df-generate\" onclick=\"generateWithVariable('df_true')\"\n",
              "            title=\"Generate code using this dataframe.\"\n",
              "            style=\"display:none;\">\n",
              "\n",
              "  <svg xmlns=\"http://www.w3.org/2000/svg\" height=\"24px\"viewBox=\"0 0 24 24\"\n",
              "       width=\"24px\">\n",
              "    <path d=\"M7,19H8.4L18.45,9,17,7.55,7,17.6ZM5,21V16.75L18.45,3.32a2,2,0,0,1,2.83,0l1.4,1.43a1.91,1.91,0,0,1,.58,1.4,1.91,1.91,0,0,1-.58,1.4L9.25,21ZM18.45,9,17,7.55Zm-12,3A5.31,5.31,0,0,0,4.9,8.1,5.31,5.31,0,0,0,1,6.5,5.31,5.31,0,0,0,4.9,4.9,5.31,5.31,0,0,0,6.5,1,5.31,5.31,0,0,0,8.1,4.9,5.31,5.31,0,0,0,12,6.5,5.46,5.46,0,0,0,6.5,12Z\"/>\n",
              "  </svg>\n",
              "    </button>\n",
              "    <script>\n",
              "      (() => {\n",
              "      const buttonEl =\n",
              "        document.querySelector('#id_95c95703-c6d1-468d-9b39-0603178988b2 button.colab-df-generate');\n",
              "      buttonEl.style.display =\n",
              "        google.colab.kernel.accessAllowed ? 'block' : 'none';\n",
              "\n",
              "      buttonEl.onclick = () => {\n",
              "        google.colab.notebook.generateWithVariable('df_true');\n",
              "      }\n",
              "      })();\n",
              "    </script>\n",
              "  </div>\n",
              "\n",
              "    </div>\n",
              "  </div>\n"
            ],
            "application/vnd.google.colaboratory.intrinsic+json": {
              "type": "dataframe",
              "variable_name": "df_true",
              "summary": "{\n  \"name\": \"df_true\",\n  \"rows\": 142,\n  \"fields\": [\n    {\n      \"column\": \"file_name\",\n      \"properties\": {\n        \"dtype\": \"string\",\n        \"num_unique_values\": 142,\n        \"samples\": [\n          \"BIDEN FOR PRESIDENT WKBD INVOICE 320042335\",\n          \"Joe Biden Inv #2877619-1 March 2024\",\n          \"Biden for President Order 3519501 Inv 4-21-24\"\n        ],\n        \"semantic_type\": \"\",\n        \"description\": \"\"\n      }\n    },\n    {\n      \"column\": \"gross_amount\",\n      \"properties\": {\n        \"dtype\": \"number\",\n        \"std\": 13917.884420860173,\n        \"min\": 145.0,\n        \"max\": 77020.0,\n        \"num_unique_values\": 123,\n        \"samples\": [\n          12150.0,\n          3750.0,\n          11150.0\n        ],\n        \"semantic_type\": \"\",\n        \"description\": \"\"\n      }\n    },\n    {\n      \"column\": \"line_sum\",\n      \"properties\": {\n        \"dtype\": \"number\",\n        \"std\": 13917.884420860173,\n        \"min\": 145.0,\n        \"max\": 77020.0,\n        \"num_unique_values\": 123,\n        \"samples\": [\n          12150.0,\n          3750.0,\n          11150.0\n        ],\n        \"semantic_type\": \"\",\n        \"description\": \"\"\n      }\n    },\n    {\n      \"column\": \"text\",\n      \"properties\": {\n        \"dtype\": \"string\",\n        \"num_unique_values\": 142,\n        \"samples\": [\n          \"                                                                                                                                                                                                                                                                                                                                                                                                                              Page      1 of 1\\n       INVOICE\\n  Remit Address:\\n    WKBD-TV       Advertiser Biden for President   Invoice # 320042335\\n     P.O. Box 33091          1500 Market Street   Invoice Date 04/21/24\\n      Newark, NJ 07188-3091           Philadelphia, PA 19102    Invoice Month April 2024\\n    Main: (248) 355-7000        US     Invoice Period 04/01/24 - 04/19/24\\n                                              Billing:  (248)  355-7034\\n                      Product  D - PRESIDENT      Order #  633620\\n                        Estimate Number 11650        Alt Order #  WOC14626729\\n                                                                                                                                                                                                                                    Deal  #\\n  Billing Address:        Property WKBD-TV    Order Flight 04/19/24 - 04/21/24\\n                                                                                                         Account Executive   Todd Berry\\n    Media Buying & Analytics LLC        Sales Office CTS-POL      Agency Code TV20504\\n                                                            Attention:    Accounts Payable\\n                     Sales Region National       Advertiser Code 1106\\n 4355 Cobb Pkwy SE Ste K489\\n                                                                 Product 1/2   1850\\n                              Atlanta,  GA  30339\\n US     Billing Calendar Broadcast\\n                 Billing Type Cash      Agency Ref 107292\\n               Special Handling       Advertiser Ref 511689\\n Line Channel Description    Time   Day Date Length Air Time Ad-ID    Rate  Reconciliation    Ref #\\n 1 WKBD M-F 11p-1130p     1058p-1130p\\n                                04/19/24to04/25/24  1x ----1--\\n WKBD      F 04/19/24 :30 11:25 PM BFP3024004H  $125.00    1\\n 2 WKBD M-F 1130p-12x     1128p-12a\\n                                04/19/24to04/25/24  1x ----1--\\n WKBD      F 04/19/24 :30 11:46 PM BFP3024004H  $125.00    1\\n            Aired Spots   2\\n                                                     Gross Total       $250.00  Payment Terms 30 Days\\n                        Agency Commission    $37.50\\n                                         Net Amount Due      $212.50\\n                                                                                                                                                                                                                                                                                                                                                                                                                We warrant that        the        actual broadcast information        shown on this invoice was taken        from the program log.\\n                                                                                                                                                                                                                                                                                                                                                                                                                                                                                                                                                                        powered by    WideOrbit\",\n          \"                                                                                                                                                                                                             Page   1 of 2\\n       INVOICE\\n                 Property  WZZM\\n      WZZM 13        Invoice # 2877619-1  Order # 2877619\\n              645 3 Mile Road NW           Invoice Date  03/31/24     Alt Order # WOC14538629\\n                  Grand Rapids, MI 49544-1601        Invoice Month  March 2024     Deal #\\n                  Main: (616)785-1313              Invoice Period  02/26/24 - 03/25/24 Flight Dates 03/19/24 - 03/25/24\\n                 Billing: (616)785-1313             Advertiser    POL/ Joe Biden / D / President / US\\n                                           Product     2024 President Elections\\n www.wzzm13.com     Estimate # 11527\\n                                                                                                                    Account Executive   Kristen Waskie\\n          Billing  Address:\\n                                                                      Sales Office      TEGNA Sales Philadelphia\\n                                           Sales Region   National\\n                                                                     Media Buying   &   Analytics   LLC   / POL\\n                                                Agency Code    9920504\\n                                              Attention:  Accounts  Payable\\n                                                       Advertiser Code   1106\\n                                                                                            2020    Howell    Mill Road    NW Suite D-348\\n   Atlanta, GA 30318        Billing Calendar Broadcast\\n                                   Billing Type   Cash\\n         Special Handling\\n                                      Agency Ref    50530AG\\n Send Payment To:        Advertiser Ref 147415\\n WZZM 13       Product 1 1850\\n WZZM    Product 2\\n                        PO BOX:    637386\\n            Cincinnati,  OH  45263-7386\\n          Spots/\\n  Line Start Date End Date Description     Start/End Time  MTWTFSS    Length Week   Rate  Type\\n   1 03/19/24 03/25/24  WZZM News At 430A 430-5a     11111--    1:00  5  $210.00 NM\\n    Weeks:  Start Date End Date MTWTFSS  Spots/Week     Rate\\n     03/19/24 03/25/24 11111--   5 $210.00\\n  Spots: # Ch Day Air Date Air Time Description       Start/End Time LengthAd-ID          Rate Type\\n     1 WZZM Tu 03/19/24 4:55 AMWZZM News At 430A    430-5a      1:00 BFP6024003H        $210.00 NM\\n     2 WZZM W 03/20/24 4:50 AMWZZM News At 430A    430-5a      1:00 BFP6024003H        $210.00 NM\\n     3 WZZM Th 03/21/24 4:51 AMWZZM News At 430A    430-5a      1:00 BFP6024003H        $210.00 NM\\n     4 WZZM F 03/22/24 4:56 AMWZZM News At 430A    430-5a      1:00 BFP6024003H        $210.00 NM\\n     5 WZZM M 03/25/24 4:48 AMWZZM News At 430A    430-5a      1:00 BFP6024003H        $210.00 NM\\n   2 03/19/24 03/21/24  WZZM News At 5P  5-530p     --11---    1:00  2  $1,300.00 NM\\n    Weeks:  Start Date End Date MTWTFSS  Spots/Week     Rate\\n     03/18/24 03/24/24 --11---    2 $1,300.00\\n  Spots: # Ch Day Air Date Air Time Description       Start/End Time LengthAd-ID          Rate Type\\n     1 WZZM W 03/20/24 5:18 PMWZZM News At 5P     5-530p      1:00 BFP6024003H       $1,300.00 NM\\n     2 WZZM Th 03/21/24 5:16 PMWZZM News At 5P     5-530p      1:00 BFP6024003H       $1,300.00 NM\\n   3 03/19/24 03/22/24  WZZM News At 6P  6-630p     ----1--    1:00  1  $2,400.00 NM\\n    Weeks:  Start Date End Date MTWTFSS  Spots/Week     Rate\\n     03/18/24 03/24/24 ----1--    1 $2,400.00\\n  Spots: # Ch Day Air Date Air Time Description       Start/End Time LengthAd-ID          Rate Type\\n     1 WZZM F 03/22/24 6:29 PMWZZM News At 6P     6-630p      1:00 BFP6024003H       $2,400.00 NM\\n  4 03/19/24 03/22/24 Entertainment Tonight 7-730p    ---11--    1:00  2 $1,000.00 NM\\n    Weeks:  Start Date End Date MTWTFSS  Spots/Week     Rate\\n     03/18/24 03/24/24 ---11--    2 $1,000.00\\n                                          Standard Terms: If you are purchasing        broadcast spot advertising, station website advertising, or OTT advertising from        a TEGNA        national seller        or TEGNA broadcast station, the transaction        is subject        to the        TEGNA\\n                                Standard Advertising Terms    and    Conditions (\\u201cTEGNA Terms\\u201d), which    are available    at http://bit.ly/2eyrbCA,    as    well    as    on    the Advertise page from the Connect menu of the    Station\\u2019s    website.    If you are    purchasing\\n                                         only    OTT advertising    directly from    Premion    and    not from    a local    station,    the transaction is    subject to    the Premion Standard Advertising Terms    and    Conditions (\\u201cPremion Terms\\u201d),    which are    available at\\n     https://premion.com/advertising-terms-and-conditions/.\\n                                             You      will be deemed to have      accepted the TEGNA      Terms or Premion Terms, as applicable, upon the      earliest      of      (i) the      date the      campaign      contemplated by this Contract first launches, or (ii) the      date on which      you\\n                                  pay any amounts    specified on an invoice related    to this Contract.    We warrant    that    the actual    broadcast information shown    on    our    invoice    was    taken from the program log. We warrant    spots    are posted within    two\\n                                                                                                                                                                                                                                                                                                                                                                                                                              minutes of      actual airtime.\\n                                    Non-Discrimination: TEGNA, its stations and Premion do not     discriminate in advertising     contracts on     the basis of     race,     gender     or     ethnicity. Any provision     in any order or     agreement     for     advertising     that purports to\\n                                                                                            discriminate   on   the basis of   race,   gender   or   ethnicity, even   if handwritten,   typed   or   otherwise   made   a part of   the particular contract, is   hereby rejected.\\n                                                                                                                                                                                                                                                                              powered  by  WideOrbit\\n                                                                                                                                                                                                             Page   2 of 2\\n      INVOICE\\n                                                                                                                            Send    Payment To:\\n        WZZM 13         Invoice # 2877619-1   Invoice Month March 2024\\n       WZZM          Invoice Date 03/31/24   Invoice Period 02/26/24 - 03/25/24\\n                 PO BOX: 637386                Advertiser  POL/ Joe Biden / D / President / US\\n             Cincinnati, OH 45263-7386       Product   2024 President Elections\\n                                                                Estimate #   11527\\n www.wzzm13.com\\n          Spots/\\n  Line Start Date End Date Description     Start/End Time  MTWTFSS    Length Week   Rate  Type\\n  4 03/19/24 03/22/24 Entertainment Tonight 7-730p    ---11--    1:00  2 $1,000.00 NM\\n  Spots: # Ch Day Air Date Air Time Description       Start/End Time LengthAd-ID          Rate Type\\n    1 WZZM Th 03/21/24 7:25 PMEntertainment Tonight   7-730p     1:00 BFP6024003H      $1,000.00 NM\\n    2 WZZM F 03/22/24 7:14 PMEntertainment Tonight   7-730p     1:00 BFP6024003H      $1,000.00 NM\\n  5 03/19/24 03/20/24 ABBOT,FUED  9-10p    --1----   1:00  1 $1,400.00 NM\\n    Weeks:  Start Date End Date MTWTFSS  Spots/Week     Rate\\n     03/18/24 03/24/24 --1----    1 $1,400.00\\n  Spots: # Ch Day Air Date Air Time Description       Start/End Time LengthAd-ID          Rate Type\\n   1 WZZM W 03/20/24 9:49 PMABBOT,FUED     9-10p    1:00 BFP6024003H     $1,400.00 NM\\n 6 03/19/24 03/21/24 911    8-9p   ---1---  1:00 1 $1,400.00 NM\\n    Weeks:  Start Date End Date MTWTFSS  Spots/Week     Rate\\n     03/18/24 03/24/24 ---1---    1 $1,400.00\\n  Spots: # Ch Day Air Date Air Time Description       Start/End Time LengthAd-ID          Rate Type\\n   1 WZZM Th 03/21/24 7:58 PM911      8-9p    1:00 BFP6024003H    $1,400.00 NM\\n   8 03/23/24 03/23/24 Hockey Prime   Hockey Prime  -----S-    1:00  1 $1,000.00 NM\\n    Weeks:  Start Date End Date MTWTFSS  Spots/Week     Rate\\n     03/18/24 03/24/24 -----S-    1 $1,000.00\\n  Spots: # Ch Day Air Date Air Time Description       Start/End Time LengthAd-ID          Rate Type\\n     1 WZZM Sa 03/23/24 10:05 PMHockey Prime       Hockey Prime   1:00 BFP6024003H       $1,000.00 NM\\n   9 03/23/24 03/23/24  NCAA BB W Playoffs Ga 3-5p       -----S-     1:00   1   $300.00 NM\\n   me 2\\n    Weeks:  Start Date End Date MTWTFSS  Spots/Week     Rate\\n     03/18/24 03/24/24 -----S-   1 $300.00\\n  Spots: # Ch Day Air Date Air Time Description       Start/End Time LengthAd-ID          Rate Type\\n      1 WZZM Sa 03/23/24  4:21 PMNCAA BB W Playoffs Game 2 3-5p        1:00 BFP6024003H          $300.00 NM\\n                          Total Spots    14\\n  Include Invoice # on Check - Payment Terms 30 Days               Gross Total    $12,150.00\\n                                       Agency Commission    $1,822.50\\n                                                       Net Amount Due     $10,327.50\\n                                          Standard Terms: If you are purchasing        broadcast spot advertising, station website advertising, or OTT advertising from        a TEGNA        national seller        or TEGNA broadcast station, the transaction        is subject        to the        TEGNA\\n                                Standard Advertising Terms    and    Conditions (\\u201cTEGNA Terms\\u201d), which    are available    at http://bit.ly/2eyrbCA,    as    well    as    on    the Advertise page from the Connect menu of the    Station\\u2019s    website.    If you are    purchasing\\n                                         only    OTT advertising    directly from    Premion    and    not from    a local    station,    the transaction is    subject to    the Premion Standard Advertising Terms    and    Conditions (\\u201cPremion Terms\\u201d),    which are    available at\\n     https://premion.com/advertising-terms-and-conditions/.\\n                                             You      will be deemed to have      accepted the TEGNA      Terms or Premion Terms, as applicable, upon the      earliest      of      (i) the      date the      campaign      contemplated by this Contract first launches, or (ii) the      date on which      you\\n                                  pay any amounts    specified on an invoice related    to this Contract.    We warrant    that    the actual    broadcast information shown    on    our    invoice    was    taken from the program log. We warrant    spots    are posted within    two\\n                                                                                                                                                                                                                                                                                                                                                                                                                              minutes of      actual airtime.\\n                                    Non-Discrimination: TEGNA, its stations and Premion do not     discriminate in advertising     contracts on     the basis of     race,     gender     or     ethnicity. Any provision     in any order or     agreement     for     advertising     that purports to\\n                                                                                            discriminate   on   the basis of   race,   gender   or   ethnicity, even   if handwritten,   typed   or   otherwise   made   a part of   the particular contract, is   hereby rejected.\\n                                                                                                                                                                                                                                                                              powered  by  WideOrbit\",\n          \"                                                                                                                                                                                      Page  1of 2\\n       INVOICE\\n                 Property  WBAY\\n     WBAY       Invoice # 3519501-1 Order # 3519501\\n           115 S Jefferson St          Invoice Date  04/21/24    Alt Order # WOC14623215\\n             Green Bay, WI 54301          Invoice Month April 2024    Deal #\\n                                            Sales T & C:  www.gray.tv/advertising     Invoice Period     04/01/24 - 04/21/24    Flight Dates  04/16/24 - 04/21/24\\n          Main: (920) 432-3331       Advertiser  Biden for President\\n        Billing: (920) 432-3331      Product  WI General\\n                                        Estimate #   11631\\n                                                                                                                                 Account Executive    Green Bay House\\n          Billing  Address:\\n                                                                      Sales Office      Green Bay National\\n                                                Sales Region    National\\n                                                                                                                                          Media Buying      and Analytics\\n         Agency Code\\n                                              Attention:  Accounts  Payable\\n                                                       Advertiser Code   1106\\n                                                                                                                                          4355      Cobb Parkway SE\\n  Ste J489       Billing Calendar Broadcast\\n   Atlanta, GA 30339        Billing Type Cash\\n         Special Handling\\n                                      Agency Ref    157263\\n Send Payment To:        Advertiser Ref 570858\\n WBAY     Product 1 1347\\n PO Box 14200       Product 2\\n            Tallahassee,  FL  32317-4200\\n          Spots/\\n  Line Start Date End Date Description     Start/End Time  MTWTFSS    Length Week   Rate  Type\\n   1 04/16/24 04/19/24 25 Words or Less  930-10a    --1-1--    :30   2  $225.00 NM\\n     Weeks:  Start Date End Date MTWTFSS   Spots/Week     Rate\\n     04/15/24 04/21/24 --1-1--   2 $225.00\\n  Spots: # Ch Day Air Date Air Time Description       Start/End Time LengthAd-ID          Rate Type\\n    1 WBAY W 04/17/24 9:54 AM25 Words or Less     930-10a     :30BFP30240004H       $225.00 NM\\n    2 WBAY F 04/19/24 9:45 AM25 Words or Less     930-10a     :30BFP30240004H       $225.00 NM\\n  2 04/16/24 04/18/24 The View    10a-11a   -1-1---   :30  2  $250.00 NM\\n     Weeks:  Start Date End Date MTWTFSS   Spots/Week     Rate\\n     04/15/24 04/21/24 -1-1---   2 $250.00\\n  Spots: # Ch Day Air Date Air Time Description       Start/End Time LengthAd-ID          Rate Type\\n   1 WBAY Tu 04/16/24 10:59 AMThe View      10a-11a    :30BFP30240004H     $250.00 NM\\n   2 WBAY Th 04/18/24 9:59 AMThe View      10a-11a    :30BFP30240004H     $250.00 NM\\n   3 04/16/24  04/19/24  Storage Wars / Pawn Sta11a-12p     --1-1--     :30   2  $225.00 NM\\n   rs\\n     Weeks:  Start Date End Date MTWTFSS   Spots/Week     Rate\\n     04/15/24 04/21/24 --1-1--   2 $225.00\\n  Spots: # Ch Day Air Date Air Time Description       Start/End Time LengthAd-ID          Rate Type\\n     1 WBAY W 04/17/24 11:59 AMStorage Wars / Pawn Stars  11a-12p      :30BFP30240004H         $225.00 NM\\n     2 WBAY F 04/19/24 11:59 AMStorage Wars / Pawn Stars  11a-12p      :30BFP30240004H        $225.00 NM\\n   4 04/16/24  04/18/24  Action 2 News M-F @ 1212p-1230p    -1-1---      :30   2   $550.00 NM\\n   p\\n     Weeks:  Start Date End Date MTWTFSS   Spots/Week     Rate\\n     04/15/24 04/21/24 -1-1---   2 $550.00\\n  Spots: # Ch Day Air Date Air Time Description       Start/End Time LengthAd-ID          Rate Type\\n      1 WBAY Tu 04/16/24 12:16 PMAction 2 News M-F @ 12p   12p-1230p      :30BFP30240004H          $550.00 NM\\n      2 WBAY Th 04/18/24 12:29 PMAction 2 News M-F @ 12p   12p-1230p      :30BFP30240004H          $550.00 NM\\n  5 04/16/24 04/17/24 Abbott / Pyramid  8p-9p     --1----    :30  1  $650.00 NM\\n     Weeks:  Start Date End Date MTWTFSS   Spots/Week     Rate\\n     04/15/24 04/21/24 --1----   1 $650.00\\n                        We warrant    that    the actual    broadcast    information    shown    on    this    invoice    was taken from    the program log.    The    station    does not discriminate    in its advertising contracts, and it will    not accept advertising intended    to\\n                           discriminate    on    the basis of race    or ethnicity.    Advertiser    hereto affirms that nothing    in    this Agreement is    intended to    discriminate on    the basis of    race or ethnicity.    This Agreement is    subject to    the Standard    Terms\\n                                                                                                                                                                                                                            and Conditions available    at the link    located above    on    this    invoice.\\n             powered by WideOrbit\\n                                                                                                                                                                                      Page  2of 2\\n      INVOICE\\n                                                                                                                        Send    Payment To:\\n      WBAY        Invoice # 3519501-1  Invoice Month April 2024\\n          PO Box 14200           Invoice Date 04/21/24     Invoice Period 04/01/24 - 04/21/24\\n               Tallahassee, FL 32317-4200        Advertiser  Biden for President\\n                                        Product   WI General\\n                                                                Estimate #   11631\\n          Spots/\\n  Line Start Date End Date Description     Start/End Time  MTWTFSS    Length Week   Rate  Type\\n  5 04/16/24 04/17/24 Abbott / Pyramid  8p-9p     --1----    :30  1  $650.00 NM\\n  Spots: # Ch Day Air Date Air Time Description       Start/End Time LengthAd-ID          Rate Type\\n    1 WBAY W 04/17/24 8:48 PMAbbott / Pyramid    8p-9p     :30BFP30240004H      $650.00 NM\\n  6 04/16/24 04/20/24 Investigate TV   1035-1105p  -----1-    :30  1  $175.00 NM\\n     Weeks:  Start Date End Date MTWTFSS   Spots/Week     Rate\\n     04/15/24 04/21/24 -----1-   1 $175.00\\n  Spots: # Ch Day Air Date Air Time Description       Start/End Time LengthAd-ID          Rate Type\\n    1 WBAY Sa 04/20/24 10:46 PMInvestigate TV     1035-1105p   :30BFP30240004H      $175.00 NM\\n   7 04/16/24  04/21/24  Action 2 News Su @ 8a 8a-9a      ------1     :30   1   $400.00 NM\\n     Weeks:  Start Date End Date MTWTFSS   Spots/Week     Rate\\n     04/15/24 04/21/24 ------1   1 $400.00\\n  Spots: # Ch Day Air Date Air Time Description       Start/End Time LengthAd-ID          Rate Type\\n     1 WBAY Su 04/21/24 8:10 AMAction 2 News Su @ 8a   8a-9a       :30BFP30240004H        $400.00 NM\\n  8 04/16/24 04/21/24 Sun Sports Night  1035p-1045p  ------1    :30  1  $375.00 NM\\n     Weeks:  Start Date End Date MTWTFSS   Spots/Week     Rate\\n     04/15/24 04/21/24 ------1   1 $375.00\\n  Spots: # Ch Day Air Date Air Time Description       Start/End Time LengthAd-ID          Rate Type\\n    1 WBAY Su 04/21/24 10:39 PMSun Sports Night     1035p-1045p   :30BFP30240004H       $375.00 NM\\n   9 04/16/24  04/19/24  Action 2 News @ 430a 430a-5a     -1--1--     :30   2   $175.00 NM\\n     Weeks:  Start Date End Date MTWTFSS   Spots/Week     Rate\\n     04/15/24 04/21/24 -1--1--   2 $175.00\\n  Spots: # Ch Day Air Date Air Time Description       Start/End Time LengthAd-ID          Rate Type\\n     1 WBAY Tu 04/16/24 4:45 AMAction 2 News @ 430a    430a-5a      :30BFP30240004H        $175.00 NM\\n     2 WBAY F 04/19/24 4:58 AMAction 2 News @ 430a    430a-5a      :30BFP30240004H        $175.00 NM\\n                        Total Spots   14\\n Payment Terms 30 Days          Gross Total $4,450.00\\n                                    Agency Commission    $667.50\\n                                                            Net Amount Due     $3,782.50\\n                                                                          Invoice Balance as of 04/22/24 2:56:10 PM CT             $0.00\\n                        We warrant    that    the actual    broadcast    information    shown    on    this    invoice    was taken from    the program log.    The    station    does not discriminate    in its advertising contracts, and it will    not accept advertising intended    to\\n                             discriminate    on    the basis of race    or ethnicity.    Advertiser    hereto affirms that nothing    in this Agreement is    intended to    discriminate on    the basis of    race or ethnicity.    This Agreement is    subject to    the Standard    Terms\\n                                                                                                                                                                                                                            and Conditions available    at the link    located above    on    this    invoice.\\n             powered by WideOrbit\"\n        ],\n        \"semantic_type\": \"\",\n        \"description\": \"\"\n      }\n    }\n  ]\n}"
            }
          },
          "metadata": {},
          "execution_count": 26
        }
      ]
    },
    {
      "cell_type": "markdown",
      "source": [
        "#4. Compare Candidate Models\n",
        "\n"
      ],
      "metadata": {
        "id": "555oOm0SxMa0"
      }
    },
    {
      "cell_type": "markdown",
      "source": [
        "### functions"
      ],
      "metadata": {
        "id": "8CJKOcWThfqn"
      }
    },
    {
      "cell_type": "code",
      "source": [
        "def get_prompt(questions, document, model):\n",
        "    \"\"\"\n",
        "    Prompt returned in the format of llama and llama-based models\n",
        "    \"\"\"\n",
        "\n",
        "    start = '<s>[INST]'\n",
        "    end = '[/INST] '\n",
        "\n",
        "    if 'gemma' in model:\n",
        "        start = '<bos><start_of_turn>user\\n '\n",
        "        end = '<end_of_turn>\\n<start_of_turn>model\\n'\n",
        "\n",
        "    return f\"\"\"{start}Analyze  invoice text below and answer the following questions:\n",
        "    ## Questions: {questions}\n",
        "    Answer in JSON\n",
        "    If you can't retrieve a value, assign 'None' to it.\n",
        "\n",
        "    ### Documents start here:\n",
        "    f\"{document}\"\n",
        "    ### Documents end here\n",
        "\n",
        "    ### Answer:{end}\"\"\"\n",
        "\n",
        "\n",
        "def get_answer(file_name,\n",
        "               questions,\n",
        "               text,\n",
        "               model=None,\n",
        "               api = None,\n",
        "               api_key = None):\n",
        "\n",
        "  PROMPT = get_prompt(questions,\n",
        "                      text,\n",
        "                      model)\n",
        "\n",
        "\n",
        "\n",
        "  s = time()\n",
        "  r = get_text_completion(model, PROMPT, api, api_key,\n",
        "                          temperature = 0.1,\n",
        "                          max_tokens = 4028)\n",
        "  time_to_completion = round(time() - s, 2)\n",
        "\n",
        "  json_data = r.json()\n",
        "\n",
        "  prompt_tokens, completion_tokens = get_tokens_usage(json_data)\n",
        "  prompt_tokens_price = model_pricing[model]['prompt_tokens']*prompt_tokens/1000000\n",
        "  prompt_tokens_price = model_pricing[model]['prompt_tokens']*prompt_tokens/1000000\n",
        "  completion_tokens_price = model_pricing[model]['completion_tokens']*completion_tokens/1000000\n",
        "  model_price = prompt_tokens_price + completion_tokens_price\n",
        "\n",
        "\n",
        "  completion = json_data['choices'][0]['message']['content']\n",
        "  completion = json.loads(completion)\n",
        "  print(file_name, time_to_completion, model_price)\n",
        "  return completion, time_to_completion, model_price"
      ],
      "metadata": {
        "id": "M2nkFuCMrtQ1"
      },
      "execution_count": null,
      "outputs": []
    },
    {
      "cell_type": "markdown",
      "source": [
        "## Single-question test\n",
        "\n",
        "we are going to try a few prompts to get an idea what the model is goof at and where it fails"
      ],
      "metadata": {
        "id": "-EWbpitngWQZ"
      }
    },
    {
      "cell_type": "markdown",
      "source": [
        "### file_name and invoice text"
      ],
      "metadata": {
        "id": "zICKKg9khtpH"
      }
    },
    {
      "cell_type": "code",
      "source": [
        "file_name = df_true.sample(1).file_name.tolist()[0]\n",
        "print(file_name)\n",
        "text = df_true.query(f\"file_name == @file_name\").text.values[0]"
      ],
      "metadata": {
        "colab": {
          "base_uri": "https://localhost:8080/"
        },
        "id": "TFW47AQochBZ",
        "outputId": "3849f05a-6c27-4cd2-ed21-dd02d4660abf"
      },
      "execution_count": null,
      "outputs": [
        {
          "output_type": "stream",
          "name": "stdout",
          "text": [
            "Biden for President 6030845 invoice 10282286\n"
          ]
        }
      ]
    },
    {
      "cell_type": "markdown",
      "source": [
        "### test  1: Retrieve summary fields"
      ],
      "metadata": {
        "id": "HIDIEpLOochN"
      }
    },
    {
      "cell_type": "code",
      "source": [
        "questions = \"\"\"###Question1: What are the summary fields in the invoice ?\n",
        "###Answer example:\n",
        "                  {'Summary_fields' : {\n",
        "                      'invoice_number': '3983920-1',\n",
        "                      'date': '2023-09-29',\n",
        "                      'gross_amount': 10000.00,\n",
        "                      'net_amount': 9500.00,\n",
        "                      'issuer': 'WTAE',\n",
        "                                      }\n",
        "                  }\n",
        "\"\"\""
      ],
      "metadata": {
        "id": "5aOsNEernMFV"
      },
      "execution_count": null,
      "outputs": []
    },
    {
      "cell_type": "code",
      "source": [
        "api = 'mistral'\n",
        "model = 'open-mistral-7b'\n",
        "api_key = MISTRAL_API_KEY\n",
        "\n",
        "completion, time_to_completion, model_price = get_answer(file_name,\n",
        "                                                         questions,\n",
        "                                                         text,\n",
        "                                                         model=model,\n",
        "                                                         api=api,\n",
        "                                                         api_key = api_key)\n",
        "print(time_to_completion, model_price)\n",
        "completion"
      ],
      "metadata": {
        "colab": {
          "base_uri": "https://localhost:8080/"
        },
        "id": "P3z7valDol4c",
        "outputId": "47319f7e-e709-416c-b73c-21c0e6776d66"
      },
      "execution_count": null,
      "outputs": [
        {
          "output_type": "stream",
          "name": "stdout",
          "text": [
            "Biden for President 6030845 invoice 10282286 1.47 0.00024925\n",
            "1.47 0.00024925\n"
          ]
        },
        {
          "output_type": "execute_result",
          "data": {
            "text/plain": [
              "{'Summary_fields': {'invoice_number': '10282286',\n",
              "  'date': '2024-03-31',\n",
              "  'gross_amount': '660.00',\n",
              "  'issuer': 'WTAE',\n",
              "  'net_amount': 'None'}}"
            ]
          },
          "metadata": {},
          "execution_count": 42
        }
      ]
    },
    {
      "cell_type": "markdown",
      "source": [
        "mistral-7b retrieved 4 values (invoice number, gross_amount, date) correctly, but failed to retrieve net amount of the invoice and made a mistake with the name of the issuer"
      ],
      "metadata": {
        "id": "uZS_WuTcjhDb"
      }
    },
    {
      "cell_type": "code",
      "source": [
        "api = 'fireworks'\n",
        "model = 'llama-v3-8b-instruct'\n",
        "api_key = FIREWORKS_API_KEY\n",
        "\n",
        "completion, time_to_completion, model_price = get_answer(file_name,\n",
        "                                                         questions,\n",
        "                                                         text,\n",
        "                                                         model=model,\n",
        "                                                         api=api,\n",
        "                                                         api_key = api_key)\n",
        "print(time_to_completion, model_price)\n",
        "completion"
      ],
      "metadata": {
        "colab": {
          "base_uri": "https://localhost:8080/"
        },
        "id": "DWvtwNqNc6s3",
        "outputId": "29668eb8-1715-4c22-ae69-9095a10a2596"
      },
      "execution_count": null,
      "outputs": [
        {
          "output_type": "stream",
          "name": "stdout",
          "text": [
            "Biden for President 6030845 invoice 10282286 0.61 0.0001482\n",
            "0.61 0.0001482\n"
          ]
        },
        {
          "output_type": "execute_result",
          "data": {
            "text/plain": [
              "{'Summary_fields': {'invoice_number': '10282286',\n",
              "  'date': '3/31/2024',\n",
              "  'gross_amount': 660.0,\n",
              "  'net_amount': 'None',\n",
              "  'issuer': 'WSMH'}}"
            ]
          },
          "metadata": {},
          "execution_count": 43
        }
      ]
    },
    {
      "cell_type": "markdown",
      "source": [
        "llama-v3-8b-instruct retrieved 4 values of the invoice correctly, but failed to retrieve net_amount"
      ],
      "metadata": {
        "id": "OBg0TPV_mJd-"
      }
    },
    {
      "cell_type": "code",
      "source": [
        "api = 'fireworks'\n",
        "model = 'gemma-7b-it'\n",
        "api_key = FIREWORKS_API_KEY\n",
        "\n",
        "completion, time_to_completion, model_price = get_answer(file_name,\n",
        "                                                         questions,\n",
        "                                                         text,\n",
        "                                                         model=model,\n",
        "                                                         api=api,\n",
        "                                                         api_key = api_key)\n",
        "print(time_to_completion, model_price)\n",
        "completion"
      ],
      "metadata": {
        "colab": {
          "base_uri": "https://localhost:8080/"
        },
        "id": "shmm6ALWeV-4",
        "outputId": "594ade46-c9ca-4a5d-8a53-a0615aab92be"
      },
      "execution_count": null,
      "outputs": [
        {
          "output_type": "stream",
          "name": "stdout",
          "text": [
            "Biden for President 6030845 invoice 10282286 1.03 0.0001872\n",
            "1.03 0.0001872\n"
          ]
        },
        {
          "output_type": "execute_result",
          "data": {
            "text/plain": [
              "{'Summary_fields': {'invoice_number': '3983920-1',\n",
              "  'date': '2023-09-29',\n",
              "  'gross_amount': 10000.0,\n",
              "  'net_amount': 9500.0,\n",
              "  'issuer': 'WTAE'}}"
            ]
          },
          "metadata": {},
          "execution_count": 45
        }
      ]
    },
    {
      "cell_type": "markdown",
      "source": [
        "gemma-7b-it is by far the worst performer: it retrieved all the 5 values incorrectly: it just took values from the example field ignoring the text"
      ],
      "metadata": {
        "id": "mcgIMZjMnd9U"
      }
    },
    {
      "cell_type": "markdown",
      "source": [
        "### test 2: add more questions"
      ],
      "metadata": {
        "id": "TPu2FsTUr2pa"
      }
    },
    {
      "cell_type": "code",
      "source": [
        "questions = \"\"\"###Question1: What are the summary fields in the invoice ?\n",
        "###Answer example:\n",
        "                  {'Summary_fields' : {\n",
        "                      'number': '3983920-1',\n",
        "                      'date': '2023-09-29',\n",
        "                      'gross_amount': 10000.00,\n",
        "                      'net_amount': 9500.00,\n",
        "                      'issuer': 'WTAE',\n",
        "                                      }\n",
        "                  }\n",
        "### Question2: How many line items are in the invoice ?\n",
        "###Answer example:\n",
        "{'Line_items_num' : 10}\n",
        "### Question3: How many spots are in the invoice ?\n",
        "###Answer example:\n",
        "{'Spots_num' : 12}\n",
        "\"\"\""
      ],
      "metadata": {
        "id": "w1zI6Z5xjSFQ"
      },
      "execution_count": null,
      "outputs": []
    },
    {
      "cell_type": "code",
      "source": [
        "file_name = 'BIDEN FOR PRESIDENT KDKA INVOICE 240046792'"
      ],
      "metadata": {
        "id": "X-B8RPHPoaf9"
      },
      "execution_count": null,
      "outputs": []
    },
    {
      "cell_type": "code",
      "source": [
        "api = 'mistral'\n",
        "model = 'open-mistral-7b'\n",
        "api_key = MISTRAL_API_KEY\n",
        "\n",
        "completion, time_to_completion, model_price = get_answer(file_name,\n",
        "                                                         questions,\n",
        "                                                         text,\n",
        "                                                         model=model,\n",
        "                                                         api=api,\n",
        "                                                         api_key = api_key)\n",
        "print(time_to_completion, model_price)\n",
        "completion"
      ],
      "metadata": {
        "colab": {
          "base_uri": "https://localhost:8080/"
        },
        "id": "GWZMskqdoy_3",
        "outputId": "9442b8f7-c2f6-4f45-ed6e-74c57a03f683"
      },
      "execution_count": null,
      "outputs": [
        {
          "output_type": "stream",
          "name": "stdout",
          "text": [
            "Biden for President 6030845 invoice 10282286 1.23 0.000267\n",
            "1.23 0.000267\n"
          ]
        },
        {
          "output_type": "execute_result",
          "data": {
            "text/plain": [
              "{'Summary_fields': {'number': '10282286',\n",
              "  'date': '2024-03-31',\n",
              "  'gross_amount': '660.00',\n",
              "  'issuer': 'WTAE'},\n",
              " 'Line_items_num': 3,\n",
              " 'Spots_num': 1}"
            ]
          },
          "metadata": {},
          "execution_count": 48
        }
      ]
    },
    {
      "cell_type": "markdown",
      "source": [
        "mistral-7b returned correct numbre of line items, but made a mistake in the number of spots"
      ],
      "metadata": {
        "id": "R_-sLBdLg8Wc"
      }
    },
    {
      "cell_type": "code",
      "source": [
        "api = 'fireworks'\n",
        "model = 'llama-v3-8b-instruct'\n",
        "api_key = FIREWORKS_API_KEY\n",
        "\n",
        "completion, time_to_completion, model_price = get_answer(file_name,\n",
        "                                                         questions,\n",
        "                                                         text,\n",
        "                                                         model=model,\n",
        "                                                         api=api,\n",
        "                                                         api_key = api_key)\n",
        "print(time_to_completion, model_price)\n",
        "completion"
      ],
      "metadata": {
        "colab": {
          "base_uri": "https://localhost:8080/"
        },
        "id": "SPu59h7DpSIs",
        "outputId": "09de44cd-f7ae-44b2-f04d-b62256e45506"
      },
      "execution_count": null,
      "outputs": [
        {
          "output_type": "stream",
          "name": "stdout",
          "text": [
            "Biden for President 6030845 invoice 10282286 0.86 0.00016300000000000003\n",
            "0.86 0.00016300000000000003\n"
          ]
        },
        {
          "output_type": "execute_result",
          "data": {
            "text/plain": [
              "{'Summary_fields': {'number': '10282286',\n",
              "  'date': '3/31/2024',\n",
              "  'gross_amount': 660.0,\n",
              "  'net_amount': 'None',\n",
              "  'issuer': 'FOX66'},\n",
              " 'Line_items_num': 4,\n",
              " 'Spots_num': 3}"
            ]
          },
          "metadata": {},
          "execution_count": 49
        }
      ]
    },
    {
      "cell_type": "markdown",
      "source": [
        "llama-v3-8b-instruct made a mistake in the number of line items (should be 3, not 4), returned correct number of spot items"
      ],
      "metadata": {
        "id": "3L9d2yy-pxTu"
      }
    },
    {
      "cell_type": "code",
      "source": [
        "api = 'fireworks'\n",
        "model = 'gemma-7b-it'\n",
        "api_key = FIREWORKS_API_KEY\n",
        "\n",
        "completion, time_to_completion, model_price = get_answer(file_name,\n",
        "                                                         questions,\n",
        "                                                         text,\n",
        "                                                         model=model,\n",
        "                                                         api=api,\n",
        "                                                         api_key = api_key)\n",
        "print(time_to_completion, model_price)\n",
        "completion"
      ],
      "metadata": {
        "colab": {
          "base_uri": "https://localhost:8080/"
        },
        "id": "6MEvMeC2pd8C",
        "outputId": "3f8c3f0e-fe8e-4ead-e615-675aca566493"
      },
      "execution_count": null,
      "outputs": [
        {
          "output_type": "stream",
          "name": "stdout",
          "text": [
            "Biden for President 6030845 invoice 10282286 1.48 0.0002032\n",
            "1.48 0.0002032\n"
          ]
        },
        {
          "output_type": "execute_result",
          "data": {
            "text/plain": [
              "{'Summary_fields': {'number': '3983920-1',\n",
              "  'date': '2023-09-29',\n",
              "  'gross_amount': 10000.0,\n",
              "  'net_amount': 9500.0,\n",
              "  'issuer': 'WTAE'},\n",
              " 'Line_items_num': 2,\n",
              " 'Spots_num': 3}"
            ]
          },
          "metadata": {},
          "execution_count": 51
        }
      ]
    },
    {
      "cell_type": "markdown",
      "source": [
        "gemma-7b-it is again the worst performer: it retrieved all values incorrectly. It failes to understand the prompt correctly: it retrieves values from the example rather than from the text of the invoice provided before the example"
      ],
      "metadata": {
        "id": "L662Jtf-p_7h"
      }
    },
    {
      "cell_type": "markdown",
      "source": [
        "### test 3: full prompt\n",
        "let's take the full prompt with question containing all the values which we want to retrieve from invoices  \n",
        "\n",
        "the most difficult part is to retrieve data for all Spot items, including description, spot_amount, air date"
      ],
      "metadata": {
        "id": "hzTH-hnFyswW"
      }
    },
    {
      "cell_type": "code",
      "source": [
        "questions = \"\"\"### Question1: What are the summary fields in the invoice ?\n",
        "\n",
        "### Question2: How many line items are in the invoice ?\n",
        "\n",
        "### Question3: How many spots are in the invoice ?\n",
        "\n",
        "### Question4: What are the headers of the line items in the invoice ?\n",
        "\n",
        "### Question5: Which headers correspond to:\n",
        "    * TV program description\n",
        "    * Amount paid for Spot\n",
        "    * Spot Air Date\n",
        "\n",
        "\n",
        "### Question6: Analyze each line item, for each header from the Answer to Question5 assign\n",
        "corresponding spot value.\n",
        "\n",
        "### Question7: Add all spot_amounts which you retrieved and output the result\n",
        "\n",
        "### Answer example (do not retrieve data from it):\n",
        "{\n",
        "'Summary_fields' : {\n",
        "                        'number': '3983920-1',\n",
        "                        'date': '2023-09-29',\n",
        "                        'gross_amount': 10000.00,\n",
        "                        'net_amount': 9500.00,\n",
        "                        'issuer': 'WTAE',\n",
        "                                        }\n",
        "                    },\n",
        "'Line_items_num' : 10,\n",
        "'Spots_num' : 12,\n",
        "'Headers_mapping':\n",
        "                    {'description' : 'Description',\n",
        "                    'spot_amount' : 'Amount',\n",
        "                    'air_date' : 'Air Date'},\n",
        "'Line_items' : [{\n",
        "                    'line_num': 1,\n",
        "                    'spot_num' : 1,\n",
        "                    'air_date' : '2024-03-13',\n",
        "                    'description': '6-7am News',\n",
        "                    'spot_amount': 750.00\n",
        "                    },\n",
        "                    {\n",
        "                    'line_num': 5,\n",
        "                    'spot_num' : 6,\n",
        "                    'air_date' : '2024-03-15',\n",
        "                    'description': '6-7am News',\n",
        "                    'spot_amount': 1750.00\n",
        "                    }],\n",
        "'spot_amounts_total' = 2500.00\n",
        "\n",
        "}\n",
        "\n",
        "\n",
        "Answer in JSON format\n",
        "\n",
        "\"\"\""
      ],
      "metadata": {
        "id": "OEehOdnIkZHu"
      },
      "execution_count": null,
      "outputs": []
    },
    {
      "cell_type": "code",
      "source": [
        "file_name = 'BIDEN FOR PRESIDENT KDKA INVOICE 240046792'"
      ],
      "metadata": {
        "id": "odQigXKRrw9q"
      },
      "execution_count": null,
      "outputs": []
    },
    {
      "cell_type": "code",
      "source": [
        "api = 'mistral'\n",
        "model = 'open-mistral-7b'\n",
        "api_key = MISTRAL_API_KEY\n",
        "\n",
        "completion, time_to_completion, model_price = get_answer(file_name,\n",
        "                                                         questions,\n",
        "                                                         text,\n",
        "                                                         model=model,\n",
        "                                                         api=api,\n",
        "                                                         api_key = api_key)\n",
        "print(time_to_completion, model_price)\n",
        "completion"
      ],
      "metadata": {
        "colab": {
          "base_uri": "https://localhost:8080/"
        },
        "id": "29oDs78Ry-QU",
        "outputId": "e4845873-c15b-4871-bd5b-73b6d2723af7"
      },
      "execution_count": null,
      "outputs": [
        {
          "output_type": "stream",
          "name": "stdout",
          "text": [
            "Biden for President 6030845 invoice 10282286 3.43 0.000415\n",
            "3.43 0.000415\n"
          ]
        },
        {
          "output_type": "execute_result",
          "data": {
            "text/plain": [
              "{'Summary_fields': {'number': '10282286',\n",
              "  'date': '3/31/2024',\n",
              "  'gross_amount': 'None',\n",
              "  'net_amount': 'None',\n",
              "  'issuer': 'WSMH'},\n",
              " 'Line_items_num': 4,\n",
              " 'Spots_num': 3,\n",
              " 'Headers_mapping': {'description': 'Program',\n",
              "  'spot_amount': 'Amount',\n",
              "  'air_date': 'Air Date'},\n",
              " 'Line_items': [{'line_num': 1,\n",
              "   'spot_num': 1,\n",
              "   'air_date': '03/29/24',\n",
              "   'description': '25 Words OI Day,FL',\n",
              "   'spot_amount': 180.0},\n",
              "  {'line_num': 3,\n",
              "   'spot_num': 2,\n",
              "   'air_date': '03/27/24',\n",
              "   'description': 'Family Feud',\n",
              "   'spot_amount': 240.0},\n",
              "  {'line_num': 4,\n",
              "   'spot_num': 3,\n",
              "   'air_date': '03/29/24',\n",
              "   'description': 'Family Feuc Day,F-I',\n",
              "   'spot_amount': 240.0}],\n",
              " 'spot_amounts_total': 660.0}"
            ]
          },
          "metadata": {},
          "execution_count": 65
        }
      ]
    },
    {
      "cell_type": "code",
      "source": [
        "# quality test\n",
        "get_totals(completion)"
      ],
      "metadata": {
        "colab": {
          "base_uri": "https://localhost:8080/",
          "height": 294
        },
        "id": "l3i3RetPsaTB",
        "outputId": "bd1eaec3-ba64-4328-8dc6-59b4fb054434"
      },
      "execution_count": null,
      "outputs": [
        {
          "output_type": "error",
          "ename": "ValueError",
          "evalue": "could not convert string to float: 'None'",
          "traceback": [
            "\u001b[0;31m---------------------------------------------------------------------------\u001b[0m",
            "\u001b[0;31mValueError\u001b[0m                                Traceback (most recent call last)",
            "\u001b[0;32m<ipython-input-66-c216bcf0822e>\u001b[0m in \u001b[0;36m<cell line: 2>\u001b[0;34m()\u001b[0m\n\u001b[1;32m      1\u001b[0m \u001b[0;31m# quality test\u001b[0m\u001b[0;34m\u001b[0m\u001b[0;34m\u001b[0m\u001b[0m\n\u001b[0;32m----> 2\u001b[0;31m \u001b[0mget_totals\u001b[0m\u001b[0;34m(\u001b[0m\u001b[0mcompletion\u001b[0m\u001b[0;34m)\u001b[0m\u001b[0;34m\u001b[0m\u001b[0;34m\u001b[0m\u001b[0m\n\u001b[0m",
            "\u001b[0;32m<ipython-input-15-2518287f2638>\u001b[0m in \u001b[0;36mget_totals\u001b[0;34m(completion)\u001b[0m\n\u001b[1;32m     98\u001b[0m \u001b[0;32mdef\u001b[0m \u001b[0mget_totals\u001b[0m\u001b[0;34m(\u001b[0m\u001b[0mcompletion\u001b[0m\u001b[0;34m)\u001b[0m\u001b[0;34m:\u001b[0m\u001b[0;34m\u001b[0m\u001b[0;34m\u001b[0m\u001b[0m\n\u001b[1;32m     99\u001b[0m   \u001b[0msummary\u001b[0m \u001b[0;34m=\u001b[0m \u001b[0mcompletion\u001b[0m\u001b[0;34m[\u001b[0m\u001b[0;34m'Summary_fields'\u001b[0m\u001b[0;34m]\u001b[0m\u001b[0;34m\u001b[0m\u001b[0;34m\u001b[0m\u001b[0m\n\u001b[0;32m--> 100\u001b[0;31m   \u001b[0mgross_amount\u001b[0m \u001b[0;34m=\u001b[0m \u001b[0mfloat\u001b[0m\u001b[0;34m(\u001b[0m\u001b[0msummary\u001b[0m\u001b[0;34m[\u001b[0m\u001b[0;34m'gross_amount'\u001b[0m\u001b[0;34m]\u001b[0m\u001b[0;34m)\u001b[0m\u001b[0;34m\u001b[0m\u001b[0;34m\u001b[0m\u001b[0m\n\u001b[0m\u001b[1;32m    101\u001b[0m   \u001b[0mline_items\u001b[0m \u001b[0;34m=\u001b[0m \u001b[0mcompletion\u001b[0m\u001b[0;34m[\u001b[0m\u001b[0;34m'Line_items'\u001b[0m\u001b[0;34m]\u001b[0m\u001b[0;34m\u001b[0m\u001b[0;34m\u001b[0m\u001b[0m\n\u001b[1;32m    102\u001b[0m   \u001b[0mline_items_sum\u001b[0m \u001b[0;34m=\u001b[0m \u001b[0msum\u001b[0m\u001b[0;34m(\u001b[0m\u001b[0;34m[\u001b[0m\u001b[0mfloat\u001b[0m\u001b[0;34m(\u001b[0m\u001b[0mi\u001b[0m\u001b[0;34m[\u001b[0m\u001b[0;34m'spot_amount'\u001b[0m\u001b[0;34m]\u001b[0m\u001b[0;34m)\u001b[0m \u001b[0;32mfor\u001b[0m \u001b[0mi\u001b[0m \u001b[0;32min\u001b[0m \u001b[0mline_items\u001b[0m\u001b[0;34m]\u001b[0m\u001b[0;34m)\u001b[0m\u001b[0;34m\u001b[0m\u001b[0;34m\u001b[0m\u001b[0m\n",
            "\u001b[0;31mValueError\u001b[0m: could not convert string to float: 'None'"
          ]
        }
      ]
    },
    {
      "cell_type": "markdown",
      "source": [
        "mistral-7b understood the complex question correctly, and retrieved spot data correctly; however, it failed to retrieve gross amount of the invoice"
      ],
      "metadata": {
        "id": "z9GNH8H0srLN"
      }
    },
    {
      "cell_type": "code",
      "source": [
        "api = 'fireworks'\n",
        "model = 'llama-v3-8b-instruct'\n",
        "api_key = FIREWORKS_API_KEY\n",
        "\n",
        "completion, time_to_completion, model_price = get_answer(file_name,\n",
        "                                                         questions,\n",
        "                                                         text,\n",
        "                                                         model=model,\n",
        "                                                         api=api,\n",
        "                                                         api_key = api_key)\n",
        "print(time_to_completion, model_price)\n",
        "completion"
      ],
      "metadata": {
        "colab": {
          "base_uri": "https://localhost:8080/"
        },
        "id": "RtqW5TGtuVrd",
        "outputId": "b2b5031b-a498-4142-8337-0a07e09f68c1"
      },
      "execution_count": null,
      "outputs": [
        {
          "output_type": "stream",
          "name": "stdout",
          "text": [
            "Biden for President 6030845 invoice 10282286 1.21 0.0002678\n",
            "1.21 0.0002678\n"
          ]
        },
        {
          "output_type": "execute_result",
          "data": {
            "text/plain": [
              "{'Summary_fields': {'number': '10282286',\n",
              "  'date': '3/31/2024',\n",
              "  'gross_amount': 660.0,\n",
              "  'net_amount': 'None',\n",
              "  'issuer': 'Sinclair Broadcast'},\n",
              " 'Line_items_num': 4,\n",
              " 'Spots_num': 3,\n",
              " 'Headers_mapping': {'description': 'Program',\n",
              "  'spot_amount': 'Amount',\n",
              "  'air_date': 'Air Time'},\n",
              " 'Line_items': [{'line_num': 1,\n",
              "   'spot_num': 1,\n",
              "   'air_date': '03/29/24 4:44PM',\n",
              "   'description': '25 Words Or Less',\n",
              "   'spot_amount': 180.0},\n",
              "  {'line_num': 2,\n",
              "   'spot_num': 2,\n",
              "   'air_date': '03/27/24 6:21 MM',\n",
              "   'description': 'Family Feud',\n",
              "   'spot_amount': 240.0},\n",
              "  {'line_num': 3,\n",
              "   'spot_num': 3,\n",
              "   'air_date': '03/29/24 6:28PM',\n",
              "   'description': 'Family Feud',\n",
              "   'spot_amount': 240.0},\n",
              "  {'line_num': 4,\n",
              "   'spot_num': 'None',\n",
              "   'air_date': 'None',\n",
              "   'description': 'None',\n",
              "   'spot_amount': 'None'}],\n",
              " 'spot_amounts_total': 660.0}"
            ]
          },
          "metadata": {},
          "execution_count": 61
        }
      ]
    },
    {
      "cell_type": "code",
      "source": [
        "# quality test\n",
        "get_totals(completion)"
      ],
      "metadata": {
        "colab": {
          "base_uri": "https://localhost:8080/",
          "height": 318
        },
        "id": "SF-150Qsug35",
        "outputId": "f0fa466e-42db-4b4a-e3ef-5ca3664064ac"
      },
      "execution_count": null,
      "outputs": [
        {
          "output_type": "error",
          "ename": "ValueError",
          "evalue": "could not convert string to float: 'None'",
          "traceback": [
            "\u001b[0;31m---------------------------------------------------------------------------\u001b[0m",
            "\u001b[0;31mValueError\u001b[0m                                Traceback (most recent call last)",
            "\u001b[0;32m<ipython-input-62-c216bcf0822e>\u001b[0m in \u001b[0;36m<cell line: 2>\u001b[0;34m()\u001b[0m\n\u001b[1;32m      1\u001b[0m \u001b[0;31m# quality test\u001b[0m\u001b[0;34m\u001b[0m\u001b[0;34m\u001b[0m\u001b[0m\n\u001b[0;32m----> 2\u001b[0;31m \u001b[0mget_totals\u001b[0m\u001b[0;34m(\u001b[0m\u001b[0mcompletion\u001b[0m\u001b[0;34m)\u001b[0m\u001b[0;34m\u001b[0m\u001b[0;34m\u001b[0m\u001b[0m\n\u001b[0m",
            "\u001b[0;32m<ipython-input-15-2518287f2638>\u001b[0m in \u001b[0;36mget_totals\u001b[0;34m(completion)\u001b[0m\n\u001b[1;32m    100\u001b[0m   \u001b[0mgross_amount\u001b[0m \u001b[0;34m=\u001b[0m \u001b[0mfloat\u001b[0m\u001b[0;34m(\u001b[0m\u001b[0msummary\u001b[0m\u001b[0;34m[\u001b[0m\u001b[0;34m'gross_amount'\u001b[0m\u001b[0;34m]\u001b[0m\u001b[0;34m)\u001b[0m\u001b[0;34m\u001b[0m\u001b[0;34m\u001b[0m\u001b[0m\n\u001b[1;32m    101\u001b[0m   \u001b[0mline_items\u001b[0m \u001b[0;34m=\u001b[0m \u001b[0mcompletion\u001b[0m\u001b[0;34m[\u001b[0m\u001b[0;34m'Line_items'\u001b[0m\u001b[0;34m]\u001b[0m\u001b[0;34m\u001b[0m\u001b[0;34m\u001b[0m\u001b[0m\n\u001b[0;32m--> 102\u001b[0;31m   \u001b[0mline_items_sum\u001b[0m \u001b[0;34m=\u001b[0m \u001b[0msum\u001b[0m\u001b[0;34m(\u001b[0m\u001b[0;34m[\u001b[0m\u001b[0mfloat\u001b[0m\u001b[0;34m(\u001b[0m\u001b[0mi\u001b[0m\u001b[0;34m[\u001b[0m\u001b[0;34m'spot_amount'\u001b[0m\u001b[0;34m]\u001b[0m\u001b[0;34m)\u001b[0m \u001b[0;32mfor\u001b[0m \u001b[0mi\u001b[0m \u001b[0;32min\u001b[0m \u001b[0mline_items\u001b[0m\u001b[0;34m]\u001b[0m\u001b[0;34m)\u001b[0m\u001b[0;34m\u001b[0m\u001b[0;34m\u001b[0m\u001b[0m\n\u001b[0m\u001b[1;32m    103\u001b[0m   \u001b[0;32mreturn\u001b[0m \u001b[0mgross_amount\u001b[0m\u001b[0;34m,\u001b[0m \u001b[0mline_items_sum\u001b[0m\u001b[0;34m\u001b[0m\u001b[0;34m\u001b[0m\u001b[0m\n\u001b[1;32m    104\u001b[0m \u001b[0;34m\u001b[0m\u001b[0m\n",
            "\u001b[0;32m<ipython-input-15-2518287f2638>\u001b[0m in \u001b[0;36m<listcomp>\u001b[0;34m(.0)\u001b[0m\n\u001b[1;32m    100\u001b[0m   \u001b[0mgross_amount\u001b[0m \u001b[0;34m=\u001b[0m \u001b[0mfloat\u001b[0m\u001b[0;34m(\u001b[0m\u001b[0msummary\u001b[0m\u001b[0;34m[\u001b[0m\u001b[0;34m'gross_amount'\u001b[0m\u001b[0;34m]\u001b[0m\u001b[0;34m)\u001b[0m\u001b[0;34m\u001b[0m\u001b[0;34m\u001b[0m\u001b[0m\n\u001b[1;32m    101\u001b[0m   \u001b[0mline_items\u001b[0m \u001b[0;34m=\u001b[0m \u001b[0mcompletion\u001b[0m\u001b[0;34m[\u001b[0m\u001b[0;34m'Line_items'\u001b[0m\u001b[0;34m]\u001b[0m\u001b[0;34m\u001b[0m\u001b[0;34m\u001b[0m\u001b[0m\n\u001b[0;32m--> 102\u001b[0;31m   \u001b[0mline_items_sum\u001b[0m \u001b[0;34m=\u001b[0m \u001b[0msum\u001b[0m\u001b[0;34m(\u001b[0m\u001b[0;34m[\u001b[0m\u001b[0mfloat\u001b[0m\u001b[0;34m(\u001b[0m\u001b[0mi\u001b[0m\u001b[0;34m[\u001b[0m\u001b[0;34m'spot_amount'\u001b[0m\u001b[0;34m]\u001b[0m\u001b[0;34m)\u001b[0m \u001b[0;32mfor\u001b[0m \u001b[0mi\u001b[0m \u001b[0;32min\u001b[0m \u001b[0mline_items\u001b[0m\u001b[0;34m]\u001b[0m\u001b[0;34m)\u001b[0m\u001b[0;34m\u001b[0m\u001b[0;34m\u001b[0m\u001b[0m\n\u001b[0m\u001b[1;32m    103\u001b[0m   \u001b[0;32mreturn\u001b[0m \u001b[0mgross_amount\u001b[0m\u001b[0;34m,\u001b[0m \u001b[0mline_items_sum\u001b[0m\u001b[0;34m\u001b[0m\u001b[0;34m\u001b[0m\u001b[0m\n\u001b[1;32m    104\u001b[0m \u001b[0;34m\u001b[0m\u001b[0m\n",
            "\u001b[0;31mValueError\u001b[0m: could not convert string to float: 'None'"
          ]
        }
      ]
    },
    {
      "cell_type": "markdown",
      "source": [
        "llama-v3-8b-instruct hallucinated and did not pass the quality test"
      ],
      "metadata": {
        "id": "7r_08QI9uySv"
      }
    },
    {
      "cell_type": "code",
      "source": [
        "api = 'fireworks'\n",
        "model = 'gemma-7b-it'\n",
        "api_key = FIREWORKS_API_KEY\n",
        "\n",
        "completion, time_to_completion, model_price = get_answer(file_name,\n",
        "                                                         questions,\n",
        "                                                         text,\n",
        "                                                         model=model,\n",
        "                                                         api=api,\n",
        "                                                         api_key = api_key)\n",
        "print(time_to_completion, model_price)\n",
        "completion"
      ],
      "metadata": {
        "colab": {
          "base_uri": "https://localhost:8080/"
        },
        "id": "sG0mjy3yv5wT",
        "outputId": "66e4245b-374e-47ed-b257-662497e676c2"
      },
      "execution_count": null,
      "outputs": [
        {
          "output_type": "stream",
          "name": "stdout",
          "text": [
            "Biden for President 6030845 invoice 10282286 1.72 0.0003016\n",
            "1.72 0.0003016\n"
          ]
        },
        {
          "output_type": "execute_result",
          "data": {
            "text/plain": [
              "{'Summary_fields': {'number': '3983920-1',\n",
              "  'date': '2023-09-29',\n",
              "  'gross_amount': 10000.0,\n",
              "  'net_amount': 9500.0,\n",
              "  'issuer': 'WTAE'},\n",
              " 'Line_items_num': 10,\n",
              " 'Spots_num': 12,\n",
              " 'Headers_mapping': {'description': 'Description',\n",
              "  'spot_amount': 'Amount',\n",
              "  'air_date': 'Air Date'},\n",
              " 'Line_items': [{'line_num': 1,\n",
              "   'spot_num': 1,\n",
              "   'air_date': '2024-03-13',\n",
              "   'description': '6-7am News',\n",
              "   'spot_amount': 750.0},\n",
              "  {'line_num': 5,\n",
              "   'spot_num': 6,\n",
              "   'air_date': '2024-03-15',\n",
              "   'description': '6-7am News',\n",
              "   'spot_amount': 1750.0}],\n",
              " 'spot_amounts_total': 2500.0}"
            ]
          },
          "metadata": {},
          "execution_count": 63
        }
      ]
    },
    {
      "cell_type": "code",
      "source": [
        "get_totals(completion)"
      ],
      "metadata": {
        "colab": {
          "base_uri": "https://localhost:8080/"
        },
        "id": "eeBB_ZTYi0Pz",
        "outputId": "88f1de39-2197-4511-b8f4-d285b140254d"
      },
      "execution_count": null,
      "outputs": [
        {
          "output_type": "execute_result",
          "data": {
            "text/plain": [
              "(10000.0, 2500.0)"
            ]
          },
          "metadata": {},
          "execution_count": 64
        }
      ]
    },
    {
      "cell_type": "markdown",
      "source": [
        "gemma-7b-it again did not trouble itself with retrieving data from the invoice, but just took the data from the provided example."
      ],
      "metadata": {
        "id": "R6zqmnHDwYcw"
      }
    },
    {
      "cell_type": "markdown",
      "source": [
        "## Run models with the full prompt on the truth value dataset\n",
        "\n",
        "From the previous single-question test it seems that at least mistral-7n and llama-v3-8b-instruct understand questions correctly and in general can retrieve data from documents;  \n",
        "\n",
        "gemma-7b preferred to retrieve data from the example provided in the prompt even though there was a specific instruction not to do that"
      ],
      "metadata": {
        "id": "bEooL2XAXwtH"
      }
    },
    {
      "cell_type": "markdown",
      "source": [
        "as the next step we will run the 3 models over the gorund truth dataset and evaluate the accuracy"
      ],
      "metadata": {
        "id": "1L3KvF7NlDN_"
      }
    },
    {
      "cell_type": "markdown",
      "source": [
        "### open-mistral-7b\n",
        "\n",
        "after completing the crawl we will calculate the zero-shot model accuracy"
      ],
      "metadata": {
        "id": "LWHaxFzZzBNA"
      }
    },
    {
      "cell_type": "code",
      "source": [
        "api = 'mistral'\n",
        "model = 'open-mistral-7b'\n",
        "api_key = MISTRAL_API_KEY\n",
        "\n",
        "price_counter = 0\n",
        "failed = []\n",
        "collector = []\n",
        "for row in df_true.itertuples():\n",
        "  file_name = row.file_name\n",
        "  text = df_true.query(f\"file_name == @file_name\").text.values[0]\n",
        "  try:\n",
        "    PROMPT = get_prompt(questions,\n",
        "                        text,\n",
        "                        model)\n",
        "\n",
        "\n",
        "\n",
        "    s = time()\n",
        "    r = get_text_completion(model, PROMPT, api, api_key,\n",
        "                    temperature = 0.1,\n",
        "                    max_tokens = 4028)\n",
        "    time_to_completion = round(time() - s, 2)\n",
        "\n",
        "    json_data = r.json()\n",
        "\n",
        "    prompt_tokens, completion_tokens = get_tokens_usage(json_data)\n",
        "    prompt_tokens_price = model_pricing[model]['prompt_tokens']*prompt_tokens/1000000\n",
        "    prompt_tokens_price = model_pricing[model]['prompt_tokens']*prompt_tokens/1000000\n",
        "    completion_tokens_price = model_pricing[model]['completion_tokens']*completion_tokens/1000000\n",
        "    model_price = prompt_tokens_price + completion_tokens_price\n",
        "    price_counter += model_price\n",
        "\n",
        "    completion = json_data['choices'][0]['message']['content']\n",
        "    completion = json.loads(completion)\n",
        "    collector.append((row[0], file_name, time_to_completion, prompt_tokens,\n",
        "                      completion_tokens, price_counter, len(failed)))\n",
        "    print(row[0], file_name, time_to_completion, price_counter, len(failed))\n",
        "\n",
        "    bucket = 'bergena-invoice-parser'\n",
        "    key = f'datasets/FCC/completions/april_2024_biden_invoices/open-mistral-7b/{file_name}/completion.json'\n",
        "    s3_client.put_object(Body=json.dumps(json_data),\n",
        "                        Bucket=bucket,\n",
        "                        Key=key)\n",
        "  except:\n",
        "    print(f\"exception: {row[0]}\")\n",
        "    failed.append(row[0])\n",
        "  # break"
      ],
      "metadata": {
        "colab": {
          "base_uri": "https://localhost:8080/"
        },
        "id": "n1dBlAFGhGmy",
        "outputId": "4196a869-86e8-4105-81b8-46b4261bc526"
      },
      "execution_count": null,
      "outputs": [
        {
          "output_type": "stream",
          "name": "stdout",
          "text": [
            "1 Biden for President 6065165 invoice 10286532 6.03 0.0004975 0\n",
            "2 78175-5224040008 Biden for President est 11600 April invoice 2.88 0.00086275 0\n",
            "3 Biden for President 6030682 invoice 10285193 2.98 0.001224 0\n",
            "4 Biden for President 6030845 invoice 10285200 2.43 0.00157225 0\n",
            "5 6031177 Invoice 2.36 0.0020805 0\n",
            "6 Biden for President Invoice 745015-2 4.03 0.0025775 0\n",
            "7 Biden for President Invoice 747631-1 3.33 0.0030545 0\n",
            "8 BIDEN FOR PRESIDENT WWJ INVOICE 190043548 9.22 0.003929 0\n",
            "9 BIDEN FOR PRESIDENT WWJ INVOICE 190043521 5.22 0.00452325 0\n",
            "10 BIDEN FOR PRESIDENT KYW INVOICE 140045943 17.08 0.0053045 0\n",
            "11 BIDEN FOR PRESIDENT KYW INVOICE 140045946 4.39 0.005802 0\n",
            "12 BIDEN FOR PRESIDENT KDKA INVOICE 240047162 20.34 0.00720425 0\n",
            "13 6057935 Invoice 3.56 0.0076637499999999996 0\n",
            "14 Biden for presiden Invoice 74406-1 8.39 0.008561 0\n",
            "15 Biden for President Order 3484048 Inv 3-31-24 8.83 0.009639749999999999 0\n",
            "16 Biden for President Order 3492765 Inv 3-31-24 3.54 0.010165249999999999 0\n",
            "17 3484627-1_INV_Mar26-Apr1 6.28 0.011097999999999998 0\n",
            "18 3484448-1_INV_Mar26-Apr1 8.46 0.012228499999999998 0\n",
            "exception: 19\n",
            "20 Joe Biden Inv #2877619-1 March 2024 6.14 0.016006749999999997 1\n",
            "exception: 21\n",
            "22 Joe Biden Inv #2890274-1 March 2024 3.13 0.018450499999999998 2\n",
            "23 A3016-INVOICE-033124 30.17 0.020482249999999997 2\n",
            "24 Pol J Biden D PRE US_INVOICE_1120834 10.55 0.021709499999999996 2\n",
            "25 Pol J Biden D PRE US_INVOICE_1122616 6.93 0.023958999999999998 2\n",
            "26 455303-1 Biden for President Invoice WDJT 8.68 0.02559725 2\n",
            "27 455004-1 Biden for President Invoice WDJT 7.08 0.027222999999999997 2\n",
            "exception: 28\n",
            "29 76444-5224030046 Biden for President est 11566 March invoice 4.52 0.03007925 3\n",
            "30 76421-5224030146 Biden for President est 11564 March invoice 7.14 0.031021749999999997 3\n",
            "31 76959-5224030203 Biden for President est 11575 March invoice 3.7 0.031543499999999995 3\n",
            "32 76421-5224040001 Biden for President est 11564 April invoice 2.45 0.0319825 3\n",
            "33 BIDEN FOR PRESIDENT KDKA INVOICE 240046792 17.82 0.03362225 3\n",
            "34 BIDEN FOR PRESIDENT KDKA INVOICE 240047000 8.53 0.0346535 3\n",
            "exception: 35\n",
            "36 BIDEN FOR PRESIDENT KYW INVOICE 140045598 9.39 0.03783575 4\n",
            "37 BIDEN FOR PRESIDENT KYW INVOICE 140045837 4.17 0.03945275 4\n",
            "38 BIDEN FOR PRESIDENT KYW INVOICE 140045848 21.31 0.041120750000000005 4\n",
            "39 BIDEN FOR PRESIDENT WKBD INVOICE 320041965 4.71 0.04161225 4\n",
            "40 BIDEN FOR PRESIDENT WPKD INVOICE 340045014 6.13 0.042243 4\n",
            "41 BIDEN FOR PRESIDENT WPKD INVOICE 340044756 13.52 0.043236750000000004 4\n",
            "42 BIDEN FOR PRESIDENT WPKD INVOICE 340044815 8.22 0.043863000000000006 4\n",
            "43 BIDEN FOR PRESIDENT WWJ INVOICE 190043206 7.75 0.044535250000000005 4\n",
            "44 BIDEN FOR PRESIDENT WWJ INVOICE 190043402 2.82 0.044944250000000005 4\n",
            "45 BIDEN FOR PRESIDENT WWJ INVOICE 190043245 4.88 0.04549 4\n",
            "46 Joe Biden _ President -D _ 2142493-2 Invoice 11.11 0.046623750000000005 4\n",
            "47 6030864 Invoice 2.85 0.047018500000000005 4\n",
            "48 Biden for President 1342298 March 24 invoice 11.49 0.048287000000000004 4\n",
            "49 Biden for President 1346898 March 24 invoice 10.4 0.0495255 4\n",
            "50 Biden for President Order 3482227 Inv 4-7-24 2.59 0.049994 4\n",
            "51 Biden for President Order 3484048 Inv 4-7-24 3.58 0.050537 4\n",
            "52 76335-5224040002 Biden for President est 11560 April invoice 2.64 0.05096575 4\n",
            "exception: 53\n",
            "54 Biden for President - Invoice 3457194-1 5.73 0.05461575 5\n",
            "55 3484448-2_INV_Mar26-Apr1 3.88 0.0552295 5\n",
            "56 3484627-2_INV_Mar26-Apr1 3.85 0.05577075 5\n",
            "57 Biden for President - estimate 11554 Biden PA - order 49703 - invoice 3.14 0.05622275 5\n",
            "58 Biden for President - estimate 11509 Biden PA - order 49541 - invoice 5.52 0.056843250000000005 5\n",
            "59 Biden for President - estimate 11526 Biden PA - order 49600 - invoice 5.09 0.05743625000000001 5\n",
            "60 Pol J Biden D PRE US_INVOICE_1124724 16.07 0.05847900000000001 5\n",
            "61 Biden for President 385311 Invoice 15.26 0.06061100000000001 5\n",
            "62 Biden for President 6030845 invoice 10282286 3.6 0.06102625000000001 5\n",
            "63 Biden for President 6030682 invoice 10282279 3.79 0.06145000000000001 5\n",
            "64 Biden for President 6047580 invoice 10285298 3.34 0.06185425000000001 5\n",
            "65 KSNV BIDEN 6047550 INV 13.19 0.06282175000000001 5\n",
            "66 NVCW BIDEN 6047517 INV 19.15 0.06433250000000001 5\n",
            "67 Biden for President Order 3502407 Inv 4-14-24 5.03 0.06533075000000002 5\n",
            "68 Biden for President Order 3510070 Inv 4-14-24 4.36 0.06592750000000001 5\n",
            "69 Joe Biden Inv #2886466-2 April 2024 2.77 0.06648875000000001 5\n",
            "70 WMSN-BIDEN FOR PRESIDENT EST 11584 Period 4.1.24-4.7.24 Inv. 10285310 15.63 0.06748625000000001 5\n",
            "71 WMSN-BIDEN FOR PRESIDENT EST 11583 Period 4.1.24-4.7.24 Inv. 10285303 13.3 0.06989350000000001 5\n",
            "exception: 72\n",
            "73 78176-5224040009 Biden for President est 11601 April invoice 10.65 0.07481725000000002 6\n",
            "74 KPHO Biden for President est 11561 Apr INVOICE  37.33 0.07787475000000002 6\n",
            "75 Biden-D-President (30s) Invoice 4.2-4.8.24 36.81 0.08040775000000001 6\n",
            "76 Biden-D-President Invoice 4.2-4.8.24 10.36 0.08162625000000001 6\n",
            "77 Joe Biden Inv #2897581-1 April 2024 5.96 0.08224875000000001 6\n",
            "78 Joe Biden Inv #2894336-1 April 2024 20.06 0.08496375 6\n",
            "79 WMSN-BIDEN FOR PRESIDENT EST 11583 Period 4.8.24-4.14.24 Inv. 10285760 12.57 0.08589225 6\n",
            "80 WMSN-BIDEN FOR PRESIDENT EST 11584 Period 4.8.24-4.14.24 Inv. 10285761 8.24 0.086482 6\n",
            "81 Biden for President Order 3519522 Inv 4-21-24 3.96 0.0870785 6\n",
            "82 Biden for President Order 3519501 Inv 4-21-24 3.09 0.0881405 6\n",
            "exception: 83\n",
            "84 79175-5224040013 Biden for President est 11634 April invoice 5.47 0.09054475 7\n",
            "85 79176-5224040014 Biden for President est 11633 April invoice 10.06 0.091651 7\n",
            "86 KPHO Biden for President est 4212 Apr INVOICE  8.48 0.09269825 7\n",
            "87 KTVK Biden for President est 4212 Apr INVOICE  8.57 0.09379 7\n",
            "88 Biden-D-President (30s) Invoice 4.9-4.15.24 11.23 0.09581075 7\n",
            "89 Biden-D-President Invoice 4.9-4.15.24 5.22 0.096593 7\n",
            "exception: 90\n",
            "91 Biden-D-President Invoice 4.16-4.21.24 6.37 0.09977325000000001 8\n",
            "92 Biden-D-President Invoice 4.17-4.19.24 6.39 0.10065825 8\n",
            "93 KMSB JB DNC INV_2699945-1 7.82 0.10189125 8\n",
            "94 KMSB JB DNC INV_2699965-1 2.85 0.10244275 8\n",
            "exception: 95\n",
            "96 Pol J Biden D PRE US_INVOICE_1127498 5.24 0.1057975 9\n",
            "97 Pol J Biden D PRE US_INVOICE_1128576 8.67 0.106881 9\n",
            "98 Pol J Biden D PRE US_INVOICE_1130275 7.85 0.10795225 9\n",
            "99 Joe Biden Inv #2901764-1 April 2024 13.31 0.10926475 9\n",
            "100 Joe Biden Inv #2901771-1 April 2024 7.79 0.1099675 9\n",
            "101 Joe Biden Inv #2897580-1 April 2024 8.27 0.11175349999999999 9\n",
            "102 Pol J Biden D PRE US_INVOICE_1130464 21.84 0.113466 9\n",
            "103 3519575-1_INV_Apr16-Apr22 7.05 0.114443 9\n",
            "104 3509557-1_INV_Apr9-Apr15 7.8 0.11548850000000001 9\n",
            "105 WMSN-BIDEN FOR PRESIDENT EST 11631 Period 4.15.24-4.21.24 Inv. 10286545 36.25 0.11788525000000001 9\n",
            "106 WMSN-BIDEN FOR PRESIDENT EST 11632 Period 4.15.24-4.21.24 Inv. 10286561 8.11 0.11860200000000001 9\n",
            "107 KSNV BIDEN 6056352 INV 10.86 0.11951800000000001 9\n",
            "108 KSNV BIDEN 6056352 INV 2 3.03 0.12003100000000001 9\n",
            "109 KSNV BIDEN 6065222 INV 13.89 0.12108200000000001 9\n",
            "110 KSNV BIDEN 6047550 INV 2 3.84 0.12158475 9\n",
            "111 NVCW BIDEN 6056376 INV 2 7.06 0.12221975 9\n",
            "112 NVCW BIDEN 6047517 INV 2 5.87 0.12283975 9\n",
            "113 NVCW BIDEN 6056376 INV 23.08 0.124379 9\n",
            "114 Biden for President - estimate 4204 Spanish News - order 49864 - invoice 8.0 0.1249165 9\n",
            "115 Biden for President - estimate 4207 Spanish News - order 49866 - invoice 2.77 0.125353 9\n",
            "116 Biden for President - estimate Spanish News - order 49720 - invoice 2 3.12 0.1257655 9\n",
            "117 Biden for President - estimate 4200 Spanish News - order 49803 - invoice 5.83 0.12633725 9\n",
            "118 Biden for President - estimate Spanish News - order 49720 - invoice 1 2.88 0.12680450000000001 9\n",
            "119 Biden for President - estimate 11650 Biden PA - order 49980 - invoice 3.57 0.12729625000000003 9\n",
            "120 Biden for President - estimate 11609 Biden PA - order 49947 - invoice 7.4 0.12825475000000003 9\n",
            "121 Biden for President - estimate 11602 Biden PA - order 49853 - invoice 3.74 0.12879175000000004 9\n",
            "122 Biden for President - estimate 11580 Biden PA - order 49804 - invoice 7.11 0.12950725000000005 9\n",
            "123 BIDEN FOR PRESIDENT KDKA INVOICE 240047102 2.79 0.12991400000000006 9\n",
            "124 BIDEN FOR PRESIDENT KDKA INVOICE 240047147 5.1 0.13045450000000006 9\n",
            "125 BIDEN FOR PRESIDENT KDKA INVOICE 240047127 15.46 0.13197250000000005 9\n",
            "126 BIDEN FOR PRESIDENT KDKA INVOICE 240047443 9.45 0.13290400000000005 9\n",
            "127 BIDEN FOR PRESIDENT KDKA INVOICE 240047146 8.01 0.13346200000000005 9\n",
            "128 BIDEN FOR PRESIDENT KDKA INVOICE 240047180 12.74 0.13454900000000006 9\n",
            "129 BIDEN FOR PRESIDENT KDKA INVOICE 240047381 9.67 0.13554800000000006 9\n",
            "130 BIDEN FOR PRESIDENT KYW INVOICE 140045911 11.61 0.13648950000000007 9\n",
            "131 BIDEN FOR PRESIDENT KYW INVOICE 140045873 8.61 0.13736375000000006 9\n",
            "132 BIDEN FOR PRESIDENT WKBD INVOICE 320042335 3.76 0.13781575000000007 9\n",
            "133 BIDEN FOR PRESIDENT WKBD INVOICE 320042339 4.53 0.13829025000000006 9\n",
            "134 BIDEN FOR PRESIDENT WKBD INVOICE 320042343 7.86 0.13891700000000007 9\n",
            "135 BIDEN FOR PRESIDENT WKBD INVOICE 320042313 9.54 0.13958925000000008 9\n",
            "136 BIDEN FOR PRESIDENT WUPA INVOICE 330040143 7.92 0.14048750000000007 9\n",
            "137 BIDEN FOR PRESIDENT WUPA INVOICE 330040102 13.99 0.14151200000000008 9\n",
            "138 BIDEN FOR PRESIDENT WUPA INVOICE 330040141 13.86 0.14249375000000009 9\n",
            "139 BIDEN FOR PRESIDENT WWJ INVOICE 190043547 5.26 0.1430935000000001 9\n",
            "140 BIDEN FOR PRESIDENT WWJ INVOICE 190043553 17.41 0.1441170000000001 9\n",
            "141 1461600 KBLR BIDEN FOR PRESIDENT EST 4204 INV 5.29 0.14466275000000012 9\n",
            "142 1461599 KBLR BIDEN FOR PRESIDENT EST 4207 INV 3.45 0.1451237500000001 9\n"
          ]
        }
      ]
    },
    {
      "cell_type": "markdown",
      "source": [
        "#### Get mistral_true_df: gross equals sum line items"
      ],
      "metadata": {
        "id": "vFy4JJ12QtKR"
      }
    },
    {
      "cell_type": "code",
      "source": [
        "model = 'open-mistral-7b'\n",
        "bucket = 'bergena-invoice-parser'\n",
        "prefix = f'datasets/FCC/completions/april_2024_biden_invoices/{model}/'\n",
        "keys_df = oper.get_latest_keys_from_(s3_client,\n",
        "                                    bucket,\n",
        "                                    prefix,\n",
        "                                    zipped=True,\n",
        "                                     time_interval = 300,\n",
        "                                     time_unit='day')\n",
        "keys_df = pd.DataFrame(keys_df,\n",
        "                       columns = ['ts','key'])\n",
        "keys_df['file_name'] = keys_df['key'].str.split('/').str[5]\n",
        "keys_df.shape"
      ],
      "metadata": {
        "colab": {
          "base_uri": "https://localhost:8080/"
        },
        "outputId": "4350c115-cd00-472f-aeb0-f709c500fc4a",
        "id": "aSUxYnFuQtKU"
      },
      "execution_count": null,
      "outputs": [
        {
          "output_type": "execute_result",
          "data": {
            "text/plain": [
              "(142, 3)"
            ]
          },
          "metadata": {},
          "execution_count": 80
        }
      ]
    },
    {
      "cell_type": "code",
      "source": [
        "collector = []\n",
        "failed = []\n",
        "for row in keys_df.itertuples():\n",
        "  try:\n",
        "    json_data = s3_client.get_object(\n",
        "                                    Bucket = bucket,\n",
        "                                    Key = row.key\n",
        "                                    )\n",
        "    json_data = json.loads(json_data['Body'].read())\n",
        "    completion = json.loads(json_data['choices'][0]['message']['content'])\n",
        "    gross_amount, line_items_sum = get_totals(completion)\n",
        "    collector.append((row.file_name, gross_amount, line_items_sum))\n",
        "  except:\n",
        "    failed.append(row.file_name)\n",
        "  if row[0]%10==0:\n",
        "    print(row[0], len(collector), len(failed))"
      ],
      "metadata": {
        "colab": {
          "base_uri": "https://localhost:8080/"
        },
        "outputId": "b575001c-d26f-4b56-bde6-2f3da9c89ad5",
        "id": "AWuGaesFQtKW"
      },
      "execution_count": null,
      "outputs": [
        {
          "output_type": "stream",
          "name": "stdout",
          "text": [
            "0 0 1\n",
            "10 5 6\n",
            "20 11 10\n",
            "30 17 14\n",
            "40 20 21\n",
            "50 28 23\n",
            "60 32 29\n",
            "70 41 30\n",
            "80 45 36\n",
            "90 51 40\n",
            "100 57 44\n",
            "110 63 48\n",
            "120 67 54\n",
            "130 72 59\n",
            "140 72 69\n"
          ]
        }
      ]
    },
    {
      "cell_type": "code",
      "source": [
        "mistral_df = pd.DataFrame(collector,\n",
        "             columns=[\n",
        "                      'file_name',\n",
        "                      'gross_amount',\n",
        "                      'line_sum'])\n",
        "mistral_true_df = mistral_df.query(f\"gross_amount == line_sum\").reset_index(drop=True).copy()\n",
        "mistral_df.shape, mistral_true_df.shape, df_true.shape"
      ],
      "metadata": {
        "colab": {
          "base_uri": "https://localhost:8080/"
        },
        "outputId": "9ac72bd7-9ae0-419a-e965-e0cb2b6c0461",
        "id": "q9JXr4H9QtKX"
      },
      "execution_count": null,
      "outputs": [
        {
          "output_type": "execute_result",
          "data": {
            "text/plain": [
              "((72, 3), (31, 3), (142, 4))"
            ]
          },
          "metadata": {},
          "execution_count": 82
        }
      ]
    },
    {
      "cell_type": "code",
      "source": [
        "accuracy = len(mistral_true_df)/len(df_true)\n",
        "accuracy\n",
        "print(f\"mistral 7B accuracy: {accuracy:.4f}\")"
      ],
      "metadata": {
        "colab": {
          "base_uri": "https://localhost:8080/"
        },
        "id": "8dra5XWZv4Mn",
        "outputId": "c15193f1-56a8-4137-ab00-862d86394627"
      },
      "execution_count": null,
      "outputs": [
        {
          "output_type": "stream",
          "name": "stdout",
          "text": [
            "mistral 7B accuracy: 0.2183\n"
          ]
        }
      ]
    },
    {
      "cell_type": "markdown",
      "source": [
        "#### Conclusion: 31 true out of 142 total (22% accuracy)"
      ],
      "metadata": {
        "id": "BW3YqfDDRnQj"
      }
    },
    {
      "cell_type": "code",
      "source": [
        "api = 'fireworks'\n",
        "model = 'mistral-7b'\n",
        "api_key = FIREWORKS_API_KEY\n",
        "\n",
        "api = 'fireworks'\n",
        "model = 'llama-v3-8b-instruct'\n",
        "api_key = FIREWORKS_API_KEY\n",
        "\n",
        "price_counter = 0\n",
        "failed = []\n",
        "collector = []\n",
        "for row in df_true.itertuples():\n",
        "  file_name = row.file_name\n",
        "  text = df_true.query(f\"file_name == @file_name\").text.values[0]\n",
        "  try:\n",
        "    PROMPT = get_prompt(questions,\n",
        "                        text,\n",
        "                        model)\n",
        "\n",
        "\n",
        "\n",
        "    s = time()\n",
        "    r = get_text_completion(model, PROMPT, api, api_key,\n",
        "                    temperature = 0.1,\n",
        "                    max_tokens = 4028)\n",
        "    time_to_completion = round(time() - s, 2)\n",
        "\n",
        "    json_data = r.json()\n",
        "\n",
        "    prompt_tokens, completion_tokens = get_tokens_usage(json_data)\n",
        "    prompt_tokens_price = model_pricing[model]['prompt_tokens']*prompt_tokens/1000000\n",
        "    prompt_tokens_price = model_pricing[model]['prompt_tokens']*prompt_tokens/1000000\n",
        "    completion_tokens_price = model_pricing[model]['completion_tokens']*completion_tokens/1000000\n",
        "    model_price = prompt_tokens_price + completion_tokens_price\n",
        "    price_counter += model_price\n",
        "\n",
        "    completion = json_data['choices'][0]['message']['content']\n",
        "    completion = json.loads(completion)\n",
        "    collector.append((row[0], file_name, time_to_completion, prompt_tokens,\n",
        "                      completion_tokens, price_counter, len(failed)))\n",
        "    print(row[0], file_name, time_to_completion, price_counter, len(failed))\n",
        "\n",
        "    key = f'datasets/FCC/completions/april_2024_biden_invoices/open-mistral-7b/{file_name}/completion.json'\n",
        "    s3_client.put_object(Body=json.dumps(json_data),\n",
        "                        Bucket=BUCKET,\n",
        "                        Key=key)\n",
        "  except:\n",
        "    print(f\"exception: {row[0]}\")\n",
        "    failed.append(row[0])\n",
        "    if row[0]==10:\n",
        "\n",
        "      break"
      ],
      "metadata": {
        "colab": {
          "base_uri": "https://localhost:8080/"
        },
        "outputId": "818a5377-d01b-41b5-f89a-fa001a777173",
        "id": "nqtW98_bOrnS"
      },
      "execution_count": null,
      "outputs": [
        {
          "output_type": "stream",
          "name": "stdout",
          "text": [
            "1 Biden for President 6065165 invoice 10286532 1.53 0.0003284 0\n",
            "2 78175-5224040008 Biden for President est 11600 April invoice 1.1 0.0005612 0\n",
            "3 Biden for President 6030682 invoice 10285193 1.13 0.0007884 0\n",
            "4 Biden for President 6030845 invoice 10285200 1.02 0.0010064 0\n",
            "5 6031177 Invoice 0.99 0.0013354 0\n",
            "6 Biden for President Invoice 745015-2 4.08 0.0018702 0\n",
            "7 Biden for President Invoice 747631-1 0.97 0.0021638 0\n",
            "8 BIDEN FOR PRESIDENT WWJ INVOICE 190043548 1.25 0.0026248 0\n",
            "9 BIDEN FOR PRESIDENT WWJ INVOICE 190043521 1.85 0.003024 0\n",
            "10 BIDEN FOR PRESIDENT KYW INVOICE 140045943 2.27 0.0034818 0\n",
            "11 BIDEN FOR PRESIDENT KYW INVOICE 140045946 1.01 0.003774 0\n",
            "12 BIDEN FOR PRESIDENT KDKA INVOICE 240047162 2.48 0.0045632 0\n",
            "13 6057935 Invoice 1.18 0.0048548 0\n",
            "14 Biden for presiden Invoice 74406-1 1.89 0.005429 0\n",
            "15 Biden for President Order 3484048 Inv 3-31-24 0.96 0.006029 0\n",
            "16 Biden for President Order 3492765 Inv 3-31-24 1.81 0.0064182 0\n",
            "17 3484627-1_INV_Mar26-Apr1 0.97 0.0069694 0\n",
            "18 3484448-1_INV_Mar26-Apr1 2.2 0.007684 0\n",
            "19 Joe Biden Inv #2873451-1 March 2024 1.24 0.00907 0\n",
            "20 Joe Biden Inv #2877619-1 March 2024 1.1 0.0098444 0\n",
            "21 Joe Biden Inv #2886466-1 March 2024 1.92 0.0106346 0\n",
            "22 Joe Biden Inv #2890274-1 March 2024 1.03 0.0110272 0\n",
            "23 A3016-INVOICE-033124 1.18 0.011963199999999998 0\n",
            "24 Pol J Biden D PRE US_INVOICE_1120834 1.97 0.012678799999999999 0\n",
            "25 Pol J Biden D PRE US_INVOICE_1122616 1.44 0.014015999999999999 0\n",
            "26 455303-1 Biden for President Invoice WDJT 3.02 0.015071999999999999 0\n",
            "27 455004-1 Biden for President Invoice WDJT 2.66 0.0161166 0\n",
            "28 455823-1 Biden for President Invoice WDJT 1.08 0.0168396 0\n",
            "29 76444-5224030046 Biden for President est 11566 March invoice 1.68 0.0173292 0\n",
            "30 76421-5224030146 Biden for President est 11564 March invoice 2.14 0.017945 0\n",
            "31 76959-5224030203 Biden for President est 11575 March invoice 1.81 0.0183242 0\n",
            "32 76421-5224040001 Biden for President est 11564 April invoice 0.93 0.0185918 0\n",
            "33 BIDEN FOR PRESIDENT KDKA INVOICE 240046792 3.21 0.019576 0\n",
            "34 BIDEN FOR PRESIDENT KDKA INVOICE 240047000 2.04 0.0202126 0\n",
            "35 Biden-D-President Invoice 3.19-3.25.24 1.09 0.0210818 0\n",
            "36 BIDEN FOR PRESIDENT KYW INVOICE 140045598 1.95 0.0216686 0\n",
            "37 BIDEN FOR PRESIDENT KYW INVOICE 140045837 2.69 0.0227042 0\n",
            "38 BIDEN FOR PRESIDENT KYW INVOICE 140045848 2.88 0.023592000000000002 0\n",
            "39 BIDEN FOR PRESIDENT WKBD INVOICE 320041965 1.98 0.0239672 0\n",
            "40 BIDEN FOR PRESIDENT WPKD INVOICE 340045014 1.13 0.0243332 0\n",
            "41 BIDEN FOR PRESIDENT WPKD INVOICE 340044756 0.96 0.0247748 0\n",
            "42 BIDEN FOR PRESIDENT WPKD INVOICE 340044815 0.92 0.025072999999999998 0\n",
            "43 BIDEN FOR PRESIDENT WWJ INVOICE 190043206 1.47 0.0254472 0\n",
            "44 BIDEN FOR PRESIDENT WWJ INVOICE 190043402 0.75 0.0256852 0\n",
            "45 BIDEN FOR PRESIDENT WWJ INVOICE 190043245 1.35 0.026008399999999997 0\n",
            "46 Joe Biden _ President -D _ 2142493-2 Invoice 1.04 0.026602999999999998 0\n",
            "47 6030864 Invoice 0.98 0.0268522 0\n",
            "48 Biden for President 1342298 March 24 invoice 2.29 0.0275982 0\n",
            "exception: 49\n",
            "50 Biden for President Order 3482227 Inv 4-7-24 0.79 0.027884 1\n"
          ]
        }
      ]
    },
    {
      "cell_type": "code",
      "source": [
        "r"
      ],
      "metadata": {
        "colab": {
          "base_uri": "https://localhost:8080/"
        },
        "id": "5VkF9fECenya",
        "outputId": "aa481c40-4724-40f7-83e8-9c6b59571d30"
      },
      "execution_count": null,
      "outputs": [
        {
          "output_type": "execute_result",
          "data": {
            "text/plain": [
              "<Response [404]>"
            ]
          },
          "metadata": {},
          "execution_count": 27
        }
      ]
    },
    {
      "cell_type": "code",
      "source": [
        "completion"
      ],
      "metadata": {
        "colab": {
          "base_uri": "https://localhost:8080/"
        },
        "id": "K_mmkhnLaN-p",
        "outputId": "0209dd8a-632d-40cb-81c2-38200d41297a"
      },
      "execution_count": null,
      "outputs": [
        {
          "output_type": "execute_result",
          "data": {
            "text/plain": [
              "{'Summary_fields': {'number': '3983920-1',\n",
              "  'date': '2024-04-21',\n",
              "  'gross_amount': 2440.0,\n",
              "  'net_amount': 2074.0,\n",
              "  'issuer': 'FOX66',\n",
              "  'buyer': 'Biden for President-D',\n",
              "  'media_buying_agency': 'Media Buying and Analytics',\n",
              "  'terms': 'CIA 6065165',\n",
              "  'product': 'POLITICAL CANDIDATE',\n",
              "  'order_type': 'BIII',\n",
              "  'period': 'Weekly/Irregular',\n",
              "  'start_date': '4/16/2024',\n",
              "  'end_date': '4/21/2024',\n",
              "  'billing_invoice': 'Official Billing Invoice'},\n",
              " 'Line_items_num': 4,\n",
              " 'Spots_num': 6,\n",
              " 'Headers_mapping': {'description': 'Program',\n",
              "  'spot_amount': 'Amount',\n",
              "  'air_date': 'Air Date'},\n",
              " 'Line_items': [{'line_num': 1,\n",
              "   'spot_num': 1,\n",
              "   'air_date': '04/16/24',\n",
              "   'description': 'The Big Bang Theory'},\n",
              "  {'line_num': 2,\n",
              "   'spot_num': 2,\n",
              "   'air_date': '04/18/24',\n",
              "   'description': 'The Big Bang Theory'},\n",
              "  {'line_num': 3,\n",
              "   'spot_num': 3,\n",
              "   'air_date': '04/19/21',\n",
              "   'description': 'The Big Bang Theory'},\n",
              "  {'line_num': 4,\n",
              "   'spot_num': 4,\n",
              "   'air_date': '04/17/24',\n",
              "   'description': 'warranty'}],\n",
              " 'spot_amounts_total': 2440.0}"
            ]
          },
          "metadata": {},
          "execution_count": 15
        }
      ]
    },
    {
      "cell_type": "code",
      "source": [
        "model = 'open-mistral-7b'\n",
        "bucket = 'bergena-invoice-parser'\n",
        "prefix = f'datasets/FCC/completions/april_2024_biden_invoices/{model}/'\n",
        "keys_df = oper.get_latest_keys_from_(s3_client,\n",
        "                                    bucket,\n",
        "                                    prefix,\n",
        "                                    zipped=True,\n",
        "                                     time_interval = 300,\n",
        "                                     time_unit='day')\n",
        "keys_df = pd.DataFrame(keys_df,\n",
        "                       columns = ['ts','key'])\n",
        "keys_df['file_name'] = keys_df['key'].str.split('/').str[5]\n",
        "keys_df.shape"
      ],
      "metadata": {
        "colab": {
          "base_uri": "https://localhost:8080/"
        },
        "outputId": "80347cf7-42d5-4e7d-b294-0e41d41c1b9b",
        "id": "4dzjSlH4Vk0B"
      },
      "execution_count": null,
      "outputs": [
        {
          "output_type": "execute_result",
          "data": {
            "text/plain": [
              "(142, 3)"
            ]
          },
          "metadata": {},
          "execution_count": 18
        }
      ]
    },
    {
      "cell_type": "code",
      "source": [
        "collector = []\n",
        "failed = []\n",
        "for row in keys_df.itertuples():\n",
        "  try:\n",
        "    json_data = s3_client.get_object(\n",
        "                                    Bucket = bucket,\n",
        "                                    Key = row.key\n",
        "                                    )\n",
        "    json_data = json.loads(json_data['Body'].read())\n",
        "    completion = json.loads(json_data['choices'][0]['message']['content'])\n",
        "    gross_amount, line_items_sum = get_totals(completion)\n",
        "    collector.append((row.file_name, gross_amount, line_items_sum))\n",
        "  except:\n",
        "    failed.append(row.file_name)\n",
        "  if row[0]%10==0:\n",
        "    print(row[0], len(collector), len(failed))"
      ],
      "metadata": {
        "colab": {
          "base_uri": "https://localhost:8080/"
        },
        "outputId": "458c68fc-eaf7-41c8-dd97-266d4a0de839",
        "id": "x8bahmMZVsIw"
      },
      "execution_count": null,
      "outputs": [
        {
          "output_type": "stream",
          "name": "stdout",
          "text": [
            "0 0 1\n",
            "10 9 2\n",
            "20 15 6\n",
            "30 20 11\n",
            "40 23 18\n",
            "50 27 24\n",
            "60 29 32\n",
            "70 34 37\n",
            "80 40 41\n",
            "90 44 47\n",
            "100 49 52\n",
            "110 57 54\n",
            "120 63 58\n",
            "130 68 63\n",
            "140 72 69\n"
          ]
        }
      ]
    },
    {
      "cell_type": "code",
      "source": [
        "mistral_df = pd.DataFrame(collector,\n",
        "             columns=[\n",
        "                      'file_name',\n",
        "                      'gross_amount',\n",
        "                      'line_sum'])\n",
        "mistral_true_df = mistral_df.query(f\"gross_amount == line_sum\").reset_index(drop=True).copy()\n",
        "mistral_df.shape, mistral_true_df.shape, df_true.shape"
      ],
      "metadata": {
        "colab": {
          "base_uri": "https://localhost:8080/"
        },
        "id": "osoXV2EVOyZy",
        "outputId": "8dfb05d6-85a5-42a5-9a86-cea64c3441bb"
      },
      "execution_count": null,
      "outputs": [
        {
          "output_type": "execute_result",
          "data": {
            "text/plain": [
              "((73, 3), (20, 3), (142, 4))"
            ]
          },
          "metadata": {},
          "execution_count": 20
        }
      ]
    },
    {
      "cell_type": "markdown",
      "source": [
        "### llama-v3-8b-instruct (fireworks.ai)\n",
        "https://fireworks.ai/models"
      ],
      "metadata": {
        "id": "x9LIhB4MPhae"
      }
    },
    {
      "cell_type": "code",
      "source": [
        "api = 'fireworks'\n",
        "model = 'llama-v3-8b-instruct'\n",
        "api_key = FIREWORKS_API_KEY\n",
        "\n",
        "price_counter = 0\n",
        "failed = []\n",
        "collector = []\n",
        "for row in df_true.itertuples():\n",
        "  file_name = row.file_name\n",
        "  text = df_true.query(f\"file_name == @file_name\").text.values[0]\n",
        "  try:\n",
        "    PROMPT = get_prompt(questions,\n",
        "                        text,\n",
        "                        model)\n",
        "\n",
        "\n",
        "\n",
        "    s = time()\n",
        "    r = get_text_completion(model, PROMPT, api, api_key,\n",
        "                    temperature = 0.1,\n",
        "                    max_tokens = 4028)\n",
        "    time_to_completion = round(time() - s, 2)\n",
        "\n",
        "    json_data = r.json()\n",
        "\n",
        "    prompt_tokens, completion_tokens = get_tokens_usage(json_data)\n",
        "    prompt_tokens_price = model_pricing[model]['prompt_tokens']*prompt_tokens/1000000\n",
        "    prompt_tokens_price = model_pricing[model]['prompt_tokens']*prompt_tokens/1000000\n",
        "    completion_tokens_price = model_pricing[model]['completion_tokens']*completion_tokens/1000000\n",
        "    model_price = prompt_tokens_price + completion_tokens_price\n",
        "    price_counter += model_price\n",
        "\n",
        "    completion = json_data['choices'][0]['message']['content']\n",
        "    completion = json.loads(completion)\n",
        "    collector.append((row[0], file_name, time_to_completion, prompt_tokens,\n",
        "                      completion_tokens, price_counter, len(failed)))\n",
        "    print(row[0], file_name, time_to_completion, price_counter, len(failed))\n",
        "\n",
        "    bucket = 'bergena-invoice-parser'\n",
        "    key = f'datasets/FCC/completions/april_2024_biden_invoices/open-mistral-7b/{file_name}/completion.json'\n",
        "    s3_client.put_object(Body=json.dumps(json_data),\n",
        "                        Bucket=bucket,\n",
        "                        Key=key)\n",
        "  except:\n",
        "    print(f\"exception: {row[0]}\")\n",
        "    failed.append(row[0])\n",
        "  # break"
      ],
      "metadata": {
        "colab": {
          "base_uri": "https://localhost:8080/"
        },
        "id": "GsQUAY8OPpoS",
        "outputId": "ef9c4154-3748-4f0b-8c2f-ebf3fa61f00c"
      },
      "execution_count": null,
      "outputs": [
        {
          "output_type": "stream",
          "name": "stdout",
          "text": [
            "1 Biden for President 6065165 invoice 10286532 1.31 0.00032680000000000003 0\n",
            "2 78175-5224040008 Biden for President est 11600 April invoice 0.93 0.0005614000000000001 0\n",
            "3 Biden for President 6030682 invoice 10285193 1.03 0.0007828000000000002 0\n",
            "4 Biden for President 6030845 invoice 10285200 0.84 0.0010014000000000002 0\n",
            "5 6031177 Invoice 0.86 0.0013326000000000002 0\n",
            "6 Biden for President Invoice 745015-2 0.94 0.0016380000000000001 0\n",
            "7 Biden for President Invoice 747631-1 0.94 0.0019334 0\n",
            "8 BIDEN FOR PRESIDENT WWJ INVOICE 190043548 1.38 0.002396 0\n",
            "9 BIDEN FOR PRESIDENT WWJ INVOICE 190043521 1.33 0.0027552 0\n",
            "10 BIDEN FOR PRESIDENT KYW INVOICE 140045943 1.24 0.0031336000000000003 0\n",
            "11 BIDEN FOR PRESIDENT KYW INVOICE 140045946 1.23 0.0034270000000000004 0\n",
            "12 BIDEN FOR PRESIDENT KDKA INVOICE 240047162 2.33 0.0042072 0\n",
            "13 6057935 Invoice 1.02 0.0045012 0\n",
            "14 Biden for presiden Invoice 74406-1 1.02 0.0050118 0\n",
            "15 Biden for President Order 3484048 Inv 3-31-24 2.08 0.005693800000000001 0\n",
            "16 Biden for President Order 3492765 Inv 3-31-24 0.96 0.006020600000000001 0\n",
            "17 3484627-1_INV_Mar26-Apr1 2.07 0.006652200000000001 0\n",
            "18 3484448-1_INV_Mar26-Apr1 2.19 0.007369400000000002 0\n",
            "19 Joe Biden Inv #2873451-1 March 2024 1.28 0.008757400000000002 0\n",
            "20 Joe Biden Inv #2877619-1 March 2024 2.05 0.009610400000000002 0\n",
            "21 Joe Biden Inv #2886466-1 March 2024 2.08 0.010402600000000001 0\n",
            "22 Joe Biden Inv #2890274-1 March 2024 0.96 0.010797000000000001 0\n",
            "23 A3016-INVOICE-033124 5.38 0.012053800000000002 0\n",
            "24 Pol J Biden D PRE US_INVOICE_1120834 2.16 0.012772600000000002 0\n",
            "25 Pol J Biden D PRE US_INVOICE_1122616 2.41 0.014193000000000002 0\n",
            "26 455303-1 Biden for President Invoice WDJT 3.2 0.015257600000000003 0\n",
            "27 455004-1 Biden for President Invoice WDJT 2.7 0.016304600000000002 0\n",
            "28 455823-1 Biden for President Invoice WDJT 2.1 0.017102600000000003 0\n",
            "29 76444-5224030046 Biden for President est 11566 March invoice 1.08 0.017540200000000002 0\n",
            "30 76421-5224030146 Biden for President est 11564 March invoice 1.77 0.018158 0\n",
            "31 76959-5224030203 Biden for President est 11575 March invoice 1.66 0.018532 0\n",
            "32 76421-5224040001 Biden for President est 11564 April invoice 0.77 0.0188018 0\n",
            "33 BIDEN FOR PRESIDENT KDKA INVOICE 240046792 3.31 0.019784200000000002 0\n",
            "34 BIDEN FOR PRESIDENT KDKA INVOICE 240047000 3.28 0.0204888 0\n",
            "35 Biden-D-President Invoice 3.19-3.25.24 1.07 0.021360200000000003 0\n",
            "36 BIDEN FOR PRESIDENT KYW INVOICE 140045598 1.9 0.021949200000000002 0\n",
            "37 BIDEN FOR PRESIDENT KYW INVOICE 140045837 2.88 0.022987 0\n",
            "38 BIDEN FOR PRESIDENT KYW INVOICE 140045848 2.61 0.0238674 0\n",
            "39 BIDEN FOR PRESIDENT WKBD INVOICE 320041965 0.99 0.0241562 0\n",
            "40 BIDEN FOR PRESIDENT WPKD INVOICE 340045014 1.32 0.0245254 0\n",
            "41 BIDEN FOR PRESIDENT WPKD INVOICE 340044756 1.99 0.025047 0\n",
            "42 BIDEN FOR PRESIDENT WPKD INVOICE 340044815 1.49 0.0253842 0\n",
            "43 BIDEN FOR PRESIDENT WWJ INVOICE 190043206 1.34 0.0257602 0\n",
            "44 BIDEN FOR PRESIDENT WWJ INVOICE 190043402 0.77 0.0259996 0\n",
            "45 BIDEN FOR PRESIDENT WWJ INVOICE 190043245 1.25 0.026325 0\n",
            "46 Joe Biden _ President -D _ 2142493-2 Invoice 0.99 0.0269192 0\n",
            "47 6030864 Invoice 0.96 0.027167200000000002 0\n",
            "48 Biden for President 1342298 March 24 invoice 2.27 0.0279122 0\n",
            "49 Biden for President 1346898 March 24 invoice 2.56 0.028655600000000003 0\n",
            "50 Biden for President Order 3482227 Inv 4-7-24 1.42 0.028990800000000004 0\n",
            "51 Biden for President Order 3484048 Inv 4-7-24 2.01 0.029420200000000004 0\n",
            "52 76335-5224040002 Biden for President est 11560 April invoice 0.79 0.029683600000000004 0\n",
            "53 Biden for President - Invoice 3467062-1 1.74 0.030409200000000004 0\n",
            "54 Biden for President - Invoice 3457194-1 1.07 0.031445 0\n",
            "55 3484448-2_INV_Mar26-Apr1 1.92 0.031894 0\n",
            "56 3484627-2_INV_Mar26-Apr1 1.79 0.032303 0\n",
            "57 Biden for President - estimate 11554 Biden PA - order 49703 - invoice 0.87 0.032581 0\n",
            "58 Biden for President - estimate 11509 Biden PA - order 49541 - invoice 1.3 0.0329676 0\n",
            "59 Biden for President - estimate 11526 Biden PA - order 49600 - invoice 1.1 0.0333476 0\n",
            "60 Pol J Biden D PRE US_INVOICE_1124724 2.9 0.0339564 0\n",
            "61 Biden for President 385311 Invoice 1.15 0.035060999999999995 0\n",
            "62 Biden for President 6030845 invoice 10282286 1.14 0.035328799999999994 0\n",
            "63 Biden for President 6030682 invoice 10282279 1.01 0.035592599999999995 0\n",
            "64 Biden for President 6047580 invoice 10285298 1.06 0.0358456 0\n",
            "65 KSNV BIDEN 6047550 INV 2.17 0.0364136 0\n",
            "66 NVCW BIDEN 6047517 INV 3.39 0.0373352 0\n",
            "67 Biden for President Order 3502407 Inv 4-14-24 1.03 0.0379136 0\n",
            "68 Biden for President Order 3510070 Inv 4-14-24 2.07 0.0383584 0\n",
            "69 Joe Biden Inv #2886466-2 April 2024 0.84 0.0387068 0\n",
            "70 WMSN-BIDEN FOR PRESIDENT EST 11584 Period 4.1.24-4.7.24 Inv. 10285310 2.54 0.0392906 0\n",
            "71 WMSN-BIDEN FOR PRESIDENT EST 11583 Period 4.1.24-4.7.24 Inv. 10285303 1.26 0.0406308 0\n",
            "72 3501243-1_INV_Apr2-Apr8 1.15 0.0420216 0\n",
            "73 78176-5224040009 Biden for President est 11601 April invoice 3.11 0.0431544 0\n",
            "74 KPHO Biden for President est 11561 Apr INVOICE  1.28 0.0447176 0\n",
            "75 Biden-D-President (30s) Invoice 4.2-4.8.24 1.13 0.045860200000000004 0\n",
            "76 Biden-D-President Invoice 4.2-4.8.24 1.03 0.046523800000000004 0\n",
            "77 Joe Biden Inv #2897581-1 April 2024 0.76 0.0468698 0\n",
            "78 Joe Biden Inv #2894336-1 April 2024 3.07 0.048367400000000005 0\n",
            "79 WMSN-BIDEN FOR PRESIDENT EST 11583 Period 4.8.24-4.14.24 Inv. 10285760 2.13 0.0489216 0\n",
            "80 WMSN-BIDEN FOR PRESIDENT EST 11584 Period 4.8.24-4.14.24 Inv. 10285761 1.45 0.049251 0\n",
            "81 Biden for President Order 3519522 Inv 4-21-24 1.77 0.0496952 0\n",
            "82 Biden for President Order 3519501 Inv 4-21-24 0.98 0.050356000000000005 0\n",
            "83 Biden for President Order 3510071 Inv 4-21-24 1.04 0.05118500000000001 0\n",
            "84 79175-5224040013 Biden for President est 11634 April invoice 1.2 0.05162280000000001 0\n",
            "85 79176-5224040014 Biden for President est 11633 April invoice 2.05 0.05228740000000001 0\n",
            "86 KPHO Biden for President est 4212 Apr INVOICE  1.62 0.052932000000000014 0\n",
            "87 KTVK Biden for President est 4212 Apr INVOICE  1.93 0.053624600000000015 0\n",
            "88 Biden-D-President (30s) Invoice 4.9-4.15.24 1.1 0.05479360000000001 0\n",
            "89 Biden-D-President Invoice 4.9-4.15.24 2.13 0.05533240000000001 0\n",
            "90 Biden-D-President (30s) Invoice 4.16-4.21.24 1.13 0.05639800000000001 0\n",
            "91 Biden-D-President Invoice 4.16-4.21.24 2.03 0.05698340000000001 0\n",
            "92 Biden-D-President Invoice 4.17-4.19.24 1.81 0.05757660000000001 0\n",
            "93 KMSB JB DNC INV_2699945-1 1.46 0.058355400000000016 0\n",
            "94 KMSB JB DNC INV_2699965-1 0.88 0.058699000000000015 0\n",
            "95 Pol J Biden D PRE US_INVOICE_1127502 2.65 0.05990060000000001 0\n",
            "96 Pol J Biden D PRE US_INVOICE_1127498 1.09 0.06030740000000001 0\n",
            "97 Pol J Biden D PRE US_INVOICE_1128576 3.21 0.06106580000000001 0\n",
            "98 Pol J Biden D PRE US_INVOICE_1130275 0.97 0.06165520000000001 0\n",
            "99 Joe Biden Inv #2901764-1 April 2024 1.56 0.062390400000000006 0\n",
            "100 Joe Biden Inv #2901771-1 April 2024 2.1 0.0628712 0\n",
            "101 Joe Biden Inv #2897580-1 April 2024 1.06 0.06392880000000001 0\n",
            "102 Pol J Biden D PRE US_INVOICE_1130464 2.07 0.06486180000000001 0\n",
            "103 3519575-1_INV_Apr16-Apr22 1.88 0.06549280000000002 0\n",
            "104 3509557-1_INV_Apr9-Apr15 1.81 0.06615140000000001 0\n",
            "105 WMSN-BIDEN FOR PRESIDENT EST 11631 Period 4.15.24-4.21.24 Inv. 10286545 1.12 0.06724160000000001 0\n",
            "106 WMSN-BIDEN FOR PRESIDENT EST 11632 Period 4.15.24-4.21.24 Inv. 10286561 1.78 0.0676878 0\n",
            "107 KSNV BIDEN 6056352 INV 2.21 0.0682542 0\n",
            "108 KSNV BIDEN 6056352 INV 2 1.42 0.0686104 0\n",
            "109 KSNV BIDEN 6065222 INV 2.78 0.06925100000000001 0\n",
            "110 KSNV BIDEN 6047550 INV 2 1.14 0.06955720000000001 0\n",
            "111 NVCW BIDEN 6056376 INV 2 1.37 0.06993260000000001 0\n",
            "112 NVCW BIDEN 6047517 INV 2 1.41 0.07030440000000002 0\n",
            "113 NVCW BIDEN 6056376 INV 3.63 0.07119860000000001 0\n",
            "114 Biden for President - estimate 4204 Spanish News - order 49864 - invoice 1.43 0.07154960000000002 0\n",
            "115 Biden for President - estimate 4207 Spanish News - order 49866 - invoice 1.27 0.07185680000000001 0\n",
            "116 Biden for President - estimate Spanish News - order 49720 - invoice 2 0.84 0.07211320000000002 0\n",
            "117 Biden for President - estimate 4200 Spanish News - order 49803 - invoice 1.78 0.07251380000000002 0\n",
            "118 Biden for President - estimate Spanish News - order 49720 - invoice 1 1.25 0.07284500000000002 0\n",
            "119 Biden for President - estimate 11650 Biden PA - order 49980 - invoice 0.87 0.07314640000000001 0\n",
            "120 Biden for President - estimate 11609 Biden PA - order 49947 - invoice 0.96 0.07369900000000001 0\n",
            "121 Biden for President - estimate 11602 Biden PA - order 49853 - invoice 1.66 0.07409480000000002 0\n",
            "122 Biden for President - estimate 11580 Biden PA - order 49804 - invoice 1.41 0.07453860000000001 0\n",
            "123 BIDEN FOR PRESIDENT KDKA INVOICE 240047102 0.76 0.07477760000000001 0\n",
            "124 BIDEN FOR PRESIDENT KDKA INVOICE 240047147 1.33 0.07511340000000001 0\n",
            "125 BIDEN FOR PRESIDENT KDKA INVOICE 240047127 4.91 0.0761508 0\n",
            "126 BIDEN FOR PRESIDENT KDKA INVOICE 240047443 1.57 0.07666260000000001 0\n",
            "127 BIDEN FOR PRESIDENT KDKA INVOICE 240047146 1.19 0.0769684 0\n",
            "128 BIDEN FOR PRESIDENT KDKA INVOICE 240047180 1.98 0.0775678 0\n",
            "129 BIDEN FOR PRESIDENT KDKA INVOICE 240047381 1.96 0.07814040000000001 0\n",
            "130 BIDEN FOR PRESIDENT KYW INVOICE 140045911 1.92 0.07868800000000001 0\n",
            "131 BIDEN FOR PRESIDENT KYW INVOICE 140045873 1.72 0.07918700000000001 0\n",
            "132 BIDEN FOR PRESIDENT WKBD INVOICE 320042335 1.04 0.07945440000000001 0\n",
            "133 BIDEN FOR PRESIDENT WKBD INVOICE 320042339 1.06 0.0797342 0\n",
            "134 BIDEN FOR PRESIDENT WKBD INVOICE 320042343 1.44 0.08009580000000001 0\n",
            "135 BIDEN FOR PRESIDENT WKBD INVOICE 320042313 1.99 0.0804836 0\n",
            "136 BIDEN FOR PRESIDENT WUPA INVOICE 330040143 1.05 0.0809526 0\n",
            "137 BIDEN FOR PRESIDENT WUPA INVOICE 330040102 1.63 0.08146199999999999 0\n",
            "138 BIDEN FOR PRESIDENT WUPA INVOICE 330040141 1.38 0.08196139999999999 0\n",
            "139 BIDEN FOR PRESIDENT WWJ INVOICE 190043547 1.2 0.082324 0\n",
            "140 BIDEN FOR PRESIDENT WWJ INVOICE 190043553 1.68 0.082867 0\n",
            "141 1461600 KBLR BIDEN FOR PRESIDENT EST 4204 INV 1.44 0.08320559999999999 0\n",
            "142 1461599 KBLR BIDEN FOR PRESIDENT EST 4207 INV 1.05 0.08348679999999999 0\n"
          ]
        }
      ]
    },
    {
      "cell_type": "code",
      "source": [
        "fireworks_df = pd.DataFrame(collector,\n",
        "             columns=[\n",
        "                 'ind',\n",
        "                      'file_name',\n",
        "                      'time_to_completion',\n",
        "                      'prompt_tokens',\n",
        "                      'completion_tokens',\n",
        "                      'price_counter',\n",
        "                      'failed'])\n",
        "fireworks_df.shape"
      ],
      "metadata": {
        "colab": {
          "base_uri": "https://localhost:8080/"
        },
        "id": "oUSBCXs62Iux",
        "outputId": "c8c96d97-df12-4c12-cd4b-b2a737aaeca2"
      },
      "execution_count": null,
      "outputs": [
        {
          "output_type": "execute_result",
          "data": {
            "text/plain": [
              "(142, 7)"
            ]
          },
          "metadata": {},
          "execution_count": 85
        }
      ]
    },
    {
      "cell_type": "markdown",
      "source": [
        "#### get llama_true_df: gross equals sum lin items"
      ],
      "metadata": {
        "id": "IW-utLwHS_dk"
      }
    },
    {
      "cell_type": "code",
      "source": [
        "# model = 'llama3-8b-8192'\n",
        "model='llama-v3-8b-instruct'\n",
        "bucket = 'bergena-invoice-parser'\n",
        "prefix = f'datasets/FCC/completions/april_2024_biden_invoices/{model}/'\n",
        "keys_df = oper.get_latest_keys_from_(s3_client,\n",
        "                                    bucket,\n",
        "                                    prefix,\n",
        "                                    zipped=True)\n",
        "keys_df = pd.DataFrame(keys_df,\n",
        "                       columns = ['ts','key'])\n",
        "keys_df['file_name'] = keys_df['key'].str.split('/').str[5]\n",
        "keys_df.shape"
      ],
      "metadata": {
        "id": "icUZp95ZSZPG",
        "colab": {
          "base_uri": "https://localhost:8080/"
        },
        "outputId": "5fde75f0-bf4b-4945-e942-c5c21f5656d7"
      },
      "execution_count": null,
      "outputs": [
        {
          "output_type": "execute_result",
          "data": {
            "text/plain": [
              "(142, 3)"
            ]
          },
          "metadata": {},
          "execution_count": 86
        }
      ]
    },
    {
      "cell_type": "code",
      "source": [
        "collector = []\n",
        "failed = []\n",
        "for row in keys_df.itertuples():\n",
        "  try:\n",
        "    json_data = s3_client.get_object(\n",
        "                                    Bucket = bucket,\n",
        "                                    Key = row.key\n",
        "                                    )\n",
        "    json_data = json.loads(json_data['Body'].read())\n",
        "    completion = json.loads(json_data['choices'][0]['message']['content'])\n",
        "    gross_amount, line_items_sum = get_totals(completion)\n",
        "    collector.append((row.file_name, gross_amount, line_items_sum))\n",
        "  except:\n",
        "    failed.append(row.file_name)\n",
        "  if row[0]%10==0:\n",
        "    print(row[0], len(collector), len(failed))"
      ],
      "metadata": {
        "colab": {
          "base_uri": "https://localhost:8080/"
        },
        "id": "lF90OPJRTuDw",
        "outputId": "c5e82a81-60c3-4a5b-d2a4-0ed49c9812cf"
      },
      "execution_count": null,
      "outputs": [
        {
          "output_type": "stream",
          "name": "stdout",
          "text": [
            "0 1 0\n",
            "10 11 0\n",
            "20 21 0\n",
            "30 30 1\n",
            "40 40 1\n",
            "50 49 2\n",
            "60 59 2\n",
            "70 68 3\n",
            "80 78 3\n",
            "90 87 4\n",
            "100 97 4\n",
            "110 106 5\n",
            "120 116 5\n",
            "130 126 5\n",
            "140 136 5\n"
          ]
        }
      ]
    },
    {
      "cell_type": "code",
      "source": [
        "llama_df = pd.DataFrame(collector,\n",
        "             columns=[\n",
        "                      'file_name',\n",
        "                      'gross_amount',\n",
        "                      'line_sum'])\n",
        "llama_true_df = llama_df.query(f\"gross_amount == line_sum\").reset_index(drop=True).copy()\n",
        "llama_df.shape, llama_true_df.shape, df_true.shape"
      ],
      "metadata": {
        "colab": {
          "base_uri": "https://localhost:8080/"
        },
        "id": "e6sB1NWsT6c7",
        "outputId": "64d191c1-9f5b-4586-c989-0b3d3c7d92d0"
      },
      "execution_count": null,
      "outputs": [
        {
          "output_type": "execute_result",
          "data": {
            "text/plain": [
              "((137, 3), (35, 3), (142, 4))"
            ]
          },
          "metadata": {},
          "execution_count": 88
        }
      ]
    },
    {
      "cell_type": "code",
      "source": [
        "accuracy = len(llama_true_df)/len(df_true)\n",
        "print(f\"llama 8B accuracy: {accuracy:.4f}\")"
      ],
      "metadata": {
        "colab": {
          "base_uri": "https://localhost:8080/"
        },
        "id": "SpJ_EZJ8K-xf",
        "outputId": "772e07fb-0d48-4aee-ed5a-7acbf580469d"
      },
      "execution_count": null,
      "outputs": [
        {
          "output_type": "stream",
          "name": "stdout",
          "text": [
            "llama 8B accuracy: 0.2465\n"
          ]
        }
      ]
    },
    {
      "cell_type": "markdown",
      "source": [
        "#### Conclusion: 35 true out of 142 total (25% accuracy)"
      ],
      "metadata": {
        "id": "XqhfZ98SLOoS"
      }
    },
    {
      "cell_type": "markdown",
      "source": [
        "### gemma-7b-it (fireworks)"
      ],
      "metadata": {
        "id": "WGvVVCSbOvW8"
      }
    },
    {
      "cell_type": "code",
      "source": [
        "model = 'gemma-7b-it'\n",
        "api = 'fireworks'\n",
        "api_key = FIREWORKS_API_KEY\n",
        "\n",
        "price_counter = 0\n",
        "failed = []\n",
        "collector = []\n",
        "for row in df_true.itertuples():\n",
        "  file_name = row.file_name\n",
        "  text = df_true.query(f\"file_name == @file_name\").text.values[0]\n",
        "  try:\n",
        "    PROMPT = get_prompt(questions,\n",
        "                        text,\n",
        "                        model)\n",
        "\n",
        "\n",
        "\n",
        "    s = time()\n",
        "    r = get_text_completion(model, PROMPT, api, api_key,\n",
        "                    temperature = 0.1,\n",
        "                    max_tokens = 4028)\n",
        "    time_to_completion = round(time() - s, 2)\n",
        "\n",
        "    json_data = r.json()\n",
        "\n",
        "    prompt_tokens, completion_tokens = get_tokens_usage(json_data)\n",
        "    prompt_tokens_price = model_pricing[model]['prompt_tokens']*prompt_tokens/1000000\n",
        "    prompt_tokens_price = model_pricing[model]['prompt_tokens']*prompt_tokens/1000000\n",
        "    completion_tokens_price = model_pricing[model]['completion_tokens']*completion_tokens/1000000\n",
        "    model_price = prompt_tokens_price + completion_tokens_price\n",
        "    price_counter += model_price\n",
        "\n",
        "    completion = json_data['choices'][0]['message']['content']\n",
        "    completion = json.loads(completion)\n",
        "    collector.append((row[0], file_name, time_to_completion, prompt_tokens,\n",
        "                      completion_tokens, price_counter, len(failed)))\n",
        "    print(row[0], file_name, time_to_completion, price_counter, len(failed))\n",
        "\n",
        "    bucket = 'bergena-invoice-parser'\n",
        "    key = f'datasets/FCC/completions/april_2024_biden_invoices/open-mistral-7b/{file_name}/completion.json'\n",
        "    s3_client.put_object(Body=json.dumps(json_data),\n",
        "                        Bucket=bucket,\n",
        "                        Key=key)\n",
        "  except:\n",
        "    print(f\"exception: {row[0]}\")\n",
        "    failed.append(row[0])\n",
        "  # break"
      ],
      "metadata": {
        "colab": {
          "base_uri": "https://localhost:8080/"
        },
        "outputId": "5d2159a6-576c-46ed-c404-86a0e2abbaa1",
        "id": "hm3OqW8eMYf_"
      },
      "execution_count": null,
      "outputs": [
        {
          "output_type": "stream",
          "name": "stdout",
          "text": [
            "1 Biden for President 6065165 invoice 10286532 1.92 0.00034800000000000006 0\n",
            "2 78175-5224040008 Biden for President est 11600 April invoice 1.84 0.0006358000000000001 0\n",
            "3 Biden for President 6030682 invoice 10285193 1.67 0.0009088000000000001 0\n",
            "4 Biden for President 6030845 invoice 10285200 1.71 0.0011798000000000002 0\n",
            "5 6031177 Invoice 1.87 0.0015828 0\n",
            "6 Biden for President Invoice 745015-2 1.84 0.0019586 0\n",
            "7 Biden for President Invoice 747631-1 1.89 0.0023228 0\n",
            "8 BIDEN FOR PRESIDENT WWJ INVOICE 190043548 1.9 0.0028899999999999998 0\n",
            "9 BIDEN FOR PRESIDENT WWJ INVOICE 190043521 1.86 0.0033117999999999997 0\n",
            "10 BIDEN FOR PRESIDENT KYW INVOICE 140045943 1.93 0.0037738 0\n",
            "11 BIDEN FOR PRESIDENT KYW INVOICE 140045946 1.92 0.0041418 0\n",
            "12 BIDEN FOR PRESIDENT KDKA INVOICE 240047162 1.98 0.0050352 0\n",
            "exception: 13\n",
            "14 Biden for presiden Invoice 74406-1 1.9 0.0056762 1\n",
            "15 Biden for President Order 3484048 Inv 3-31-24 1.91 0.0064052 1\n",
            "16 Biden for President Order 3492765 Inv 3-31-24 1.92 0.006807 1\n",
            "17 3484627-1_INV_Mar26-Apr1 1.89 0.0074843999999999996 1\n",
            "18 3484448-1_INV_Mar26-Apr1 1.95 0.008258 1\n",
            "exception: 19\n",
            "20 Joe Biden Inv #2877619-1 March 2024 2.06 0.010837399999999999 2\n",
            "21 Joe Biden Inv #2886466-1 March 2024 2.0 0.011702399999999998 2\n",
            "22 Joe Biden Inv #2890274-1 March 2024 1.83 0.012181199999999998 2\n",
            "23 A3016-INVOICE-033124 2.11 0.013412399999999998 2\n",
            "24 Pol J Biden D PRE US_INVOICE_1120834 1.96 0.014227999999999998 2\n",
            "exception: 25\n",
            "26 455303-1 Biden for President Invoice WDJT 2.09 0.017035199999999997 3\n",
            "27 455004-1 Biden for President Invoice WDJT 2.08 0.018211399999999996 3\n",
            "28 455823-1 Biden for President Invoice WDJT 2.11 0.019128999999999997 3\n",
            "29 76444-5224030046 Biden for President est 11566 March invoice 1.88 0.019648799999999998 3\n",
            "30 76421-5224030146 Biden for President est 11564 March invoice 1.94 0.020310799999999997 3\n",
            "31 76959-5224030203 Biden for President est 11575 March invoice 1.87 0.020696399999999997 3\n",
            "32 76421-5224040001 Biden for President est 11564 April invoice 1.86 0.021042799999999997 3\n",
            "33 BIDEN FOR PRESIDENT KDKA INVOICE 240046792 2.17 0.022101599999999996 3\n",
            "34 BIDEN FOR PRESIDENT KDKA INVOICE 240047000 1.95 0.022802199999999995 3\n",
            "35 Biden-D-President Invoice 3.19-3.25.24 2.18 0.023867599999999996 3\n",
            "36 BIDEN FOR PRESIDENT KYW INVOICE 140045598 1.94 0.024548399999999995 3\n",
            "37 BIDEN FOR PRESIDENT KYW INVOICE 140045837 2.04 0.025775799999999995 3\n",
            "38 BIDEN FOR PRESIDENT KYW INVOICE 140045848 2.15 0.026777199999999994 3\n",
            "39 BIDEN FOR PRESIDENT WKBD INVOICE 320041965 1.88 0.027136599999999993 3\n",
            "40 BIDEN FOR PRESIDENT WPKD INVOICE 340045014 2.09 0.027573399999999994 3\n",
            "41 BIDEN FOR PRESIDENT WPKD INVOICE 340044756 2.0 0.028161199999999994 3\n",
            "42 BIDEN FOR PRESIDENT WPKD INVOICE 340044815 1.86 0.028549199999999993 3\n",
            "43 BIDEN FOR PRESIDENT WWJ INVOICE 190043206 1.87 0.028987199999999994 3\n",
            "44 BIDEN FOR PRESIDENT WWJ INVOICE 190043402 1.64 0.029302399999999996 3\n",
            "45 BIDEN FOR PRESIDENT WWJ INVOICE 190043245 1.85 0.029688799999999994 3\n",
            "46 Joe Biden _ President -D _ 2142493-2 Invoice 1.9 0.030419799999999993 3\n",
            "47 6030864 Invoice 1.91 0.030723599999999993 3\n",
            "48 Biden for President 1342298 March 24 invoice 1.99 0.031571199999999994 3\n",
            "49 Biden for President 1346898 March 24 invoice 1.95 0.03240219999999999 3\n",
            "50 Biden for President Order 3482227 Inv 4-7-24 1.88 0.03276799999999999 3\n",
            "51 Biden for President Order 3484048 Inv 4-7-24 1.85 0.03317899999999999 3\n",
            "52 76335-5224040002 Biden for President est 11560 April invoice 1.88 0.03352019999999999 3\n",
            "53 Biden for President - Invoice 3467062-1 1.95 0.034308599999999995 3\n",
            "54 Biden for President - Invoice 3457194-1 2.22 0.0355608 3\n",
            "55 3484448-2_INV_Mar26-Apr1 1.88 0.0360188 3\n",
            "56 3484627-2_INV_Mar26-Apr1 1.84 0.0364322 3\n",
            "57 Biden for President - estimate 11554 Biden PA - order 49703 - invoice 1.82 0.036781799999999996 3\n",
            "58 Biden for President - estimate 11509 Biden PA - order 49541 - invoice 1.89 0.0372208 3\n",
            "59 Biden for President - estimate 11526 Biden PA - order 49600 - invoice 1.85 0.037668599999999997 3\n",
            "60 Pol J Biden D PRE US_INVOICE_1124724 1.9 0.038249599999999995 3\n",
            "61 Biden for President 385311 Invoice 5.18 0.039826799999999996 3\n",
            "62 Biden for President 6030845 invoice 10282286 1.62 0.040128399999999995 3\n",
            "63 Biden for President 6030682 invoice 10282279 1.96 0.04043959999999999 3\n",
            "64 Biden for President 6047580 invoice 10285298 1.86 0.040744199999999994 3\n",
            "65 KSNV BIDEN 6047550 INV 1.88 0.041316399999999996 3\n",
            "66 NVCW BIDEN 6047517 INV 1.94 0.042204599999999995 3\n",
            "67 Biden for President Order 3502407 Inv 4-14-24 1.97 0.042934799999999995 3\n",
            "68 Biden for President Order 3510070 Inv 4-14-24 1.88 0.043378999999999994 3\n",
            "69 Joe Biden Inv #2886466-2 April 2024 1.89 0.043816999999999995 3\n",
            "70 WMSN-BIDEN FOR PRESIDENT EST 11584 Period 4.1.24-4.7.24 Inv. 10285310 1.86 0.044389399999999996 3\n",
            "exception: 71\n",
            "exception: 72\n",
            "73 78176-5224040009 Biden for President est 11601 April invoice 2.08 0.0472422 5\n",
            "exception: 74\n",
            "75 Biden-D-President (30s) Invoice 4.2-4.8.24 2.22 0.0486606 6\n",
            "76 Biden-D-President Invoice 4.2-4.8.24 1.92 0.0494674 6\n",
            "77 Joe Biden Inv #2897581-1 April 2024 1.84 0.0499006 6\n",
            "exception: 78\n",
            "79 WMSN-BIDEN FOR PRESIDENT EST 11583 Period 4.8.24-4.14.24 Inv. 10285760 1.85 0.0504498 7\n",
            "80 WMSN-BIDEN FOR PRESIDENT EST 11584 Period 4.8.24-4.14.24 Inv. 10285761 1.86 0.050818 7\n",
            "81 Biden for President Order 3519522 Inv 4-21-24 1.83 0.051262 7\n",
            "82 Biden for President Order 3519501 Inv 4-21-24 1.91 0.052079 7\n",
            "83 Biden for President Order 3510071 Inv 4-21-24 2.07 0.0531214 7\n",
            "84 79175-5224040013 Biden for President est 11634 April invoice 1.84 0.0536532 7\n",
            "85 79176-5224040014 Biden for President est 11633 April invoice 1.91 0.0543998 7\n",
            "86 KPHO Biden for President est 4212 Apr INVOICE  1.93 0.0551158 7\n",
            "87 KTVK Biden for President est 4212 Apr INVOICE  1.92 0.0558786 7\n",
            "88 Biden-D-President (30s) Invoice 4.9-4.15.24 5.06 0.0574136 7\n",
            "89 Biden-D-President Invoice 4.9-4.15.24 1.87 0.0579676 7\n",
            "90 Biden-D-President (30s) Invoice 4.16-4.21.24 4.74 0.059364 7\n",
            "91 Biden-D-President Invoice 4.16-4.21.24 1.87 0.0599848 7\n",
            "92 Biden-D-President Invoice 4.17-4.19.24 1.92 0.060611 7\n",
            "93 KMSB JB DNC INV_2699945-1 1.97 0.0614752 7\n",
            "94 KMSB JB DNC INV_2699965-1 1.9 0.0619036 7\n",
            "95 Pol J Biden D PRE US_INVOICE_1127502 2.48 0.06324500000000001 7\n",
            "96 Pol J Biden D PRE US_INVOICE_1127498 2.52 0.06375360000000001 7\n",
            "97 Pol J Biden D PRE US_INVOICE_1128576 1.93 0.06448620000000001 7\n",
            "98 Pol J Biden D PRE US_INVOICE_1130275 1.89 0.0652302 7\n",
            "99 Joe Biden Inv #2901764-1 April 2024 1.97 0.0660638 7\n",
            "100 Joe Biden Inv #2901771-1 April 2024 1.84 0.06653 7\n",
            "101 Joe Biden Inv #2897580-1 April 2024 2.3 0.06782400000000001 7\n",
            "102 Pol J Biden D PRE US_INVOICE_1130464 2.03 0.0688894 7\n",
            "103 3519575-1_INV_Apr16-Apr22 1.94 0.06957100000000001 7\n",
            "104 3509557-1_INV_Apr9-Apr15 1.94 0.07030320000000001 7\n",
            "105 WMSN-BIDEN FOR PRESIDENT EST 11631 Period 4.15.24-4.21.24 Inv. 10286545 5.16 0.07174080000000001 7\n",
            "106 WMSN-BIDEN FOR PRESIDENT EST 11632 Period 4.15.24-4.21.24 Inv. 10286561 1.84 0.0722084 7\n",
            "107 KSNV BIDEN 6056352 INV 1.88 0.07277420000000001 7\n",
            "108 KSNV BIDEN 6056352 INV 2 1.87 0.07318220000000002 7\n",
            "109 KSNV BIDEN 6065222 INV 1.88 0.07380260000000001 7\n",
            "110 KSNV BIDEN 6047550 INV 2 1.87 0.07417320000000001 7\n",
            "111 NVCW BIDEN 6056376 INV 2 1.84 0.07459740000000001 7\n",
            "112 NVCW BIDEN 6047517 INV 2 1.83 0.07501980000000001 7\n",
            "113 NVCW BIDEN 6056376 INV 1.98 0.07587180000000002 7\n",
            "114 Biden for President - estimate 4204 Spanish News - order 49864 - invoice 1.87 0.07626300000000001 7\n",
            "115 Biden for President - estimate 4207 Spanish News - order 49866 - invoice 1.89 0.0766108 7\n",
            "116 Biden for President - estimate Spanish News - order 49720 - invoice 2 1.89 0.0769418 7\n",
            "117 Biden for President - estimate 4200 Spanish News - order 49803 - invoice 1.84 0.07734740000000001 7\n",
            "118 Biden for President - estimate Spanish News - order 49720 - invoice 1 1.85 0.0777208 7\n",
            "119 Biden for President - estimate 11650 Biden PA - order 49980 - invoice 1.89 0.07809920000000001 7\n",
            "120 Biden for President - estimate 11609 Biden PA - order 49947 - invoice 1.89 0.0787936 7\n",
            "121 Biden for President - estimate 11602 Biden PA - order 49853 - invoice 2.06 0.0791988 7\n",
            "122 Biden for President - estimate 11580 Biden PA - order 49804 - invoice 1.86 0.07969 7\n",
            "123 BIDEN FOR PRESIDENT KDKA INVOICE 240047102 1.75 0.0800042 7\n",
            "124 BIDEN FOR PRESIDENT KDKA INVOICE 240047147 1.86 0.0803948 7\n",
            "125 BIDEN FOR PRESIDENT KDKA INVOICE 240047127 2.07 0.0813662 7\n",
            "126 BIDEN FOR PRESIDENT KDKA INVOICE 240047443 1.85 0.081977 7\n",
            "127 BIDEN FOR PRESIDENT KDKA INVOICE 240047146 1.86 0.0823474 7\n",
            "128 BIDEN FOR PRESIDENT KDKA INVOICE 240047180 1.88 0.083018 7\n",
            "129 BIDEN FOR PRESIDENT KDKA INVOICE 240047381 1.92 0.0836724 7\n",
            "130 BIDEN FOR PRESIDENT KYW INVOICE 140045911 1.88 0.08429439999999999 7\n",
            "131 BIDEN FOR PRESIDENT KYW INVOICE 140045873 1.94 0.08488359999999999 7\n",
            "132 BIDEN FOR PRESIDENT WKBD INVOICE 320042335 1.85 0.085226 7\n",
            "133 BIDEN FOR PRESIDENT WKBD INVOICE 320042339 1.88 0.08557479999999999 7\n",
            "134 BIDEN FOR PRESIDENT WKBD INVOICE 320042343 1.81 0.0859876 7\n",
            "135 BIDEN FOR PRESIDENT WKBD INVOICE 320042313 1.86 0.0864014 7\n",
            "136 BIDEN FOR PRESIDENT WUPA INVOICE 330040143 1.85 0.087019 7\n",
            "137 BIDEN FOR PRESIDENT WUPA INVOICE 330040102 1.9 0.0876324 7\n",
            "138 BIDEN FOR PRESIDENT WUPA INVOICE 330040141 1.88 0.0882342 7\n",
            "139 BIDEN FOR PRESIDENT WWJ INVOICE 190043547 1.85 0.0886616 7\n",
            "140 BIDEN FOR PRESIDENT WWJ INVOICE 190043553 1.92 0.08929279999999999 7\n",
            "141 1461600 KBLR BIDEN FOR PRESIDENT EST 4204 INV 1.84 0.0896732 7\n",
            "142 1461599 KBLR BIDEN FOR PRESIDENT EST 4207 INV 1.87 0.0900212 7\n"
          ]
        }
      ]
    },
    {
      "cell_type": "code",
      "source": [
        "completion"
      ],
      "metadata": {
        "colab": {
          "base_uri": "https://localhost:8080/"
        },
        "id": "y4OyWaE8abwT",
        "outputId": "e52dc173-a2ed-40bc-9818-2bbe3b060c9e"
      },
      "execution_count": null,
      "outputs": [
        {
          "output_type": "execute_result",
          "data": {
            "text/plain": [
              "{'Summary_fields': {'number': '3983920-1',\n",
              "  'date': '2023-09-29',\n",
              "  'gross_amount': 10000.0,\n",
              "  'net_amount': 9500.0,\n",
              "  'issuer': 'WTAE'},\n",
              " 'Line_items_num': 10,\n",
              " 'Spots_num': 12,\n",
              " 'Headers_mapping': {'description': 'Description',\n",
              "  'spot_amount': 'Amount',\n",
              "  'air_date': 'Air Date'},\n",
              " 'Line_items': [{'line_num': 1,\n",
              "   'spot_num': 1,\n",
              "   'air_date': '2024-03-13',\n",
              "   'description': '6-7am News',\n",
              "   'spot_amount': 750.0},\n",
              "  {'line_num': 5,\n",
              "   'spot_num': 6,\n",
              "   'air_date': '2024-03-15',\n",
              "   'description': '6-7am News',\n",
              "   'spot_amount': 1750.0}],\n",
              " 'spot_amounts_total': 2500.0}"
            ]
          },
          "metadata": {},
          "execution_count": 93
        }
      ]
    },
    {
      "cell_type": "code",
      "source": [
        "fireworks_gemma_df = pd.DataFrame(collector,\n",
        "             columns=[\n",
        "                 'ind',\n",
        "                      'file_name',\n",
        "                      'time_to_completion',\n",
        "                      'prompt_tokens',\n",
        "                      'completion_tokens',\n",
        "                      'price_counter',\n",
        "                      'failed'])\n",
        "fireworks_gemma_df.shape"
      ],
      "metadata": {
        "colab": {
          "base_uri": "https://localhost:8080/"
        },
        "id": "qC-F161dOSar",
        "outputId": "65ecaadf-8643-40d6-b207-56e31433a05a"
      },
      "execution_count": null,
      "outputs": [
        {
          "output_type": "execute_result",
          "data": {
            "text/plain": [
              "(135, 7)"
            ]
          },
          "metadata": {},
          "execution_count": 91
        }
      ]
    },
    {
      "cell_type": "code",
      "source": [
        "# model = 'llama3-8b-8192'\n",
        "# model='llama-v3-8b-instruct'\n",
        "bucket = 'bergena-invoice-parser'\n",
        "prefix = f'datasets/FCC/completions/april_2024_biden_invoices/{model}/'\n",
        "keys_df = oper.get_latest_keys_from_(s3_client,\n",
        "                                    bucket,\n",
        "                                    prefix,\n",
        "                                    zipped=True)\n",
        "keys_df = pd.DataFrame(keys_df,\n",
        "                       columns = ['ts','key'])\n",
        "keys_df['file_name'] = keys_df['key'].str.split('/').str[5]\n",
        "keys_df.shape"
      ],
      "metadata": {
        "colab": {
          "base_uri": "https://localhost:8080/"
        },
        "id": "lTzp27VoN6D-",
        "outputId": "a54fe50a-e8a9-4f83-a217-82cb0a577c49"
      },
      "execution_count": null,
      "outputs": [
        {
          "output_type": "execute_result",
          "data": {
            "text/plain": [
              "(103, 3)"
            ]
          },
          "metadata": {},
          "execution_count": 92
        }
      ]
    },
    {
      "cell_type": "code",
      "source": [
        "collector = []\n",
        "failed = []\n",
        "for row in keys_df.itertuples():\n",
        "  try:\n",
        "    json_data = s3_client.get_object(\n",
        "                                    Bucket = bucket,\n",
        "                                    Key = row.key\n",
        "                                    )\n",
        "    json_data = json.loads(json_data['Body'].read())\n",
        "    completion = json.loads(json_data['choices'][0]['message']['content'])\n",
        "    gross_amount, line_items_sum = get_totals(completion)\n",
        "    collector.append((row.file_name, gross_amount, line_items_sum))\n",
        "  except:\n",
        "    failed.append(row.file_name)\n",
        "  if row[0]%10==0:\n",
        "    print(row[0], len(collector), len(failed))"
      ],
      "metadata": {
        "colab": {
          "base_uri": "https://localhost:8080/"
        },
        "id": "usujq1w6On6G",
        "outputId": "34e42a29-c660-4f72-e390-24e09897083f"
      },
      "execution_count": null,
      "outputs": [
        {
          "output_type": "stream",
          "name": "stdout",
          "text": [
            "0 1 0\n",
            "10 6 5\n",
            "20 12 9\n",
            "30 18 13\n",
            "40 25 16\n",
            "50 34 17\n",
            "60 41 20\n",
            "70 51 20\n",
            "80 60 21\n",
            "90 66 25\n",
            "100 74 27\n"
          ]
        }
      ]
    },
    {
      "cell_type": "code",
      "source": [
        "gemma_df = pd.DataFrame(collector,\n",
        "             columns=[\n",
        "                      'file_name',\n",
        "                      'gross_amount',\n",
        "                      'line_sum'])\n",
        "gemma_true_df = gemma_df.query(f\"gross_amount == line_sum\").reset_index(drop=True).copy()\n",
        "gemma_df.shape, gemma_true_df.shape, df_true.shape"
      ],
      "metadata": {
        "colab": {
          "base_uri": "https://localhost:8080/"
        },
        "id": "GdhSvA_KOFx3",
        "outputId": "172c3260-1807-4815-ba9c-c66b4e229766"
      },
      "execution_count": null,
      "outputs": [
        {
          "output_type": "execute_result",
          "data": {
            "text/plain": [
              "((75, 3), (0, 3), (142, 4))"
            ]
          },
          "metadata": {},
          "execution_count": 94
        }
      ]
    },
    {
      "cell_type": "code",
      "source": [
        "gemma_df"
      ],
      "metadata": {
        "colab": {
          "base_uri": "https://localhost:8080/",
          "height": 424
        },
        "id": "JreHp1GvO4-d",
        "outputId": "25f3ce59-6ed7-40ee-d34f-73b3ed457bd0"
      },
      "execution_count": null,
      "outputs": [
        {
          "output_type": "execute_result",
          "data": {
            "text/plain": [
              "                                         file_name  gross_amount  line_sum\n",
              "0    1461599 KBLR BIDEN FOR PRESIDENT EST 4207 INV       10000.0    2500.0\n",
              "1    1461600 KBLR BIDEN FOR PRESIDENT EST 4204 INV       10000.0    2500.0\n",
              "2       BIDEN FOR PRESIDENT WUPA INVOICE 330040143       10000.0    2500.0\n",
              "3       BIDEN FOR PRESIDENT WKBD INVOICE 320042339       10000.0    2500.0\n",
              "4        BIDEN FOR PRESIDENT KYW INVOICE 140045911       10000.0    2500.0\n",
              "..                                             ...           ...       ...\n",
              "97            Biden for President Invoice 745015-2       10000.0    2500.0\n",
              "98                                 6031177 Invoice       10000.0    2500.0\n",
              "99    Biden for President 6030845 invoice 10285200       10000.0    2500.0\n",
              "100   Biden for President 6030682 invoice 10285193       10000.0    2500.0\n",
              "101   Biden for President 6065165 invoice 10286532       10000.0    2500.0\n",
              "\n",
              "[102 rows x 3 columns]"
            ],
            "text/html": [
              "\n",
              "  <div id=\"df-83d83270-a9fd-4cfa-b8e7-a33f54f657be\" class=\"colab-df-container\">\n",
              "    <div>\n",
              "<style scoped>\n",
              "    .dataframe tbody tr th:only-of-type {\n",
              "        vertical-align: middle;\n",
              "    }\n",
              "\n",
              "    .dataframe tbody tr th {\n",
              "        vertical-align: top;\n",
              "    }\n",
              "\n",
              "    .dataframe thead th {\n",
              "        text-align: right;\n",
              "    }\n",
              "</style>\n",
              "<table border=\"1\" class=\"dataframe\">\n",
              "  <thead>\n",
              "    <tr style=\"text-align: right;\">\n",
              "      <th></th>\n",
              "      <th>file_name</th>\n",
              "      <th>gross_amount</th>\n",
              "      <th>line_sum</th>\n",
              "    </tr>\n",
              "  </thead>\n",
              "  <tbody>\n",
              "    <tr>\n",
              "      <th>0</th>\n",
              "      <td>1461599 KBLR BIDEN FOR PRESIDENT EST 4207 INV</td>\n",
              "      <td>10000.0</td>\n",
              "      <td>2500.0</td>\n",
              "    </tr>\n",
              "    <tr>\n",
              "      <th>1</th>\n",
              "      <td>1461600 KBLR BIDEN FOR PRESIDENT EST 4204 INV</td>\n",
              "      <td>10000.0</td>\n",
              "      <td>2500.0</td>\n",
              "    </tr>\n",
              "    <tr>\n",
              "      <th>2</th>\n",
              "      <td>BIDEN FOR PRESIDENT WUPA INVOICE 330040143</td>\n",
              "      <td>10000.0</td>\n",
              "      <td>2500.0</td>\n",
              "    </tr>\n",
              "    <tr>\n",
              "      <th>3</th>\n",
              "      <td>BIDEN FOR PRESIDENT WKBD INVOICE 320042339</td>\n",
              "      <td>10000.0</td>\n",
              "      <td>2500.0</td>\n",
              "    </tr>\n",
              "    <tr>\n",
              "      <th>4</th>\n",
              "      <td>BIDEN FOR PRESIDENT KYW INVOICE 140045911</td>\n",
              "      <td>10000.0</td>\n",
              "      <td>2500.0</td>\n",
              "    </tr>\n",
              "    <tr>\n",
              "      <th>...</th>\n",
              "      <td>...</td>\n",
              "      <td>...</td>\n",
              "      <td>...</td>\n",
              "    </tr>\n",
              "    <tr>\n",
              "      <th>97</th>\n",
              "      <td>Biden for President Invoice 745015-2</td>\n",
              "      <td>10000.0</td>\n",
              "      <td>2500.0</td>\n",
              "    </tr>\n",
              "    <tr>\n",
              "      <th>98</th>\n",
              "      <td>6031177 Invoice</td>\n",
              "      <td>10000.0</td>\n",
              "      <td>2500.0</td>\n",
              "    </tr>\n",
              "    <tr>\n",
              "      <th>99</th>\n",
              "      <td>Biden for President 6030845 invoice 10285200</td>\n",
              "      <td>10000.0</td>\n",
              "      <td>2500.0</td>\n",
              "    </tr>\n",
              "    <tr>\n",
              "      <th>100</th>\n",
              "      <td>Biden for President 6030682 invoice 10285193</td>\n",
              "      <td>10000.0</td>\n",
              "      <td>2500.0</td>\n",
              "    </tr>\n",
              "    <tr>\n",
              "      <th>101</th>\n",
              "      <td>Biden for President 6065165 invoice 10286532</td>\n",
              "      <td>10000.0</td>\n",
              "      <td>2500.0</td>\n",
              "    </tr>\n",
              "  </tbody>\n",
              "</table>\n",
              "<p>102 rows × 3 columns</p>\n",
              "</div>\n",
              "    <div class=\"colab-df-buttons\">\n",
              "\n",
              "  <div class=\"colab-df-container\">\n",
              "    <button class=\"colab-df-convert\" onclick=\"convertToInteractive('df-83d83270-a9fd-4cfa-b8e7-a33f54f657be')\"\n",
              "            title=\"Convert this dataframe to an interactive table.\"\n",
              "            style=\"display:none;\">\n",
              "\n",
              "  <svg xmlns=\"http://www.w3.org/2000/svg\" height=\"24px\" viewBox=\"0 -960 960 960\">\n",
              "    <path d=\"M120-120v-720h720v720H120Zm60-500h600v-160H180v160Zm220 220h160v-160H400v160Zm0 220h160v-160H400v160ZM180-400h160v-160H180v160Zm440 0h160v-160H620v160ZM180-180h160v-160H180v160Zm440 0h160v-160H620v160Z\"/>\n",
              "  </svg>\n",
              "    </button>\n",
              "\n",
              "  <style>\n",
              "    .colab-df-container {\n",
              "      display:flex;\n",
              "      gap: 12px;\n",
              "    }\n",
              "\n",
              "    .colab-df-convert {\n",
              "      background-color: #E8F0FE;\n",
              "      border: none;\n",
              "      border-radius: 50%;\n",
              "      cursor: pointer;\n",
              "      display: none;\n",
              "      fill: #1967D2;\n",
              "      height: 32px;\n",
              "      padding: 0 0 0 0;\n",
              "      width: 32px;\n",
              "    }\n",
              "\n",
              "    .colab-df-convert:hover {\n",
              "      background-color: #E2EBFA;\n",
              "      box-shadow: 0px 1px 2px rgba(60, 64, 67, 0.3), 0px 1px 3px 1px rgba(60, 64, 67, 0.15);\n",
              "      fill: #174EA6;\n",
              "    }\n",
              "\n",
              "    .colab-df-buttons div {\n",
              "      margin-bottom: 4px;\n",
              "    }\n",
              "\n",
              "    [theme=dark] .colab-df-convert {\n",
              "      background-color: #3B4455;\n",
              "      fill: #D2E3FC;\n",
              "    }\n",
              "\n",
              "    [theme=dark] .colab-df-convert:hover {\n",
              "      background-color: #434B5C;\n",
              "      box-shadow: 0px 1px 3px 1px rgba(0, 0, 0, 0.15);\n",
              "      filter: drop-shadow(0px 1px 2px rgba(0, 0, 0, 0.3));\n",
              "      fill: #FFFFFF;\n",
              "    }\n",
              "  </style>\n",
              "\n",
              "    <script>\n",
              "      const buttonEl =\n",
              "        document.querySelector('#df-83d83270-a9fd-4cfa-b8e7-a33f54f657be button.colab-df-convert');\n",
              "      buttonEl.style.display =\n",
              "        google.colab.kernel.accessAllowed ? 'block' : 'none';\n",
              "\n",
              "      async function convertToInteractive(key) {\n",
              "        const element = document.querySelector('#df-83d83270-a9fd-4cfa-b8e7-a33f54f657be');\n",
              "        const dataTable =\n",
              "          await google.colab.kernel.invokeFunction('convertToInteractive',\n",
              "                                                    [key], {});\n",
              "        if (!dataTable) return;\n",
              "\n",
              "        const docLinkHtml = 'Like what you see? Visit the ' +\n",
              "          '<a target=\"_blank\" href=https://colab.research.google.com/notebooks/data_table.ipynb>data table notebook</a>'\n",
              "          + ' to learn more about interactive tables.';\n",
              "        element.innerHTML = '';\n",
              "        dataTable['output_type'] = 'display_data';\n",
              "        await google.colab.output.renderOutput(dataTable, element);\n",
              "        const docLink = document.createElement('div');\n",
              "        docLink.innerHTML = docLinkHtml;\n",
              "        element.appendChild(docLink);\n",
              "      }\n",
              "    </script>\n",
              "  </div>\n",
              "\n",
              "\n",
              "<div id=\"df-de5af0fe-57c1-4514-8c60-34e17bdfb2f8\">\n",
              "  <button class=\"colab-df-quickchart\" onclick=\"quickchart('df-de5af0fe-57c1-4514-8c60-34e17bdfb2f8')\"\n",
              "            title=\"Suggest charts\"\n",
              "            style=\"display:none;\">\n",
              "\n",
              "<svg xmlns=\"http://www.w3.org/2000/svg\" height=\"24px\"viewBox=\"0 0 24 24\"\n",
              "     width=\"24px\">\n",
              "    <g>\n",
              "        <path d=\"M19 3H5c-1.1 0-2 .9-2 2v14c0 1.1.9 2 2 2h14c1.1 0 2-.9 2-2V5c0-1.1-.9-2-2-2zM9 17H7v-7h2v7zm4 0h-2V7h2v10zm4 0h-2v-4h2v4z\"/>\n",
              "    </g>\n",
              "</svg>\n",
              "  </button>\n",
              "\n",
              "<style>\n",
              "  .colab-df-quickchart {\n",
              "      --bg-color: #E8F0FE;\n",
              "      --fill-color: #1967D2;\n",
              "      --hover-bg-color: #E2EBFA;\n",
              "      --hover-fill-color: #174EA6;\n",
              "      --disabled-fill-color: #AAA;\n",
              "      --disabled-bg-color: #DDD;\n",
              "  }\n",
              "\n",
              "  [theme=dark] .colab-df-quickchart {\n",
              "      --bg-color: #3B4455;\n",
              "      --fill-color: #D2E3FC;\n",
              "      --hover-bg-color: #434B5C;\n",
              "      --hover-fill-color: #FFFFFF;\n",
              "      --disabled-bg-color: #3B4455;\n",
              "      --disabled-fill-color: #666;\n",
              "  }\n",
              "\n",
              "  .colab-df-quickchart {\n",
              "    background-color: var(--bg-color);\n",
              "    border: none;\n",
              "    border-radius: 50%;\n",
              "    cursor: pointer;\n",
              "    display: none;\n",
              "    fill: var(--fill-color);\n",
              "    height: 32px;\n",
              "    padding: 0;\n",
              "    width: 32px;\n",
              "  }\n",
              "\n",
              "  .colab-df-quickchart:hover {\n",
              "    background-color: var(--hover-bg-color);\n",
              "    box-shadow: 0 1px 2px rgba(60, 64, 67, 0.3), 0 1px 3px 1px rgba(60, 64, 67, 0.15);\n",
              "    fill: var(--button-hover-fill-color);\n",
              "  }\n",
              "\n",
              "  .colab-df-quickchart-complete:disabled,\n",
              "  .colab-df-quickchart-complete:disabled:hover {\n",
              "    background-color: var(--disabled-bg-color);\n",
              "    fill: var(--disabled-fill-color);\n",
              "    box-shadow: none;\n",
              "  }\n",
              "\n",
              "  .colab-df-spinner {\n",
              "    border: 2px solid var(--fill-color);\n",
              "    border-color: transparent;\n",
              "    border-bottom-color: var(--fill-color);\n",
              "    animation:\n",
              "      spin 1s steps(1) infinite;\n",
              "  }\n",
              "\n",
              "  @keyframes spin {\n",
              "    0% {\n",
              "      border-color: transparent;\n",
              "      border-bottom-color: var(--fill-color);\n",
              "      border-left-color: var(--fill-color);\n",
              "    }\n",
              "    20% {\n",
              "      border-color: transparent;\n",
              "      border-left-color: var(--fill-color);\n",
              "      border-top-color: var(--fill-color);\n",
              "    }\n",
              "    30% {\n",
              "      border-color: transparent;\n",
              "      border-left-color: var(--fill-color);\n",
              "      border-top-color: var(--fill-color);\n",
              "      border-right-color: var(--fill-color);\n",
              "    }\n",
              "    40% {\n",
              "      border-color: transparent;\n",
              "      border-right-color: var(--fill-color);\n",
              "      border-top-color: var(--fill-color);\n",
              "    }\n",
              "    60% {\n",
              "      border-color: transparent;\n",
              "      border-right-color: var(--fill-color);\n",
              "    }\n",
              "    80% {\n",
              "      border-color: transparent;\n",
              "      border-right-color: var(--fill-color);\n",
              "      border-bottom-color: var(--fill-color);\n",
              "    }\n",
              "    90% {\n",
              "      border-color: transparent;\n",
              "      border-bottom-color: var(--fill-color);\n",
              "    }\n",
              "  }\n",
              "</style>\n",
              "\n",
              "  <script>\n",
              "    async function quickchart(key) {\n",
              "      const quickchartButtonEl =\n",
              "        document.querySelector('#' + key + ' button');\n",
              "      quickchartButtonEl.disabled = true;  // To prevent multiple clicks.\n",
              "      quickchartButtonEl.classList.add('colab-df-spinner');\n",
              "      try {\n",
              "        const charts = await google.colab.kernel.invokeFunction(\n",
              "            'suggestCharts', [key], {});\n",
              "      } catch (error) {\n",
              "        console.error('Error during call to suggestCharts:', error);\n",
              "      }\n",
              "      quickchartButtonEl.classList.remove('colab-df-spinner');\n",
              "      quickchartButtonEl.classList.add('colab-df-quickchart-complete');\n",
              "    }\n",
              "    (() => {\n",
              "      let quickchartButtonEl =\n",
              "        document.querySelector('#df-de5af0fe-57c1-4514-8c60-34e17bdfb2f8 button');\n",
              "      quickchartButtonEl.style.display =\n",
              "        google.colab.kernel.accessAllowed ? 'block' : 'none';\n",
              "    })();\n",
              "  </script>\n",
              "</div>\n",
              "\n",
              "  <div id=\"id_f5f66fd5-6bc3-4d0e-8ac3-f853b2c54b64\">\n",
              "    <style>\n",
              "      .colab-df-generate {\n",
              "        background-color: #E8F0FE;\n",
              "        border: none;\n",
              "        border-radius: 50%;\n",
              "        cursor: pointer;\n",
              "        display: none;\n",
              "        fill: #1967D2;\n",
              "        height: 32px;\n",
              "        padding: 0 0 0 0;\n",
              "        width: 32px;\n",
              "      }\n",
              "\n",
              "      .colab-df-generate:hover {\n",
              "        background-color: #E2EBFA;\n",
              "        box-shadow: 0px 1px 2px rgba(60, 64, 67, 0.3), 0px 1px 3px 1px rgba(60, 64, 67, 0.15);\n",
              "        fill: #174EA6;\n",
              "      }\n",
              "\n",
              "      [theme=dark] .colab-df-generate {\n",
              "        background-color: #3B4455;\n",
              "        fill: #D2E3FC;\n",
              "      }\n",
              "\n",
              "      [theme=dark] .colab-df-generate:hover {\n",
              "        background-color: #434B5C;\n",
              "        box-shadow: 0px 1px 3px 1px rgba(0, 0, 0, 0.15);\n",
              "        filter: drop-shadow(0px 1px 2px rgba(0, 0, 0, 0.3));\n",
              "        fill: #FFFFFF;\n",
              "      }\n",
              "    </style>\n",
              "    <button class=\"colab-df-generate\" onclick=\"generateWithVariable('gemma_df')\"\n",
              "            title=\"Generate code using this dataframe.\"\n",
              "            style=\"display:none;\">\n",
              "\n",
              "  <svg xmlns=\"http://www.w3.org/2000/svg\" height=\"24px\"viewBox=\"0 0 24 24\"\n",
              "       width=\"24px\">\n",
              "    <path d=\"M7,19H8.4L18.45,9,17,7.55,7,17.6ZM5,21V16.75L18.45,3.32a2,2,0,0,1,2.83,0l1.4,1.43a1.91,1.91,0,0,1,.58,1.4,1.91,1.91,0,0,1-.58,1.4L9.25,21ZM18.45,9,17,7.55Zm-12,3A5.31,5.31,0,0,0,4.9,8.1,5.31,5.31,0,0,0,1,6.5,5.31,5.31,0,0,0,4.9,4.9,5.31,5.31,0,0,0,6.5,1,5.31,5.31,0,0,0,8.1,4.9,5.31,5.31,0,0,0,12,6.5,5.46,5.46,0,0,0,6.5,12Z\"/>\n",
              "  </svg>\n",
              "    </button>\n",
              "    <script>\n",
              "      (() => {\n",
              "      const buttonEl =\n",
              "        document.querySelector('#id_f5f66fd5-6bc3-4d0e-8ac3-f853b2c54b64 button.colab-df-generate');\n",
              "      buttonEl.style.display =\n",
              "        google.colab.kernel.accessAllowed ? 'block' : 'none';\n",
              "\n",
              "      buttonEl.onclick = () => {\n",
              "        google.colab.notebook.generateWithVariable('gemma_df');\n",
              "      }\n",
              "      })();\n",
              "    </script>\n",
              "  </div>\n",
              "\n",
              "    </div>\n",
              "  </div>\n"
            ],
            "application/vnd.google.colaboratory.intrinsic+json": {
              "type": "dataframe",
              "variable_name": "gemma_df",
              "summary": "{\n  \"name\": \"gemma_df\",\n  \"rows\": 102,\n  \"fields\": [\n    {\n      \"column\": \"file_name\",\n      \"properties\": {\n        \"dtype\": \"string\",\n        \"num_unique_values\": 102,\n        \"samples\": [\n          \"Pol J Biden D PRE US_INVOICE_1127502\",\n          \"Joe Biden _ President -D _ 2142493-2 Invoice\",\n          \"76335-5224040002 Biden for President est 11560 April invoice\"\n        ],\n        \"semantic_type\": \"\",\n        \"description\": \"\"\n      }\n    },\n    {\n      \"column\": \"gross_amount\",\n      \"properties\": {\n        \"dtype\": \"number\",\n        \"std\": 0.0,\n        \"min\": 10000.0,\n        \"max\": 10000.0,\n        \"num_unique_values\": 1,\n        \"samples\": [\n          10000.0\n        ],\n        \"semantic_type\": \"\",\n        \"description\": \"\"\n      }\n    },\n    {\n      \"column\": \"line_sum\",\n      \"properties\": {\n        \"dtype\": \"number\",\n        \"std\": 0.0,\n        \"min\": 2500.0,\n        \"max\": 2500.0,\n        \"num_unique_values\": 1,\n        \"samples\": [\n          2500.0\n        ],\n        \"semantic_type\": \"\",\n        \"description\": \"\"\n      }\n    }\n  ]\n}"
            }
          },
          "metadata": {},
          "execution_count": 88
        }
      ]
    },
    {
      "cell_type": "markdown",
      "source": [
        "#5. Chart: Benchmarking LLMs on Public vs Private datasets"
      ],
      "metadata": {
        "id": "qvr7ID-hTcVd"
      }
    },
    {
      "cell_type": "code",
      "source": [
        "import matplotlib.pyplot as plt\n",
        "\n",
        "# mixeval data is taken from https://mixeval.github.io/\n",
        "mixeval_data = {\n",
        "    'Model': ['LLaMA-3-8B', 'Mistral-7B', 'Gemma-7B'],\n",
        "    'Overall': [65.1, 64.8, 64.7],\n",
        "    'HUM': [31.7, 27.1, 32.7],\n",
        "    'STEM': [65.2, 67.2, 66.0],\n",
        "    'SS': [69.5, 68.5, 67.4],\n",
        "    'Other': [63.8, 61.3, 63.8],\n",
        "    'China': [51.5, 54.5, 36.0],\n",
        "    'Avg (high school)': [69.8, 67.9, 68.4],\n",
        "    'Avg (college)': [64.0, 68.0, 74.3],\n",
        "    'Avg (grad)': [22.6, 24.2, 31.1],\n",
        "    'HS Knowledge': [38.5, 27.7, 28.1],\n",
        "    'College Knowledge': [37.1, 34.5, 31.4]\n",
        "}\n",
        "\n",
        "# compute MixEval average score\n",
        "mixeval_df = pd.DataFrame(mixeval_data)\n",
        "mixeval_df['Average'] = mixeval_df.iloc[:, 1:].mean(axis=1)\n",
        "\n",
        "aggregate_data = {\n",
        "    'Model': ['LLaMA-3-8B', 'Mistral-7B','Gemma-7B'],\n",
        "    'MixEval aggregate': [\n",
        "                          mixeval_df.loc[mixeval_df['Model'] == 'LLaMA-3-8B', 'Average'].values[0],\n",
        "                          mixeval_df.loc[mixeval_df['Model'] == 'Mistral-7B', 'Average'].values[0],\n",
        "                          mixeval_df.loc[mixeval_df['Model'] == 'Gemma-7B', 'Average'].values[0]]\n",
        "}\n",
        "\n",
        "\n",
        "# Creating the custom dataset data (see Compare Candidate Models)\n",
        "custom_dataset_data = {\n",
        "    'Model': ['LLaMA-3-8B', 'Mistral-7B','Gemma-7B'],\n",
        "    'Scores on custom dataset': [25, 22, 1]\n",
        "}\n",
        "\n",
        "# Convert to DataFrames\n",
        "df_aggregate = pd.DataFrame(aggregate_data)\n",
        "df_custom = pd.DataFrame(custom_dataset_data)\n",
        "\n",
        "# Plotting the bar chart with enhanced colors\n",
        "fig, ax = plt.subplots(figsize=(10, 5))\n",
        "\n",
        "# Plot MixEval aggregate bars with enhanced color\n",
        "bars_aggregate = ax.bar(df_aggregate['Model'], df_aggregate['MixEval aggregate'], color='dodgerblue', alpha=0.8, label='MixEval aggregate')\n",
        "\n",
        "# Plot custom dataset bars with enhanced color\n",
        "bars_custom = ax.bar(df_custom['Model'], df_custom['Scores on custom dataset'], color='darkorange', alpha=0.8, label='Scores on custom dataset')\n",
        "\n",
        "# Adding title and labels\n",
        "ax.set_title('MixEval Aggregate and Custom Dataset Scores', fontsize=16, fontweight='bold')\n",
        "ax.set_xlabel('Model', fontsize=14)\n",
        "ax.set_ylabel('Scores', fontsize=14)\n",
        "ax.legend()\n",
        "\n",
        "# Enhance the grid and ticks\n",
        "ax.grid(True, linestyle='--', alpha=0.6)\n",
        "ax.set_axisbelow(True)\n",
        "plt.xticks(rotation=45, fontsize=12)\n",
        "plt.yticks(fontsize=12)\n",
        "\n",
        "# Display the plot with tight layout\n",
        "plt.tight_layout()\n",
        "plt.show()\n"
      ],
      "metadata": {
        "colab": {
          "base_uri": "https://localhost:8080/",
          "height": 427
        },
        "id": "nQFt8p3_1tp-",
        "outputId": "4d74caaf-283f-466d-abc9-336e01629fdf"
      },
      "execution_count": null,
      "outputs": [
        {
          "output_type": "display_data",
          "data": {
            "text/plain": [
              "<Figure size 1000x500 with 1 Axes>"
            ],
            "image/png": "[encoded data removed]"
          },
          "metadata": {}
        }
      ]
    }
  ]
}