{
  "nbformat": 4,
  "nbformat_minor": 0,
  "metadata": {
    "colab": {
      "provenance": [],
      "toc_visible": true
    },
    "kernelspec": {
      "name": "python3",
      "display_name": "Python 3"
    },
    "language_info": {
      "name": "python"
    }
  },
  "cells": [
    {
      "cell_type": "code",
      "execution_count": null,
      "metadata": {
        "id": "STYAL-xsfJ-6"
      },
      "outputs": [],
      "source": []
    },
    {
      "cell_type": "markdown",
      "source": [
        "# Assess GPT-4o Accuracy\n",
        "# Create Truth Dataset for Fine-Tuning\n",
        "This is a companion notebook to a LinkedIn post <INSERT URL>\n",
        "In this notebook we do the following 2 things:\n",
        "* assess GPT-4o accuracy on a custom dataset of PDF invoices from Biden for President Campaign\n",
        "* create truth dataset, which will be used for supervised fine-tuning.\n",
        "\n",
        "The goal of fine-tuning will be to teach a model to extract data about Spots from line items of PDF invoices with a complex structure, which includes:\n",
        "* multiple pages\n",
        "* multiple line items with nested elements (Spots)\n",
        "\n",
        "To create a truth dataset which can be used in fine-tuning, we will use GPT-4o to run over a sample of our data and then apply a Quality function to identify completions with accurate data.  \n",
        "\n",
        "As a result, we will:\n",
        "* estimate GPT-4o accuracy\n",
        "* obtain a dataset with truth values\n",
        "\n",
        "\n",
        "## Steps Overview\n",
        "1. Run GPT-4o on a sample of PDF invoices\n",
        "2. Use a quality function to filter accurate completions\n",
        "3. Store the resulting truth dataset"
      ],
      "metadata": {
        "id": "R40Ax7fyXii8"
      }
    },
    {
      "cell_type": "markdown",
      "metadata": {
        "id": "tYWtQW0gU7be"
      },
      "source": [
        "# Initializer"
      ]
    },
    {
      "cell_type": "code",
      "source": [
        "!pip install boto3\n",
        "import boto3\n",
        "from IPython.display import clear_output\n",
        "clear_output()"
      ],
      "metadata": {
        "id": "fUAxPnAngIs1"
      },
      "execution_count": null,
      "outputs": []
    },
    {
      "cell_type": "code",
      "source": [
        "import os\n",
        "if 's3-operator' in os.listdir():\n",
        "  pass\n",
        "else:\n",
        "# this will install a library to help with reading/saving files from/to s3\n",
        "  !git clone https://github.com/aguille-vert/s3-operator\n",
        "\n",
        "import sys\n",
        "sys.path.append('/content/s3-operator')\n",
        "\n",
        "import s3_operator as oper"
      ],
      "metadata": {
        "id": "6t9Kynx5SV23"
      },
      "execution_count": null,
      "outputs": []
    },
    {
      "cell_type": "markdown",
      "source": [
        "it is assumed that pdf files were downloaded from FCC web site, page images were extracted from each file, and everything was uploaded to AWS s3 bucket  \n",
        "For details see this [Colab notebook](https://github.com/aguille-vert/trump-biden-ads/blob/main/notebooks/trump_biden_download_preprocess_store.ipynb)"
      ],
      "metadata": {
        "id": "-dkK6mRsfLRK"
      }
    },
    {
      "cell_type": "code",
      "source": [
        "BUCKET = '<INSERT YOUR BUCKE NAME HERE>'"
      ],
      "metadata": {
        "id": "aNFSwPSqfGFc"
      },
      "execution_count": null,
      "outputs": []
    },
    {
      "cell_type": "code",
      "execution_count": null,
      "metadata": {
        "id": "Ia9vXOYsVAQI"
      },
      "outputs": [],
      "source": [
        "import json\n",
        "from time import time\n",
        "import pandas as pd\n",
        "import numpy as np\n",
        "from io import BytesIO\n",
        "from PIL import Image\n",
        "import requests\n",
        "from collections import defaultdict\n",
        "from random import choice, choices\n",
        "import re\n",
        "from datetime import datetime, timedelta\n",
        "from joblib import Parallel, delayed, parallel_backend, dump, load\n",
        "from random import randint, choice\n",
        "from pprint import pprint\n",
        "from time import sleep\n",
        "import base64"
      ]
    },
    {
      "cell_type": "markdown",
      "metadata": {
        "id": "DzoqHdELu2pz"
      },
      "source": [
        "## clients and tokens"
      ]
    },
    {
      "cell_type": "code",
      "execution_count": null,
      "metadata": {
        "id": "j3Dn5t6SVIZS"
      },
      "outputs": [],
      "source": [
        "from google.colab import userdata\n",
        "\n",
        "OPENAI_KEY = userdata.get('OPENAI_KEY')\n",
        "\n",
        "AWS_BRG_ACCESS_KEY = userdata.get('AWS_BRG_ACCESS_KEY')\n",
        "AWS_BRG_SECRET_ACCESS_KEY = userdata.get('AWS_BRG_SECRET_ACCESS_KEY')\n",
        "\n",
        "s3_client = boto3.client('s3',\n",
        "            aws_access_key_id = AWS_BRG_ACCESS_KEY,\n",
        "            aws_secret_access_key = AWS_BRG_SECRET_ACCESS_KEY)\n"
      ]
    },
    {
      "cell_type": "markdown",
      "metadata": {
        "id": "4o9HrTuSzMLs"
      },
      "source": [
        "# Functions"
      ]
    },
    {
      "cell_type": "code",
      "execution_count": null,
      "metadata": {
        "id": "Dx64t2l4GReH"
      },
      "outputs": [],
      "source": [
        "# per million tokens\n",
        "\n",
        "model_pricing = {\n",
        "\n",
        "                 'gpt-4o': {'prompt_tokens':5,\n",
        "                                          'completion_tokens':15},\n",
        "\n",
        "                  'gpt-3.5-turbo-0125': {'prompt_tokens' : 0.5,\n",
        "                                              'completion_tokens': 1.5},\n",
        "                  'gpt-4-turbo': {'prompt_tokens':10,\n",
        "                                          'completion_tokens':30},\n",
        "                  # https://mistral.ai/technology/:\n",
        "                'open-mistral-7b' : {\n",
        "                    'prompt_tokens' : 0.25,\n",
        "                    'completion_tokens' : 0.25\n",
        "                    },\n",
        "                  'open-mixtral-8x7b' : {\n",
        "                                        'prompt_tokens' : 0.7,\n",
        "                                        'completion_tokens' : 0.7\n",
        "                                        },\n",
        "                  'open-mixtral-8x22b' : {\n",
        "                                        'prompt_tokens' : 2,\n",
        "                                        'completion_tokens' : 6\n",
        "                                        },\n",
        "                  # groq.com 8,192 tokens:\n",
        "                  'llama3-8b-8192' : {\n",
        "                                        'prompt_tokens' : 0.005,\n",
        "                                        'completion_tokens' : 0.010\n",
        "                                        },\n",
        "                  'mixtral-8x7b-32768' : {\n",
        "                                        'prompt_tokens' : 0.27,\n",
        "                                        'completion_tokens' : 0.27\n",
        "                                        },\n",
        "                  'llama3-70b-8192' : {\n",
        "                                        'prompt_tokens' : 0.59,\n",
        "                                        'completion_tokens' : 0.79\n",
        "                                        },\n",
        "\n",
        "                }\n",
        "\n",
        "def get_image(s3_client, bucket, key):\n",
        "    # Use the S3 client to download the file\n",
        "    buffer = BytesIO()\n",
        "    s3_client.download_fileobj(bucket, key, buffer)\n",
        "    buffer.seek(0)\n",
        "    pil_image = Image.open(buffer)\n",
        "\n",
        "    # Reset buffer's pointer to the beginning\n",
        "    buffer.seek(0)\n",
        "\n",
        "    # Read the buffer content into bytes\n",
        "    image_bytes = buffer.read()\n",
        "\n",
        "    # Encode image bytes to base64\n",
        "    base64_image = base64.b64encode(image_bytes).decode('utf-8')\n",
        "\n",
        "    return pil_image, base64_image\n",
        "\n",
        "def get_image_completion(model,\n",
        "                         prompt,\n",
        "                         api,\n",
        "                         api_key,\n",
        "                         base64_images,\n",
        "                         temperature=0.1,\n",
        "                         max_tokens=2048,\n",
        "                         TIMEOUT=30):\n",
        "\n",
        "    apis = {\n",
        "        'groq': 'https://api.groq.com/openai/v1/chat/completions',\n",
        "        'openai': 'https://api.openai.com/v1/chat/completions',\n",
        "        'mistral': 'https://api.mistral.ai/v1/chat/completions',\n",
        "        'nvidia': 'https://integrate.api.nvidia.com/v1/chat/completions'\n",
        "    }\n",
        "    url = apis.get(api)\n",
        "\n",
        "    headers = {\n",
        "        \"Content-Type\": \"application/json\",\n",
        "        \"Accept\": \"application/json\",\n",
        "        \"Authorization\": f\"Bearer {api_key}\"\n",
        "    }\n",
        "\n",
        "    # Create the messages payload\n",
        "    content = [\n",
        "\n",
        "            {\"type\": \"text\", \"text\": prompt}\n",
        "          ]\n",
        "    for i in base64_images:\n",
        "      content.append({\"type\": \"image_url\", \"image_url\": {\n",
        "                          \"url\": f\"data:image/png;base64,{i}\"}\n",
        "                      })\n",
        "    messages=[\n",
        "            {\n",
        "                \"role\": \"user\", \"content\": content\n",
        "            }\n",
        "            ]\n",
        "\n",
        "    payload = {\n",
        "        \"model\": model,\n",
        "        \"messages\": messages,\n",
        "        \"max_tokens\": max_tokens,\n",
        "        \"temperature\": temperature,\n",
        "    }\n",
        "\n",
        "    return requests.post(url, json=payload, headers=headers, timeout=TIMEOUT)\n",
        "\n",
        "def get_text_completion(model, prompt, api, api_key,\n",
        "                   temperature = 0.1,\n",
        "                   max_tokens = 1024,\n",
        "                        timeout=60):\n",
        "\n",
        "  apis = {'groq': 'https://api.groq.com/openai/v1/chat/completions',\n",
        "          'openai' : 'https://api.openai.com/v1/chat/completions',\n",
        "          'mistral' : 'https://api.mistral.ai/v1/chat/completions',\n",
        "          'nvidia' : 'https://integrate.api.nvidia.com/v1/chat/completions'}\n",
        "  url = apis.get(api)\n",
        "\n",
        "  headers = {\"Content-Type\": \"application/json\",\n",
        "          \"Accept\": \"application/json\",\n",
        "          \"Authorization\": f\"Bearer {api_key}\"}\n",
        "\n",
        "\n",
        "  messages = [\n",
        "                {\n",
        "                    \"role\": \"user\",\n",
        "                    \"content\": json.dumps(prompt),\n",
        "                },\n",
        "                # {\n",
        "                #   \"role\": \"system\",\n",
        "                #   \"content\": \"you are a helpful accountant.\"\n",
        "                # }\n",
        "              ]\n",
        "\n",
        "  payload = {\n",
        "          \"model\": model,\n",
        "          \"messages\": messages,\n",
        "          \"max_tokens\" : max_tokens,\n",
        "          \"response_format\" : {\"type\": \"json_object\"},\n",
        "          \"temperature\":temperature,\n",
        "          # \"stop\" : '<END>'\n",
        "        }\n",
        "\n",
        "\n",
        "  return requests.post(url, json=payload, headers=headers, timeout=timeout)\n",
        "\n",
        "def get_prompt(questions, document):\n",
        "\n",
        "    return f\"\"\"Analyze  invoice text below and answer the following questions:\n",
        "    ## Questions: {questions}\n",
        "    Answer in JSON\n",
        "    If you can't retrieve a value, assign 'None' to it.\n",
        "\n",
        "    ### Documents start here:\n",
        "    f\"{document}\"\n",
        "    ### Documents end here\n",
        "\n",
        "    ### Answer:\"\"\"\n",
        "\n",
        "\n",
        "def get_tokens_usage(completion):\n",
        "\n",
        "  try:\n",
        "    # completion = json.loads(completion)\n",
        "    usage = completion['usage']\n",
        "    prompt_tokens = usage['prompt_tokens']\n",
        "    completion_tokens = usage['completion_tokens']\n",
        "  except:\n",
        "    prompt_tokens = None\n",
        "    completion_tokens = None\n",
        "  return prompt_tokens, completion_tokens\n",
        "\n",
        "\n"
      ]
    },
    {
      "cell_type": "markdown",
      "source": [
        "# Load Source dataset"
      ],
      "metadata": {
        "id": "9yWqsQ7NkQ-z"
      }
    },
    {
      "cell_type": "code",
      "source": [
        "\n",
        "key = 'datasets/FCC/biden_df.parquet'\n",
        "obj=s3_client.get_object(Bucket=BUCKET,\n",
        "                         Key=key)\n",
        "biden_df = oper.pd_read_parquet(s3_client,\n",
        "                                 BUCKET,\n",
        "                                 key)\n",
        "biden_df['last_update_ts'] = pd.to_datetime(biden_df['last_update_ts'])\n",
        "biden_df['month'] = biden_df['create_ts'].dt.month\n",
        "biden_df['year'] = biden_df['create_ts'].dt.year\n",
        "\n",
        "biden_df.shape"
      ],
      "metadata": {
        "colab": {
          "base_uri": "https://localhost:8080/"
        },
        "id": "XIMKVkjWkaT-",
        "outputId": "09beb4a5-1f3c-42ff-9ba7-bdaaed9b1cb3"
      },
      "execution_count": null,
      "outputs": [
        {
          "output_type": "execute_result",
          "data": {
            "text/plain": [
              "(29613, 14)"
            ]
          },
          "metadata": {},
          "execution_count": 6
        }
      ]
    },
    {
      "cell_type": "markdown",
      "source": [
        "# Prompt"
      ],
      "metadata": {
        "id": "ZTwK8AKqSVfv"
      }
    },
    {
      "cell_type": "code",
      "source": [
        "questions = \"\"\"\n",
        "### Question1: What are the summary fields in the invoice ?\n",
        "\n",
        "### Question2: How many line items are in the invoice ?\n",
        "\n",
        "### Question3: How many spots are in the invoice ?\n",
        "\n",
        "### Question4: What are the headers of the line items in the invoice ?\n",
        "\n",
        "### Question5: Which headers correspond to:\n",
        "    * TV program description\n",
        "    * Amount paid for Spot\n",
        "    * Spot Air Date\n",
        "\n",
        "\n",
        "### Question6: Analyze each line item, for each header from the Answer to Question5 assign\n",
        "corresponding spot value.\n",
        "\n",
        "### Question7: Add all spot_amounts and output the total sum\n",
        "\n",
        "### Answer_example =\n",
        "{\n",
        "  'Summary_fields' : {\n",
        "                        'number': '3983920-1',\n",
        "                        'date': '2023-09-29',\n",
        "                        'gross_amount': 10000.00,\n",
        "                        'net_amount': 9500.00,\n",
        "                        'issuer': 'WTAE',\n",
        "                                        }\n",
        "                    },\n",
        "  'Line_items_num' : 10,\n",
        "  'Spots_num' : 12,\n",
        "  'Headers_mapping':\n",
        "                    {'description' : 'Description',\n",
        "                    'spot_amount' : 'Amount',\n",
        "                    'air_date' : 'Air Date'},\n",
        "  'Line_items' : [{\n",
        "                      'line_num': 1,\n",
        "                      'spot_num' : 1,\n",
        "                      'air_date' : '2024-03-13',\n",
        "                      'description': '6-7am News',\n",
        "                      'spot_amount': 750.00\n",
        "                      },\n",
        "                      {\n",
        "                      'line_num': 5,\n",
        "                      'spot_num' : 6,\n",
        "                      'air_date' : '2024-03-15',\n",
        "                      'description': '6-7am News',\n",
        "                      'spot_amount': 1750.00\n",
        "                      }],\n",
        "  'spot_amounts_total' = 2500.00\n",
        "\n",
        "}\n",
        "\n",
        "\n",
        "Answer in JSON format\n",
        "\"\"\""
      ],
      "metadata": {
        "id": "_ZTbmOw9v2oO"
      },
      "execution_count": null,
      "outputs": []
    },
    {
      "cell_type": "markdown",
      "source": [
        "# Step 1: Run GPT-4o on a Sample of PDF Invoices\n",
        "First, we'll use OpenAI's GPT-4o model in its text version to process a sample of PDF invoices. The model will generate completions that attempt to extract the relevant information from each invoice."
      ],
      "metadata": {
        "id": "LrEzd2W2h11w"
      }
    },
    {
      "cell_type": "markdown",
      "source": [
        "## april_invoices_df: a sample of PDF invoices\n",
        "let's use invoices received by Biden campaign in April 2024 as our sample of PDF invoices"
      ],
      "metadata": {
        "id": "7o7wRlWRZ64w"
      }
    },
    {
      "cell_type": "code",
      "source": [
        "april_invoices_df = biden_df.query(\"month ==4 & year == 2024 & \\\n",
        "                                  file_name.str.contains('inv',case=False)\").reset_index(drop=True)\n",
        "april_invoices_df.shape"
      ],
      "metadata": {
        "colab": {
          "base_uri": "https://localhost:8080/"
        },
        "id": "_A-XdWyUkwh0",
        "outputId": "f76ad3e4-ecf7-405e-bf52-76f14c8dfffd"
      },
      "execution_count": null,
      "outputs": [
        {
          "output_type": "execute_result",
          "data": {
            "text/plain": [
              "(191, 14)"
            ]
          },
          "metadata": {},
          "execution_count": 8
        }
      ]
    },
    {
      "cell_type": "markdown",
      "source": [
        "## Run GPT-4o"
      ],
      "metadata": {
        "id": "ntV1Y1AuN1w9"
      }
    },
    {
      "cell_type": "markdown",
      "source": [
        "I tried batching documents and inferencing by batches, but that did not lead to a significant time savings; therefore I'm falling back on a loop with a single document (with one or more page images) per iteration"
      ],
      "metadata": {
        "id": "-xz4PxdAME-O"
      }
    },
    {
      "cell_type": "code",
      "source": [
        "model = 'gpt-4o'\n",
        "api = 'openai'\n",
        "api_key = OPENAI_KEY\n",
        "\n",
        "\n",
        "\n",
        "invoice_df = pd.DataFrame()\n",
        "price_counter = 0\n",
        "failed = []\n",
        "for row in april_invoices_df.itertuples():\n",
        "  if row[0]>0:\n",
        "    file_name = row.file_name\n",
        "    print(file_name)\n",
        "    json_data = None\n",
        "    try:\n",
        "\n",
        "        prefix = f\"FCC/images/{file_name}/page_\"\n",
        "        _, image_keys = oper.get_latest_keys_from_(s3_client,\n",
        "                                                    BUCKET,\n",
        "                                                    prefix,\n",
        "                                                    time_unit='day',\n",
        "                                                    time_interval=100,\n",
        "                                                    zipped=False)\n",
        "\n",
        "        base64_images = []\n",
        "        for key in image_keys:\n",
        "            pil_image, base64_image = get_image(s3_client,\n",
        "                                                 BUCKET,\n",
        "                                                 key)\n",
        "            base64_images.append(base64_image)\n",
        "\n",
        "        PROMPT = questions\n",
        "\n",
        "\n",
        "\n",
        "        s = time()\n",
        "        r = get_image_completion(model,\n",
        "                                 PROMPT,\n",
        "                                  api,\n",
        "                                  api_key,\n",
        "                                  base64_images,\n",
        "                                  temperature=0.1,\n",
        "                                  max_tokens=4096,\n",
        "                                  TIMEOUT=90)\n",
        "        time_to_completion = round(time() - s, 2)\n",
        "\n",
        "        json_data = r.json()\n",
        "\n",
        "        # make sure that the model did not exripe max_tokens\n",
        "        assert json_data['choices'][0]['finish_reason'] == 'stop'\n",
        "\n",
        "        prompt_tokens, completion_tokens = get_tokens_usage(json_data)\n",
        "        prompt_tokens_price = model_pricing[model]['prompt_tokens']*prompt_tokens/1000000\n",
        "        prompt_tokens_price = model_pricing[model]['prompt_tokens']*prompt_tokens/1000000\n",
        "        completion_tokens_price = model_pricing[model]['completion_tokens']*completion_tokens/1000000\n",
        "        model_price = prompt_tokens_price + completion_tokens_price\n",
        "        price_counter += model_price\n",
        "\n",
        "        print(f\"prompt_tokens : {prompt_tokens}\")\n",
        "        print(f\"completion_tokens : {completion_tokens}\")\n",
        "        print(f\"prompt_tokens_price : {prompt_tokens_price}\")\n",
        "        print(f\"completion_tokens_price : {completion_tokens_price}\")\n",
        "        print(f\"model_price : {model_price}\")\n",
        "\n",
        "        completion = json_data['choices'][0]['message']['content']\n",
        "\n",
        "        try:\n",
        "            completion = json.loads(completion)\n",
        "        except:\n",
        "            # completion is not always straightforward JSON\n",
        "            # this is a hack to extract JSON from completion\n",
        "            completion = json.loads(''.join(i for i in completion.splitlines()[1:-1]))\n",
        "        # completion = json.loads(completion)\n",
        "        print(row[0], file_name, time_to_completion, price_counter, len(failed))\n",
        "\n",
        "\n",
        "        # break\n",
        "        key = f'datasets/FCC/completions/april_2024_biden_invoices/gpt-4o/{file_name}/completion.json'\n",
        "        s3_client.put_object(Body=json.dumps(json_data),\n",
        "                            Bucket=BUCKET,\n",
        "                            Key=key)\n",
        "    except:\n",
        "        print(f\"exception: {row[0]}\")\n",
        "        failed.append((file_name,json_data))\n",
        "    # break"
      ],
      "metadata": {
        "colab": {
          "base_uri": "https://localhost:8080/"
        },
        "id": "cTL91qmpbm8v",
        "outputId": "e9d660eb-634d-4ce6-f341-8dcab476499d"
      },
      "execution_count": null,
      "outputs": [
        {
          "output_type": "stream",
          "name": "stdout",
          "text": [
            "Biden for presiden Invoice 74406-1\n",
            "prompt_tokens : 5916\n",
            "completion_tokens : 1801\n",
            "prompt_tokens_price : 0.02958\n",
            "completion_tokens_price : 0.027015\n",
            "model_price : 0.056595\n",
            "1 Biden for presiden Invoice 74406-1 39.36 0.056595 0\n",
            "Biden for President 1340531 March 24 invoice\n",
            "prompt_tokens : 4216\n",
            "completion_tokens : 1245\n",
            "prompt_tokens_price : 0.02108\n",
            "completion_tokens_price : 0.018675\n",
            "model_price : 0.039755\n",
            "2 Biden for President 1340531 March 24 invoice 34.99 0.09634999999999999 0\n",
            "Biden for President - Invoice 3484398-1\n",
            "prompt_tokens : 1921\n",
            "completion_tokens : 790\n",
            "prompt_tokens_price : 0.009605\n",
            "completion_tokens_price : 0.01185\n",
            "model_price : 0.021455000000000002\n",
            "3 Biden for President - Invoice 3484398-1 18.55 0.11780499999999999 0\n",
            "77585-5224040004 Biden for President est 11583 April invoice\n",
            "exception: 4\n",
            "Biden for President 386096 Invoice March\n",
            "prompt_tokens : 2686\n",
            "completion_tokens : 2101\n",
            "prompt_tokens_price : 0.01343\n",
            "completion_tokens_price : 0.031515\n",
            "model_price : 0.044945\n",
            "5 Biden for President 386096 Invoice March 34.83 0.16275 1\n",
            "Biden for President 384870 Invoice\n",
            "exception: 6\n",
            "6047591 Invoice\n",
            "prompt_tokens : 1156\n",
            "completion_tokens : 958\n",
            "prompt_tokens_price : 0.00578\n",
            "completion_tokens_price : 0.01437\n",
            "model_price : 0.02015\n",
            "7 6047591 Invoice 18.74 0.1829 2\n",
            "Joe Biden Inv #2885613-1 April 2024\n",
            "prompt_tokens : 1156\n",
            "completion_tokens : 258\n",
            "prompt_tokens_price : 0.00578\n",
            "completion_tokens_price : 0.00387\n",
            "model_price : 0.00965\n",
            "8 Joe Biden Inv #2885613-1 April 2024 9.34 0.19255 2\n",
            "3501311-1_INV_Apr2-Apr8\n",
            "prompt_tokens : 2686\n",
            "completion_tokens : 843\n",
            "prompt_tokens_price : 0.01343\n",
            "completion_tokens_price : 0.012645\n",
            "model_price : 0.026075\n",
            "9 3501311-1_INV_Apr2-Apr8 22.38 0.218625 2\n",
            "6057935 Invoice\n",
            "prompt_tokens : 1156\n",
            "completion_tokens : 315\n",
            "prompt_tokens_price : 0.00578\n",
            "completion_tokens_price : 0.004725\n",
            "model_price : 0.010505\n",
            "10 6057935 Invoice 11.12 0.22913 2\n",
            "6047591 Invoice R-1\n",
            "prompt_tokens : 1921\n",
            "completion_tokens : 1105\n",
            "prompt_tokens_price : 0.009605\n",
            "completion_tokens_price : 0.016575\n",
            "model_price : 0.026180000000000002\n",
            "11 6047591 Invoice R-1 25.26 0.25531 2\n",
            "Joe Biden 2894530-1 April 2024 INV\n",
            "prompt_tokens : 2686\n",
            "completion_tokens : 1277\n",
            "prompt_tokens_price : 0.01343\n",
            "completion_tokens_price : 0.019155\n",
            "model_price : 0.032584999999999996\n",
            "12 Joe Biden 2894530-1 April 2024 INV 30.15 0.28789499999999996 2\n",
            "Joe Biden 4441404-1 April Invoice\n",
            "prompt_tokens : 4216\n",
            "completion_tokens : 1448\n",
            "prompt_tokens_price : 0.02108\n",
            "completion_tokens_price : 0.02172\n",
            "model_price : 0.042800000000000005\n",
            "13 Joe Biden 4441404-1 April Invoice 35.91 0.33069499999999996 2\n",
            "KPHO Biden for President est 11599 Apr INVOICE \n",
            "prompt_tokens : 3451\n",
            "completion_tokens : 2206\n",
            "prompt_tokens_price : 0.017255\n",
            "completion_tokens_price : 0.03309\n",
            "model_price : 0.050345\n",
            "14 KPHO Biden for President est 11599 Apr INVOICE  79.59 0.38103999999999993 2\n",
            "6065181 Invoice\n",
            "prompt_tokens : 1156\n",
            "completion_tokens : 731\n",
            "prompt_tokens_price : 0.00578\n",
            "completion_tokens_price : 0.010965\n",
            "model_price : 0.016745000000000003\n",
            "15 6065181 Invoice 22.79 0.39778499999999994 2\n",
            "Pol J Biden D PRE US_INVOICE_1128595\n",
            "prompt_tokens : 3451\n",
            "completion_tokens : 2355\n",
            "prompt_tokens_price : 0.017255\n",
            "completion_tokens_price : 0.035325\n",
            "model_price : 0.05258\n",
            "16 Pol J Biden D PRE US_INVOICE_1128595 51.18 0.45036499999999996 2\n",
            "Pol J Biden D PRE US_INVOICE_1130250\n",
            "exception: 17\n",
            "Pol J Biden D PRE US_INVOICE_1131018\n",
            "prompt_tokens : 2686\n",
            "completion_tokens : 1205\n",
            "prompt_tokens_price : 0.01343\n",
            "completion_tokens_price : 0.018075\n",
            "model_price : 0.031505\n",
            "18 Pol J Biden D PRE US_INVOICE_1131018 43.71 0.48186999999999997 3\n",
            "3519590-1_INV_Apr16-Apr22\n",
            "prompt_tokens : 2686\n",
            "completion_tokens : 1728\n",
            "prompt_tokens_price : 0.01343\n",
            "completion_tokens_price : 0.02592\n",
            "model_price : 0.039349999999999996\n",
            "19 3519590-1_INV_Apr16-Apr22 32.21 0.52122 3\n",
            "3509585-1_INV_Apr9-Apr15\n",
            "prompt_tokens : 3451\n",
            "completion_tokens : 2152\n",
            "prompt_tokens_price : 0.017255\n",
            "completion_tokens_price : 0.03228\n",
            "model_price : 0.049535\n",
            "20 3509585-1_INV_Apr9-Apr15 39.7 0.570755 3\n",
            "NVCW BIDEN 6065203 INV\n",
            "prompt_tokens : 1921\n",
            "completion_tokens : 1958\n",
            "prompt_tokens_price : 0.009605\n",
            "completion_tokens_price : 0.02937\n",
            "model_price : 0.038975\n",
            "21 NVCW BIDEN 6065203 INV 35.51 0.60973 3\n",
            "BIDEN FOR PRESIDENT KDKA INVOICE 240047162\n",
            "prompt_tokens : 2686\n",
            "completion_tokens : 1413\n",
            "prompt_tokens_price : 0.01343\n",
            "completion_tokens_price : 0.021195\n",
            "model_price : 0.034624999999999996\n",
            "22 BIDEN FOR PRESIDENT KDKA INVOICE 240047162 27.01 0.644355 3\n",
            "BIDEN FOR PRESIDENT KYW INVOICE 140045946\n",
            "prompt_tokens : 1156\n",
            "completion_tokens : 347\n",
            "prompt_tokens_price : 0.00578\n",
            "completion_tokens_price : 0.005205\n",
            "model_price : 0.010985000000000002\n",
            "23 BIDEN FOR PRESIDENT KYW INVOICE 140045946 23.04 0.65534 3\n",
            "BIDEN FOR PRESIDENT KYW INVOICE 140045943\n",
            "prompt_tokens : 1156\n",
            "completion_tokens : 843\n",
            "prompt_tokens_price : 0.00578\n",
            "completion_tokens_price : 0.012645\n",
            "model_price : 0.018425\n",
            "24 BIDEN FOR PRESIDENT KYW INVOICE 140045943 19.26 0.6737650000000001 3\n",
            "BIDEN FOR PRESIDENT KYW INVOICE 140045945\n",
            "prompt_tokens : 2686\n",
            "completion_tokens : 1113\n",
            "prompt_tokens_price : 0.01343\n",
            "completion_tokens_price : 0.016695\n",
            "model_price : 0.030125\n",
            "25 BIDEN FOR PRESIDENT KYW INVOICE 140045945 24.28 0.70389 3\n",
            "BIDEN FOR PRESIDENT KYW INVOICE 140045942\n",
            "prompt_tokens : 1921\n",
            "completion_tokens : 620\n",
            "prompt_tokens_price : 0.009605\n",
            "completion_tokens_price : 0.0093\n",
            "model_price : 0.018904999999999998\n",
            "26 BIDEN FOR PRESIDENT KYW INVOICE 140045942 13.82 0.722795 3\n",
            "BIDEN FOR PRESIDENT KYW INVOICE 140045990\n",
            "prompt_tokens : 1921\n",
            "completion_tokens : 1167\n",
            "prompt_tokens_price : 0.009605\n",
            "completion_tokens_price : 0.017505\n",
            "model_price : 0.027110000000000002\n",
            "27 BIDEN FOR PRESIDENT KYW INVOICE 140045990 29.75 0.7499049999999999 3\n",
            "BIDEN FOR PRESIDENT KYW INVOICE 140045947\n",
            "prompt_tokens : 2686\n",
            "completion_tokens : 1252\n",
            "prompt_tokens_price : 0.01343\n",
            "completion_tokens_price : 0.01878\n",
            "model_price : 0.03221\n",
            "28 BIDEN FOR PRESIDENT KYW INVOICE 140045947 27.01 0.7821149999999999 3\n",
            "BIDEN FOR PRESIDENT KYW INVOICE 140045910\n",
            "prompt_tokens : 3451\n",
            "completion_tokens : 2960\n",
            "prompt_tokens_price : 0.017255\n",
            "completion_tokens_price : 0.0444\n",
            "model_price : 0.061655\n",
            "29 BIDEN FOR PRESIDENT KYW INVOICE 140045910 58.19 0.8437699999999999 3\n",
            "BIDEN FOR PRESIDENT WWJ INVOICE 190043521\n",
            "prompt_tokens : 1156\n",
            "completion_tokens : 554\n",
            "prompt_tokens_price : 0.00578\n",
            "completion_tokens_price : 0.00831\n",
            "model_price : 0.01409\n",
            "30 BIDEN FOR PRESIDENT WWJ INVOICE 190043521 16.91 0.85786 3\n",
            "BIDEN FOR PRESIDENT WWJ INVOICE 190043548\n",
            "prompt_tokens : 1921\n",
            "completion_tokens : 692\n",
            "prompt_tokens_price : 0.009605\n",
            "completion_tokens_price : 0.01038\n",
            "model_price : 0.019985000000000003\n",
            "31 BIDEN FOR PRESIDENT WWJ INVOICE 190043548 13.65 0.877845 3\n",
            "Biden for President Invoice 747631-1\n",
            "prompt_tokens : 1921\n",
            "completion_tokens : 476\n",
            "prompt_tokens_price : 0.009605\n",
            "completion_tokens_price : 0.00714\n",
            "model_price : 0.016745\n",
            "32 Biden for President Invoice 747631-1 10.03 0.89459 3\n",
            "Biden for President Invoice 745015-2\n",
            "prompt_tokens : 1921\n",
            "completion_tokens : 482\n",
            "prompt_tokens_price : 0.009605\n",
            "completion_tokens_price : 0.00723\n",
            "model_price : 0.016835000000000003\n",
            "33 Biden for President Invoice 745015-2 12.47 0.911425 3\n",
            "1459581 KBLR BIDEN FOR PRESIDENT EST 4200 INV\n",
            "prompt_tokens : 3451\n",
            "completion_tokens : 2009\n",
            "prompt_tokens_price : 0.017255\n",
            "completion_tokens_price : 0.030135\n",
            "model_price : 0.04739\n",
            "34 1459581 KBLR BIDEN FOR PRESIDENT EST 4200 INV 41.95 0.9588150000000001 3\n",
            "1456652 KBLR BIDEN FOR PRESIDENT EST 4104 INV\n",
            "prompt_tokens : 1921\n",
            "completion_tokens : 532\n",
            "prompt_tokens_price : 0.009605\n",
            "completion_tokens_price : 0.00798\n",
            "model_price : 0.017585\n",
            "35 1456652 KBLR BIDEN FOR PRESIDENT EST 4104 INV 12.06 0.9764 3\n"
          ]
        }
      ]
    },
    {
      "cell_type": "markdown",
      "source": [
        "# Step 2. gpt_df_true: Use a quality function to filter accurate completions"
      ],
      "metadata": {
        "id": "QqQZNIBWlUY1"
      }
    },
    {
      "cell_type": "markdown",
      "source": [
        "let's load the dataset we created in the previous section"
      ],
      "metadata": {
        "id": "BSmhYKS8liZB"
      }
    },
    {
      "cell_type": "markdown",
      "source": [
        "some of the 'Rate' values retrieved by GPT-4o are None values or strings. Let's break the original df into the following 2:\n",
        "* df_floats in which 'Rate' values can be converted to dtype 'float'\n",
        "* df_strings in which such values are not convertible into floats"
      ],
      "metadata": {
        "id": "TavwRANAqA8V"
      }
    },
    {
      "cell_type": "code",
      "source": [
        "def get_totals(completion):\n",
        "  summary = completion['Summary_fields']\n",
        "  gross_amount = float(summary['gross_amount'])\n",
        "  line_items = completion['Line_items']\n",
        "  line_items_sum = sum([float(i['spot_amount']) for i in line_items])\n",
        "  return gross_amount, line_items_sum"
      ],
      "metadata": {
        "id": "3SL_p--ulmkb"
      },
      "execution_count": null,
      "outputs": []
    },
    {
      "cell_type": "markdown",
      "source": [
        "## gpt-4o"
      ],
      "metadata": {
        "id": "hjj_fz1VmIZ4"
      }
    },
    {
      "cell_type": "code",
      "source": [
        "# let's get file_keys of gpt-4o completions (see Step1 above)\n",
        "model = 'gpt-4o'\n",
        "\n",
        "prefix = f'datasets/FCC/completions/april_2024_biden_invoices/{model}/'\n",
        "keys_df = oper.get_latest_keys_from_(s3_client,\n",
        "                                    BUCKET,\n",
        "                                    prefix,\n",
        "                                    zipped=True,\n",
        "                                     time_unit='day',\n",
        "                                     time_interval=100)\n",
        "keys_df = pd.DataFrame(keys_df,\n",
        "                       columns = ['ts','key'])\n",
        "keys_df['file_name'] = keys_df['key'].str.split('/').str[5]\n",
        "print(keys_df.shape)\n",
        "\n",
        "\n",
        "# compute total of each line item and pack it with invoice gross amount\n",
        "collector = []\n",
        "failed = []\n",
        "for row in keys_df.itertuples():\n",
        "  try:\n",
        "    json_data = s3_client.get_object(\n",
        "                                    Bucket = BUCKET,\n",
        "                                    Key = row.key\n",
        "                                    )\n",
        "    json_data = json.loads(json_data['Body'].read())\n",
        "    completion = json_data['choices'][0]['message']['content']\n",
        "    try:\n",
        "      completion = json.loads(completion)\n",
        "    except:\n",
        "        # completion is not always straightforward JSON\n",
        "        # this is a hack to extract JSON from completion\n",
        "        completion = json.loads(''.join(i for i in completion.splitlines()[1:-1]))\n",
        "        # print(\"exception\")\n",
        "        # break\n",
        "\n",
        "    gross_amount, line_items_sum = get_totals(completion)\n",
        "    collector.append((row.file_name, gross_amount, line_items_sum))\n",
        "  except:\n",
        "    failed.append(row.file_name)\n",
        "    # break\n",
        "  if row[0]%10==0:\n",
        "    print(row[0], len(collector), len(failed))\n",
        "\n",
        "# gpt_df_true: invoice gross amount equals line items total\n",
        "df = pd.DataFrame(collector,\n",
        "             columns=[\n",
        "                      'file_name',\n",
        "                      'gross_amount',\n",
        "                      'line_sum'])\n",
        "gpt_df_true = df.query(f\"gross_amount == line_sum\").reset_index(drop=True).copy()\n",
        "\n",
        "df.shape, gpt_df_true.shape, len(failed)"
      ],
      "metadata": {
        "id": "jzZAJUx1oY38",
        "colab": {
          "base_uri": "https://localhost:8080/"
        },
        "outputId": "1f81f2dc-c5aa-4fe4-a74b-4a46572cbd80"
      },
      "execution_count": null,
      "outputs": [
        {
          "output_type": "stream",
          "name": "stdout",
          "text": [
            "(175, 3)\n",
            "0 1 0\n",
            "10 11 0\n",
            "20 21 0\n",
            "30 31 0\n",
            "40 41 0\n",
            "50 51 0\n",
            "60 61 0\n",
            "70 71 0\n",
            "80 81 0\n",
            "90 91 0\n",
            "100 101 0\n",
            "110 111 0\n",
            "120 121 0\n",
            "130 131 0\n",
            "140 141 0\n",
            "150 151 0\n",
            "160 161 0\n",
            "170 171 0\n"
          ]
        },
        {
          "output_type": "execute_result",
          "data": {
            "text/plain": [
              "((175, 3), (142, 3), 0)"
            ]
          },
          "metadata": {},
          "execution_count": 13
        }
      ]
    },
    {
      "cell_type": "code",
      "source": [
        "gpt_df_wrong = df.query(f\"gross_amount != line_sum\")\n",
        "gpt_df_wrong.shape"
      ],
      "metadata": {
        "colab": {
          "base_uri": "https://localhost:8080/"
        },
        "id": "OsMV3d5lif6x",
        "outputId": "9b8b476c-d599-4856-fcae-6d1822fedc79"
      },
      "execution_count": null,
      "outputs": [
        {
          "output_type": "execute_result",
          "data": {
            "text/plain": [
              "(33, 3)"
            ]
          },
          "metadata": {},
          "execution_count": 14
        }
      ]
    },
    {
      "cell_type": "code",
      "source": [
        "accuracy = len(gpt_df_true)/len(df)\n",
        "print(f\"accuracy of GPT-4o is {round(accuracy*100, 2)} %\")"
      ],
      "metadata": {
        "colab": {
          "base_uri": "https://localhost:8080/"
        },
        "id": "EB-CsLLgkGqL",
        "outputId": "e075ad65-9f9c-4ee7-bb64-7e25b927e66d"
      },
      "execution_count": null,
      "outputs": [
        {
          "output_type": "stream",
          "name": "stdout",
          "text": [
            "accuracy of GPT-4o is 81.14 %\n"
          ]
        }
      ]
    },
    {
      "cell_type": "code",
      "source": [
        "gpt_df_wrong.reset_index(drop=True, inplace=True)"
      ],
      "metadata": {
        "id": "YyGgY50VQ6YV"
      },
      "execution_count": null,
      "outputs": []
    },
    {
      "cell_type": "markdown",
      "source": [
        "### accuracy of GPT-4o is 81.14 %\n",
        "this number is based on matching invoice gross total with the sum of spot amounts; if the two values are equal, the model identified all the spot data correctly and retrieved correct spot amounts"
      ],
      "metadata": {
        "id": "xrVU9SZIlAuE"
      }
    },
    {
      "cell_type": "markdown",
      "source": [
        "# Step 3. store gpt_df_true and gpt_df_wrong in s3 bucket"
      ],
      "metadata": {
        "id": "P2VaKLeGk7Yp"
      }
    },
    {
      "cell_type": "code",
      "source": [
        "\n",
        "key = 'datasets/FCC/completions/april_2024_biden_invoices/true_df.parquet'\n",
        "oper.pd_save_parquet(s3_client,\n",
        "                     gpt_df_true,\n",
        "                     BUCKET,\n",
        "                     key,\n",
        "                     )"
      ],
      "metadata": {
        "id": "vda53deGkepy"
      },
      "execution_count": null,
      "outputs": []
    },
    {
      "cell_type": "code",
      "source": [
        "\n",
        "key = 'datasets/FCC/completions/april_2024_biden_invoices/wrong_df.parquet'\n",
        "oper.pd_save_parquet(s3_client,\n",
        "                     gpt_df_wrong,\n",
        "                     BUCKET,\n",
        "                     key,\n",
        "                     )"
      ],
      "metadata": {
        "id": "t5p2iI7tPkke"
      },
      "execution_count": null,
      "outputs": []
    }
  ]
}